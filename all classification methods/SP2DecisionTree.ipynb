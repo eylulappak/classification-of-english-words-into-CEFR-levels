{
  "nbformat": 4,
  "nbformat_minor": 0,
  "metadata": {
    "colab": {
      "provenance": [],
      "toc_visible": true
    },
    "kernelspec": {
      "name": "python3",
      "display_name": "Python 3"
    },
    "language_info": {
      "name": "python"
    }
  },
  "cells": [
    {
      "cell_type": "markdown",
      "metadata": {
        "id": "WOw8yMd1VlnD"
      },
      "source": [
        "# Data Preprocessing"
      ]
    },
    {
      "cell_type": "markdown",
      "metadata": {
        "id": "NvUGC8QQV6bV"
      },
      "source": [
        "## Importing the libraries"
      ]
    },
    {
      "cell_type": "code",
      "metadata": {
        "id": "wfFEXZC0WS-V"
      },
      "source": [
        "%matplotlib inline\n",
        "import numpy as np\n",
        "import pandas as pd\n",
        "import matplotlib.pyplot as plt\n",
        "import seaborn as sns\n",
        "import sklearn"
      ],
      "execution_count": null,
      "outputs": []
    },
    {
      "cell_type": "markdown",
      "metadata": {
        "id": "fhYaZ-ENV_c5"
      },
      "source": [
        "## Importing the dataset"
      ]
    },
    {
      "cell_type": "code",
      "metadata": {
        "id": "aqHTg9bxWT_u"
      },
      "source": [
        "df = pd.read_csv('dataset.csv')"
      ],
      "execution_count": null,
      "outputs": []
    },
    {
      "cell_type": "code",
      "source": [
        "X = df.iloc[:, 1:-1].values\n",
        "y = df.iloc[:, -1].values"
      ],
      "metadata": {
        "id": "ICKgvCO0oZLL"
      },
      "execution_count": null,
      "outputs": []
    },
    {
      "cell_type": "code",
      "execution_count": null,
      "metadata": {
        "colab": {
          "base_uri": "https://localhost:8080/"
        },
        "outputId": "e022f0df-593f-44b4-feff-d1823a9bc83a",
        "id": "W8Rq1Q_yjwUG"
      },
      "outputs": [
        {
          "output_type": "stream",
          "name": "stdout",
          "text": [
            "[['verb' 7 4 ... 0 0 2]\n",
            " ['noun' 2 1 ... 0 580 11]\n",
            " ['adjective' 4 2 ... 0 0 11]\n",
            " ...\n",
            " ['noun' 6 4 ... 0 0 4]\n",
            " ['number' 9 0 ... 0 0 1]\n",
            " ['noun' 6 2 ... 0 0 3]]\n"
          ]
        }
      ],
      "source": [
        "print(X)"
      ]
    },
    {
      "cell_type": "code",
      "source": [
        "print(y)"
      ],
      "metadata": {
        "colab": {
          "base_uri": "https://localhost:8080/"
        },
        "id": "rNhDgTrzr9mf",
        "outputId": "e623b987-cebe-49c1-bd67-f23ced384cea"
      },
      "execution_count": null,
      "outputs": [
        {
          "output_type": "stream",
          "name": "stdout",
          "text": [
            "['b2' 'a2' 'a2' ... 'b1' 'a2' 'b2']\n"
          ]
        }
      ]
    },
    {
      "cell_type": "markdown",
      "source": [
        "## Encoding\n"
      ],
      "metadata": {
        "id": "vPoM1lrlq93v"
      }
    },
    {
      "cell_type": "code",
      "source": [
        "from sklearn.compose import ColumnTransformer\n",
        "from sklearn.preprocessing import OneHotEncoder\n",
        "ct = ColumnTransformer(transformers=[('encoder', OneHotEncoder(), [0])], remainder='passthrough')\n",
        "X = np.array(ct.fit_transform(X))"
      ],
      "metadata": {
        "id": "tCyD2x5DrBtI"
      },
      "execution_count": null,
      "outputs": []
    },
    {
      "cell_type": "code",
      "source": [
        "from sklearn.preprocessing import LabelEncoder\n",
        "le = LabelEncoder()\n",
        "y = le.fit_transform(y)"
      ],
      "metadata": {
        "id": "a4LD5hnZsJqX"
      },
      "execution_count": null,
      "outputs": []
    },
    {
      "cell_type": "code",
      "source": [
        "print(X)"
      ],
      "metadata": {
        "colab": {
          "base_uri": "https://localhost:8080/"
        },
        "id": "l4L_46Uuo6gy",
        "outputId": "8dcd44e3-9235-42f0-b332-a2e252f6129e"
      },
      "execution_count": null,
      "outputs": [
        {
          "output_type": "stream",
          "name": "stdout",
          "text": [
            "[[0.0 0.0 0.0 ... 0 0 2]\n",
            " [0.0 0.0 0.0 ... 0 580 11]\n",
            " [1.0 0.0 0.0 ... 0 0 11]\n",
            " ...\n",
            " [0.0 0.0 0.0 ... 0 0 4]\n",
            " [0.0 0.0 0.0 ... 0 0 1]\n",
            " [0.0 0.0 0.0 ... 0 0 3]]\n"
          ]
        }
      ]
    },
    {
      "cell_type": "code",
      "source": [
        "print(y)"
      ],
      "metadata": {
        "colab": {
          "base_uri": "https://localhost:8080/"
        },
        "id": "9twZfCrSpEHi",
        "outputId": "0cd06a31-4814-4db7-9b26-5780a3d83fc6"
      },
      "execution_count": null,
      "outputs": [
        {
          "output_type": "stream",
          "name": "stdout",
          "text": [
            "[3 1 1 ... 2 1 3]\n"
          ]
        }
      ]
    },
    {
      "cell_type": "markdown",
      "metadata": {
        "id": "qb_vcgm3qZKW"
      },
      "source": [
        "## Splitting the dataset into the Training set and Test set"
      ]
    },
    {
      "cell_type": "code",
      "execution_count": null,
      "metadata": {
        "id": "pXgA6CzlqbCl"
      },
      "outputs": [],
      "source": [
        "from sklearn.model_selection import train_test_split\n",
        "X_train, X_test, y_train, y_test = train_test_split(X, y, test_size = 0.2, random_state = 1)"
      ]
    },
    {
      "cell_type": "code",
      "execution_count": null,
      "metadata": {
        "colab": {
          "base_uri": "https://localhost:8080/"
        },
        "id": "GuwQhFdKrYTM",
        "outputId": "3925d0c0-3dce-42ac-9f6e-485f9da4d507"
      },
      "outputs": [
        {
          "output_type": "stream",
          "name": "stdout",
          "text": [
            "[[0.0 0.0 0.0 ... 0 464 4]\n",
            " [0.0 0.0 0.0 ... 0 0 3]\n",
            " [0.0 0.0 0.0 ... 0 0 4]\n",
            " ...\n",
            " [0.0 0.0 0.0 ... 0 323 4]\n",
            " [1.0 0.0 0.0 ... 0 0 20]\n",
            " [0.0 0.0 0.0 ... 0 0 2]]\n"
          ]
        }
      ],
      "source": [
        "print(X_train)"
      ]
    },
    {
      "cell_type": "code",
      "execution_count": null,
      "metadata": {
        "colab": {
          "base_uri": "https://localhost:8080/"
        },
        "id": "TUrX_Tvcrbi4",
        "outputId": "ebfb93bf-d2b5-4645-86fc-c97846017627"
      },
      "outputs": [
        {
          "output_type": "stream",
          "name": "stdout",
          "text": [
            "[[0.0 0.0 0.0 ... 0 464 71]\n",
            " [0.0 0.0 0.0 ... 0 356 4]\n",
            " [0.0 0.0 0.0 ... 0 0 5]\n",
            " ...\n",
            " [0.0 0.0 0.0 ... 0 0 4]\n",
            " [0.0 0.0 0.0 ... 0 0 3]\n",
            " [0.0 0.0 0.0 ... 0 0 5]]\n"
          ]
        }
      ],
      "source": [
        "print(X_test)"
      ]
    },
    {
      "cell_type": "code",
      "execution_count": null,
      "metadata": {
        "colab": {
          "base_uri": "https://localhost:8080/"
        },
        "id": "pSMHiIsWreQY",
        "outputId": "5fcf5b29-60d0-4776-aec4-13661c0b1b3a"
      },
      "outputs": [
        {
          "output_type": "stream",
          "name": "stdout",
          "text": [
            "[3 2 2 ... 1 0 0]\n"
          ]
        }
      ],
      "source": [
        "print(y_train)"
      ]
    },
    {
      "cell_type": "code",
      "execution_count": null,
      "metadata": {
        "colab": {
          "base_uri": "https://localhost:8080/"
        },
        "id": "I_tW7H56rgtW",
        "outputId": "3b60098f-c571-4371-c3d4-babac2441dc4"
      },
      "outputs": [
        {
          "output_type": "stream",
          "name": "stdout",
          "text": [
            "[3 4 2 1 4 4 3 1 4 0 4 4 2 3 4 4 3 4 2 0 4 0 1 3 0 3 1 4 1 0 2 3 3 0 4 4 4\n",
            " 1 3 4 0 3 0 1 0 3 1 4 3 3 1 1 0 3 3 4 3 0 2 4 0 3 1 4 2 4 0 3 1 1 3 4 2 0\n",
            " 3 2 4 3 4 4 0 2 3 4 2 4 3 1 1 0 2 3 3 4 4 0 0 0 0 4 4 4 4 3 0 0 4 1 1 0 4\n",
            " 3 0 4 0 3 2 1 1 0 4 4 1 1 2 4 0 4 3 2 2 3 4 1 3 2 0 2 4 1 4 4 3 3 3 1 0 3\n",
            " 4 0 0 1 3 1 4 4 1 2 1 4 4 0 0 3 3 3 0 4 4 1 3 0 3 1 3 4 2 1 3 1 3 3 3 3 3\n",
            " 2 3 1 2 0 3 1 3 0 2 3 4 0 3 2 2 1 3 4 3 0 0 4 3 2 0 0 3 2 4 1 0 4 0 4 4 4\n",
            " 3 3 3 3 4 1 1 3 2 3 2 0 3 0 3 0 1 4 3 1 0 0 3 3 4 1 0 4 3 1 4 3 2 1 0 4 1\n",
            " 0 1 0 2 0 3 3 0 2 3 1 0 3 0 0 3 0 3 3 0 4 1 3 3 0 3 3 1 3 4 4 0 4 3 2 4 4\n",
            " 4 3 3 2 3 0 2 4 2 3 3 0 3 1 4 4 2 3 4 4 1 3 0 4 4 2 2 4 1 3 1 1 0 4 3 1 3\n",
            " 0 2 3 3 3 2 1 4 2 2 0 4 0 1 2 1 4 2 2 1 4 3 4 0 4 3 0 3 3 4 3 4 4 4 3 1 1\n",
            " 4 2 3 1 3 1 3 3 2 4 3 4 0 4 2 4 2 2 0 1 1 4 4 0 4 4 1 3 2 4 0 0 3 3 3 2 0\n",
            " 1 4 1 0 1 3 3 3 0 3 1 3 4 4 3 4 1 3 2 3 0 1 4 3 3 4 2 3 2 2 0 0 4 4 3 4 1\n",
            " 4 1 4 4 2 3 2 1 0 1 0 3 4 1 0 1 0 4 4 4 2 4 4 2 4 4 3 4 1 2 1 4 0 1 0 4 1\n",
            " 4 4 3 2 4 4 2 0 3 0 0 3 1 3 1 4 0 2 3 4 4 1 4 0 2 1 3 3 0 2 4 4 2 0 2 2 4\n",
            " 1 2 0 3 1 0 3 2 1 2 0 4 3 3 3 4 4 4 3 4 2 1 3 1 4 1 3 4 0 1 0 2 0 4 4 4 4\n",
            " 3 3 1 2 4 3 0 0 1 4 0 4 4 3 3 1 3 4 4 4 3 4 1 2 3 2 4 2 0 2 0 4 4 1 1 0 3\n",
            " 4 1 3 2 2 4 2 0 1 3 3 4 2 2 3 1 0 3 2 4 2 2 4 4 2 4 2 3 1 3 3 2 0 3 4 3 3\n",
            " 0 0 4 2 1 2 4 0 0 3 0 3 3 2 3 3 3 4 1 3 0 3 1 4 3 3 3 4 0 0 4 2 0 3 3 3 4\n",
            " 3 0 4 1 2 4 3 3 2 2 3 1 2 3 2 2 1 3 4 3 3 2 1 4 4 4 4 0 0 1 3 1 4 0 4 4 1\n",
            " 0 2 0 2 3 3 1 4 1 4 4 1 4 3 4 0 4 4 2 4 1 2 3 0 3 3 3 1 4 3 0 0 2 3 0 3 0\n",
            " 4 3 3 1 0 3 2 3 4 0 2 4 1 2 1 2 3 3 4 1 3 4 3 3 0 0 1 1 4 3 1 4 2 3 3 3 3\n",
            " 0 4 0 3 4 4 3 2 3 1 1 4 3 1 4 3 4 3 4 1 2 1 0 1 3 0 4 3 3 3 4 3 4 3 4 3 4\n",
            " 2 4 0 3 1 3 4 3 1 2 3 3 0 3 0 3 4 3 2 4 1 1 4 0 0 4 3 4 3 4 1 4 2 3 2 4 2\n",
            " 2 4 2 3 0 2 3 1 0 4 2 3 4 3 4 3 1 4 2 3 1 1 0 3 0 4 2 4 4 3 4 1 4 4 4 0 4\n",
            " 1 3 1 0 2 0 2 1 1 4 4 3 4 3 2 4 4 1 1 1 3 0 4 4 3 3 1 0 3 1 4 2 3 0 3 3 4\n",
            " 4 3 0 1 1 0 3 1 2 4 3 3 3 1 4 0 3 4 2 2 3 3 0 0 2 2 2 2 4 3 0 3 3 3 0 2 4\n",
            " 1 2 3 3 1 0 4 2 0 3 1 4 3 1 4 2 2 1 4 0 4 2 0 2 2 1 1 2 4 0]\n"
          ]
        }
      ],
      "source": [
        "print(y_test)"
      ]
    },
    {
      "cell_type": "markdown",
      "metadata": {
        "id": "TpGqbS4TqkIR"
      },
      "source": [
        "## Feature Scaling"
      ]
    },
    {
      "cell_type": "code",
      "execution_count": null,
      "metadata": {
        "id": "AxjSUXFQqo-3"
      },
      "outputs": [],
      "source": [
        "from sklearn.preprocessing import StandardScaler\n",
        "sc = StandardScaler()\n",
        "X_train[:, 9:] = sc.fit_transform(X_train[:, 9:])\n",
        "X_test[:, 9:] = sc.transform(X_test[:, 9:])"
      ]
    },
    {
      "cell_type": "code",
      "execution_count": null,
      "metadata": {
        "colab": {
          "base_uri": "https://localhost:8080/"
        },
        "id": "DWPET8ZdlMnu",
        "outputId": "3a5ccd2d-fd3a-4805-d473-23701d9745c0"
      },
      "outputs": [
        {
          "output_type": "stream",
          "name": "stdout",
          "text": [
            "[[0.0 0.0 0.0 ... -0.25824238955886414 0.15301457120237313\n",
            "  -0.4315313831333375]\n",
            " [0.0 0.0 0.0 ... -0.25824238955886414 -0.45481347147853396\n",
            "  -0.47932395691964746]\n",
            " [0.0 0.0 0.0 ... -0.25824238955886414 -0.45481347147853396\n",
            "  -0.4315313831333375]\n",
            " ...\n",
            " [0.0 0.0 0.0 ... -0.25824238955886414 -0.03169179521574734\n",
            "  -0.4315313831333375]\n",
            " [1.0 0.0 0.0 ... -0.25824238955886414 -0.45481347147853396\n",
            "  0.333149797447622]\n",
            " [0.0 0.0 0.0 ... -0.25824238955886414 -0.45481347147853396\n",
            "  -0.5271165307059574]]\n"
          ]
        }
      ],
      "source": [
        "print(X_train)"
      ]
    },
    {
      "cell_type": "code",
      "execution_count": null,
      "metadata": {
        "colab": {
          "base_uri": "https://localhost:8080/"
        },
        "id": "sTXykB_QlRjE",
        "outputId": "09adac46-69d3-492b-f5e5-f7cf614cabdf"
      },
      "outputs": [
        {
          "output_type": "stream",
          "name": "stdout",
          "text": [
            "[[0.0 0.0 0.0 ... -0.25824238955886414 0.15301457120237313\n",
            "  2.7705710605494307]\n",
            " [0.0 0.0 0.0 ... -0.25824238955886414 0.011537354371472344\n",
            "  -0.4315313831333375]\n",
            " [0.0 0.0 0.0 ... -0.25824238955886414 -0.45481347147853396\n",
            "  -0.3837388093470275]\n",
            " ...\n",
            " [0.0 0.0 0.0 ... -0.25824238955886414 -0.45481347147853396\n",
            "  -0.4315313831333375]\n",
            " [0.0 0.0 0.0 ... -0.25824238955886414 -0.45481347147853396\n",
            "  -0.47932395691964746]\n",
            " [0.0 0.0 0.0 ... -0.25824238955886414 -0.45481347147853396\n",
            "  -0.3837388093470275]]\n"
          ]
        }
      ],
      "source": [
        "print(X_test)"
      ]
    },
    {
      "cell_type": "markdown",
      "source": [
        "# Decision Tree Classification"
      ],
      "metadata": {
        "id": "bcAXIVZDVbPR"
      }
    },
    {
      "cell_type": "markdown",
      "metadata": {
        "id": "dZhbIqEaVpVz"
      },
      "source": [
        "## Training the Decision Tree Classification model on the Training set"
      ]
    },
    {
      "cell_type": "code",
      "metadata": {
        "colab": {
          "base_uri": "https://localhost:8080/",
          "height": 74
        },
        "id": "gVMFVrCgVpV0",
        "outputId": "3bddfc26-53e5-4b67-ee59-07bcf8dccc3c"
      },
      "source": [
        "from sklearn.tree import DecisionTreeClassifier\n",
        "dt = DecisionTreeClassifier(criterion = 'entropy', random_state = 0)\n",
        "dt.fit(X_train, y_train)"
      ],
      "execution_count": null,
      "outputs": [
        {
          "output_type": "execute_result",
          "data": {
            "text/plain": [
              "DecisionTreeClassifier(criterion='entropy', random_state=0)"
            ],
            "text/html": [
              "<style>#sk-container-id-1 {color: black;background-color: white;}#sk-container-id-1 pre{padding: 0;}#sk-container-id-1 div.sk-toggleable {background-color: white;}#sk-container-id-1 label.sk-toggleable__label {cursor: pointer;display: block;width: 100%;margin-bottom: 0;padding: 0.3em;box-sizing: border-box;text-align: center;}#sk-container-id-1 label.sk-toggleable__label-arrow:before {content: \"▸\";float: left;margin-right: 0.25em;color: #696969;}#sk-container-id-1 label.sk-toggleable__label-arrow:hover:before {color: black;}#sk-container-id-1 div.sk-estimator:hover label.sk-toggleable__label-arrow:before {color: black;}#sk-container-id-1 div.sk-toggleable__content {max-height: 0;max-width: 0;overflow: hidden;text-align: left;background-color: #f0f8ff;}#sk-container-id-1 div.sk-toggleable__content pre {margin: 0.2em;color: black;border-radius: 0.25em;background-color: #f0f8ff;}#sk-container-id-1 input.sk-toggleable__control:checked~div.sk-toggleable__content {max-height: 200px;max-width: 100%;overflow: auto;}#sk-container-id-1 input.sk-toggleable__control:checked~label.sk-toggleable__label-arrow:before {content: \"▾\";}#sk-container-id-1 div.sk-estimator input.sk-toggleable__control:checked~label.sk-toggleable__label {background-color: #d4ebff;}#sk-container-id-1 div.sk-label input.sk-toggleable__control:checked~label.sk-toggleable__label {background-color: #d4ebff;}#sk-container-id-1 input.sk-hidden--visually {border: 0;clip: rect(1px 1px 1px 1px);clip: rect(1px, 1px, 1px, 1px);height: 1px;margin: -1px;overflow: hidden;padding: 0;position: absolute;width: 1px;}#sk-container-id-1 div.sk-estimator {font-family: monospace;background-color: #f0f8ff;border: 1px dotted black;border-radius: 0.25em;box-sizing: border-box;margin-bottom: 0.5em;}#sk-container-id-1 div.sk-estimator:hover {background-color: #d4ebff;}#sk-container-id-1 div.sk-parallel-item::after {content: \"\";width: 100%;border-bottom: 1px solid gray;flex-grow: 1;}#sk-container-id-1 div.sk-label:hover label.sk-toggleable__label {background-color: #d4ebff;}#sk-container-id-1 div.sk-serial::before {content: \"\";position: absolute;border-left: 1px solid gray;box-sizing: border-box;top: 0;bottom: 0;left: 50%;z-index: 0;}#sk-container-id-1 div.sk-serial {display: flex;flex-direction: column;align-items: center;background-color: white;padding-right: 0.2em;padding-left: 0.2em;position: relative;}#sk-container-id-1 div.sk-item {position: relative;z-index: 1;}#sk-container-id-1 div.sk-parallel {display: flex;align-items: stretch;justify-content: center;background-color: white;position: relative;}#sk-container-id-1 div.sk-item::before, #sk-container-id-1 div.sk-parallel-item::before {content: \"\";position: absolute;border-left: 1px solid gray;box-sizing: border-box;top: 0;bottom: 0;left: 50%;z-index: -1;}#sk-container-id-1 div.sk-parallel-item {display: flex;flex-direction: column;z-index: 1;position: relative;background-color: white;}#sk-container-id-1 div.sk-parallel-item:first-child::after {align-self: flex-end;width: 50%;}#sk-container-id-1 div.sk-parallel-item:last-child::after {align-self: flex-start;width: 50%;}#sk-container-id-1 div.sk-parallel-item:only-child::after {width: 0;}#sk-container-id-1 div.sk-dashed-wrapped {border: 1px dashed gray;margin: 0 0.4em 0.5em 0.4em;box-sizing: border-box;padding-bottom: 0.4em;background-color: white;}#sk-container-id-1 div.sk-label label {font-family: monospace;font-weight: bold;display: inline-block;line-height: 1.2em;}#sk-container-id-1 div.sk-label-container {text-align: center;}#sk-container-id-1 div.sk-container {/* jupyter's `normalize.less` sets `[hidden] { display: none; }` but bootstrap.min.css set `[hidden] { display: none !important; }` so we also need the `!important` here to be able to override the default hidden behavior on the sphinx rendered scikit-learn.org. See: https://github.com/scikit-learn/scikit-learn/issues/21755 */display: inline-block !important;position: relative;}#sk-container-id-1 div.sk-text-repr-fallback {display: none;}</style><div id=\"sk-container-id-1\" class=\"sk-top-container\"><div class=\"sk-text-repr-fallback\"><pre>DecisionTreeClassifier(criterion=&#x27;entropy&#x27;, random_state=0)</pre><b>In a Jupyter environment, please rerun this cell to show the HTML representation or trust the notebook. <br />On GitHub, the HTML representation is unable to render, please try loading this page with nbviewer.org.</b></div><div class=\"sk-container\" hidden><div class=\"sk-item\"><div class=\"sk-estimator sk-toggleable\"><input class=\"sk-toggleable__control sk-hidden--visually\" id=\"sk-estimator-id-1\" type=\"checkbox\" checked><label for=\"sk-estimator-id-1\" class=\"sk-toggleable__label sk-toggleable__label-arrow\">DecisionTreeClassifier</label><div class=\"sk-toggleable__content\"><pre>DecisionTreeClassifier(criterion=&#x27;entropy&#x27;, random_state=0)</pre></div></div></div></div></div>"
            ]
          },
          "metadata": {},
          "execution_count": 18
        }
      ]
    },
    {
      "cell_type": "markdown",
      "metadata": {
        "id": "pPKKprMInNgp"
      },
      "source": [
        "## Applying Grid Search to find the best parameters"
      ]
    },
    {
      "cell_type": "code",
      "metadata": {
        "outputId": "9760c27a-bb47-4a71-b78c-dd830295ec88",
        "colab": {
          "base_uri": "https://localhost:8080/"
        },
        "id": "9nqcZ_ZdnNgp"
      },
      "source": [
        "from sklearn.model_selection import GridSearchCV\n",
        "parameters = {\"criterion\": ['gini', 'entropy'],\n",
        "              \"max_depth\": range(1,10),\n",
        "              \"min_samples_split\": range(1,10),\n",
        "              \"min_samples_leaf\": range(1,5)};\n",
        "\n",
        "grid_search = GridSearchCV(estimator = dt,\n",
        "                           param_grid = parameters,\n",
        "                           scoring = 'accuracy',\n",
        "                           cv = 10,\n",
        "                           n_jobs = -1)\n",
        "grid_search.fit(X_train, y_train)\n",
        "best_accuracy = grid_search.best_score_\n",
        "best_parameters = grid_search.best_params_\n",
        "print(\"Best Accuracy: {:.2f} %\".format(best_accuracy*100))\n",
        "print(\"Best Parameters:\", best_parameters)"
      ],
      "execution_count": null,
      "outputs": [
        {
          "output_type": "stream",
          "name": "stdout",
          "text": [
            "Best Accuracy: 48.45 %\n",
            "Best Parameters: {'criterion': 'gini', 'max_depth': 8, 'min_samples_leaf': 3, 'min_samples_split': 9}\n"
          ]
        },
        {
          "output_type": "stream",
          "name": "stderr",
          "text": [
            "/usr/local/lib/python3.10/dist-packages/sklearn/model_selection/_validation.py:378: FitFailedWarning: \n",
            "720 fits failed out of a total of 6480.\n",
            "The score on these train-test partitions for these parameters will be set to nan.\n",
            "If these failures are not expected, you can try to debug them by setting error_score='raise'.\n",
            "\n",
            "Below are more details about the failures:\n",
            "--------------------------------------------------------------------------------\n",
            "720 fits failed with the following error:\n",
            "Traceback (most recent call last):\n",
            "  File \"/usr/local/lib/python3.10/dist-packages/sklearn/model_selection/_validation.py\", line 686, in _fit_and_score\n",
            "    estimator.fit(X_train, y_train, **fit_params)\n",
            "  File \"/usr/local/lib/python3.10/dist-packages/sklearn/tree/_classes.py\", line 889, in fit\n",
            "    super().fit(\n",
            "  File \"/usr/local/lib/python3.10/dist-packages/sklearn/tree/_classes.py\", line 177, in fit\n",
            "    self._validate_params()\n",
            "  File \"/usr/local/lib/python3.10/dist-packages/sklearn/base.py\", line 600, in _validate_params\n",
            "    validate_parameter_constraints(\n",
            "  File \"/usr/local/lib/python3.10/dist-packages/sklearn/utils/_param_validation.py\", line 97, in validate_parameter_constraints\n",
            "    raise InvalidParameterError(\n",
            "sklearn.utils._param_validation.InvalidParameterError: The 'min_samples_split' parameter of DecisionTreeClassifier must be an int in the range [2, inf) or a float in the range (0.0, 1.0]. Got 1 instead.\n",
            "\n",
            "  warnings.warn(some_fits_failed_message, FitFailedWarning)\n",
            "/usr/local/lib/python3.10/dist-packages/sklearn/model_selection/_search.py:952: UserWarning: One or more of the test scores are non-finite: [       nan 0.37175279 0.37175279 0.37175279 0.37175279 0.37175279\n",
            " 0.37175279 0.37175279 0.37175279        nan 0.37175279 0.37175279\n",
            " 0.37175279 0.37175279 0.37175279 0.37175279 0.37175279 0.37175279\n",
            "        nan 0.37175279 0.37175279 0.37175279 0.37175279 0.37175279\n",
            " 0.37175279 0.37175279 0.37175279        nan 0.37175279 0.37175279\n",
            " 0.37175279 0.37175279 0.37175279 0.37175279 0.37175279 0.37175279\n",
            "        nan 0.43808233 0.43808233 0.43808233 0.43808233 0.43808233\n",
            " 0.43808233 0.43808233 0.43808233        nan 0.43808233 0.43808233\n",
            " 0.43808233 0.43808233 0.43808233 0.43808233 0.43808233 0.43808233\n",
            "        nan 0.43808233 0.43808233 0.43808233 0.43808233 0.43808233\n",
            " 0.43808233 0.43808233 0.43808233        nan 0.43808233 0.43808233\n",
            " 0.43808233 0.43808233 0.43808233 0.43808233 0.43808233 0.43808233\n",
            "        nan 0.46304481 0.46304481 0.46304481 0.46304481 0.46304481\n",
            " 0.46304481 0.46304481 0.46304481        nan 0.46304481 0.46304481\n",
            " 0.46304481 0.46304481 0.46304481 0.46304481 0.46304481 0.46304481\n",
            "        nan 0.46304481 0.46304481 0.46304481 0.46304481 0.46304481\n",
            " 0.46304481 0.46304481 0.46304481        nan 0.46304481 0.46304481\n",
            " 0.46304481 0.46304481 0.46304481 0.46304481 0.46304481 0.46304481\n",
            "        nan 0.45825319 0.45825319 0.45825319 0.45825319 0.45825319\n",
            " 0.45825319 0.45825319 0.45825319        nan 0.45825319 0.45825319\n",
            " 0.45825319 0.45825319 0.45825319 0.45825319 0.45825319 0.45825319\n",
            "        nan 0.45825319 0.45825319 0.45825319 0.45825319 0.45825319\n",
            " 0.45825319 0.45825319 0.45825319        nan 0.45825319 0.45825319\n",
            " 0.45825319 0.45825319 0.45825319 0.45825319 0.45825319 0.45825319\n",
            "        nan 0.47692097 0.47692097 0.47692097 0.47692097 0.47692097\n",
            " 0.47692097 0.47666908 0.47666908        nan 0.47692097 0.47692097\n",
            " 0.47692097 0.47692097 0.47692097 0.47692097 0.47666908 0.47666908\n",
            "        nan 0.47666845 0.47666845 0.47666845 0.47666845 0.47666845\n",
            " 0.47666845 0.47641656 0.47641656        nan 0.47566089 0.47566089\n",
            " 0.47566089 0.47566089 0.47566089 0.47566089 0.47566089 0.47566089\n",
            "        nan 0.47489314 0.47514566 0.47539755 0.47565008 0.47565008\n",
            " 0.47590133 0.47564881 0.47564881        nan 0.47514566 0.47514566\n",
            " 0.47514566 0.47514566 0.47514566 0.47514503 0.47514503 0.47514503\n",
            "        nan 0.47615131 0.47615131 0.47615131 0.47615131 0.47615131\n",
            " 0.47615131 0.47589879 0.47589879        nan 0.47665509 0.47665509\n",
            " 0.47665509 0.47665509 0.47665509 0.47665509 0.47665509 0.47665509\n",
            "        nan 0.4786772  0.47993665 0.47892845 0.47943223 0.4794335\n",
            " 0.47943478 0.47943478 0.47943414        nan 0.47741521 0.47741521\n",
            " 0.47741521 0.47867466 0.47817215 0.47842595 0.47842595 0.47792153\n",
            "        nan 0.48120054 0.48120054 0.48120054 0.48120054 0.48120054\n",
            " 0.47968794 0.47943541 0.48120054        nan 0.48145434 0.48145434\n",
            " 0.48145434 0.48145434 0.48145434 0.48145434 0.48145434 0.48296695\n",
            "        nan 0.48222082 0.48272715 0.48398723 0.48348409 0.48373661\n",
            " 0.4839885  0.48272778 0.48373788        nan 0.48020635 0.48020635\n",
            " 0.48020635 0.48298222 0.48348409 0.48272905 0.48096456 0.48272778\n",
            "        nan 0.48222337 0.48222337 0.48222337 0.48222337 0.48222337\n",
            " 0.48146643 0.48373852 0.48449419        nan 0.47768427 0.47768427\n",
            " 0.47768427 0.47768427 0.47768427 0.47768427 0.47768427 0.47692924\n",
            "        nan 0.47389958 0.47541409 0.47742666 0.47541282 0.47591532\n",
            " 0.47364514 0.47768109 0.47843867        nan 0.46961428 0.46961428\n",
            " 0.46961428 0.47339643 0.47390085 0.47112307 0.47642038 0.4749065\n",
            "        nan 0.47642165 0.47642165 0.47642165 0.47642165 0.47642165\n",
            " 0.47667417 0.47692733 0.47844185        nan 0.47239078 0.47239078\n",
            " 0.47239078 0.47239078 0.47239078 0.47239078 0.47239078 0.47541536\n",
            "        nan 0.37225784 0.37225784 0.37225784 0.37225784 0.37225784\n",
            " 0.37225784 0.37225784 0.37225784        nan 0.37225784 0.37225784\n",
            " 0.37225784 0.37225784 0.37225784 0.37225784 0.37225784 0.37225784\n",
            "        nan 0.37225784 0.37225784 0.37225784 0.37225784 0.37225784\n",
            " 0.37225784 0.37225784 0.37225784        nan 0.37225784 0.37225784\n",
            " 0.37225784 0.37225784 0.37225784 0.37225784 0.37225784 0.37225784\n",
            "        nan 0.43833104 0.43833104 0.43833104 0.43833104 0.43833104\n",
            " 0.43833104 0.43833104 0.43833104        nan 0.43833104 0.43833104\n",
            " 0.43833104 0.43833104 0.43833104 0.43833104 0.43833104 0.43833104\n",
            "        nan 0.43833104 0.43833104 0.43833104 0.43833104 0.43833104\n",
            " 0.43833104 0.43833104 0.43833104        nan 0.43833104 0.43833104\n",
            " 0.43833104 0.43833104 0.43833104 0.43833104 0.43833104 0.43833104\n",
            "        nan 0.45599318 0.45599318 0.45599318 0.45599318 0.45599318\n",
            " 0.45599318 0.45599318 0.45599318        nan 0.45599318 0.45599318\n",
            " 0.45599318 0.45599318 0.45599318 0.45599318 0.45599318 0.45599318\n",
            "        nan 0.45599318 0.45599318 0.45599318 0.45599318 0.45599318\n",
            " 0.45599318 0.45599318 0.45599318        nan 0.45599318 0.45599318\n",
            " 0.45599318 0.45599318 0.45599318 0.45599318 0.45599318 0.45599318\n",
            "        nan 0.46684668 0.46684668 0.46684668 0.46684668 0.46684668\n",
            " 0.46684668 0.46684668 0.46684668        nan 0.46684668 0.46684668\n",
            " 0.46684668 0.46684668 0.46684668 0.46684668 0.46684668 0.46684668\n",
            "        nan 0.46684668 0.46684668 0.46684668 0.46684668 0.46684668\n",
            " 0.46684668 0.46684668 0.46684668        nan 0.46684668 0.46684668\n",
            " 0.46684668 0.46684668 0.46684668 0.46684668 0.46684668 0.46684668\n",
            "        nan 0.46583531 0.46583531 0.46583531 0.46583531 0.46583531\n",
            " 0.46583531 0.46583531 0.46583531        nan 0.46583531 0.46583531\n",
            " 0.46583531 0.46583531 0.46583531 0.46583531 0.46583531 0.46583531\n",
            "        nan 0.46583531 0.46583531 0.46583531 0.46583531 0.46583531\n",
            " 0.46583531 0.46583531 0.46583531        nan 0.46583531 0.46583531\n",
            " 0.46583531 0.46583531 0.46583531 0.46583531 0.46583531 0.46583531\n",
            "        nan 0.47036295 0.47036295 0.47011042 0.47011042 0.47011106\n",
            " 0.46985917 0.46960665 0.46960665        nan 0.47011042 0.47011042\n",
            " 0.47011042 0.47011042 0.47011106 0.46985917 0.46960665 0.46960665\n",
            "        nan 0.46834593 0.46834593 0.46834593 0.46834593 0.46834593\n",
            " 0.46834593 0.4680934  0.4680934         nan 0.46935412 0.46935412\n",
            " 0.46935412 0.46935412 0.46935412 0.46935412 0.46935412 0.46935412\n",
            "        nan 0.47491349 0.47541727 0.47516475 0.47491349 0.47440844\n",
            " 0.47440908 0.47339961 0.47264204        nan 0.47617421 0.47617421\n",
            " 0.47617421 0.47592296 0.47466097 0.4746616  0.47390403 0.47339898\n",
            "        nan 0.47516602 0.47516602 0.47516602 0.47516602 0.47516602\n",
            " 0.47440908 0.47365277 0.47390403        nan 0.47541918 0.47541918\n",
            " 0.47541918 0.47541918 0.47541918 0.47541918 0.47541918 0.47516729\n",
            "        nan 0.46937384 0.46912449 0.46710684 0.46861563 0.46735491\n",
            " 0.46685431 0.46786378 0.46735555        nan 0.46634926 0.46634926\n",
            " 0.46634926 0.46710556 0.46710366 0.46685368 0.46735809 0.46785996\n",
            "        nan 0.46634672 0.46634672 0.46634672 0.46634672 0.46634672\n",
            " 0.46483475 0.4653398  0.46609483        nan 0.46786505 0.46786505\n",
            " 0.46786505 0.46786505 0.46786505 0.46786505 0.46786505 0.46836819\n",
            "        nan 0.45752042 0.45676157 0.45575338 0.45701473 0.4582799\n",
            " 0.45575465 0.45651223 0.45650968        nan 0.45600399 0.45600399\n",
            " 0.45600399 0.45903175 0.45726917 0.45550212 0.45701537 0.4580242\n",
            "        nan 0.4575166  0.4575166  0.4575166  0.4575166  0.4575166\n",
            " 0.45524705 0.45600272 0.45625398        nan 0.45903175 0.45903175\n",
            " 0.45903175 0.45903175 0.45903175 0.45903175 0.45903175 0.45902985]\n",
            "  warnings.warn(\n"
          ]
        }
      ]
    },
    {
      "cell_type": "code",
      "source": [
        "dt = DecisionTreeClassifier(criterion=best_parameters['criterion'], max_depth=best_parameters['max_depth'], min_samples_leaf=best_parameters['min_samples_leaf'], min_samples_split=best_parameters['min_samples_split'])\n",
        "dt.fit(X_train, y_train)"
      ],
      "metadata": {
        "colab": {
          "base_uri": "https://localhost:8080/"
        },
        "id": "Wm6ABUP1p3sC",
        "outputId": "c418f057-66b1-4f34-fe29-3349b0c4bc9e"
      },
      "execution_count": null,
      "outputs": [
        {
          "output_type": "execute_result",
          "data": {
            "text/plain": [
              "DecisionTreeClassifier(max_depth=8, min_samples_leaf=3, min_samples_split=9)"
            ],
            "text/html": [
              "<style>#sk-container-id-2 {color: black;background-color: white;}#sk-container-id-2 pre{padding: 0;}#sk-container-id-2 div.sk-toggleable {background-color: white;}#sk-container-id-2 label.sk-toggleable__label {cursor: pointer;display: block;width: 100%;margin-bottom: 0;padding: 0.3em;box-sizing: border-box;text-align: center;}#sk-container-id-2 label.sk-toggleable__label-arrow:before {content: \"▸\";float: left;margin-right: 0.25em;color: #696969;}#sk-container-id-2 label.sk-toggleable__label-arrow:hover:before {color: black;}#sk-container-id-2 div.sk-estimator:hover label.sk-toggleable__label-arrow:before {color: black;}#sk-container-id-2 div.sk-toggleable__content {max-height: 0;max-width: 0;overflow: hidden;text-align: left;background-color: #f0f8ff;}#sk-container-id-2 div.sk-toggleable__content pre {margin: 0.2em;color: black;border-radius: 0.25em;background-color: #f0f8ff;}#sk-container-id-2 input.sk-toggleable__control:checked~div.sk-toggleable__content {max-height: 200px;max-width: 100%;overflow: auto;}#sk-container-id-2 input.sk-toggleable__control:checked~label.sk-toggleable__label-arrow:before {content: \"▾\";}#sk-container-id-2 div.sk-estimator input.sk-toggleable__control:checked~label.sk-toggleable__label {background-color: #d4ebff;}#sk-container-id-2 div.sk-label input.sk-toggleable__control:checked~label.sk-toggleable__label {background-color: #d4ebff;}#sk-container-id-2 input.sk-hidden--visually {border: 0;clip: rect(1px 1px 1px 1px);clip: rect(1px, 1px, 1px, 1px);height: 1px;margin: -1px;overflow: hidden;padding: 0;position: absolute;width: 1px;}#sk-container-id-2 div.sk-estimator {font-family: monospace;background-color: #f0f8ff;border: 1px dotted black;border-radius: 0.25em;box-sizing: border-box;margin-bottom: 0.5em;}#sk-container-id-2 div.sk-estimator:hover {background-color: #d4ebff;}#sk-container-id-2 div.sk-parallel-item::after {content: \"\";width: 100%;border-bottom: 1px solid gray;flex-grow: 1;}#sk-container-id-2 div.sk-label:hover label.sk-toggleable__label {background-color: #d4ebff;}#sk-container-id-2 div.sk-serial::before {content: \"\";position: absolute;border-left: 1px solid gray;box-sizing: border-box;top: 0;bottom: 0;left: 50%;z-index: 0;}#sk-container-id-2 div.sk-serial {display: flex;flex-direction: column;align-items: center;background-color: white;padding-right: 0.2em;padding-left: 0.2em;position: relative;}#sk-container-id-2 div.sk-item {position: relative;z-index: 1;}#sk-container-id-2 div.sk-parallel {display: flex;align-items: stretch;justify-content: center;background-color: white;position: relative;}#sk-container-id-2 div.sk-item::before, #sk-container-id-2 div.sk-parallel-item::before {content: \"\";position: absolute;border-left: 1px solid gray;box-sizing: border-box;top: 0;bottom: 0;left: 50%;z-index: -1;}#sk-container-id-2 div.sk-parallel-item {display: flex;flex-direction: column;z-index: 1;position: relative;background-color: white;}#sk-container-id-2 div.sk-parallel-item:first-child::after {align-self: flex-end;width: 50%;}#sk-container-id-2 div.sk-parallel-item:last-child::after {align-self: flex-start;width: 50%;}#sk-container-id-2 div.sk-parallel-item:only-child::after {width: 0;}#sk-container-id-2 div.sk-dashed-wrapped {border: 1px dashed gray;margin: 0 0.4em 0.5em 0.4em;box-sizing: border-box;padding-bottom: 0.4em;background-color: white;}#sk-container-id-2 div.sk-label label {font-family: monospace;font-weight: bold;display: inline-block;line-height: 1.2em;}#sk-container-id-2 div.sk-label-container {text-align: center;}#sk-container-id-2 div.sk-container {/* jupyter's `normalize.less` sets `[hidden] { display: none; }` but bootstrap.min.css set `[hidden] { display: none !important; }` so we also need the `!important` here to be able to override the default hidden behavior on the sphinx rendered scikit-learn.org. See: https://github.com/scikit-learn/scikit-learn/issues/21755 */display: inline-block !important;position: relative;}#sk-container-id-2 div.sk-text-repr-fallback {display: none;}</style><div id=\"sk-container-id-2\" class=\"sk-top-container\"><div class=\"sk-text-repr-fallback\"><pre>DecisionTreeClassifier(max_depth=8, min_samples_leaf=3, min_samples_split=9)</pre><b>In a Jupyter environment, please rerun this cell to show the HTML representation or trust the notebook. <br />On GitHub, the HTML representation is unable to render, please try loading this page with nbviewer.org.</b></div><div class=\"sk-container\" hidden><div class=\"sk-item\"><div class=\"sk-estimator sk-toggleable\"><input class=\"sk-toggleable__control sk-hidden--visually\" id=\"sk-estimator-id-2\" type=\"checkbox\" checked><label for=\"sk-estimator-id-2\" class=\"sk-toggleable__label sk-toggleable__label-arrow\">DecisionTreeClassifier</label><div class=\"sk-toggleable__content\"><pre>DecisionTreeClassifier(max_depth=8, min_samples_leaf=3, min_samples_split=9)</pre></div></div></div></div></div>"
            ]
          },
          "metadata": {},
          "execution_count": 20
        }
      ]
    },
    {
      "cell_type": "markdown",
      "metadata": {
        "id": "_1_i49MOVv7O"
      },
      "source": [
        "## Predicting the Test set results"
      ]
    },
    {
      "cell_type": "code",
      "source": [
        "y_pred = dt.predict(X_test)\n",
        "print(np.concatenate((y_pred.reshape(len(y_pred),1), y_test.reshape(len(y_test),1)),1))"
      ],
      "metadata": {
        "id": "c6exQgRXVzj-",
        "colab": {
          "base_uri": "https://localhost:8080/"
        },
        "outputId": "7bab3c4d-aa03-4266-dd6b-c35e9fe2e2b0"
      },
      "execution_count": null,
      "outputs": [
        {
          "output_type": "stream",
          "name": "stdout",
          "text": [
            "[[3 3]\n",
            " [4 4]\n",
            " [3 2]\n",
            " ...\n",
            " [1 2]\n",
            " [4 4]\n",
            " [0 0]]\n"
          ]
        }
      ]
    },
    {
      "cell_type": "markdown",
      "metadata": {
        "id": "ryQ2FAG8V5eW"
      },
      "source": [
        "## Making the Confusion Matrix"
      ]
    },
    {
      "cell_type": "code",
      "metadata": {
        "colab": {
          "base_uri": "https://localhost:8080/"
        },
        "outputId": "87f5ce52-4442-4c4b-985d-562ee4bf74b8",
        "id": "V76j5VvxV5eW"
      },
      "source": [
        "from sklearn.metrics import confusion_matrix, classification_report, accuracy_score\n",
        "print(confusion_matrix(y_test,y_pred))\n",
        "print(classification_report(y_test,y_pred))"
      ],
      "execution_count": null,
      "outputs": [
        {
          "output_type": "stream",
          "name": "stdout",
          "text": [
            "[[ 96  53  11   4   2]\n",
            " [ 30  69  22  34   5]\n",
            " [  9  30  38  58  10]\n",
            " [  5  19  53 139  51]\n",
            " [  0   5  12  83 154]]\n",
            "              precision    recall  f1-score   support\n",
            "\n",
            "           0       0.69      0.58      0.63       166\n",
            "           1       0.39      0.43      0.41       160\n",
            "           2       0.28      0.26      0.27       145\n",
            "           3       0.44      0.52      0.48       267\n",
            "           4       0.69      0.61      0.65       254\n",
            "\n",
            "    accuracy                           0.50       992\n",
            "   macro avg       0.50      0.48      0.49       992\n",
            "weighted avg       0.51      0.50      0.50       992\n",
            "\n"
          ]
        }
      ]
    },
    {
      "cell_type": "code",
      "source": [
        "accuracy_score(y_test, y_pred)"
      ],
      "metadata": {
        "colab": {
          "base_uri": "https://localhost:8080/"
        },
        "id": "FsWgztwMWD5L",
        "outputId": "23699645-61c0-4ebe-b585-2164028b6c56"
      },
      "execution_count": null,
      "outputs": [
        {
          "output_type": "execute_result",
          "data": {
            "text/plain": [
              "0.5"
            ]
          },
          "metadata": {},
          "execution_count": 23
        }
      ]
    },
    {
      "cell_type": "code",
      "source": [
        "pd.crosstab(y_test, y_pred)"
      ],
      "metadata": {
        "colab": {
          "base_uri": "https://localhost:8080/"
        },
        "outputId": "d8104a6e-b5d4-4a61-ba9e-560a80cd6b4d",
        "id": "Bt3CHw-zV5eW"
      },
      "execution_count": null,
      "outputs": [
        {
          "output_type": "execute_result",
          "data": {
            "text/plain": [
              "col_0   0   1   2    3    4\n",
              "row_0                      \n",
              "0      96  53  11    4    2\n",
              "1      30  69  22   34    5\n",
              "2       9  30  38   58   10\n",
              "3       5  19  53  139   51\n",
              "4       0   5  12   83  154"
            ],
            "text/html": [
              "\n",
              "  <div id=\"df-948b9435-ca37-43d1-a39d-749444705a98\">\n",
              "    <div class=\"colab-df-container\">\n",
              "      <div>\n",
              "<style scoped>\n",
              "    .dataframe tbody tr th:only-of-type {\n",
              "        vertical-align: middle;\n",
              "    }\n",
              "\n",
              "    .dataframe tbody tr th {\n",
              "        vertical-align: top;\n",
              "    }\n",
              "\n",
              "    .dataframe thead th {\n",
              "        text-align: right;\n",
              "    }\n",
              "</style>\n",
              "<table border=\"1\" class=\"dataframe\">\n",
              "  <thead>\n",
              "    <tr style=\"text-align: right;\">\n",
              "      <th>col_0</th>\n",
              "      <th>0</th>\n",
              "      <th>1</th>\n",
              "      <th>2</th>\n",
              "      <th>3</th>\n",
              "      <th>4</th>\n",
              "    </tr>\n",
              "    <tr>\n",
              "      <th>row_0</th>\n",
              "      <th></th>\n",
              "      <th></th>\n",
              "      <th></th>\n",
              "      <th></th>\n",
              "      <th></th>\n",
              "    </tr>\n",
              "  </thead>\n",
              "  <tbody>\n",
              "    <tr>\n",
              "      <th>0</th>\n",
              "      <td>96</td>\n",
              "      <td>53</td>\n",
              "      <td>11</td>\n",
              "      <td>4</td>\n",
              "      <td>2</td>\n",
              "    </tr>\n",
              "    <tr>\n",
              "      <th>1</th>\n",
              "      <td>30</td>\n",
              "      <td>69</td>\n",
              "      <td>22</td>\n",
              "      <td>34</td>\n",
              "      <td>5</td>\n",
              "    </tr>\n",
              "    <tr>\n",
              "      <th>2</th>\n",
              "      <td>9</td>\n",
              "      <td>30</td>\n",
              "      <td>38</td>\n",
              "      <td>58</td>\n",
              "      <td>10</td>\n",
              "    </tr>\n",
              "    <tr>\n",
              "      <th>3</th>\n",
              "      <td>5</td>\n",
              "      <td>19</td>\n",
              "      <td>53</td>\n",
              "      <td>139</td>\n",
              "      <td>51</td>\n",
              "    </tr>\n",
              "    <tr>\n",
              "      <th>4</th>\n",
              "      <td>0</td>\n",
              "      <td>5</td>\n",
              "      <td>12</td>\n",
              "      <td>83</td>\n",
              "      <td>154</td>\n",
              "    </tr>\n",
              "  </tbody>\n",
              "</table>\n",
              "</div>\n",
              "      <button class=\"colab-df-convert\" onclick=\"convertToInteractive('df-948b9435-ca37-43d1-a39d-749444705a98')\"\n",
              "              title=\"Convert this dataframe to an interactive table.\"\n",
              "              style=\"display:none;\">\n",
              "        \n",
              "  <svg xmlns=\"http://www.w3.org/2000/svg\" height=\"24px\"viewBox=\"0 0 24 24\"\n",
              "       width=\"24px\">\n",
              "    <path d=\"M0 0h24v24H0V0z\" fill=\"none\"/>\n",
              "    <path d=\"M18.56 5.44l.94 2.06.94-2.06 2.06-.94-2.06-.94-.94-2.06-.94 2.06-2.06.94zm-11 1L8.5 8.5l.94-2.06 2.06-.94-2.06-.94L8.5 2.5l-.94 2.06-2.06.94zm10 10l.94 2.06.94-2.06 2.06-.94-2.06-.94-.94-2.06-.94 2.06-2.06.94z\"/><path d=\"M17.41 7.96l-1.37-1.37c-.4-.4-.92-.59-1.43-.59-.52 0-1.04.2-1.43.59L10.3 9.45l-7.72 7.72c-.78.78-.78 2.05 0 2.83L4 21.41c.39.39.9.59 1.41.59.51 0 1.02-.2 1.41-.59l7.78-7.78 2.81-2.81c.8-.78.8-2.07 0-2.86zM5.41 20L4 18.59l7.72-7.72 1.47 1.35L5.41 20z\"/>\n",
              "  </svg>\n",
              "      </button>\n",
              "      \n",
              "  <style>\n",
              "    .colab-df-container {\n",
              "      display:flex;\n",
              "      flex-wrap:wrap;\n",
              "      gap: 12px;\n",
              "    }\n",
              "\n",
              "    .colab-df-convert {\n",
              "      background-color: #E8F0FE;\n",
              "      border: none;\n",
              "      border-radius: 50%;\n",
              "      cursor: pointer;\n",
              "      display: none;\n",
              "      fill: #1967D2;\n",
              "      height: 32px;\n",
              "      padding: 0 0 0 0;\n",
              "      width: 32px;\n",
              "    }\n",
              "\n",
              "    .colab-df-convert:hover {\n",
              "      background-color: #E2EBFA;\n",
              "      box-shadow: 0px 1px 2px rgba(60, 64, 67, 0.3), 0px 1px 3px 1px rgba(60, 64, 67, 0.15);\n",
              "      fill: #174EA6;\n",
              "    }\n",
              "\n",
              "    [theme=dark] .colab-df-convert {\n",
              "      background-color: #3B4455;\n",
              "      fill: #D2E3FC;\n",
              "    }\n",
              "\n",
              "    [theme=dark] .colab-df-convert:hover {\n",
              "      background-color: #434B5C;\n",
              "      box-shadow: 0px 1px 3px 1px rgba(0, 0, 0, 0.15);\n",
              "      filter: drop-shadow(0px 1px 2px rgba(0, 0, 0, 0.3));\n",
              "      fill: #FFFFFF;\n",
              "    }\n",
              "  </style>\n",
              "\n",
              "      <script>\n",
              "        const buttonEl =\n",
              "          document.querySelector('#df-948b9435-ca37-43d1-a39d-749444705a98 button.colab-df-convert');\n",
              "        buttonEl.style.display =\n",
              "          google.colab.kernel.accessAllowed ? 'block' : 'none';\n",
              "\n",
              "        async function convertToInteractive(key) {\n",
              "          const element = document.querySelector('#df-948b9435-ca37-43d1-a39d-749444705a98');\n",
              "          const dataTable =\n",
              "            await google.colab.kernel.invokeFunction('convertToInteractive',\n",
              "                                                     [key], {});\n",
              "          if (!dataTable) return;\n",
              "\n",
              "          const docLinkHtml = 'Like what you see? Visit the ' +\n",
              "            '<a target=\"_blank\" href=https://colab.research.google.com/notebooks/data_table.ipynb>data table notebook</a>'\n",
              "            + ' to learn more about interactive tables.';\n",
              "          element.innerHTML = '';\n",
              "          dataTable['output_type'] = 'display_data';\n",
              "          await google.colab.output.renderOutput(dataTable, element);\n",
              "          const docLink = document.createElement('div');\n",
              "          docLink.innerHTML = docLinkHtml;\n",
              "          element.appendChild(docLink);\n",
              "        }\n",
              "      </script>\n",
              "    </div>\n",
              "  </div>\n",
              "  "
            ]
          },
          "metadata": {},
          "execution_count": 24
        }
      ]
    },
    {
      "cell_type": "markdown",
      "metadata": {
        "id": "-T1OsjLCbVGF"
      },
      "source": [
        "## Applying k-Fold Cross Validation"
      ]
    },
    {
      "cell_type": "code",
      "metadata": {
        "outputId": "b899e1cc-70db-4465-ab2c-35ce0c502c09",
        "colab": {
          "base_uri": "https://localhost:8080/"
        },
        "id": "DipgcxDlbVGF"
      },
      "source": [
        "from sklearn.model_selection import cross_val_score\n",
        "accuracies = cross_val_score(estimator = dt, X = X_train, y = y_train, cv = 10)\n",
        "print(\"Accuracy: {:.2f} %\".format(accuracies.mean()*100))\n",
        "print(\"Standard Deviation: {:.2f} %\".format(accuracies.std()*100))"
      ],
      "execution_count": null,
      "outputs": [
        {
          "output_type": "stream",
          "name": "stdout",
          "text": [
            "Accuracy: 48.37 %\n",
            "Standard Deviation: 1.90 %\n"
          ]
        }
      ]
    }
  ]
}