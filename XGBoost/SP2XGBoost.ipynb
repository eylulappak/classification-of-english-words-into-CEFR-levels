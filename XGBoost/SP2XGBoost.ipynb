{
  "nbformat": 4,
  "nbformat_minor": 0,
  "metadata": {
    "colab": {
      "provenance": [],
      "toc_visible": true
    },
    "kernelspec": {
      "name": "python3",
      "display_name": "Python 3"
    },
    "language_info": {
      "name": "python"
    }
  },
  "cells": [
    {
      "cell_type": "markdown",
      "metadata": {
        "id": "WOw8yMd1VlnD"
      },
      "source": [
        "# Data Preprocessing"
      ]
    },
    {
      "cell_type": "markdown",
      "metadata": {
        "id": "NvUGC8QQV6bV"
      },
      "source": [
        "## Importing the libraries"
      ]
    },
    {
      "cell_type": "code",
      "metadata": {
        "id": "wfFEXZC0WS-V"
      },
      "source": [
        "%matplotlib inline\n",
        "import numpy as np\n",
        "import pandas as pd\n",
        "import matplotlib.pyplot as plt\n",
        "import seaborn as sns\n",
        "import sklearn"
      ],
      "execution_count": null,
      "outputs": []
    },
    {
      "cell_type": "markdown",
      "metadata": {
        "id": "fhYaZ-ENV_c5"
      },
      "source": [
        "## Importing the dataset"
      ]
    },
    {
      "cell_type": "code",
      "metadata": {
        "id": "aqHTg9bxWT_u"
      },
      "source": [
        "df = pd.read_csv('dataset.csv')"
      ],
      "execution_count": null,
      "outputs": []
    },
    {
      "cell_type": "code",
      "source": [
        "X = df.iloc[:, 1:-1].values\n",
        "y = df.iloc[:, -1].values"
      ],
      "metadata": {
        "id": "ICKgvCO0oZLL"
      },
      "execution_count": null,
      "outputs": []
    },
    {
      "cell_type": "code",
      "execution_count": null,
      "metadata": {
        "colab": {
          "base_uri": "https://localhost:8080/"
        },
        "outputId": "01c8c9b8-8496-426a-efb0-222cc2a1e7b8",
        "id": "W8Rq1Q_yjwUG"
      },
      "outputs": [
        {
          "output_type": "stream",
          "name": "stdout",
          "text": [
            "[['verb' 7 4 ... 0 0 2]\n",
            " ['noun' 2 1 ... 0 580 11]\n",
            " ['adjective' 4 2 ... 0 0 11]\n",
            " ...\n",
            " ['noun' 6 4 ... 0 0 4]\n",
            " ['number' 9 0 ... 0 0 1]\n",
            " ['noun' 6 2 ... 0 0 3]]\n"
          ]
        }
      ],
      "source": [
        "print(X)"
      ]
    },
    {
      "cell_type": "code",
      "source": [
        "print(y)"
      ],
      "metadata": {
        "colab": {
          "base_uri": "https://localhost:8080/"
        },
        "id": "rNhDgTrzr9mf",
        "outputId": "9ad096ce-3ec9-43cd-dd80-43d6617c5987"
      },
      "execution_count": null,
      "outputs": [
        {
          "output_type": "stream",
          "name": "stdout",
          "text": [
            "['b2' 'a2' 'a2' ... 'b1' 'a2' 'b2']\n"
          ]
        }
      ]
    },
    {
      "cell_type": "markdown",
      "source": [
        "## Encoding\n"
      ],
      "metadata": {
        "id": "vPoM1lrlq93v"
      }
    },
    {
      "cell_type": "code",
      "source": [
        "from sklearn.compose import ColumnTransformer\n",
        "from sklearn.preprocessing import OneHotEncoder\n",
        "ct = ColumnTransformer(transformers=[('encoder', OneHotEncoder(), [0])], remainder='passthrough')\n",
        "X = np.array(ct.fit_transform(X))"
      ],
      "metadata": {
        "id": "tCyD2x5DrBtI"
      },
      "execution_count": null,
      "outputs": []
    },
    {
      "cell_type": "code",
      "source": [
        "from sklearn.preprocessing import LabelEncoder\n",
        "le = LabelEncoder()\n",
        "y = le.fit_transform(y)"
      ],
      "metadata": {
        "id": "a4LD5hnZsJqX"
      },
      "execution_count": null,
      "outputs": []
    },
    {
      "cell_type": "code",
      "source": [
        "print(X)"
      ],
      "metadata": {
        "colab": {
          "base_uri": "https://localhost:8080/"
        },
        "id": "l4L_46Uuo6gy",
        "outputId": "fcef2276-977f-4b41-8f5c-c6c3fa945232"
      },
      "execution_count": null,
      "outputs": [
        {
          "output_type": "stream",
          "name": "stdout",
          "text": [
            "[[0.0 0.0 0.0 ... 0 0 2]\n",
            " [0.0 0.0 0.0 ... 0 580 11]\n",
            " [1.0 0.0 0.0 ... 0 0 11]\n",
            " ...\n",
            " [0.0 0.0 0.0 ... 0 0 4]\n",
            " [0.0 0.0 0.0 ... 0 0 1]\n",
            " [0.0 0.0 0.0 ... 0 0 3]]\n"
          ]
        }
      ]
    },
    {
      "cell_type": "code",
      "source": [
        "print(y)"
      ],
      "metadata": {
        "colab": {
          "base_uri": "https://localhost:8080/"
        },
        "id": "9twZfCrSpEHi",
        "outputId": "1fbab43d-1945-43d3-deea-dfbef4467977"
      },
      "execution_count": null,
      "outputs": [
        {
          "output_type": "stream",
          "name": "stdout",
          "text": [
            "[3 1 1 ... 2 1 3]\n"
          ]
        }
      ]
    },
    {
      "cell_type": "markdown",
      "metadata": {
        "id": "qb_vcgm3qZKW"
      },
      "source": [
        "## Splitting the dataset into the Training set and Test set"
      ]
    },
    {
      "cell_type": "code",
      "execution_count": null,
      "metadata": {
        "id": "pXgA6CzlqbCl"
      },
      "outputs": [],
      "source": [
        "from sklearn.model_selection import train_test_split\n",
        "X_train, X_test, y_train, y_test = train_test_split(X, y, test_size = 0.2, random_state = 1)"
      ]
    },
    {
      "cell_type": "code",
      "execution_count": null,
      "metadata": {
        "colab": {
          "base_uri": "https://localhost:8080/"
        },
        "id": "GuwQhFdKrYTM",
        "outputId": "dad3373e-c4c0-46d5-dc46-1dfc1139cb0d"
      },
      "outputs": [
        {
          "output_type": "stream",
          "name": "stdout",
          "text": [
            "[[0.0 0.0 0.0 ... 0 464 4]\n",
            " [0.0 0.0 0.0 ... 0 0 3]\n",
            " [0.0 0.0 0.0 ... 0 0 4]\n",
            " ...\n",
            " [0.0 0.0 0.0 ... 0 323 4]\n",
            " [1.0 0.0 0.0 ... 0 0 20]\n",
            " [0.0 0.0 0.0 ... 0 0 2]]\n"
          ]
        }
      ],
      "source": [
        "print(X_train)"
      ]
    },
    {
      "cell_type": "code",
      "execution_count": null,
      "metadata": {
        "colab": {
          "base_uri": "https://localhost:8080/"
        },
        "id": "TUrX_Tvcrbi4",
        "outputId": "8f9a482a-da46-4afd-a61e-d402cb77460d"
      },
      "outputs": [
        {
          "output_type": "stream",
          "name": "stdout",
          "text": [
            "[[0.0 0.0 0.0 ... 0 464 71]\n",
            " [0.0 0.0 0.0 ... 0 356 4]\n",
            " [0.0 0.0 0.0 ... 0 0 5]\n",
            " ...\n",
            " [0.0 0.0 0.0 ... 0 0 4]\n",
            " [0.0 0.0 0.0 ... 0 0 3]\n",
            " [0.0 0.0 0.0 ... 0 0 5]]\n"
          ]
        }
      ],
      "source": [
        "print(X_test)"
      ]
    },
    {
      "cell_type": "code",
      "execution_count": null,
      "metadata": {
        "colab": {
          "base_uri": "https://localhost:8080/"
        },
        "id": "pSMHiIsWreQY",
        "outputId": "278c5965-8933-44f9-82dd-bef53c342cbf"
      },
      "outputs": [
        {
          "output_type": "stream",
          "name": "stdout",
          "text": [
            "[3 2 2 ... 1 0 0]\n"
          ]
        }
      ],
      "source": [
        "print(y_train)"
      ]
    },
    {
      "cell_type": "code",
      "execution_count": null,
      "metadata": {
        "colab": {
          "base_uri": "https://localhost:8080/"
        },
        "id": "I_tW7H56rgtW",
        "outputId": "7ddcaf6d-c2bb-41bc-fca0-e54590e0a2ed"
      },
      "outputs": [
        {
          "output_type": "stream",
          "name": "stdout",
          "text": [
            "[3 4 2 1 4 4 3 1 4 0 4 4 2 3 4 4 3 4 2 0 4 0 1 3 0 3 1 4 1 0 2 3 3 0 4 4 4\n",
            " 1 3 4 0 3 0 1 0 3 1 4 3 3 1 1 0 3 3 4 3 0 2 4 0 3 1 4 2 4 0 3 1 1 3 4 2 0\n",
            " 3 2 4 3 4 4 0 2 3 4 2 4 3 1 1 0 2 3 3 4 4 0 0 0 0 4 4 4 4 3 0 0 4 1 1 0 4\n",
            " 3 0 4 0 3 2 1 1 0 4 4 1 1 2 4 0 4 3 2 2 3 4 1 3 2 0 2 4 1 4 4 3 3 3 1 0 3\n",
            " 4 0 0 1 3 1 4 4 1 2 1 4 4 0 0 3 3 3 0 4 4 1 3 0 3 1 3 4 2 1 3 1 3 3 3 3 3\n",
            " 2 3 1 2 0 3 1 3 0 2 3 4 0 3 2 2 1 3 4 3 0 0 4 3 2 0 0 3 2 4 1 0 4 0 4 4 4\n",
            " 3 3 3 3 4 1 1 3 2 3 2 0 3 0 3 0 1 4 3 1 0 0 3 3 4 1 0 4 3 1 4 3 2 1 0 4 1\n",
            " 0 1 0 2 0 3 3 0 2 3 1 0 3 0 0 3 0 3 3 0 4 1 3 3 0 3 3 1 3 4 4 0 4 3 2 4 4\n",
            " 4 3 3 2 3 0 2 4 2 3 3 0 3 1 4 4 2 3 4 4 1 3 0 4 4 2 2 4 1 3 1 1 0 4 3 1 3\n",
            " 0 2 3 3 3 2 1 4 2 2 0 4 0 1 2 1 4 2 2 1 4 3 4 0 4 3 0 3 3 4 3 4 4 4 3 1 1\n",
            " 4 2 3 1 3 1 3 3 2 4 3 4 0 4 2 4 2 2 0 1 1 4 4 0 4 4 1 3 2 4 0 0 3 3 3 2 0\n",
            " 1 4 1 0 1 3 3 3 0 3 1 3 4 4 3 4 1 3 2 3 0 1 4 3 3 4 2 3 2 2 0 0 4 4 3 4 1\n",
            " 4 1 4 4 2 3 2 1 0 1 0 3 4 1 0 1 0 4 4 4 2 4 4 2 4 4 3 4 1 2 1 4 0 1 0 4 1\n",
            " 4 4 3 2 4 4 2 0 3 0 0 3 1 3 1 4 0 2 3 4 4 1 4 0 2 1 3 3 0 2 4 4 2 0 2 2 4\n",
            " 1 2 0 3 1 0 3 2 1 2 0 4 3 3 3 4 4 4 3 4 2 1 3 1 4 1 3 4 0 1 0 2 0 4 4 4 4\n",
            " 3 3 1 2 4 3 0 0 1 4 0 4 4 3 3 1 3 4 4 4 3 4 1 2 3 2 4 2 0 2 0 4 4 1 1 0 3\n",
            " 4 1 3 2 2 4 2 0 1 3 3 4 2 2 3 1 0 3 2 4 2 2 4 4 2 4 2 3 1 3 3 2 0 3 4 3 3\n",
            " 0 0 4 2 1 2 4 0 0 3 0 3 3 2 3 3 3 4 1 3 0 3 1 4 3 3 3 4 0 0 4 2 0 3 3 3 4\n",
            " 3 0 4 1 2 4 3 3 2 2 3 1 2 3 2 2 1 3 4 3 3 2 1 4 4 4 4 0 0 1 3 1 4 0 4 4 1\n",
            " 0 2 0 2 3 3 1 4 1 4 4 1 4 3 4 0 4 4 2 4 1 2 3 0 3 3 3 1 4 3 0 0 2 3 0 3 0\n",
            " 4 3 3 1 0 3 2 3 4 0 2 4 1 2 1 2 3 3 4 1 3 4 3 3 0 0 1 1 4 3 1 4 2 3 3 3 3\n",
            " 0 4 0 3 4 4 3 2 3 1 1 4 3 1 4 3 4 3 4 1 2 1 0 1 3 0 4 3 3 3 4 3 4 3 4 3 4\n",
            " 2 4 0 3 1 3 4 3 1 2 3 3 0 3 0 3 4 3 2 4 1 1 4 0 0 4 3 4 3 4 1 4 2 3 2 4 2\n",
            " 2 4 2 3 0 2 3 1 0 4 2 3 4 3 4 3 1 4 2 3 1 1 0 3 0 4 2 4 4 3 4 1 4 4 4 0 4\n",
            " 1 3 1 0 2 0 2 1 1 4 4 3 4 3 2 4 4 1 1 1 3 0 4 4 3 3 1 0 3 1 4 2 3 0 3 3 4\n",
            " 4 3 0 1 1 0 3 1 2 4 3 3 3 1 4 0 3 4 2 2 3 3 0 0 2 2 2 2 4 3 0 3 3 3 0 2 4\n",
            " 1 2 3 3 1 0 4 2 0 3 1 4 3 1 4 2 2 1 4 0 4 2 0 2 2 1 1 2 4 0]\n"
          ]
        }
      ],
      "source": [
        "print(y_test)"
      ]
    },
    {
      "cell_type": "markdown",
      "metadata": {
        "id": "TpGqbS4TqkIR"
      },
      "source": [
        "## Feature Scaling"
      ]
    },
    {
      "cell_type": "code",
      "execution_count": null,
      "metadata": {
        "id": "AxjSUXFQqo-3"
      },
      "outputs": [],
      "source": [
        "from sklearn.preprocessing import StandardScaler\n",
        "sc = StandardScaler()\n",
        "# encoded features are not scaled\n",
        "X_train[:, 9:] = sc.fit_transform(X_train[:, 9:]) \n",
        "X_test[:, 9:] = sc.transform(X_test[:, 9:])"
      ]
    },
    {
      "cell_type": "code",
      "execution_count": null,
      "metadata": {
        "colab": {
          "base_uri": "https://localhost:8080/"
        },
        "id": "DWPET8ZdlMnu",
        "outputId": "870f38b6-234d-4818-fe49-51bc7939b245"
      },
      "outputs": [
        {
          "output_type": "stream",
          "name": "stdout",
          "text": [
            "[[0.0 0.0 0.0 ... -0.25824238955886414 0.15301457120237313\n",
            "  -0.4315313831333375]\n",
            " [0.0 0.0 0.0 ... -0.25824238955886414 -0.45481347147853396\n",
            "  -0.47932395691964746]\n",
            " [0.0 0.0 0.0 ... -0.25824238955886414 -0.45481347147853396\n",
            "  -0.4315313831333375]\n",
            " ...\n",
            " [0.0 0.0 0.0 ... -0.25824238955886414 -0.03169179521574734\n",
            "  -0.4315313831333375]\n",
            " [1.0 0.0 0.0 ... -0.25824238955886414 -0.45481347147853396\n",
            "  0.333149797447622]\n",
            " [0.0 0.0 0.0 ... -0.25824238955886414 -0.45481347147853396\n",
            "  -0.5271165307059574]]\n"
          ]
        }
      ],
      "source": [
        "print(X_train)"
      ]
    },
    {
      "cell_type": "code",
      "execution_count": null,
      "metadata": {
        "colab": {
          "base_uri": "https://localhost:8080/"
        },
        "id": "sTXykB_QlRjE",
        "outputId": "700673d9-d051-4043-e018-81c6757ca18a"
      },
      "outputs": [
        {
          "output_type": "stream",
          "name": "stdout",
          "text": [
            "[[0.0 0.0 0.0 ... -0.25824238955886414 0.15301457120237313\n",
            "  2.7705710605494307]\n",
            " [0.0 0.0 0.0 ... -0.25824238955886414 0.011537354371472344\n",
            "  -0.4315313831333375]\n",
            " [0.0 0.0 0.0 ... -0.25824238955886414 -0.45481347147853396\n",
            "  -0.3837388093470275]\n",
            " ...\n",
            " [0.0 0.0 0.0 ... -0.25824238955886414 -0.45481347147853396\n",
            "  -0.4315313831333375]\n",
            " [0.0 0.0 0.0 ... -0.25824238955886414 -0.45481347147853396\n",
            "  -0.47932395691964746]\n",
            " [0.0 0.0 0.0 ... -0.25824238955886414 -0.45481347147853396\n",
            "  -0.3837388093470275]]\n"
          ]
        }
      ],
      "source": [
        "print(X_test)"
      ]
    },
    {
      "cell_type": "markdown",
      "source": [
        "# XGBoost"
      ],
      "metadata": {
        "id": "8trTa4o9Xpmp"
      }
    },
    {
      "cell_type": "markdown",
      "metadata": {
        "id": "1Y89ctGZ7Mcx"
      },
      "source": [
        "## Training XGBoost on the Training set"
      ]
    },
    {
      "cell_type": "code",
      "metadata": {
        "id": "ude1J0E47SKN",
        "colab": {
          "base_uri": "https://localhost:8080/",
          "height": 248
        },
        "outputId": "16fd7a7b-32ee-445c-8ace-b02ea4c3db34"
      },
      "source": [
        "from xgboost import XGBClassifier\n",
        "xgb = XGBClassifier()\n",
        "xgb.fit(X_train, y_train)"
      ],
      "execution_count": null,
      "outputs": [
        {
          "output_type": "execute_result",
          "data": {
            "text/plain": [
              "XGBClassifier(base_score=None, booster=None, callbacks=None,\n",
              "              colsample_bylevel=None, colsample_bynode=None,\n",
              "              colsample_bytree=None, early_stopping_rounds=None,\n",
              "              enable_categorical=False, eval_metric=None, feature_types=None,\n",
              "              gamma=None, gpu_id=None, grow_policy=None, importance_type=None,\n",
              "              interaction_constraints=None, learning_rate=None, max_bin=None,\n",
              "              max_cat_threshold=None, max_cat_to_onehot=None,\n",
              "              max_delta_step=None, max_depth=None, max_leaves=None,\n",
              "              min_child_weight=None, missing=nan, monotone_constraints=None,\n",
              "              n_estimators=100, n_jobs=None, num_parallel_tree=None,\n",
              "              objective='multi:softprob', predictor=None, ...)"
            ],
            "text/html": [
              "<style>#sk-container-id-6 {color: black;background-color: white;}#sk-container-id-6 pre{padding: 0;}#sk-container-id-6 div.sk-toggleable {background-color: white;}#sk-container-id-6 label.sk-toggleable__label {cursor: pointer;display: block;width: 100%;margin-bottom: 0;padding: 0.3em;box-sizing: border-box;text-align: center;}#sk-container-id-6 label.sk-toggleable__label-arrow:before {content: \"▸\";float: left;margin-right: 0.25em;color: #696969;}#sk-container-id-6 label.sk-toggleable__label-arrow:hover:before {color: black;}#sk-container-id-6 div.sk-estimator:hover label.sk-toggleable__label-arrow:before {color: black;}#sk-container-id-6 div.sk-toggleable__content {max-height: 0;max-width: 0;overflow: hidden;text-align: left;background-color: #f0f8ff;}#sk-container-id-6 div.sk-toggleable__content pre {margin: 0.2em;color: black;border-radius: 0.25em;background-color: #f0f8ff;}#sk-container-id-6 input.sk-toggleable__control:checked~div.sk-toggleable__content {max-height: 200px;max-width: 100%;overflow: auto;}#sk-container-id-6 input.sk-toggleable__control:checked~label.sk-toggleable__label-arrow:before {content: \"▾\";}#sk-container-id-6 div.sk-estimator input.sk-toggleable__control:checked~label.sk-toggleable__label {background-color: #d4ebff;}#sk-container-id-6 div.sk-label input.sk-toggleable__control:checked~label.sk-toggleable__label {background-color: #d4ebff;}#sk-container-id-6 input.sk-hidden--visually {border: 0;clip: rect(1px 1px 1px 1px);clip: rect(1px, 1px, 1px, 1px);height: 1px;margin: -1px;overflow: hidden;padding: 0;position: absolute;width: 1px;}#sk-container-id-6 div.sk-estimator {font-family: monospace;background-color: #f0f8ff;border: 1px dotted black;border-radius: 0.25em;box-sizing: border-box;margin-bottom: 0.5em;}#sk-container-id-6 div.sk-estimator:hover {background-color: #d4ebff;}#sk-container-id-6 div.sk-parallel-item::after {content: \"\";width: 100%;border-bottom: 1px solid gray;flex-grow: 1;}#sk-container-id-6 div.sk-label:hover label.sk-toggleable__label {background-color: #d4ebff;}#sk-container-id-6 div.sk-serial::before {content: \"\";position: absolute;border-left: 1px solid gray;box-sizing: border-box;top: 0;bottom: 0;left: 50%;z-index: 0;}#sk-container-id-6 div.sk-serial {display: flex;flex-direction: column;align-items: center;background-color: white;padding-right: 0.2em;padding-left: 0.2em;position: relative;}#sk-container-id-6 div.sk-item {position: relative;z-index: 1;}#sk-container-id-6 div.sk-parallel {display: flex;align-items: stretch;justify-content: center;background-color: white;position: relative;}#sk-container-id-6 div.sk-item::before, #sk-container-id-6 div.sk-parallel-item::before {content: \"\";position: absolute;border-left: 1px solid gray;box-sizing: border-box;top: 0;bottom: 0;left: 50%;z-index: -1;}#sk-container-id-6 div.sk-parallel-item {display: flex;flex-direction: column;z-index: 1;position: relative;background-color: white;}#sk-container-id-6 div.sk-parallel-item:first-child::after {align-self: flex-end;width: 50%;}#sk-container-id-6 div.sk-parallel-item:last-child::after {align-self: flex-start;width: 50%;}#sk-container-id-6 div.sk-parallel-item:only-child::after {width: 0;}#sk-container-id-6 div.sk-dashed-wrapped {border: 1px dashed gray;margin: 0 0.4em 0.5em 0.4em;box-sizing: border-box;padding-bottom: 0.4em;background-color: white;}#sk-container-id-6 div.sk-label label {font-family: monospace;font-weight: bold;display: inline-block;line-height: 1.2em;}#sk-container-id-6 div.sk-label-container {text-align: center;}#sk-container-id-6 div.sk-container {/* jupyter's `normalize.less` sets `[hidden] { display: none; }` but bootstrap.min.css set `[hidden] { display: none !important; }` so we also need the `!important` here to be able to override the default hidden behavior on the sphinx rendered scikit-learn.org. See: https://github.com/scikit-learn/scikit-learn/issues/21755 */display: inline-block !important;position: relative;}#sk-container-id-6 div.sk-text-repr-fallback {display: none;}</style><div id=\"sk-container-id-6\" class=\"sk-top-container\"><div class=\"sk-text-repr-fallback\"><pre>XGBClassifier(base_score=None, booster=None, callbacks=None,\n",
              "              colsample_bylevel=None, colsample_bynode=None,\n",
              "              colsample_bytree=None, early_stopping_rounds=None,\n",
              "              enable_categorical=False, eval_metric=None, feature_types=None,\n",
              "              gamma=None, gpu_id=None, grow_policy=None, importance_type=None,\n",
              "              interaction_constraints=None, learning_rate=None, max_bin=None,\n",
              "              max_cat_threshold=None, max_cat_to_onehot=None,\n",
              "              max_delta_step=None, max_depth=None, max_leaves=None,\n",
              "              min_child_weight=None, missing=nan, monotone_constraints=None,\n",
              "              n_estimators=100, n_jobs=None, num_parallel_tree=None,\n",
              "              objective=&#x27;multi:softprob&#x27;, predictor=None, ...)</pre><b>In a Jupyter environment, please rerun this cell to show the HTML representation or trust the notebook. <br />On GitHub, the HTML representation is unable to render, please try loading this page with nbviewer.org.</b></div><div class=\"sk-container\" hidden><div class=\"sk-item\"><div class=\"sk-estimator sk-toggleable\"><input class=\"sk-toggleable__control sk-hidden--visually\" id=\"sk-estimator-id-6\" type=\"checkbox\" checked><label for=\"sk-estimator-id-6\" class=\"sk-toggleable__label sk-toggleable__label-arrow\">XGBClassifier</label><div class=\"sk-toggleable__content\"><pre>XGBClassifier(base_score=None, booster=None, callbacks=None,\n",
              "              colsample_bylevel=None, colsample_bynode=None,\n",
              "              colsample_bytree=None, early_stopping_rounds=None,\n",
              "              enable_categorical=False, eval_metric=None, feature_types=None,\n",
              "              gamma=None, gpu_id=None, grow_policy=None, importance_type=None,\n",
              "              interaction_constraints=None, learning_rate=None, max_bin=None,\n",
              "              max_cat_threshold=None, max_cat_to_onehot=None,\n",
              "              max_delta_step=None, max_depth=None, max_leaves=None,\n",
              "              min_child_weight=None, missing=nan, monotone_constraints=None,\n",
              "              n_estimators=100, n_jobs=None, num_parallel_tree=None,\n",
              "              objective=&#x27;multi:softprob&#x27;, predictor=None, ...)</pre></div></div></div></div></div>"
            ]
          },
          "metadata": {},
          "execution_count": 319
        }
      ]
    },
    {
      "cell_type": "markdown",
      "metadata": {
        "id": "HnkxXq7LX-Jg"
      },
      "source": [
        "## Predicting the Test set results"
      ]
    },
    {
      "cell_type": "code",
      "source": [
        "y_pred= xgb.predict(X_test)\n",
        "print(np.concatenate((y_pred.reshape(len(y_pred),1), y_test.reshape(len(y_test),1)),1))"
      ],
      "metadata": {
        "id": "2zAnl3rbX5Sv",
        "colab": {
          "base_uri": "https://localhost:8080/"
        },
        "outputId": "0b12b7aa-9430-46d2-ca65-3de05061bcc0"
      },
      "execution_count": null,
      "outputs": [
        {
          "output_type": "stream",
          "name": "stdout",
          "text": [
            "[[3 3]\n",
            " [4 4]\n",
            " [3 2]\n",
            " ...\n",
            " [2 2]\n",
            " [4 4]\n",
            " [1 0]]\n"
          ]
        }
      ]
    },
    {
      "cell_type": "markdown",
      "metadata": {
        "id": "-89oDyoAYBH7"
      },
      "source": [
        "## Evaluating the Model's Performance"
      ]
    },
    {
      "cell_type": "code",
      "metadata": {
        "colab": {
          "base_uri": "https://localhost:8080/"
        },
        "outputId": "e1f44f13-1733-4d93-dcfe-05f4ef890ae9",
        "id": "btIyeav0YBH7"
      },
      "source": [
        "from sklearn.metrics import classification_report\n",
        "print(classification_report(y_test,y_pred))"
      ],
      "execution_count": null,
      "outputs": [
        {
          "output_type": "stream",
          "name": "stdout",
          "text": [
            "              precision    recall  f1-score   support\n",
            "\n",
            "           0       0.69      0.73      0.71       166\n",
            "           1       0.44      0.42      0.43       160\n",
            "           2       0.47      0.38      0.42       145\n",
            "           3       0.55      0.63      0.58       267\n",
            "           4       0.74      0.70      0.72       254\n",
            "\n",
            "    accuracy                           0.59       992\n",
            "   macro avg       0.58      0.57      0.57       992\n",
            "weighted avg       0.59      0.59      0.59       992\n",
            "\n"
          ]
        }
      ]
    },
    {
      "cell_type": "code",
      "source": [
        "from sklearn.metrics import accuracy_score\n",
        "accuracy_score(y_test,y_pred)"
      ],
      "metadata": {
        "colab": {
          "base_uri": "https://localhost:8080/"
        },
        "id": "FWgM8AWXCbDx",
        "outputId": "ead1787f-9af7-46f0-9072-c44addbe0823"
      },
      "execution_count": null,
      "outputs": [
        {
          "output_type": "execute_result",
          "data": {
            "text/plain": [
              "0.592741935483871"
            ]
          },
          "metadata": {},
          "execution_count": 322
        }
      ]
    },
    {
      "cell_type": "code",
      "source": [
        "# adjacent level accuracy\n",
        "from sklearn.metrics import confusion_matrix\n",
        "cm = confusion_matrix(y_test, y_pred)\n",
        "n_samples = sum(sum(cm))\n",
        "adjacent_level_accuracy = (cm.trace() + cm.trace(offset=1) + cm.trace(offset=-1)) / n_samples\n",
        "print(adjacent_level_accuracy)"
      ],
      "metadata": {
        "colab": {
          "base_uri": "https://localhost:8080/"
        },
        "id": "RuNrQ8WO5bT0",
        "outputId": "45c610d5-9487-42af-c66c-2e390466340f"
      },
      "execution_count": null,
      "outputs": [
        {
          "output_type": "stream",
          "name": "stdout",
          "text": [
            "0.8860887096774194\n"
          ]
        }
      ]
    },
    {
      "cell_type": "code",
      "source": [
        "#The average difference between the predicted level and the actual level:\n",
        "np.mean(np.abs(y_test - y_pred))"
      ],
      "metadata": {
        "colab": {
          "base_uri": "https://localhost:8080/"
        },
        "id": "9ZPPidXmA9CQ",
        "outputId": "290954d3-efc6-4a58-ae83-96c70b467da0"
      },
      "execution_count": null,
      "outputs": [
        {
          "output_type": "execute_result",
          "data": {
            "text/plain": [
              "0.5473790322580645"
            ]
          },
          "metadata": {},
          "execution_count": 324
        }
      ]
    },
    {
      "cell_type": "code",
      "source": [
        "pd.crosstab(y_test, y_pred)"
      ],
      "metadata": {
        "colab": {
          "base_uri": "https://localhost:8080/",
          "height": 237
        },
        "outputId": "f5332c01-c124-441f-c28b-d7e0302e3cae",
        "id": "GPH0Lg0TYBH8"
      },
      "execution_count": null,
      "outputs": [
        {
          "output_type": "execute_result",
          "data": {
            "text/plain": [
              "col_0    0   1   2    3    4\n",
              "row_0                       \n",
              "0      121  30   6    7    2\n",
              "1       37  67  21   30    5\n",
              "2       12  31  55   36   11\n",
              "3        5  23  28  167   44\n",
              "4        1   3   8   64  178"
            ],
            "text/html": [
              "\n",
              "  <div id=\"df-0500bd5e-0e3c-4ecf-b2a5-3f3061a37acb\">\n",
              "    <div class=\"colab-df-container\">\n",
              "      <div>\n",
              "<style scoped>\n",
              "    .dataframe tbody tr th:only-of-type {\n",
              "        vertical-align: middle;\n",
              "    }\n",
              "\n",
              "    .dataframe tbody tr th {\n",
              "        vertical-align: top;\n",
              "    }\n",
              "\n",
              "    .dataframe thead th {\n",
              "        text-align: right;\n",
              "    }\n",
              "</style>\n",
              "<table border=\"1\" class=\"dataframe\">\n",
              "  <thead>\n",
              "    <tr style=\"text-align: right;\">\n",
              "      <th>col_0</th>\n",
              "      <th>0</th>\n",
              "      <th>1</th>\n",
              "      <th>2</th>\n",
              "      <th>3</th>\n",
              "      <th>4</th>\n",
              "    </tr>\n",
              "    <tr>\n",
              "      <th>row_0</th>\n",
              "      <th></th>\n",
              "      <th></th>\n",
              "      <th></th>\n",
              "      <th></th>\n",
              "      <th></th>\n",
              "    </tr>\n",
              "  </thead>\n",
              "  <tbody>\n",
              "    <tr>\n",
              "      <th>0</th>\n",
              "      <td>121</td>\n",
              "      <td>30</td>\n",
              "      <td>6</td>\n",
              "      <td>7</td>\n",
              "      <td>2</td>\n",
              "    </tr>\n",
              "    <tr>\n",
              "      <th>1</th>\n",
              "      <td>37</td>\n",
              "      <td>67</td>\n",
              "      <td>21</td>\n",
              "      <td>30</td>\n",
              "      <td>5</td>\n",
              "    </tr>\n",
              "    <tr>\n",
              "      <th>2</th>\n",
              "      <td>12</td>\n",
              "      <td>31</td>\n",
              "      <td>55</td>\n",
              "      <td>36</td>\n",
              "      <td>11</td>\n",
              "    </tr>\n",
              "    <tr>\n",
              "      <th>3</th>\n",
              "      <td>5</td>\n",
              "      <td>23</td>\n",
              "      <td>28</td>\n",
              "      <td>167</td>\n",
              "      <td>44</td>\n",
              "    </tr>\n",
              "    <tr>\n",
              "      <th>4</th>\n",
              "      <td>1</td>\n",
              "      <td>3</td>\n",
              "      <td>8</td>\n",
              "      <td>64</td>\n",
              "      <td>178</td>\n",
              "    </tr>\n",
              "  </tbody>\n",
              "</table>\n",
              "</div>\n",
              "      <button class=\"colab-df-convert\" onclick=\"convertToInteractive('df-0500bd5e-0e3c-4ecf-b2a5-3f3061a37acb')\"\n",
              "              title=\"Convert this dataframe to an interactive table.\"\n",
              "              style=\"display:none;\">\n",
              "        \n",
              "  <svg xmlns=\"http://www.w3.org/2000/svg\" height=\"24px\"viewBox=\"0 0 24 24\"\n",
              "       width=\"24px\">\n",
              "    <path d=\"M0 0h24v24H0V0z\" fill=\"none\"/>\n",
              "    <path d=\"M18.56 5.44l.94 2.06.94-2.06 2.06-.94-2.06-.94-.94-2.06-.94 2.06-2.06.94zm-11 1L8.5 8.5l.94-2.06 2.06-.94-2.06-.94L8.5 2.5l-.94 2.06-2.06.94zm10 10l.94 2.06.94-2.06 2.06-.94-2.06-.94-.94-2.06-.94 2.06-2.06.94z\"/><path d=\"M17.41 7.96l-1.37-1.37c-.4-.4-.92-.59-1.43-.59-.52 0-1.04.2-1.43.59L10.3 9.45l-7.72 7.72c-.78.78-.78 2.05 0 2.83L4 21.41c.39.39.9.59 1.41.59.51 0 1.02-.2 1.41-.59l7.78-7.78 2.81-2.81c.8-.78.8-2.07 0-2.86zM5.41 20L4 18.59l7.72-7.72 1.47 1.35L5.41 20z\"/>\n",
              "  </svg>\n",
              "      </button>\n",
              "      \n",
              "  <style>\n",
              "    .colab-df-container {\n",
              "      display:flex;\n",
              "      flex-wrap:wrap;\n",
              "      gap: 12px;\n",
              "    }\n",
              "\n",
              "    .colab-df-convert {\n",
              "      background-color: #E8F0FE;\n",
              "      border: none;\n",
              "      border-radius: 50%;\n",
              "      cursor: pointer;\n",
              "      display: none;\n",
              "      fill: #1967D2;\n",
              "      height: 32px;\n",
              "      padding: 0 0 0 0;\n",
              "      width: 32px;\n",
              "    }\n",
              "\n",
              "    .colab-df-convert:hover {\n",
              "      background-color: #E2EBFA;\n",
              "      box-shadow: 0px 1px 2px rgba(60, 64, 67, 0.3), 0px 1px 3px 1px rgba(60, 64, 67, 0.15);\n",
              "      fill: #174EA6;\n",
              "    }\n",
              "\n",
              "    [theme=dark] .colab-df-convert {\n",
              "      background-color: #3B4455;\n",
              "      fill: #D2E3FC;\n",
              "    }\n",
              "\n",
              "    [theme=dark] .colab-df-convert:hover {\n",
              "      background-color: #434B5C;\n",
              "      box-shadow: 0px 1px 3px 1px rgba(0, 0, 0, 0.15);\n",
              "      filter: drop-shadow(0px 1px 2px rgba(0, 0, 0, 0.3));\n",
              "      fill: #FFFFFF;\n",
              "    }\n",
              "  </style>\n",
              "\n",
              "      <script>\n",
              "        const buttonEl =\n",
              "          document.querySelector('#df-0500bd5e-0e3c-4ecf-b2a5-3f3061a37acb button.colab-df-convert');\n",
              "        buttonEl.style.display =\n",
              "          google.colab.kernel.accessAllowed ? 'block' : 'none';\n",
              "\n",
              "        async function convertToInteractive(key) {\n",
              "          const element = document.querySelector('#df-0500bd5e-0e3c-4ecf-b2a5-3f3061a37acb');\n",
              "          const dataTable =\n",
              "            await google.colab.kernel.invokeFunction('convertToInteractive',\n",
              "                                                     [key], {});\n",
              "          if (!dataTable) return;\n",
              "\n",
              "          const docLinkHtml = 'Like what you see? Visit the ' +\n",
              "            '<a target=\"_blank\" href=https://colab.research.google.com/notebooks/data_table.ipynb>data table notebook</a>'\n",
              "            + ' to learn more about interactive tables.';\n",
              "          element.innerHTML = '';\n",
              "          dataTable['output_type'] = 'display_data';\n",
              "          await google.colab.output.renderOutput(dataTable, element);\n",
              "          const docLink = document.createElement('div');\n",
              "          docLink.innerHTML = docLinkHtml;\n",
              "          element.appendChild(docLink);\n",
              "        }\n",
              "      </script>\n",
              "    </div>\n",
              "  </div>\n",
              "  "
            ]
          },
          "metadata": {},
          "execution_count": 325
        }
      ]
    },
    {
      "cell_type": "markdown",
      "source": [
        "# Classifying 14,000 new words"
      ],
      "metadata": {
        "id": "ev-WVIrgy2GI"
      }
    },
    {
      "cell_type": "code",
      "source": [
        "def classify_word(word):\n",
        "  word = np.array(word)\n",
        "  word[:, 9:] = sc.transform(word[:, 9:]) # Feature scaling (exclusing the encoded features)\n",
        "  pred = str(xgb.predict(word))\n",
        "  if pred == '[0]':\n",
        "    level = 'A1'\n",
        "  elif pred == '[1]':\n",
        "    level = 'A2'\n",
        "  elif pred == '[2]':\n",
        "    level = 'B1'\n",
        "  elif pred == '[3]':\n",
        "    level = 'B2'\n",
        "  elif pred == '[4]':\n",
        "    level = 'C1'\n",
        "  return level"
      ],
      "metadata": {
        "id": "XU_zpUpozEuz"
      },
      "execution_count": null,
      "outputs": []
    },
    {
      "cell_type": "code",
      "metadata": {
        "id": "WD54HAJfza9L"
      },
      "source": [
        "df = pd.read_csv('unclassified_words.csv')"
      ],
      "execution_count": null,
      "outputs": []
    },
    {
      "cell_type": "code",
      "source": [
        "X = df.iloc[:, 2:].values # the first two columns are the word and the definition"
      ],
      "metadata": {
        "id": "lGIBPfqGzfJH"
      },
      "execution_count": null,
      "outputs": []
    },
    {
      "cell_type": "markdown",
      "source": [
        "The predicted levels for new words can be found in the file \"predicted_levels.txt\" under Files after running the code below."
      ],
      "metadata": {
        "id": "uSBxYKrzWDJO"
      }
    },
    {
      "cell_type": "code",
      "source": [
        "file1 = open(\"predicted_levels.txt\",\"w\") # create a new file to store the predicted levels\n",
        "for row in X:\n",
        "  level = classify_word([row.tolist()])\n",
        "  file1.write(level + \"\\n\")\n",
        "file1.close()"
      ],
      "metadata": {
        "id": "8Nq-sQlX1ZtC"
      },
      "execution_count": null,
      "outputs": []
    },
    {
      "cell_type": "markdown",
      "source": [
        "Example words:"
      ],
      "metadata": {
        "id": "M2rf55VFVAXq"
      }
    },
    {
      "cell_type": "code",
      "source": [
        "# pizza (noun) = A1\n",
        "word1 = [[0, 0, 0, 0, 1, 0, 0, 0, 0, 1,\t1,\t1,\t1,\t0,\t14763787,\t1703,\t33.39215686,\t1605,\t42.0908,\t1172,\t0.1303,\t3791,\t122.3764,\t3455,\t1527,\t43.3605,\t1206,\t0.1194,\t5,\t941.7395833,\t565.35915,\t1954,\t9540,\t-7586,\t5,\t9,\t2,\t1,\t0,\t0,\t0,\t0,\t0,\t1]]\n",
        "print('pizza: ' + classify_word(word1))"
      ],
      "metadata": {
        "colab": {
          "base_uri": "https://localhost:8080/"
        },
        "outputId": "08e08081-8d50-49e1-caff-92a1a9192b45",
        "id": "ocQK3P4szEuz"
      },
      "execution_count": null,
      "outputs": [
        {
          "output_type": "stream",
          "name": "stdout",
          "text": [
            "pizza: A1\n"
          ]
        }
      ]
    },
    {
      "cell_type": "code",
      "source": [
        "# adopted (adjective) = B2\n",
        "word2 = [[1, 0, 0, 0, 0, 0, 0, 0, 0, 2,\t1,\t0,\t0,\t1,\t22972983,\t69,\t1.352941176,\t853,\t22.3698,\t795,\t0.0884,\t233,\t7.5214,\t232,\t1070,\t30.3836,\t1056,\t0.1045,\t2.39,\t941.8314176,\t467.5664354,\t1780,\t702,\t1078,\t7,\t10,\t3,\t1,\t0, 0,\t0,\t0,\t0,\t4]]\t\n",
        "print('adopted: ' + classify_word(word2))"
      ],
      "metadata": {
        "colab": {
          "base_uri": "https://localhost:8080/"
        },
        "outputId": "a10a06ad-4d63-4b51-8d23-3b746ef2ac2f",
        "id": "-nqIG_GszEuz"
      },
      "execution_count": null,
      "outputs": [
        {
          "output_type": "stream",
          "name": "stdout",
          "text": [
            "adopted: B2\n"
          ]
        }
      ]
    },
    {
      "cell_type": "code",
      "source": [
        "# abnormal (adjective) = C1\n",
        "word3 = [[1, 0, 0, 0, 0, 0, 0, 0, 0, 3,\t1,\t0,\t0,\t2,\t3963331,\t147,\t2.882352941,\t138,\t3.619,\t132,\t0.0147,\t26,\t0.8393,\t26,\t87,\t2.4704,\t84,\t0.0083,\t2.14,\t1044.260504,\t577.143723,\t9294,\t1938,\t7356,\t8,\t12,\t3,\t3,\t1,\t2,\t2,\t24,\t1431,\t14]]\n",
        "print('abnormal: ' + classify_word(word3))"
      ],
      "metadata": {
        "colab": {
          "base_uri": "https://localhost:8080/"
        },
        "outputId": "e770a422-ce7f-408a-f797-a2e7329cb977",
        "id": "bahrk5hKzEuz"
      },
      "execution_count": null,
      "outputs": [
        {
          "output_type": "stream",
          "name": "stdout",
          "text": [
            "abnormal: C1\n"
          ]
        }
      ]
    },
    {
      "cell_type": "markdown",
      "metadata": {
        "id": "U-eGh0nuyabx"
      },
      "source": [
        "# Applying k-Fold Cross Validation"
      ]
    },
    {
      "cell_type": "code",
      "metadata": {
        "id": "N5puHSW9ydyi",
        "outputId": "2e0c1de0-e1ba-4f80-ed94-62ded1d763a0",
        "colab": {
          "base_uri": "https://localhost:8080/"
        }
      },
      "source": [
        "from sklearn.model_selection import cross_val_score\n",
        "accuracies = cross_val_score(estimator = xgb, X = X_train, y = y_train, cv = 10)\n",
        "print(\"Accuracy: {:.2f} %\".format(accuracies.mean()*100))\n",
        "print(\"Standard Deviation: {:.2f} %\".format(accuracies.std()*100))"
      ],
      "execution_count": null,
      "outputs": [
        {
          "output_type": "stream",
          "name": "stdout",
          "text": [
            "Accuracy: 54.48 %\n",
            "Standard Deviation: 1.84 %\n"
          ]
        }
      ]
    }
  ]
}