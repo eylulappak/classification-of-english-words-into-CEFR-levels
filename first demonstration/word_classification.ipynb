{
  "nbformat": 4,
  "nbformat_minor": 0,
  "metadata": {
    "colab": {
      "provenance": [],
      "collapsed_sections": [
        "4B9lNsMuO4vv",
        "2mlrOyhnQgKc",
        "OmSZ8OcckVv8",
        "GwOdO3-3ev8D",
        "MgCk41DnRd0I",
        "MgE8rt2LRd0I"
      ],
      "toc_visible": true
    },
    "kernelspec": {
      "name": "python3",
      "display_name": "Python 3"
    },
    "language_info": {
      "name": "python"
    },
    "gpuClass": "standard"
  },
  "cells": [
    {
      "cell_type": "markdown",
      "metadata": {
        "id": "WOw8yMd1VlnD"
      },
      "source": [
        "# Data Preprocessing"
      ]
    },
    {
      "cell_type": "markdown",
      "metadata": {
        "id": "NvUGC8QQV6bV"
      },
      "source": [
        "## Importing the libraries"
      ]
    },
    {
      "cell_type": "code",
      "metadata": {
        "id": "wfFEXZC0WS-V"
      },
      "source": [
        "%matplotlib inline\n",
        "import numpy as np\n",
        "import pandas as pd\n",
        "import matplotlib.pyplot as plt\n",
        "import seaborn as sns\n",
        "import sklearn"
      ],
      "execution_count": 1,
      "outputs": []
    },
    {
      "cell_type": "markdown",
      "metadata": {
        "id": "fhYaZ-ENV_c5"
      },
      "source": [
        "## Importing the dataset"
      ]
    },
    {
      "cell_type": "code",
      "metadata": {
        "id": "aqHTg9bxWT_u"
      },
      "source": [
        "training_set = pd.read_csv('train.csv')\n",
        "test_set = pd.read_csv('test.csv')\n",
        "X_train = training_set.iloc[:, 1:-1].values #we omit the first column which includes words\n",
        "X_test = test_set.iloc[:, 1:-1].values\n",
        "y_train = training_set.iloc[:, -1].values\n",
        "y_test = test_set.iloc[:, -1].values"
      ],
      "execution_count": 2,
      "outputs": []
    },
    {
      "cell_type": "code",
      "execution_count": 3,
      "metadata": {
        "colab": {
          "base_uri": "https://localhost:8080/"
        },
        "outputId": "2baa61e3-6df8-49aa-9e9e-8914bbfc1ca4",
        "id": "W8Rq1Q_yjwUG"
      },
      "outputs": [
        {
          "output_type": "stream",
          "name": "stdout",
          "text": [
            "[[1.000e+00       nan       nan ... 0.000e+00 0.000e+00 3.000e+00]\n",
            " [5.000e+00 9.000e+00 2.000e+00 ... 0.000e+00 0.000e+00 1.000e+01]\n",
            " [5.000e+00 7.000e+00 2.000e+00 ... 0.000e+00 0.000e+00 3.000e+00]\n",
            " ...\n",
            " [7.000e+00 1.000e+01 3.000e+00 ... 0.000e+00 0.000e+00 6.000e+00]\n",
            " [9.000e+00 1.100e+01       nan ... 0.000e+00 2.898e+03 3.000e+00]\n",
            " [7.000e+00       nan       nan ... 0.000e+00 0.000e+00 3.000e+00]]\n"
          ]
        }
      ],
      "source": [
        "print(X_train)"
      ]
    },
    {
      "cell_type": "code",
      "execution_count": 4,
      "metadata": {
        "colab": {
          "base_uri": "https://localhost:8080/"
        },
        "outputId": "50b431a8-af54-47e7-cb5a-b269a872b3c4",
        "id": "ELm3zvlTjwUH"
      },
      "outputs": [
        {
          "output_type": "stream",
          "name": "stdout",
          "text": [
            "[[ 5.  8.  1. ...  0.  0.  9.]\n",
            " [ 7. 10.  2. ...  0.  0.  8.]\n",
            " [ 5.  7.  1. ...  0.  0.  7.]\n",
            " ...\n",
            " [ 4.  6.  1. ...  0.  0.  2.]\n",
            " [ 5.  8.  1. ...  0.  0.  3.]\n",
            " [ 9.  9.  2. ...  0. 14.  5.]]\n"
          ]
        }
      ],
      "source": [
        "print(X_test)"
      ]
    },
    {
      "cell_type": "code",
      "execution_count": 5,
      "metadata": {
        "colab": {
          "base_uri": "https://localhost:8080/"
        },
        "outputId": "8ce89af0-df75-42d7-dc25-a9645272c367",
        "id": "dqljV2XHjwUH"
      },
      "outputs": [
        {
          "output_type": "stream",
          "name": "stdout",
          "text": [
            "['a1' 'a1' 'a1' ... 'c1' 'c1' 'c1']\n"
          ]
        }
      ],
      "source": [
        "print(y_train)"
      ]
    },
    {
      "cell_type": "code",
      "execution_count": 6,
      "metadata": {
        "colab": {
          "base_uri": "https://localhost:8080/"
        },
        "outputId": "907ea107-6040-4b55-e44f-dd724e1cc475",
        "id": "7oyu7wESjwUH"
      },
      "outputs": [
        {
          "output_type": "stream",
          "name": "stdout",
          "text": [
            "['a1' 'a1' 'a1' 'a1' 'a1' 'a1' 'a1' 'a1' 'a1' 'a1' 'a1' 'a1' 'a1' 'a1'\n",
            " 'a1' 'a1' 'a1' 'a1' 'a1' 'a1' 'a1' 'a1' 'a1' 'a1' 'a1' 'a1' 'a1' 'a1'\n",
            " 'a1' 'a1' 'a1' 'a1' 'a1' 'a1' 'a1' 'a1' 'a1' 'a1' 'a1' 'a1' 'a1' 'a1'\n",
            " 'a1' 'a1' 'a1' 'a1' 'a1' 'a1' 'a1' 'a1' 'a1' 'a1' 'a1' 'a1' 'a1' 'a1'\n",
            " 'a1' 'a1' 'a1' 'a1' 'a1' 'a1' 'a1' 'a1' 'a1' 'a1' 'a1' 'a1' 'a1' 'a1'\n",
            " 'a1' 'a1' 'a1' 'a1' 'a1' 'a1' 'a1' 'a1' 'a1' 'a1' 'a1' 'a1' 'a1' 'a1'\n",
            " 'a1' 'a1' 'a1' 'a1' 'a1' 'a1' 'a1' 'a1' 'a1' 'a1' 'a1' 'a1' 'a1' 'a1'\n",
            " 'a1' 'a1' 'a1' 'a1' 'a1' 'a1' 'a1' 'a1' 'a1' 'a1' 'a1' 'a1' 'a1' 'a1'\n",
            " 'a1' 'a1' 'a1' 'a1' 'a1' 'a1' 'a1' 'a1' 'a1' 'a1' 'a1' 'a1' 'a1' 'a1'\n",
            " 'a1' 'a1' 'a1' 'a1' 'a1' 'a1' 'a1' 'a1' 'a1' 'a1' 'a1' 'a1' 'a1' 'a1'\n",
            " 'a1' 'a1' 'a1' 'a1' 'a1' 'a1' 'a1' 'a1' 'a1' 'a1' 'a1' 'a1' 'a1' 'a1'\n",
            " 'a1' 'a1' 'a1' 'a1' 'a1' 'a1' 'a1' 'a1' 'a1' 'a1' 'a1' 'a1' 'a1' 'a1'\n",
            " 'a1' 'a1' 'a1' 'a1' 'a1' 'a1' 'a1' 'a1' 'a1' 'a2' 'a2' 'a2' 'a2' 'a2'\n",
            " 'a2' 'a2' 'a2' 'a2' 'a2' 'a2' 'a2' 'a2' 'a2' 'a2' 'a2' 'a2' 'a2' 'a2'\n",
            " 'a2' 'a2' 'a2' 'a2' 'a2' 'a2' 'a2' 'a2' 'a2' 'a2' 'a2' 'a2' 'a2' 'a2'\n",
            " 'a2' 'a2' 'a2' 'a2' 'a2' 'a2' 'a2' 'a2' 'a2' 'a2' 'a2' 'a2' 'a2' 'a2'\n",
            " 'a2' 'a2' 'a2' 'a2' 'a2' 'a2' 'a2' 'a2' 'a2' 'a2' 'a2' 'a2' 'a2' 'a2'\n",
            " 'a2' 'a2' 'a2' 'a2' 'a2' 'a2' 'a2' 'a2' 'a2' 'a2' 'a2' 'a2' 'a2' 'a2'\n",
            " 'a2' 'a2' 'a2' 'a2' 'a2' 'a2' 'a2' 'a2' 'a2' 'a2' 'a2' 'a2' 'a2' 'a2'\n",
            " 'a2' 'a2' 'a2' 'a2' 'a2' 'a2' 'a2' 'a2' 'a2' 'a2' 'a2' 'a2' 'a2' 'a2'\n",
            " 'a2' 'a2' 'a2' 'a2' 'a2' 'a2' 'a2' 'a2' 'a2' 'a2' 'a2' 'a2' 'a2' 'a2'\n",
            " 'a2' 'a2' 'a2' 'a2' 'a2' 'a2' 'a2' 'a2' 'a2' 'a2' 'a2' 'a2' 'a2' 'a2'\n",
            " 'a2' 'a2' 'a2' 'a2' 'a2' 'a2' 'a2' 'a2' 'a2' 'a2' 'a2' 'a2' 'a2' 'a2'\n",
            " 'a2' 'a2' 'a2' 'a2' 'a2' 'a2' 'a2' 'a2' 'a2' 'a2' 'a2' 'a2' 'b1' 'b1'\n",
            " 'b1' 'b1' 'b1' 'b1' 'b1' 'b1' 'b1' 'b1' 'b1' 'b1' 'b1' 'b1' 'b1' 'b1'\n",
            " 'b1' 'b1' 'b1' 'b1' 'b1' 'b1' 'b1' 'b1' 'b1' 'b1' 'b1' 'b1' 'b1' 'b1'\n",
            " 'b1' 'b1' 'b1' 'b1' 'b1' 'b1' 'b1' 'b1' 'b1' 'b1' 'b1' 'b1' 'b1' 'b1'\n",
            " 'b1' 'b1' 'b1' 'b1' 'b1' 'b1' 'b1' 'b1' 'b1' 'b1' 'b1' 'b1' 'b1' 'b1'\n",
            " 'b1' 'b1' 'b1' 'b1' 'b1' 'b1' 'b1' 'b1' 'b1' 'b1' 'b1' 'b1' 'b1' 'b1'\n",
            " 'b1' 'b1' 'b1' 'b1' 'b1' 'b1' 'b1' 'b1' 'b1' 'b1' 'b1' 'b1' 'b1' 'b1'\n",
            " 'b1' 'b1' 'b1' 'b1' 'b1' 'b1' 'b1' 'b1' 'b1' 'b1' 'b1' 'b1' 'b1' 'b1'\n",
            " 'b1' 'b1' 'b1' 'b1' 'b1' 'b1' 'b1' 'b1' 'b1' 'b1' 'b1' 'b1' 'b1' 'b1'\n",
            " 'b1' 'b1' 'b1' 'b1' 'b1' 'b1' 'b1' 'b1' 'b1' 'b1' 'b1' 'b1' 'b1' 'b1'\n",
            " 'b1' 'b1' 'b1' 'b1' 'b1' 'b1' 'b1' 'b1' 'b1' 'b1' 'b2' 'b2' 'b2' 'b2'\n",
            " 'b2' 'b2' 'b2' 'b2' 'b2' 'b2' 'b2' 'b2' 'b2' 'b2' 'b2' 'b2' 'b2' 'b2'\n",
            " 'b2' 'b2' 'b2' 'b2' 'b2' 'b2' 'b2' 'b2' 'b2' 'b2' 'b2' 'b2' 'b2' 'b2'\n",
            " 'b2' 'b2' 'b2' 'b2' 'b2' 'b2' 'b2' 'b2' 'b2' 'b2' 'b2' 'b2' 'b2' 'b2'\n",
            " 'b2' 'b2' 'b2' 'b2' 'b2' 'b2' 'b2' 'b2' 'b2' 'b2' 'b2' 'b2' 'b2' 'b2'\n",
            " 'b2' 'b2' 'b2' 'b2' 'b2' 'b2' 'b2' 'b2' 'b2' 'b2' 'b2' 'b2' 'b2' 'b2'\n",
            " 'b2' 'b2' 'b2' 'b2' 'b2' 'b2' 'b2' 'b2' 'b2' 'b2' 'b2' 'b2' 'b2' 'b2'\n",
            " 'b2' 'b2' 'b2' 'b2' 'b2' 'b2' 'b2' 'b2' 'b2' 'b2' 'b2' 'b2' 'b2' 'b2'\n",
            " 'b2' 'b2' 'b2' 'b2' 'b2' 'b2' 'b2' 'b2' 'b2' 'b2' 'b2' 'b2' 'b2' 'b2'\n",
            " 'b2' 'b2' 'b2' 'b2' 'b2' 'b2' 'b2' 'b2' 'b2' 'b2' 'b2' 'b2' 'b2' 'b2'\n",
            " 'b2' 'b2' 'b2' 'b2' 'b2' 'b2' 'b2' 'b2' 'b2' 'b2' 'b2' 'b2' 'b2' 'b2'\n",
            " 'b2' 'b2' 'b2' 'b2' 'b2' 'b2' 'b2' 'b2' 'b2' 'b2' 'b2' 'b2' 'b2' 'b2'\n",
            " 'b2' 'b2' 'b2' 'b2' 'b2' 'b2' 'b2' 'b2' 'b2' 'b2' 'b2' 'b2' 'b2' 'b2'\n",
            " 'b2' 'b2' 'b2' 'b2' 'b2' 'b2' 'b2' 'b2' 'b2' 'b2' 'b2' 'b2' 'b2' 'b2'\n",
            " 'b2' 'b2' 'b2' 'b2' 'b2' 'b2' 'b2' 'b2' 'b2' 'b2' 'b2' 'b2' 'b2' 'b2'\n",
            " 'b2' 'b2' 'b2' 'b2' 'b2' 'b2' 'b2' 'b2' 'b2' 'b2' 'b2' 'b2' 'b2' 'b2'\n",
            " 'b2' 'b2' 'b2' 'b2' 'b2' 'b2' 'b2' 'b2' 'b2' 'b2' 'b2' 'b2' 'b2' 'b2'\n",
            " 'b2' 'b2' 'b2' 'b2' 'b2' 'b2' 'b2' 'b2' 'b2' 'b2' 'b2' 'b2' 'b2' 'b2'\n",
            " 'b2' 'b2' 'b2' 'b2' 'b2' 'b2' 'b2' 'b2' 'b2' 'b2' 'b2' 'b2' 'b2' 'b2'\n",
            " 'c1' 'c1' 'c1' 'c1' 'c1' 'c1' 'c1' 'c1' 'c1' 'c1' 'c1' 'c1' 'c1' 'c1'\n",
            " 'c1' 'c1' 'c1' 'c1' 'c1' 'c1' 'c1' 'c1' 'c1' 'c1' 'c1' 'c1' 'c1' 'c1'\n",
            " 'c1' 'c1' 'c1' 'c1' 'c1' 'c1' 'c1' 'c1' 'c1' 'c1' 'c1' 'c1' 'c1' 'c1'\n",
            " 'c1' 'c1' 'c1' 'c1' 'c1' 'c1' 'c1' 'c1' 'c1' 'c1' 'c1' 'c1' 'c1' 'c1'\n",
            " 'c1' 'c1' 'c1' 'c1' 'c1' 'c1' 'c1' 'c1' 'c1' 'c1' 'c1' 'c1' 'c1' 'c1'\n",
            " 'c1' 'c1' 'c1' 'c1' 'c1' 'c1' 'c1' 'c1' 'c1' 'c1' 'c1' 'c1' 'c1' 'c1'\n",
            " 'c1' 'c1' 'c1' 'c1' 'c1' 'c1' 'c1' 'c1' 'c1' 'c1' 'c1' 'c1' 'c1' 'c1'\n",
            " 'c1' 'c1' 'c1' 'c1' 'c1' 'c1' 'c1' 'c1' 'c1' 'c1' 'c1' 'c1' 'c1' 'c1'\n",
            " 'c1' 'c1' 'c1' 'c1' 'c1' 'c1' 'c1' 'c1' 'c1' 'c1' 'c1' 'c1' 'c1' 'c1'\n",
            " 'c1' 'c1' 'c1' 'c1' 'c1' 'c1' 'c1' 'c1' 'c1' 'c1' 'c1' 'c1' 'c1' 'c1'\n",
            " 'c1' 'c1' 'c1' 'c1' 'c1' 'c1' 'c1' 'c1' 'c1' 'c1' 'c1' 'c1' 'c1' 'c1'\n",
            " 'c1' 'c1' 'c1' 'c1' 'c1' 'c1' 'c1' 'c1' 'c1' 'c1' 'c1' 'c1' 'c1' 'c1'\n",
            " 'c1' 'c1' 'c1' 'c1' 'c1' 'c1' 'c1' 'c1' 'c1' 'c1' 'c1' 'c1' 'c1' 'c1'\n",
            " 'c1' 'c1' 'c1' 'c1' 'c1' 'c1' 'c1' 'c1' 'c1' 'c1' 'c1' 'c1' 'c1' 'c1'\n",
            " 'c1' 'c1' 'c1' 'c1' 'c1' 'c1' 'c1' 'c1' 'c1' 'c1' 'c1' 'c1' 'c1' 'c1'\n",
            " 'c1' 'c1' 'c1' 'c1' 'c1' 'c1' 'c1' 'c1' 'c1' 'c1' 'c1' 'c1' 'c1' 'c1'\n",
            " 'c1' 'c1' 'c1' 'c1' 'c1' 'c1' 'c1' 'c1' 'c1' 'c1' 'c1' 'c1' 'c1' 'c1'\n",
            " 'c1' 'c1' 'c1' 'c1' 'c1' 'c1' 'c1' 'c1' 'c1' 'c1' 'c1' 'c1' 'c1']\n"
          ]
        }
      ],
      "source": [
        "print(y_test)"
      ]
    },
    {
      "cell_type": "markdown",
      "metadata": {
        "id": "nhfKXNxlSabC"
      },
      "source": [
        "## Taking care of missing data"
      ]
    },
    {
      "cell_type": "code",
      "execution_count": 7,
      "metadata": {
        "id": "c93k7ipkSexq"
      },
      "outputs": [],
      "source": [
        "from sklearn.impute import SimpleImputer\n",
        "imputer = SimpleImputer(missing_values=np.nan, strategy='mean')\n",
        "imputer.fit(X_train[:, 1:3])\n",
        "X_train[:, 1:3] = imputer.transform(X_train[:, 1:3])\n",
        "imputer.fit(X_test[:, 1:3])\n",
        "X_test[:, 1:3] = imputer.transform(X_test[:, 1:3])"
      ]
    },
    {
      "cell_type": "code",
      "execution_count": 8,
      "metadata": {
        "colab": {
          "base_uri": "https://localhost:8080/"
        },
        "id": "3UgLdMS_bjq_",
        "outputId": "85d533e5-c06c-4d83-e33e-3ad1c6d25ed7"
      },
      "outputs": [
        {
          "output_type": "stream",
          "name": "stdout",
          "text": [
            "[[1.00000000e+00 1.03173913e+01 2.24306974e+00 ... 0.00000000e+00\n",
            "  0.00000000e+00 3.00000000e+00]\n",
            " [5.00000000e+00 9.00000000e+00 2.00000000e+00 ... 0.00000000e+00\n",
            "  0.00000000e+00 1.00000000e+01]\n",
            " [5.00000000e+00 7.00000000e+00 2.00000000e+00 ... 0.00000000e+00\n",
            "  0.00000000e+00 3.00000000e+00]\n",
            " ...\n",
            " [7.00000000e+00 1.00000000e+01 3.00000000e+00 ... 0.00000000e+00\n",
            "  0.00000000e+00 6.00000000e+00]\n",
            " [9.00000000e+00 1.10000000e+01 2.24306974e+00 ... 0.00000000e+00\n",
            "  2.89800000e+03 3.00000000e+00]\n",
            " [7.00000000e+00 1.03173913e+01 2.24306974e+00 ... 0.00000000e+00\n",
            "  0.00000000e+00 3.00000000e+00]]\n"
          ]
        }
      ],
      "source": [
        "print(X_train)"
      ]
    },
    {
      "cell_type": "code",
      "source": [
        "print(X_test)"
      ],
      "metadata": {
        "colab": {
          "base_uri": "https://localhost:8080/"
        },
        "id": "qeLMyYxYlC34",
        "outputId": "d105d538-560c-400b-ef84-30891fd0d2f5"
      },
      "execution_count": 9,
      "outputs": [
        {
          "output_type": "stream",
          "name": "stdout",
          "text": [
            "[[ 5.  8.  1. ...  0.  0.  9.]\n",
            " [ 7. 10.  2. ...  0.  0.  8.]\n",
            " [ 5.  7.  1. ...  0.  0.  7.]\n",
            " ...\n",
            " [ 4.  6.  1. ...  0.  0.  2.]\n",
            " [ 5.  8.  1. ...  0.  0.  3.]\n",
            " [ 9.  9.  2. ...  0. 14.  5.]]\n"
          ]
        }
      ]
    },
    {
      "cell_type": "markdown",
      "source": [
        "## Encoding the labels"
      ],
      "metadata": {
        "id": "vPoM1lrlq93v"
      }
    },
    {
      "cell_type": "code",
      "source": [
        "from sklearn.preprocessing import LabelEncoder\n",
        "le = LabelEncoder()\n",
        "y_train = le.fit_transform(y_train)\n",
        "y_test = le.fit_transform(y_test)"
      ],
      "metadata": {
        "id": "tCyD2x5DrBtI"
      },
      "execution_count": 10,
      "outputs": []
    },
    {
      "cell_type": "code",
      "source": [
        "print(y_train)"
      ],
      "metadata": {
        "colab": {
          "base_uri": "https://localhost:8080/"
        },
        "id": "kEXiJCN-rYdA",
        "outputId": "9c812fa8-c07b-43a7-9a1e-28e8e60468a5"
      },
      "execution_count": 11,
      "outputs": [
        {
          "output_type": "stream",
          "name": "stdout",
          "text": [
            "[0 0 0 ... 4 4 4]\n"
          ]
        }
      ]
    },
    {
      "cell_type": "code",
      "source": [
        "print(y_test)"
      ],
      "metadata": {
        "colab": {
          "base_uri": "https://localhost:8080/"
        },
        "id": "cqDk2e7Mradi",
        "outputId": "ade781f8-086a-4fe8-cd5d-a6f1c3c2e2ae"
      },
      "execution_count": 12,
      "outputs": [
        {
          "output_type": "stream",
          "name": "stdout",
          "text": [
            "[0 0 0 0 0 0 0 0 0 0 0 0 0 0 0 0 0 0 0 0 0 0 0 0 0 0 0 0 0 0 0 0 0 0 0 0 0\n",
            " 0 0 0 0 0 0 0 0 0 0 0 0 0 0 0 0 0 0 0 0 0 0 0 0 0 0 0 0 0 0 0 0 0 0 0 0 0\n",
            " 0 0 0 0 0 0 0 0 0 0 0 0 0 0 0 0 0 0 0 0 0 0 0 0 0 0 0 0 0 0 0 0 0 0 0 0 0\n",
            " 0 0 0 0 0 0 0 0 0 0 0 0 0 0 0 0 0 0 0 0 0 0 0 0 0 0 0 0 0 0 0 0 0 0 0 0 0\n",
            " 0 0 0 0 0 0 0 0 0 0 0 0 0 0 0 0 0 0 0 0 0 0 0 0 0 0 0 0 0 1 1 1 1 1 1 1 1\n",
            " 1 1 1 1 1 1 1 1 1 1 1 1 1 1 1 1 1 1 1 1 1 1 1 1 1 1 1 1 1 1 1 1 1 1 1 1 1\n",
            " 1 1 1 1 1 1 1 1 1 1 1 1 1 1 1 1 1 1 1 1 1 1 1 1 1 1 1 1 1 1 1 1 1 1 1 1 1\n",
            " 1 1 1 1 1 1 1 1 1 1 1 1 1 1 1 1 1 1 1 1 1 1 1 1 1 1 1 1 1 1 1 1 1 1 1 1 1\n",
            " 1 1 1 1 1 1 1 1 1 1 1 1 1 1 1 1 1 1 1 1 1 1 1 1 1 1 1 1 1 1 1 1 1 1 1 1 1\n",
            " 1 2 2 2 2 2 2 2 2 2 2 2 2 2 2 2 2 2 2 2 2 2 2 2 2 2 2 2 2 2 2 2 2 2 2 2 2\n",
            " 2 2 2 2 2 2 2 2 2 2 2 2 2 2 2 2 2 2 2 2 2 2 2 2 2 2 2 2 2 2 2 2 2 2 2 2 2\n",
            " 2 2 2 2 2 2 2 2 2 2 2 2 2 2 2 2 2 2 2 2 2 2 2 2 2 2 2 2 2 2 2 2 2 2 2 2 2\n",
            " 2 2 2 2 2 2 2 2 2 2 2 2 2 2 2 2 2 2 2 2 2 2 2 2 2 2 2 2 3 3 3 3 3 3 3 3 3\n",
            " 3 3 3 3 3 3 3 3 3 3 3 3 3 3 3 3 3 3 3 3 3 3 3 3 3 3 3 3 3 3 3 3 3 3 3 3 3\n",
            " 3 3 3 3 3 3 3 3 3 3 3 3 3 3 3 3 3 3 3 3 3 3 3 3 3 3 3 3 3 3 3 3 3 3 3 3 3\n",
            " 3 3 3 3 3 3 3 3 3 3 3 3 3 3 3 3 3 3 3 3 3 3 3 3 3 3 3 3 3 3 3 3 3 3 3 3 3\n",
            " 3 3 3 3 3 3 3 3 3 3 3 3 3 3 3 3 3 3 3 3 3 3 3 3 3 3 3 3 3 3 3 3 3 3 3 3 3\n",
            " 3 3 3 3 3 3 3 3 3 3 3 3 3 3 3 3 3 3 3 3 3 3 3 3 3 3 3 3 3 3 3 3 3 3 3 3 3\n",
            " 3 3 3 3 3 3 3 3 3 3 3 3 3 3 3 3 3 3 3 3 3 3 3 3 3 3 3 3 3 3 3 3 3 3 3 3 3\n",
            " 3 3 3 3 3 3 3 3 3 3 3 3 3 3 3 3 3 3 3 3 3 3 3 3 3 4 4 4 4 4 4 4 4 4 4 4 4\n",
            " 4 4 4 4 4 4 4 4 4 4 4 4 4 4 4 4 4 4 4 4 4 4 4 4 4 4 4 4 4 4 4 4 4 4 4 4 4\n",
            " 4 4 4 4 4 4 4 4 4 4 4 4 4 4 4 4 4 4 4 4 4 4 4 4 4 4 4 4 4 4 4 4 4 4 4 4 4\n",
            " 4 4 4 4 4 4 4 4 4 4 4 4 4 4 4 4 4 4 4 4 4 4 4 4 4 4 4 4 4 4 4 4 4 4 4 4 4\n",
            " 4 4 4 4 4 4 4 4 4 4 4 4 4 4 4 4 4 4 4 4 4 4 4 4 4 4 4 4 4 4 4 4 4 4 4 4 4\n",
            " 4 4 4 4 4 4 4 4 4 4 4 4 4 4 4 4 4 4 4 4 4 4 4 4 4 4 4 4 4 4 4 4 4 4 4 4 4\n",
            " 4 4 4 4 4 4 4 4 4 4 4 4 4 4 4 4 4 4 4 4 4 4 4 4 4 4 4 4 4 4 4 4 4 4 4 4 4\n",
            " 4 4 4 4 4 4 4 4 4 4 4 4 4 4 4 4 4]\n"
          ]
        }
      ]
    },
    {
      "cell_type": "markdown",
      "metadata": {
        "id": "TpGqbS4TqkIR"
      },
      "source": [
        "## Feature Scaling"
      ]
    },
    {
      "cell_type": "code",
      "execution_count": 13,
      "metadata": {
        "id": "AxjSUXFQqo-3"
      },
      "outputs": [],
      "source": [
        "from sklearn.preprocessing import StandardScaler\n",
        "sc = StandardScaler()\n",
        "X_train = sc.fit_transform(X_train)\n",
        "X_test = sc.transform(X_test)"
      ]
    },
    {
      "cell_type": "code",
      "execution_count": 14,
      "metadata": {
        "colab": {
          "base_uri": "https://localhost:8080/"
        },
        "id": "DWPET8ZdlMnu",
        "outputId": "315d1779-17cd-41d0-d34a-96a146d53e57"
      },
      "outputs": [
        {
          "output_type": "stream",
          "name": "stdout",
          "text": [
            "[[-2.44268150e+00 -6.36318672e-16  0.00000000e+00 ... -3.28388700e-01\n",
            "  -5.05443687e-01 -3.96500855e-01]\n",
            " [-8.00645045e-01 -4.71910072e-01 -2.55984438e-01 ... -3.28388700e-01\n",
            "  -5.05443687e-01 -1.27256938e-01]\n",
            " [-8.00645045e-01 -1.18834121e+00 -2.55984438e-01 ... -3.28388700e-01\n",
            "  -5.05443687e-01 -3.96500855e-01]\n",
            " ...\n",
            " [ 2.03731819e-02 -1.13694506e-01  7.97147216e-01 ... -3.28388700e-01\n",
            "  -5.05443687e-01 -2.81110604e-01]\n",
            " [ 8.41391409e-01  2.44521061e-01  0.00000000e+00 ... -3.28388700e-01\n",
            "   2.79810244e+00 -3.96500855e-01]\n",
            " [ 2.03731819e-02 -6.36318672e-16  0.00000000e+00 ... -3.28388700e-01\n",
            "  -5.05443687e-01 -3.96500855e-01]]\n"
          ]
        }
      ],
      "source": [
        "print(X_train)"
      ]
    },
    {
      "cell_type": "code",
      "execution_count": 15,
      "metadata": {
        "colab": {
          "base_uri": "https://localhost:8080/"
        },
        "id": "sTXykB_QlRjE",
        "outputId": "f510a41f-7ba8-4d46-dba4-96442efea63b"
      },
      "outputs": [
        {
          "output_type": "stream",
          "name": "stdout",
          "text": [
            "[[-0.80064505 -0.83012564 -1.30911609 ... -0.3283887  -0.50544369\n",
            "  -0.16572035]\n",
            " [ 0.02037318 -0.11369451 -0.25598444 ... -0.3283887  -0.50544369\n",
            "  -0.20418377]\n",
            " [-0.80064505 -1.18834121 -1.30911609 ... -0.3283887  -0.50544369\n",
            "  -0.24264719]\n",
            " ...\n",
            " [-1.21115416 -1.54655677 -1.30911609 ... -0.3283887  -0.50544369\n",
            "  -0.43496427]\n",
            " [-0.80064505 -0.83012564 -1.30911609 ... -0.3283887  -0.50544369\n",
            "  -0.39650085]\n",
            " [ 0.84139141 -0.47191007 -0.25598444 ... -0.3283887  -0.48948453\n",
            "  -0.31957402]]\n"
          ]
        }
      ],
      "source": [
        "print(X_test)"
      ]
    },
    {
      "cell_type": "markdown",
      "source": [
        "# Principal Component Analysis\n"
      ],
      "metadata": {
        "id": "9IEST-Rs70dn"
      }
    },
    {
      "cell_type": "markdown",
      "source": [
        "## with n_components = 10"
      ],
      "metadata": {
        "id": "edmUP9NjHC3i"
      }
    },
    {
      "cell_type": "code",
      "source": [
        "features = training_set.drop(['lowest_level', 'words'], axis = 1)\n",
        "features.columns"
      ],
      "metadata": {
        "colab": {
          "base_uri": "https://localhost:8080/"
        },
        "id": "sSCLxkdF-6MA",
        "outputId": "8c929bda-be3a-453f-bbe4-53454bfef7dd"
      },
      "execution_count": 16,
      "outputs": [
        {
          "output_type": "execute_result",
          "data": {
            "text/plain": [
              "Index(['length_of_word', 'length_of_phonetics', 'num_of_syllables',\n",
              "       'num_of_morph', 'num_of_prefix', 'num_of_roots', 'num_of_suff',\n",
              "       'total_pref_length', 'total_suff_length', 'pref_famsize',\n",
              "       'suff_famsize', 'root_famsize'],\n",
              "      dtype='object')"
            ]
          },
          "metadata": {},
          "execution_count": 16
        }
      ]
    },
    {
      "cell_type": "code",
      "source": [
        "feature_names = list(features.columns)"
      ],
      "metadata": {
        "id": "0_y3D1iKBQiS"
      },
      "execution_count": 17,
      "outputs": []
    },
    {
      "cell_type": "code",
      "source": [
        "from sklearn.decomposition import PCA\n",
        "\n",
        "pca = PCA(n_components=10)\n",
        "pca_X_train = pca.fit_transform(X_train)\n",
        "pca_X_test = pca.transform(X_test)\n",
        "\n",
        "print('Shape of training set for features before PCA: ', X_train.shape)\n",
        "print('Shape of test set for features before PCA: ', X_test.shape)\n",
        "print('Shape training set for features after PCA: ', pca_X_train.shape)\n",
        "print('Shape test set for features after PCA: ', pca_X_test.shape)\n",
        "\n",
        "pca_train_df = pd.DataFrame(\n",
        "    data=pca_X_train, \n",
        "    columns=['PC1', 'PC2', 'PC3', 'PC4', 'PC5', 'PC6', 'PC7','PC8', 'PC9', 'PC10'])\n",
        "\n",
        "pca_test_df = pd.DataFrame(\n",
        "    data=pca_X_test, \n",
        "    columns=['PC1', 'PC2', 'PC3', 'PC4', 'PC5', 'PC6', 'PC7','PC8', 'PC9', 'PC10'])"
      ],
      "metadata": {
        "colab": {
          "base_uri": "https://localhost:8080/"
        },
        "id": "asIBoyk97_Uu",
        "outputId": "74c75953-25b7-4e4f-82b0-6647cae371bd"
      },
      "execution_count": 18,
      "outputs": [
        {
          "output_type": "stream",
          "name": "stdout",
          "text": [
            "Shape of training set for features before PCA:  (3909, 12)\n",
            "Shape of test set for features before PCA:  (979, 12)\n",
            "Shape training set for features after PCA:  (3909, 10)\n",
            "Shape test set for features after PCA:  (979, 10)\n"
          ]
        }
      ]
    },
    {
      "cell_type": "code",
      "source": [
        "featureDf = pd.concat([pca_train_df, pca_test_df], axis = 0)\n",
        "df_y_train = pd.DataFrame(y_train, columns = ['target'])\n",
        "df_y_test = pd.DataFrame(y_test, columns = ['target'])\n",
        "targetDf =pd.concat([df_y_train, df_y_test], axis=0)\n",
        "finalDf = pd.concat([featureDf, targetDf], axis=1)"
      ],
      "metadata": {
        "id": "SpgDbKpP9Tdc"
      },
      "execution_count": 19,
      "outputs": []
    },
    {
      "cell_type": "code",
      "source": [
        "finalDf"
      ],
      "metadata": {
        "colab": {
          "base_uri": "https://localhost:8080/",
          "height": 424
        },
        "id": "lu4JsGlv5PGh",
        "outputId": "70e85708-5844-42a4-de59-a363603ca7cf"
      },
      "execution_count": 20,
      "outputs": [
        {
          "output_type": "execute_result",
          "data": {
            "text/plain": [
              "          PC1       PC2       PC3       PC4       PC5       PC6       PC7  \\\n",
              "0   -1.966274  0.211678 -0.114226  0.195609  0.047267 -0.510199 -0.781784   \n",
              "1   -1.567739  0.098962  0.030078 -0.024743  0.196118 -0.130862 -0.271666   \n",
              "2   -1.867148  0.206760 -0.123876  0.166106  0.012865 -0.302472 -0.350041   \n",
              "3   -1.593309  0.070580 -0.203229 -0.066276  0.215714 -0.172314 -0.099706   \n",
              "4    0.431341 -0.823165  1.015497  1.724126 -1.154753  0.190783 -0.786797   \n",
              "..        ...       ...       ...       ...       ...       ...       ...   \n",
              "974  0.614707 -0.848372  2.951137 -3.342915 -1.989510 -0.100996  1.186673   \n",
              "975  0.557596 -1.189997  0.139263  1.994278 -1.465419 -0.066091 -0.572127   \n",
              "976 -2.508029  0.547525 -0.026322  0.667511 -0.520647 -0.051067  0.161352   \n",
              "977 -2.087229  0.356053 -0.041315  0.337718 -0.224789  0.161661  0.457688   \n",
              "978  0.211213 -0.729193 -0.207526  0.326600  0.029012  0.281591  0.744586   \n",
              "\n",
              "          PC8       PC9      PC10  target  \n",
              "0    0.111388  0.117801 -1.718136       0  \n",
              "1   -0.044456 -0.035615 -0.188070       0  \n",
              "2    0.243776  0.237066  0.256641       0  \n",
              "3    0.208632  0.082766  0.311069       0  \n",
              "4   -0.787147 -0.102991  0.407437       0  \n",
              "..        ...       ...       ...     ...  \n",
              "974  0.997562  0.104473  0.285909       4  \n",
              "975  0.132013 -0.573253  0.340649       4  \n",
              "976  0.211955  0.212289  0.164650       4  \n",
              "977  0.043838 -0.075182 -0.005303       4  \n",
              "978 -0.221540  1.128675  0.764139       4  \n",
              "\n",
              "[4888 rows x 11 columns]"
            ],
            "text/html": [
              "\n",
              "  <div id=\"df-564717aa-1b76-4bc2-879f-630bb104d21b\">\n",
              "    <div class=\"colab-df-container\">\n",
              "      <div>\n",
              "<style scoped>\n",
              "    .dataframe tbody tr th:only-of-type {\n",
              "        vertical-align: middle;\n",
              "    }\n",
              "\n",
              "    .dataframe tbody tr th {\n",
              "        vertical-align: top;\n",
              "    }\n",
              "\n",
              "    .dataframe thead th {\n",
              "        text-align: right;\n",
              "    }\n",
              "</style>\n",
              "<table border=\"1\" class=\"dataframe\">\n",
              "  <thead>\n",
              "    <tr style=\"text-align: right;\">\n",
              "      <th></th>\n",
              "      <th>PC1</th>\n",
              "      <th>PC2</th>\n",
              "      <th>PC3</th>\n",
              "      <th>PC4</th>\n",
              "      <th>PC5</th>\n",
              "      <th>PC6</th>\n",
              "      <th>PC7</th>\n",
              "      <th>PC8</th>\n",
              "      <th>PC9</th>\n",
              "      <th>PC10</th>\n",
              "      <th>target</th>\n",
              "    </tr>\n",
              "  </thead>\n",
              "  <tbody>\n",
              "    <tr>\n",
              "      <th>0</th>\n",
              "      <td>-1.966274</td>\n",
              "      <td>0.211678</td>\n",
              "      <td>-0.114226</td>\n",
              "      <td>0.195609</td>\n",
              "      <td>0.047267</td>\n",
              "      <td>-0.510199</td>\n",
              "      <td>-0.781784</td>\n",
              "      <td>0.111388</td>\n",
              "      <td>0.117801</td>\n",
              "      <td>-1.718136</td>\n",
              "      <td>0</td>\n",
              "    </tr>\n",
              "    <tr>\n",
              "      <th>1</th>\n",
              "      <td>-1.567739</td>\n",
              "      <td>0.098962</td>\n",
              "      <td>0.030078</td>\n",
              "      <td>-0.024743</td>\n",
              "      <td>0.196118</td>\n",
              "      <td>-0.130862</td>\n",
              "      <td>-0.271666</td>\n",
              "      <td>-0.044456</td>\n",
              "      <td>-0.035615</td>\n",
              "      <td>-0.188070</td>\n",
              "      <td>0</td>\n",
              "    </tr>\n",
              "    <tr>\n",
              "      <th>2</th>\n",
              "      <td>-1.867148</td>\n",
              "      <td>0.206760</td>\n",
              "      <td>-0.123876</td>\n",
              "      <td>0.166106</td>\n",
              "      <td>0.012865</td>\n",
              "      <td>-0.302472</td>\n",
              "      <td>-0.350041</td>\n",
              "      <td>0.243776</td>\n",
              "      <td>0.237066</td>\n",
              "      <td>0.256641</td>\n",
              "      <td>0</td>\n",
              "    </tr>\n",
              "    <tr>\n",
              "      <th>3</th>\n",
              "      <td>-1.593309</td>\n",
              "      <td>0.070580</td>\n",
              "      <td>-0.203229</td>\n",
              "      <td>-0.066276</td>\n",
              "      <td>0.215714</td>\n",
              "      <td>-0.172314</td>\n",
              "      <td>-0.099706</td>\n",
              "      <td>0.208632</td>\n",
              "      <td>0.082766</td>\n",
              "      <td>0.311069</td>\n",
              "      <td>0</td>\n",
              "    </tr>\n",
              "    <tr>\n",
              "      <th>4</th>\n",
              "      <td>0.431341</td>\n",
              "      <td>-0.823165</td>\n",
              "      <td>1.015497</td>\n",
              "      <td>1.724126</td>\n",
              "      <td>-1.154753</td>\n",
              "      <td>0.190783</td>\n",
              "      <td>-0.786797</td>\n",
              "      <td>-0.787147</td>\n",
              "      <td>-0.102991</td>\n",
              "      <td>0.407437</td>\n",
              "      <td>0</td>\n",
              "    </tr>\n",
              "    <tr>\n",
              "      <th>...</th>\n",
              "      <td>...</td>\n",
              "      <td>...</td>\n",
              "      <td>...</td>\n",
              "      <td>...</td>\n",
              "      <td>...</td>\n",
              "      <td>...</td>\n",
              "      <td>...</td>\n",
              "      <td>...</td>\n",
              "      <td>...</td>\n",
              "      <td>...</td>\n",
              "      <td>...</td>\n",
              "    </tr>\n",
              "    <tr>\n",
              "      <th>974</th>\n",
              "      <td>0.614707</td>\n",
              "      <td>-0.848372</td>\n",
              "      <td>2.951137</td>\n",
              "      <td>-3.342915</td>\n",
              "      <td>-1.989510</td>\n",
              "      <td>-0.100996</td>\n",
              "      <td>1.186673</td>\n",
              "      <td>0.997562</td>\n",
              "      <td>0.104473</td>\n",
              "      <td>0.285909</td>\n",
              "      <td>4</td>\n",
              "    </tr>\n",
              "    <tr>\n",
              "      <th>975</th>\n",
              "      <td>0.557596</td>\n",
              "      <td>-1.189997</td>\n",
              "      <td>0.139263</td>\n",
              "      <td>1.994278</td>\n",
              "      <td>-1.465419</td>\n",
              "      <td>-0.066091</td>\n",
              "      <td>-0.572127</td>\n",
              "      <td>0.132013</td>\n",
              "      <td>-0.573253</td>\n",
              "      <td>0.340649</td>\n",
              "      <td>4</td>\n",
              "    </tr>\n",
              "    <tr>\n",
              "      <th>976</th>\n",
              "      <td>-2.508029</td>\n",
              "      <td>0.547525</td>\n",
              "      <td>-0.026322</td>\n",
              "      <td>0.667511</td>\n",
              "      <td>-0.520647</td>\n",
              "      <td>-0.051067</td>\n",
              "      <td>0.161352</td>\n",
              "      <td>0.211955</td>\n",
              "      <td>0.212289</td>\n",
              "      <td>0.164650</td>\n",
              "      <td>4</td>\n",
              "    </tr>\n",
              "    <tr>\n",
              "      <th>977</th>\n",
              "      <td>-2.087229</td>\n",
              "      <td>0.356053</td>\n",
              "      <td>-0.041315</td>\n",
              "      <td>0.337718</td>\n",
              "      <td>-0.224789</td>\n",
              "      <td>0.161661</td>\n",
              "      <td>0.457688</td>\n",
              "      <td>0.043838</td>\n",
              "      <td>-0.075182</td>\n",
              "      <td>-0.005303</td>\n",
              "      <td>4</td>\n",
              "    </tr>\n",
              "    <tr>\n",
              "      <th>978</th>\n",
              "      <td>0.211213</td>\n",
              "      <td>-0.729193</td>\n",
              "      <td>-0.207526</td>\n",
              "      <td>0.326600</td>\n",
              "      <td>0.029012</td>\n",
              "      <td>0.281591</td>\n",
              "      <td>0.744586</td>\n",
              "      <td>-0.221540</td>\n",
              "      <td>1.128675</td>\n",
              "      <td>0.764139</td>\n",
              "      <td>4</td>\n",
              "    </tr>\n",
              "  </tbody>\n",
              "</table>\n",
              "<p>4888 rows × 11 columns</p>\n",
              "</div>\n",
              "      <button class=\"colab-df-convert\" onclick=\"convertToInteractive('df-564717aa-1b76-4bc2-879f-630bb104d21b')\"\n",
              "              title=\"Convert this dataframe to an interactive table.\"\n",
              "              style=\"display:none;\">\n",
              "        \n",
              "  <svg xmlns=\"http://www.w3.org/2000/svg\" height=\"24px\"viewBox=\"0 0 24 24\"\n",
              "       width=\"24px\">\n",
              "    <path d=\"M0 0h24v24H0V0z\" fill=\"none\"/>\n",
              "    <path d=\"M18.56 5.44l.94 2.06.94-2.06 2.06-.94-2.06-.94-.94-2.06-.94 2.06-2.06.94zm-11 1L8.5 8.5l.94-2.06 2.06-.94-2.06-.94L8.5 2.5l-.94 2.06-2.06.94zm10 10l.94 2.06.94-2.06 2.06-.94-2.06-.94-.94-2.06-.94 2.06-2.06.94z\"/><path d=\"M17.41 7.96l-1.37-1.37c-.4-.4-.92-.59-1.43-.59-.52 0-1.04.2-1.43.59L10.3 9.45l-7.72 7.72c-.78.78-.78 2.05 0 2.83L4 21.41c.39.39.9.59 1.41.59.51 0 1.02-.2 1.41-.59l7.78-7.78 2.81-2.81c.8-.78.8-2.07 0-2.86zM5.41 20L4 18.59l7.72-7.72 1.47 1.35L5.41 20z\"/>\n",
              "  </svg>\n",
              "      </button>\n",
              "      \n",
              "  <style>\n",
              "    .colab-df-container {\n",
              "      display:flex;\n",
              "      flex-wrap:wrap;\n",
              "      gap: 12px;\n",
              "    }\n",
              "\n",
              "    .colab-df-convert {\n",
              "      background-color: #E8F0FE;\n",
              "      border: none;\n",
              "      border-radius: 50%;\n",
              "      cursor: pointer;\n",
              "      display: none;\n",
              "      fill: #1967D2;\n",
              "      height: 32px;\n",
              "      padding: 0 0 0 0;\n",
              "      width: 32px;\n",
              "    }\n",
              "\n",
              "    .colab-df-convert:hover {\n",
              "      background-color: #E2EBFA;\n",
              "      box-shadow: 0px 1px 2px rgba(60, 64, 67, 0.3), 0px 1px 3px 1px rgba(60, 64, 67, 0.15);\n",
              "      fill: #174EA6;\n",
              "    }\n",
              "\n",
              "    [theme=dark] .colab-df-convert {\n",
              "      background-color: #3B4455;\n",
              "      fill: #D2E3FC;\n",
              "    }\n",
              "\n",
              "    [theme=dark] .colab-df-convert:hover {\n",
              "      background-color: #434B5C;\n",
              "      box-shadow: 0px 1px 3px 1px rgba(0, 0, 0, 0.15);\n",
              "      filter: drop-shadow(0px 1px 2px rgba(0, 0, 0, 0.3));\n",
              "      fill: #FFFFFF;\n",
              "    }\n",
              "  </style>\n",
              "\n",
              "      <script>\n",
              "        const buttonEl =\n",
              "          document.querySelector('#df-564717aa-1b76-4bc2-879f-630bb104d21b button.colab-df-convert');\n",
              "        buttonEl.style.display =\n",
              "          google.colab.kernel.accessAllowed ? 'block' : 'none';\n",
              "\n",
              "        async function convertToInteractive(key) {\n",
              "          const element = document.querySelector('#df-564717aa-1b76-4bc2-879f-630bb104d21b');\n",
              "          const dataTable =\n",
              "            await google.colab.kernel.invokeFunction('convertToInteractive',\n",
              "                                                     [key], {});\n",
              "          if (!dataTable) return;\n",
              "\n",
              "          const docLinkHtml = 'Like what you see? Visit the ' +\n",
              "            '<a target=\"_blank\" href=https://colab.research.google.com/notebooks/data_table.ipynb>data table notebook</a>'\n",
              "            + ' to learn more about interactive tables.';\n",
              "          element.innerHTML = '';\n",
              "          dataTable['output_type'] = 'display_data';\n",
              "          await google.colab.output.renderOutput(dataTable, element);\n",
              "          const docLink = document.createElement('div');\n",
              "          docLink.innerHTML = docLinkHtml;\n",
              "          element.appendChild(docLink);\n",
              "        }\n",
              "      </script>\n",
              "    </div>\n",
              "  </div>\n",
              "  "
            ]
          },
          "metadata": {},
          "execution_count": 20
        }
      ]
    },
    {
      "cell_type": "code",
      "source": [
        "pca.explained_variance_"
      ],
      "metadata": {
        "colab": {
          "base_uri": "https://localhost:8080/"
        },
        "id": "ISlmPpsB9yw4",
        "outputId": "cb46e047-15af-48b9-e6d9-501de971824d"
      },
      "execution_count": 21,
      "outputs": [
        {
          "output_type": "execute_result",
          "data": {
            "text/plain": [
              "array([4.82115006, 2.30559806, 1.72202731, 1.09414844, 0.82358297,\n",
              "       0.31227639, 0.29526764, 0.23743775, 0.20709419, 0.14198578])"
            ]
          },
          "metadata": {},
          "execution_count": 21
        }
      ]
    },
    {
      "cell_type": "code",
      "source": [
        "# Bar plot of explained_variance\n",
        "plt.bar(\n",
        "    range(1,len(pca.explained_variance_)+1),\n",
        "    pca.explained_variance_\n",
        "    )\n",
        "\n",
        "\n",
        "plt.xlabel('PCA Feature')\n",
        "plt.ylabel('Explained variance')\n",
        "plt.title('Feature Explained Variance')\n",
        "plt.show()"
      ],
      "metadata": {
        "colab": {
          "base_uri": "https://localhost:8080/",
          "height": 295
        },
        "id": "fVfu5LlX94-A",
        "outputId": "3b47c6f6-8133-47f2-a88c-15d2bc710bcd"
      },
      "execution_count": 22,
      "outputs": [
        {
          "output_type": "display_data",
          "data": {
            "text/plain": [
              "<Figure size 432x288 with 1 Axes>"
            ],
            "image/png": "[encoded data removed]"
          },
          "metadata": {
            "needs_background": "light"
          }
        }
      ]
    },
    {
      "cell_type": "code",
      "source": [
        "sns.set()\n",
        "\n",
        "plt.bar(\n",
        "    range(1,len(pca.explained_variance_)+1),\n",
        "    pca.explained_variance_\n",
        "    )\n",
        " \n",
        "plt.plot(\n",
        "    range(1,len(pca.explained_variance_ )+1),\n",
        "    np.cumsum(pca.explained_variance_),\n",
        "    c='red',\n",
        "    label='Cumulative Explained Variance')\n",
        " \n",
        "plt.legend(loc='upper left')\n",
        "plt.xlabel('Number of components')\n",
        "plt.ylabel('Explained variance (eignenvalues)')\n",
        "plt.title('Scree plot')\n",
        " \n",
        "plt.show()"
      ],
      "metadata": {
        "colab": {
          "base_uri": "https://localhost:8080/",
          "height": 301
        },
        "id": "PM4LUuh8Chrh",
        "outputId": "ee5b51e6-ebdf-48ac-f839-0173e46d91ae"
      },
      "execution_count": 23,
      "outputs": [
        {
          "output_type": "display_data",
          "data": {
            "text/plain": [
              "<Figure size 432x288 with 1 Axes>"
            ],
            "image/png": "[encoded data removed]"
          },
          "metadata": {}
        }
      ]
    },
    {
      "cell_type": "code",
      "source": [
        "# Principal components correlation coefficients\n",
        "loadings = pca.components_\n",
        "\n",
        "# Number of features before PCA\n",
        "n_features = pca.n_features_\n",
        "\n",
        "# PC names\n",
        "pc_list = [f'PC{i}' for i in list(range(1, n_features + 1))]\n",
        "\n",
        "# Match PC names to loadings\n",
        "pc_loadings = dict(zip(pc_list, loadings))\n",
        "\n",
        "# Matrix of corr coefs between feature names and PCs\n",
        "loadings_df = pd.DataFrame.from_dict(pc_loadings)\n",
        "loadings_df['feature_names'] = feature_names\n",
        "loadings_df = loadings_df.set_index('feature_names')\n",
        "loadings_df"
      ],
      "metadata": {
        "colab": {
          "base_uri": "https://localhost:8080/",
          "height": 457
        },
        "id": "kR9Mol4X-Zb3",
        "outputId": "4caca811-6e16-4c1f-d78d-1c62bdb2bff9"
      },
      "execution_count": 24,
      "outputs": [
        {
          "output_type": "execute_result",
          "data": {
            "text/plain": [
              "                          PC1       PC2       PC3       PC4       PC5  \\\n",
              "feature_names                                                           \n",
              "length_of_word       0.375910 -0.163109 -0.042707 -0.280421  0.233890   \n",
              "length_of_phonetics  0.364303 -0.177687 -0.031682 -0.305191  0.282803   \n",
              "num_of_syllables     0.332893 -0.202200 -0.089172 -0.266763  0.321858   \n",
              "num_of_morph         0.425699 -0.023532  0.017279  0.128604 -0.285654   \n",
              "num_of_prefix        0.275234  0.509761 -0.068236  0.010220 -0.040985   \n",
              "num_of_roots         0.060972 -0.089951  0.483911 -0.532413 -0.498654   \n",
              "num_of_suff          0.344436 -0.300817 -0.086763  0.343764 -0.146147   \n",
              "total_pref_length    0.253526  0.491551 -0.065971 -0.025558 -0.004813   \n",
              "total_suff_length    0.072624  0.021674  0.540751  0.396636  0.530584   \n",
              "pref_famsize         0.251133  0.464247 -0.071591  0.025193 -0.047979   \n",
              "suff_famsize         0.287854 -0.281214 -0.101033  0.411717 -0.345572   \n",
              "root_famsize         0.142661  0.072435  0.656104  0.103250 -0.071891   \n",
              "\n",
              "                          PC6       PC7       PC8       PC9      PC10  \n",
              "feature_names                                                          \n",
              "length_of_word       0.194743  0.331761 -0.033136 -0.128672  0.728528  \n",
              "length_of_phonetics  0.176308  0.242554 -0.184566 -0.318679 -0.660318  \n",
              "num_of_syllables    -0.380747 -0.684475  0.127072  0.188098  0.024125  \n",
              "num_of_morph         0.039846  0.111212 -0.009740  0.400330 -0.078996  \n",
              "num_of_prefix        0.071334 -0.049880  0.082208  0.014779 -0.027628  \n",
              "num_of_roots        -0.151411  0.134367  0.364014  0.067757 -0.058780  \n",
              "num_of_suff          0.054280  0.127658 -0.171789  0.464854 -0.062969  \n",
              "total_pref_length    0.485339 -0.214749  0.323891  0.013585 -0.030472  \n",
              "total_suff_length   -0.135094  0.225279  0.431300  0.067412 -0.054059  \n",
              "pref_famsize        -0.682014  0.254958 -0.247511 -0.147359  0.034081  \n",
              "suff_famsize        -0.078887 -0.161165  0.303171 -0.641672  0.045974  \n",
              "root_famsize         0.168240 -0.354321 -0.579414 -0.164791  0.105337  "
            ],
            "text/html": [
              "\n",
              "  <div id=\"df-8189c30d-a67b-49fa-a1e5-5538db7fc663\">\n",
              "    <div class=\"colab-df-container\">\n",
              "      <div>\n",
              "<style scoped>\n",
              "    .dataframe tbody tr th:only-of-type {\n",
              "        vertical-align: middle;\n",
              "    }\n",
              "\n",
              "    .dataframe tbody tr th {\n",
              "        vertical-align: top;\n",
              "    }\n",
              "\n",
              "    .dataframe thead th {\n",
              "        text-align: right;\n",
              "    }\n",
              "</style>\n",
              "<table border=\"1\" class=\"dataframe\">\n",
              "  <thead>\n",
              "    <tr style=\"text-align: right;\">\n",
              "      <th></th>\n",
              "      <th>PC1</th>\n",
              "      <th>PC2</th>\n",
              "      <th>PC3</th>\n",
              "      <th>PC4</th>\n",
              "      <th>PC5</th>\n",
              "      <th>PC6</th>\n",
              "      <th>PC7</th>\n",
              "      <th>PC8</th>\n",
              "      <th>PC9</th>\n",
              "      <th>PC10</th>\n",
              "    </tr>\n",
              "    <tr>\n",
              "      <th>feature_names</th>\n",
              "      <th></th>\n",
              "      <th></th>\n",
              "      <th></th>\n",
              "      <th></th>\n",
              "      <th></th>\n",
              "      <th></th>\n",
              "      <th></th>\n",
              "      <th></th>\n",
              "      <th></th>\n",
              "      <th></th>\n",
              "    </tr>\n",
              "  </thead>\n",
              "  <tbody>\n",
              "    <tr>\n",
              "      <th>length_of_word</th>\n",
              "      <td>0.375910</td>\n",
              "      <td>-0.163109</td>\n",
              "      <td>-0.042707</td>\n",
              "      <td>-0.280421</td>\n",
              "      <td>0.233890</td>\n",
              "      <td>0.194743</td>\n",
              "      <td>0.331761</td>\n",
              "      <td>-0.033136</td>\n",
              "      <td>-0.128672</td>\n",
              "      <td>0.728528</td>\n",
              "    </tr>\n",
              "    <tr>\n",
              "      <th>length_of_phonetics</th>\n",
              "      <td>0.364303</td>\n",
              "      <td>-0.177687</td>\n",
              "      <td>-0.031682</td>\n",
              "      <td>-0.305191</td>\n",
              "      <td>0.282803</td>\n",
              "      <td>0.176308</td>\n",
              "      <td>0.242554</td>\n",
              "      <td>-0.184566</td>\n",
              "      <td>-0.318679</td>\n",
              "      <td>-0.660318</td>\n",
              "    </tr>\n",
              "    <tr>\n",
              "      <th>num_of_syllables</th>\n",
              "      <td>0.332893</td>\n",
              "      <td>-0.202200</td>\n",
              "      <td>-0.089172</td>\n",
              "      <td>-0.266763</td>\n",
              "      <td>0.321858</td>\n",
              "      <td>-0.380747</td>\n",
              "      <td>-0.684475</td>\n",
              "      <td>0.127072</td>\n",
              "      <td>0.188098</td>\n",
              "      <td>0.024125</td>\n",
              "    </tr>\n",
              "    <tr>\n",
              "      <th>num_of_morph</th>\n",
              "      <td>0.425699</td>\n",
              "      <td>-0.023532</td>\n",
              "      <td>0.017279</td>\n",
              "      <td>0.128604</td>\n",
              "      <td>-0.285654</td>\n",
              "      <td>0.039846</td>\n",
              "      <td>0.111212</td>\n",
              "      <td>-0.009740</td>\n",
              "      <td>0.400330</td>\n",
              "      <td>-0.078996</td>\n",
              "    </tr>\n",
              "    <tr>\n",
              "      <th>num_of_prefix</th>\n",
              "      <td>0.275234</td>\n",
              "      <td>0.509761</td>\n",
              "      <td>-0.068236</td>\n",
              "      <td>0.010220</td>\n",
              "      <td>-0.040985</td>\n",
              "      <td>0.071334</td>\n",
              "      <td>-0.049880</td>\n",
              "      <td>0.082208</td>\n",
              "      <td>0.014779</td>\n",
              "      <td>-0.027628</td>\n",
              "    </tr>\n",
              "    <tr>\n",
              "      <th>num_of_roots</th>\n",
              "      <td>0.060972</td>\n",
              "      <td>-0.089951</td>\n",
              "      <td>0.483911</td>\n",
              "      <td>-0.532413</td>\n",
              "      <td>-0.498654</td>\n",
              "      <td>-0.151411</td>\n",
              "      <td>0.134367</td>\n",
              "      <td>0.364014</td>\n",
              "      <td>0.067757</td>\n",
              "      <td>-0.058780</td>\n",
              "    </tr>\n",
              "    <tr>\n",
              "      <th>num_of_suff</th>\n",
              "      <td>0.344436</td>\n",
              "      <td>-0.300817</td>\n",
              "      <td>-0.086763</td>\n",
              "      <td>0.343764</td>\n",
              "      <td>-0.146147</td>\n",
              "      <td>0.054280</td>\n",
              "      <td>0.127658</td>\n",
              "      <td>-0.171789</td>\n",
              "      <td>0.464854</td>\n",
              "      <td>-0.062969</td>\n",
              "    </tr>\n",
              "    <tr>\n",
              "      <th>total_pref_length</th>\n",
              "      <td>0.253526</td>\n",
              "      <td>0.491551</td>\n",
              "      <td>-0.065971</td>\n",
              "      <td>-0.025558</td>\n",
              "      <td>-0.004813</td>\n",
              "      <td>0.485339</td>\n",
              "      <td>-0.214749</td>\n",
              "      <td>0.323891</td>\n",
              "      <td>0.013585</td>\n",
              "      <td>-0.030472</td>\n",
              "    </tr>\n",
              "    <tr>\n",
              "      <th>total_suff_length</th>\n",
              "      <td>0.072624</td>\n",
              "      <td>0.021674</td>\n",
              "      <td>0.540751</td>\n",
              "      <td>0.396636</td>\n",
              "      <td>0.530584</td>\n",
              "      <td>-0.135094</td>\n",
              "      <td>0.225279</td>\n",
              "      <td>0.431300</td>\n",
              "      <td>0.067412</td>\n",
              "      <td>-0.054059</td>\n",
              "    </tr>\n",
              "    <tr>\n",
              "      <th>pref_famsize</th>\n",
              "      <td>0.251133</td>\n",
              "      <td>0.464247</td>\n",
              "      <td>-0.071591</td>\n",
              "      <td>0.025193</td>\n",
              "      <td>-0.047979</td>\n",
              "      <td>-0.682014</td>\n",
              "      <td>0.254958</td>\n",
              "      <td>-0.247511</td>\n",
              "      <td>-0.147359</td>\n",
              "      <td>0.034081</td>\n",
              "    </tr>\n",
              "    <tr>\n",
              "      <th>suff_famsize</th>\n",
              "      <td>0.287854</td>\n",
              "      <td>-0.281214</td>\n",
              "      <td>-0.101033</td>\n",
              "      <td>0.411717</td>\n",
              "      <td>-0.345572</td>\n",
              "      <td>-0.078887</td>\n",
              "      <td>-0.161165</td>\n",
              "      <td>0.303171</td>\n",
              "      <td>-0.641672</td>\n",
              "      <td>0.045974</td>\n",
              "    </tr>\n",
              "    <tr>\n",
              "      <th>root_famsize</th>\n",
              "      <td>0.142661</td>\n",
              "      <td>0.072435</td>\n",
              "      <td>0.656104</td>\n",
              "      <td>0.103250</td>\n",
              "      <td>-0.071891</td>\n",
              "      <td>0.168240</td>\n",
              "      <td>-0.354321</td>\n",
              "      <td>-0.579414</td>\n",
              "      <td>-0.164791</td>\n",
              "      <td>0.105337</td>\n",
              "    </tr>\n",
              "  </tbody>\n",
              "</table>\n",
              "</div>\n",
              "      <button class=\"colab-df-convert\" onclick=\"convertToInteractive('df-8189c30d-a67b-49fa-a1e5-5538db7fc663')\"\n",
              "              title=\"Convert this dataframe to an interactive table.\"\n",
              "              style=\"display:none;\">\n",
              "        \n",
              "  <svg xmlns=\"http://www.w3.org/2000/svg\" height=\"24px\"viewBox=\"0 0 24 24\"\n",
              "       width=\"24px\">\n",
              "    <path d=\"M0 0h24v24H0V0z\" fill=\"none\"/>\n",
              "    <path d=\"M18.56 5.44l.94 2.06.94-2.06 2.06-.94-2.06-.94-.94-2.06-.94 2.06-2.06.94zm-11 1L8.5 8.5l.94-2.06 2.06-.94-2.06-.94L8.5 2.5l-.94 2.06-2.06.94zm10 10l.94 2.06.94-2.06 2.06-.94-2.06-.94-.94-2.06-.94 2.06-2.06.94z\"/><path d=\"M17.41 7.96l-1.37-1.37c-.4-.4-.92-.59-1.43-.59-.52 0-1.04.2-1.43.59L10.3 9.45l-7.72 7.72c-.78.78-.78 2.05 0 2.83L4 21.41c.39.39.9.59 1.41.59.51 0 1.02-.2 1.41-.59l7.78-7.78 2.81-2.81c.8-.78.8-2.07 0-2.86zM5.41 20L4 18.59l7.72-7.72 1.47 1.35L5.41 20z\"/>\n",
              "  </svg>\n",
              "      </button>\n",
              "      \n",
              "  <style>\n",
              "    .colab-df-container {\n",
              "      display:flex;\n",
              "      flex-wrap:wrap;\n",
              "      gap: 12px;\n",
              "    }\n",
              "\n",
              "    .colab-df-convert {\n",
              "      background-color: #E8F0FE;\n",
              "      border: none;\n",
              "      border-radius: 50%;\n",
              "      cursor: pointer;\n",
              "      display: none;\n",
              "      fill: #1967D2;\n",
              "      height: 32px;\n",
              "      padding: 0 0 0 0;\n",
              "      width: 32px;\n",
              "    }\n",
              "\n",
              "    .colab-df-convert:hover {\n",
              "      background-color: #E2EBFA;\n",
              "      box-shadow: 0px 1px 2px rgba(60, 64, 67, 0.3), 0px 1px 3px 1px rgba(60, 64, 67, 0.15);\n",
              "      fill: #174EA6;\n",
              "    }\n",
              "\n",
              "    [theme=dark] .colab-df-convert {\n",
              "      background-color: #3B4455;\n",
              "      fill: #D2E3FC;\n",
              "    }\n",
              "\n",
              "    [theme=dark] .colab-df-convert:hover {\n",
              "      background-color: #434B5C;\n",
              "      box-shadow: 0px 1px 3px 1px rgba(0, 0, 0, 0.15);\n",
              "      filter: drop-shadow(0px 1px 2px rgba(0, 0, 0, 0.3));\n",
              "      fill: #FFFFFF;\n",
              "    }\n",
              "  </style>\n",
              "\n",
              "      <script>\n",
              "        const buttonEl =\n",
              "          document.querySelector('#df-8189c30d-a67b-49fa-a1e5-5538db7fc663 button.colab-df-convert');\n",
              "        buttonEl.style.display =\n",
              "          google.colab.kernel.accessAllowed ? 'block' : 'none';\n",
              "\n",
              "        async function convertToInteractive(key) {\n",
              "          const element = document.querySelector('#df-8189c30d-a67b-49fa-a1e5-5538db7fc663');\n",
              "          const dataTable =\n",
              "            await google.colab.kernel.invokeFunction('convertToInteractive',\n",
              "                                                     [key], {});\n",
              "          if (!dataTable) return;\n",
              "\n",
              "          const docLinkHtml = 'Like what you see? Visit the ' +\n",
              "            '<a target=\"_blank\" href=https://colab.research.google.com/notebooks/data_table.ipynb>data table notebook</a>'\n",
              "            + ' to learn more about interactive tables.';\n",
              "          element.innerHTML = '';\n",
              "          dataTable['output_type'] = 'display_data';\n",
              "          await google.colab.output.renderOutput(dataTable, element);\n",
              "          const docLink = document.createElement('div');\n",
              "          docLink.innerHTML = docLinkHtml;\n",
              "          element.appendChild(docLink);\n",
              "        }\n",
              "      </script>\n",
              "    </div>\n",
              "  </div>\n",
              "  "
            ]
          },
          "metadata": {},
          "execution_count": 24
        }
      ]
    },
    {
      "cell_type": "markdown",
      "source": [
        "## with n_components = 5"
      ],
      "metadata": {
        "id": "ScQk584SHLtM"
      }
    },
    {
      "cell_type": "markdown",
      "source": [
        "Reducing the number of component from 10 to 5"
      ],
      "metadata": {
        "id": "ZDgoyZyk9ZbZ"
      }
    },
    {
      "cell_type": "code",
      "source": [
        "import pandas as pd\n",
        "from sklearn.decomposition import PCA\n",
        "\n",
        "# Reduce from 10 to 5 features with PCA\n",
        "pca = PCA(n_components=5)\n",
        "\n",
        "# Fit and transform data\n",
        "pca_X_train = pca.fit_transform(X_train)\n",
        "pca_X_test = pca.transform(X_test)\n",
        "\n",
        "print('Shape of training set for features before PCA: ', X_train.shape)\n",
        "print('Shape of test set for features before PCA: ', X_test.shape)\n",
        "print('Shape training set for features after PCA: ', pca_X_train.shape)\n",
        "print('Shape test set for features after PCA: ', pca_X_test.shape)\n",
        "\n",
        "# Create dataframe\n",
        "pca_train_df = pd.DataFrame(\n",
        "    data=pca_X_train, \n",
        "    columns=['PC1', 'PC2', 'PC3', 'PC4', 'PC5'])\n",
        "\n",
        "pca_test_df = pd.DataFrame(\n",
        "    data=pca_X_test, \n",
        "    columns=['PC1', 'PC2', 'PC3', 'PC4', 'PC5'])\n",
        "\n",
        "featureDf = pd.concat([pca_train_df, pca_test_df], axis = 0)\n",
        "df_y_train = pd.DataFrame(y_train, columns = ['target'])\n",
        "df_y_test = pd.DataFrame(y_test, columns = ['target'])\n",
        "targetDf =pd.concat([df_y_train, df_y_test], axis=0)\n",
        "finalDf = pd.concat([featureDf, targetDf], axis=1)"
      ],
      "metadata": {
        "colab": {
          "base_uri": "https://localhost:8080/"
        },
        "id": "s0qPmhO1E4H-",
        "outputId": "e7e8c4ea-af68-44b5-f7d3-e36f19d38532"
      },
      "execution_count": 25,
      "outputs": [
        {
          "output_type": "stream",
          "name": "stdout",
          "text": [
            "Shape of training set for features before PCA:  (3909, 12)\n",
            "Shape of test set for features before PCA:  (979, 12)\n",
            "Shape training set for features after PCA:  (3909, 5)\n",
            "Shape test set for features after PCA:  (979, 5)\n"
          ]
        }
      ]
    },
    {
      "cell_type": "code",
      "source": [
        "finalDf"
      ],
      "metadata": {
        "colab": {
          "base_uri": "https://localhost:8080/",
          "height": 424
        },
        "id": "5JPE_jtXJUvi",
        "outputId": "e95bd532-c1d4-4136-945e-2f9537dca634"
      },
      "execution_count": 26,
      "outputs": [
        {
          "output_type": "execute_result",
          "data": {
            "text/plain": [
              "          PC1       PC2       PC3       PC4       PC5  target\n",
              "0   -1.966274  0.211678 -0.114226  0.195609  0.047267       0\n",
              "1   -1.567739  0.098962  0.030078 -0.024743  0.196118       0\n",
              "2   -1.867148  0.206760 -0.123876  0.166106  0.012865       0\n",
              "3   -1.593309  0.070580 -0.203229 -0.066276  0.215714       0\n",
              "4    0.431341 -0.823165  1.015497  1.724126 -1.154753       0\n",
              "..        ...       ...       ...       ...       ...     ...\n",
              "974  0.614707 -0.848372  2.951137 -3.342915 -1.989510       4\n",
              "975  0.557596 -1.189997  0.139263  1.994278 -1.465419       4\n",
              "976 -2.508029  0.547525 -0.026322  0.667511 -0.520647       4\n",
              "977 -2.087229  0.356053 -0.041315  0.337718 -0.224789       4\n",
              "978  0.211213 -0.729193 -0.207526  0.326600  0.029012       4\n",
              "\n",
              "[4888 rows x 6 columns]"
            ],
            "text/html": [
              "\n",
              "  <div id=\"df-af122be1-3b3e-4a0f-ad84-493be72b9993\">\n",
              "    <div class=\"colab-df-container\">\n",
              "      <div>\n",
              "<style scoped>\n",
              "    .dataframe tbody tr th:only-of-type {\n",
              "        vertical-align: middle;\n",
              "    }\n",
              "\n",
              "    .dataframe tbody tr th {\n",
              "        vertical-align: top;\n",
              "    }\n",
              "\n",
              "    .dataframe thead th {\n",
              "        text-align: right;\n",
              "    }\n",
              "</style>\n",
              "<table border=\"1\" class=\"dataframe\">\n",
              "  <thead>\n",
              "    <tr style=\"text-align: right;\">\n",
              "      <th></th>\n",
              "      <th>PC1</th>\n",
              "      <th>PC2</th>\n",
              "      <th>PC3</th>\n",
              "      <th>PC4</th>\n",
              "      <th>PC5</th>\n",
              "      <th>target</th>\n",
              "    </tr>\n",
              "  </thead>\n",
              "  <tbody>\n",
              "    <tr>\n",
              "      <th>0</th>\n",
              "      <td>-1.966274</td>\n",
              "      <td>0.211678</td>\n",
              "      <td>-0.114226</td>\n",
              "      <td>0.195609</td>\n",
              "      <td>0.047267</td>\n",
              "      <td>0</td>\n",
              "    </tr>\n",
              "    <tr>\n",
              "      <th>1</th>\n",
              "      <td>-1.567739</td>\n",
              "      <td>0.098962</td>\n",
              "      <td>0.030078</td>\n",
              "      <td>-0.024743</td>\n",
              "      <td>0.196118</td>\n",
              "      <td>0</td>\n",
              "    </tr>\n",
              "    <tr>\n",
              "      <th>2</th>\n",
              "      <td>-1.867148</td>\n",
              "      <td>0.206760</td>\n",
              "      <td>-0.123876</td>\n",
              "      <td>0.166106</td>\n",
              "      <td>0.012865</td>\n",
              "      <td>0</td>\n",
              "    </tr>\n",
              "    <tr>\n",
              "      <th>3</th>\n",
              "      <td>-1.593309</td>\n",
              "      <td>0.070580</td>\n",
              "      <td>-0.203229</td>\n",
              "      <td>-0.066276</td>\n",
              "      <td>0.215714</td>\n",
              "      <td>0</td>\n",
              "    </tr>\n",
              "    <tr>\n",
              "      <th>4</th>\n",
              "      <td>0.431341</td>\n",
              "      <td>-0.823165</td>\n",
              "      <td>1.015497</td>\n",
              "      <td>1.724126</td>\n",
              "      <td>-1.154753</td>\n",
              "      <td>0</td>\n",
              "    </tr>\n",
              "    <tr>\n",
              "      <th>...</th>\n",
              "      <td>...</td>\n",
              "      <td>...</td>\n",
              "      <td>...</td>\n",
              "      <td>...</td>\n",
              "      <td>...</td>\n",
              "      <td>...</td>\n",
              "    </tr>\n",
              "    <tr>\n",
              "      <th>974</th>\n",
              "      <td>0.614707</td>\n",
              "      <td>-0.848372</td>\n",
              "      <td>2.951137</td>\n",
              "      <td>-3.342915</td>\n",
              "      <td>-1.989510</td>\n",
              "      <td>4</td>\n",
              "    </tr>\n",
              "    <tr>\n",
              "      <th>975</th>\n",
              "      <td>0.557596</td>\n",
              "      <td>-1.189997</td>\n",
              "      <td>0.139263</td>\n",
              "      <td>1.994278</td>\n",
              "      <td>-1.465419</td>\n",
              "      <td>4</td>\n",
              "    </tr>\n",
              "    <tr>\n",
              "      <th>976</th>\n",
              "      <td>-2.508029</td>\n",
              "      <td>0.547525</td>\n",
              "      <td>-0.026322</td>\n",
              "      <td>0.667511</td>\n",
              "      <td>-0.520647</td>\n",
              "      <td>4</td>\n",
              "    </tr>\n",
              "    <tr>\n",
              "      <th>977</th>\n",
              "      <td>-2.087229</td>\n",
              "      <td>0.356053</td>\n",
              "      <td>-0.041315</td>\n",
              "      <td>0.337718</td>\n",
              "      <td>-0.224789</td>\n",
              "      <td>4</td>\n",
              "    </tr>\n",
              "    <tr>\n",
              "      <th>978</th>\n",
              "      <td>0.211213</td>\n",
              "      <td>-0.729193</td>\n",
              "      <td>-0.207526</td>\n",
              "      <td>0.326600</td>\n",
              "      <td>0.029012</td>\n",
              "      <td>4</td>\n",
              "    </tr>\n",
              "  </tbody>\n",
              "</table>\n",
              "<p>4888 rows × 6 columns</p>\n",
              "</div>\n",
              "      <button class=\"colab-df-convert\" onclick=\"convertToInteractive('df-af122be1-3b3e-4a0f-ad84-493be72b9993')\"\n",
              "              title=\"Convert this dataframe to an interactive table.\"\n",
              "              style=\"display:none;\">\n",
              "        \n",
              "  <svg xmlns=\"http://www.w3.org/2000/svg\" height=\"24px\"viewBox=\"0 0 24 24\"\n",
              "       width=\"24px\">\n",
              "    <path d=\"M0 0h24v24H0V0z\" fill=\"none\"/>\n",
              "    <path d=\"M18.56 5.44l.94 2.06.94-2.06 2.06-.94-2.06-.94-.94-2.06-.94 2.06-2.06.94zm-11 1L8.5 8.5l.94-2.06 2.06-.94-2.06-.94L8.5 2.5l-.94 2.06-2.06.94zm10 10l.94 2.06.94-2.06 2.06-.94-2.06-.94-.94-2.06-.94 2.06-2.06.94z\"/><path d=\"M17.41 7.96l-1.37-1.37c-.4-.4-.92-.59-1.43-.59-.52 0-1.04.2-1.43.59L10.3 9.45l-7.72 7.72c-.78.78-.78 2.05 0 2.83L4 21.41c.39.39.9.59 1.41.59.51 0 1.02-.2 1.41-.59l7.78-7.78 2.81-2.81c.8-.78.8-2.07 0-2.86zM5.41 20L4 18.59l7.72-7.72 1.47 1.35L5.41 20z\"/>\n",
              "  </svg>\n",
              "      </button>\n",
              "      \n",
              "  <style>\n",
              "    .colab-df-container {\n",
              "      display:flex;\n",
              "      flex-wrap:wrap;\n",
              "      gap: 12px;\n",
              "    }\n",
              "\n",
              "    .colab-df-convert {\n",
              "      background-color: #E8F0FE;\n",
              "      border: none;\n",
              "      border-radius: 50%;\n",
              "      cursor: pointer;\n",
              "      display: none;\n",
              "      fill: #1967D2;\n",
              "      height: 32px;\n",
              "      padding: 0 0 0 0;\n",
              "      width: 32px;\n",
              "    }\n",
              "\n",
              "    .colab-df-convert:hover {\n",
              "      background-color: #E2EBFA;\n",
              "      box-shadow: 0px 1px 2px rgba(60, 64, 67, 0.3), 0px 1px 3px 1px rgba(60, 64, 67, 0.15);\n",
              "      fill: #174EA6;\n",
              "    }\n",
              "\n",
              "    [theme=dark] .colab-df-convert {\n",
              "      background-color: #3B4455;\n",
              "      fill: #D2E3FC;\n",
              "    }\n",
              "\n",
              "    [theme=dark] .colab-df-convert:hover {\n",
              "      background-color: #434B5C;\n",
              "      box-shadow: 0px 1px 3px 1px rgba(0, 0, 0, 0.15);\n",
              "      filter: drop-shadow(0px 1px 2px rgba(0, 0, 0, 0.3));\n",
              "      fill: #FFFFFF;\n",
              "    }\n",
              "  </style>\n",
              "\n",
              "      <script>\n",
              "        const buttonEl =\n",
              "          document.querySelector('#df-af122be1-3b3e-4a0f-ad84-493be72b9993 button.colab-df-convert');\n",
              "        buttonEl.style.display =\n",
              "          google.colab.kernel.accessAllowed ? 'block' : 'none';\n",
              "\n",
              "        async function convertToInteractive(key) {\n",
              "          const element = document.querySelector('#df-af122be1-3b3e-4a0f-ad84-493be72b9993');\n",
              "          const dataTable =\n",
              "            await google.colab.kernel.invokeFunction('convertToInteractive',\n",
              "                                                     [key], {});\n",
              "          if (!dataTable) return;\n",
              "\n",
              "          const docLinkHtml = 'Like what you see? Visit the ' +\n",
              "            '<a target=\"_blank\" href=https://colab.research.google.com/notebooks/data_table.ipynb>data table notebook</a>'\n",
              "            + ' to learn more about interactive tables.';\n",
              "          element.innerHTML = '';\n",
              "          dataTable['output_type'] = 'display_data';\n",
              "          await google.colab.output.renderOutput(dataTable, element);\n",
              "          const docLink = document.createElement('div');\n",
              "          docLink.innerHTML = docLinkHtml;\n",
              "          element.appendChild(docLink);\n",
              "        }\n",
              "      </script>\n",
              "    </div>\n",
              "  </div>\n",
              "  "
            ]
          },
          "metadata": {},
          "execution_count": 26
        }
      ]
    },
    {
      "cell_type": "code",
      "source": [
        "pca.explained_variance_"
      ],
      "metadata": {
        "colab": {
          "base_uri": "https://localhost:8080/"
        },
        "id": "GE5v3vQl9Tu2",
        "outputId": "ac3468bb-6500-4204-c2aa-6a36a5115438"
      },
      "execution_count": 27,
      "outputs": [
        {
          "output_type": "execute_result",
          "data": {
            "text/plain": [
              "array([4.82115006, 2.30559806, 1.72202731, 1.09414844, 0.82358297])"
            ]
          },
          "metadata": {},
          "execution_count": 27
        }
      ]
    },
    {
      "cell_type": "code",
      "source": [
        "# Bar plot of explained_variance\n",
        "plt.bar(\n",
        "    range(1,len(pca.explained_variance_)+1),\n",
        "    pca.explained_variance_\n",
        "    )\n",
        "\n",
        "\n",
        "plt.xlabel('PCA Feature')\n",
        "plt.ylabel('Explained variance')\n",
        "plt.title('Feature Explained Variance')\n",
        "plt.show()"
      ],
      "metadata": {
        "colab": {
          "base_uri": "https://localhost:8080/",
          "height": 301
        },
        "id": "068_Aa6GB5Rb",
        "outputId": "8e9f0a04-a4f2-443f-a938-741d10955887"
      },
      "execution_count": 28,
      "outputs": [
        {
          "output_type": "display_data",
          "data": {
            "text/plain": [
              "<Figure size 432x288 with 1 Axes>"
            ],
            "image/png": "[encoded data removed]"
          },
          "metadata": {}
        }
      ]
    },
    {
      "cell_type": "code",
      "source": [
        "# Principal components correlation coefficients\n",
        "loadings = pca.components_\n",
        "\n",
        "# Number of features before PCA\n",
        "n_features = pca.n_features_\n",
        "\n",
        "# PC names\n",
        "pc_list = [f'PC{i}' for i in list(range(1, n_features + 1))]\n",
        "\n",
        "# Match PC names to loadings\n",
        "pc_loadings = dict(zip(pc_list, loadings))\n",
        "\n",
        "# Matrix of corr coefs between feature names and PCs\n",
        "loadings_df = pd.DataFrame.from_dict(pc_loadings)\n",
        "loadings_df['feature_names'] = feature_names\n",
        "loadings_df = loadings_df.set_index('feature_names')\n",
        "loadings_df"
      ],
      "metadata": {
        "colab": {
          "base_uri": "https://localhost:8080/",
          "height": 457
        },
        "id": "SSN6gOsAFQYJ",
        "outputId": "7b43e368-ba8e-42ca-dd44-88d1b5a2685f"
      },
      "execution_count": 29,
      "outputs": [
        {
          "output_type": "execute_result",
          "data": {
            "text/plain": [
              "                          PC1       PC2       PC3       PC4       PC5\n",
              "feature_names                                                        \n",
              "length_of_word       0.375910 -0.163109 -0.042707 -0.280421  0.233890\n",
              "length_of_phonetics  0.364303 -0.177687 -0.031682 -0.305191  0.282803\n",
              "num_of_syllables     0.332893 -0.202200 -0.089172 -0.266763  0.321858\n",
              "num_of_morph         0.425699 -0.023532  0.017279  0.128604 -0.285654\n",
              "num_of_prefix        0.275234  0.509761 -0.068236  0.010220 -0.040985\n",
              "num_of_roots         0.060972 -0.089951  0.483911 -0.532413 -0.498654\n",
              "num_of_suff          0.344436 -0.300817 -0.086763  0.343764 -0.146147\n",
              "total_pref_length    0.253526  0.491551 -0.065971 -0.025558 -0.004813\n",
              "total_suff_length    0.072624  0.021674  0.540751  0.396636  0.530584\n",
              "pref_famsize         0.251133  0.464247 -0.071591  0.025193 -0.047979\n",
              "suff_famsize         0.287854 -0.281214 -0.101033  0.411717 -0.345572\n",
              "root_famsize         0.142661  0.072435  0.656104  0.103250 -0.071891"
            ],
            "text/html": [
              "\n",
              "  <div id=\"df-722e8f61-cd7e-4fd0-9b3b-1b99e23200f6\">\n",
              "    <div class=\"colab-df-container\">\n",
              "      <div>\n",
              "<style scoped>\n",
              "    .dataframe tbody tr th:only-of-type {\n",
              "        vertical-align: middle;\n",
              "    }\n",
              "\n",
              "    .dataframe tbody tr th {\n",
              "        vertical-align: top;\n",
              "    }\n",
              "\n",
              "    .dataframe thead th {\n",
              "        text-align: right;\n",
              "    }\n",
              "</style>\n",
              "<table border=\"1\" class=\"dataframe\">\n",
              "  <thead>\n",
              "    <tr style=\"text-align: right;\">\n",
              "      <th></th>\n",
              "      <th>PC1</th>\n",
              "      <th>PC2</th>\n",
              "      <th>PC3</th>\n",
              "      <th>PC4</th>\n",
              "      <th>PC5</th>\n",
              "    </tr>\n",
              "    <tr>\n",
              "      <th>feature_names</th>\n",
              "      <th></th>\n",
              "      <th></th>\n",
              "      <th></th>\n",
              "      <th></th>\n",
              "      <th></th>\n",
              "    </tr>\n",
              "  </thead>\n",
              "  <tbody>\n",
              "    <tr>\n",
              "      <th>length_of_word</th>\n",
              "      <td>0.375910</td>\n",
              "      <td>-0.163109</td>\n",
              "      <td>-0.042707</td>\n",
              "      <td>-0.280421</td>\n",
              "      <td>0.233890</td>\n",
              "    </tr>\n",
              "    <tr>\n",
              "      <th>length_of_phonetics</th>\n",
              "      <td>0.364303</td>\n",
              "      <td>-0.177687</td>\n",
              "      <td>-0.031682</td>\n",
              "      <td>-0.305191</td>\n",
              "      <td>0.282803</td>\n",
              "    </tr>\n",
              "    <tr>\n",
              "      <th>num_of_syllables</th>\n",
              "      <td>0.332893</td>\n",
              "      <td>-0.202200</td>\n",
              "      <td>-0.089172</td>\n",
              "      <td>-0.266763</td>\n",
              "      <td>0.321858</td>\n",
              "    </tr>\n",
              "    <tr>\n",
              "      <th>num_of_morph</th>\n",
              "      <td>0.425699</td>\n",
              "      <td>-0.023532</td>\n",
              "      <td>0.017279</td>\n",
              "      <td>0.128604</td>\n",
              "      <td>-0.285654</td>\n",
              "    </tr>\n",
              "    <tr>\n",
              "      <th>num_of_prefix</th>\n",
              "      <td>0.275234</td>\n",
              "      <td>0.509761</td>\n",
              "      <td>-0.068236</td>\n",
              "      <td>0.010220</td>\n",
              "      <td>-0.040985</td>\n",
              "    </tr>\n",
              "    <tr>\n",
              "      <th>num_of_roots</th>\n",
              "      <td>0.060972</td>\n",
              "      <td>-0.089951</td>\n",
              "      <td>0.483911</td>\n",
              "      <td>-0.532413</td>\n",
              "      <td>-0.498654</td>\n",
              "    </tr>\n",
              "    <tr>\n",
              "      <th>num_of_suff</th>\n",
              "      <td>0.344436</td>\n",
              "      <td>-0.300817</td>\n",
              "      <td>-0.086763</td>\n",
              "      <td>0.343764</td>\n",
              "      <td>-0.146147</td>\n",
              "    </tr>\n",
              "    <tr>\n",
              "      <th>total_pref_length</th>\n",
              "      <td>0.253526</td>\n",
              "      <td>0.491551</td>\n",
              "      <td>-0.065971</td>\n",
              "      <td>-0.025558</td>\n",
              "      <td>-0.004813</td>\n",
              "    </tr>\n",
              "    <tr>\n",
              "      <th>total_suff_length</th>\n",
              "      <td>0.072624</td>\n",
              "      <td>0.021674</td>\n",
              "      <td>0.540751</td>\n",
              "      <td>0.396636</td>\n",
              "      <td>0.530584</td>\n",
              "    </tr>\n",
              "    <tr>\n",
              "      <th>pref_famsize</th>\n",
              "      <td>0.251133</td>\n",
              "      <td>0.464247</td>\n",
              "      <td>-0.071591</td>\n",
              "      <td>0.025193</td>\n",
              "      <td>-0.047979</td>\n",
              "    </tr>\n",
              "    <tr>\n",
              "      <th>suff_famsize</th>\n",
              "      <td>0.287854</td>\n",
              "      <td>-0.281214</td>\n",
              "      <td>-0.101033</td>\n",
              "      <td>0.411717</td>\n",
              "      <td>-0.345572</td>\n",
              "    </tr>\n",
              "    <tr>\n",
              "      <th>root_famsize</th>\n",
              "      <td>0.142661</td>\n",
              "      <td>0.072435</td>\n",
              "      <td>0.656104</td>\n",
              "      <td>0.103250</td>\n",
              "      <td>-0.071891</td>\n",
              "    </tr>\n",
              "  </tbody>\n",
              "</table>\n",
              "</div>\n",
              "      <button class=\"colab-df-convert\" onclick=\"convertToInteractive('df-722e8f61-cd7e-4fd0-9b3b-1b99e23200f6')\"\n",
              "              title=\"Convert this dataframe to an interactive table.\"\n",
              "              style=\"display:none;\">\n",
              "        \n",
              "  <svg xmlns=\"http://www.w3.org/2000/svg\" height=\"24px\"viewBox=\"0 0 24 24\"\n",
              "       width=\"24px\">\n",
              "    <path d=\"M0 0h24v24H0V0z\" fill=\"none\"/>\n",
              "    <path d=\"M18.56 5.44l.94 2.06.94-2.06 2.06-.94-2.06-.94-.94-2.06-.94 2.06-2.06.94zm-11 1L8.5 8.5l.94-2.06 2.06-.94-2.06-.94L8.5 2.5l-.94 2.06-2.06.94zm10 10l.94 2.06.94-2.06 2.06-.94-2.06-.94-.94-2.06-.94 2.06-2.06.94z\"/><path d=\"M17.41 7.96l-1.37-1.37c-.4-.4-.92-.59-1.43-.59-.52 0-1.04.2-1.43.59L10.3 9.45l-7.72 7.72c-.78.78-.78 2.05 0 2.83L4 21.41c.39.39.9.59 1.41.59.51 0 1.02-.2 1.41-.59l7.78-7.78 2.81-2.81c.8-.78.8-2.07 0-2.86zM5.41 20L4 18.59l7.72-7.72 1.47 1.35L5.41 20z\"/>\n",
              "  </svg>\n",
              "      </button>\n",
              "      \n",
              "  <style>\n",
              "    .colab-df-container {\n",
              "      display:flex;\n",
              "      flex-wrap:wrap;\n",
              "      gap: 12px;\n",
              "    }\n",
              "\n",
              "    .colab-df-convert {\n",
              "      background-color: #E8F0FE;\n",
              "      border: none;\n",
              "      border-radius: 50%;\n",
              "      cursor: pointer;\n",
              "      display: none;\n",
              "      fill: #1967D2;\n",
              "      height: 32px;\n",
              "      padding: 0 0 0 0;\n",
              "      width: 32px;\n",
              "    }\n",
              "\n",
              "    .colab-df-convert:hover {\n",
              "      background-color: #E2EBFA;\n",
              "      box-shadow: 0px 1px 2px rgba(60, 64, 67, 0.3), 0px 1px 3px 1px rgba(60, 64, 67, 0.15);\n",
              "      fill: #174EA6;\n",
              "    }\n",
              "\n",
              "    [theme=dark] .colab-df-convert {\n",
              "      background-color: #3B4455;\n",
              "      fill: #D2E3FC;\n",
              "    }\n",
              "\n",
              "    [theme=dark] .colab-df-convert:hover {\n",
              "      background-color: #434B5C;\n",
              "      box-shadow: 0px 1px 3px 1px rgba(0, 0, 0, 0.15);\n",
              "      filter: drop-shadow(0px 1px 2px rgba(0, 0, 0, 0.3));\n",
              "      fill: #FFFFFF;\n",
              "    }\n",
              "  </style>\n",
              "\n",
              "      <script>\n",
              "        const buttonEl =\n",
              "          document.querySelector('#df-722e8f61-cd7e-4fd0-9b3b-1b99e23200f6 button.colab-df-convert');\n",
              "        buttonEl.style.display =\n",
              "          google.colab.kernel.accessAllowed ? 'block' : 'none';\n",
              "\n",
              "        async function convertToInteractive(key) {\n",
              "          const element = document.querySelector('#df-722e8f61-cd7e-4fd0-9b3b-1b99e23200f6');\n",
              "          const dataTable =\n",
              "            await google.colab.kernel.invokeFunction('convertToInteractive',\n",
              "                                                     [key], {});\n",
              "          if (!dataTable) return;\n",
              "\n",
              "          const docLinkHtml = 'Like what you see? Visit the ' +\n",
              "            '<a target=\"_blank\" href=https://colab.research.google.com/notebooks/data_table.ipynb>data table notebook</a>'\n",
              "            + ' to learn more about interactive tables.';\n",
              "          element.innerHTML = '';\n",
              "          dataTable['output_type'] = 'display_data';\n",
              "          await google.colab.output.renderOutput(dataTable, element);\n",
              "          const docLink = document.createElement('div');\n",
              "          docLink.innerHTML = docLinkHtml;\n",
              "          element.appendChild(docLink);\n",
              "        }\n",
              "      </script>\n",
              "    </div>\n",
              "  </div>\n",
              "  "
            ]
          },
          "metadata": {},
          "execution_count": 29
        }
      ]
    },
    {
      "cell_type": "code",
      "source": [
        "df = pd.DataFrame(pca.components_, columns=feature_names)\n",
        "plt.figure(figsize=(12,6))\n",
        "sns.heatmap(df, cmap='plasma')"
      ],
      "metadata": {
        "colab": {
          "base_uri": "https://localhost:8080/",
          "height": 495
        },
        "id": "ffY8F1IXV4Kv",
        "outputId": "2538566c-c82e-4033-c0b6-e3d72b75c3d7"
      },
      "execution_count": 30,
      "outputs": [
        {
          "output_type": "execute_result",
          "data": {
            "text/plain": [
              "<matplotlib.axes._subplots.AxesSubplot at 0x7f3200b57190>"
            ]
          },
          "metadata": {},
          "execution_count": 30
        },
        {
          "output_type": "display_data",
          "data": {
            "text/plain": [
              "<Figure size 864x432 with 2 Axes>"
            ],
            "image/png": "[encoded data removed]"
          },
          "metadata": {}
        }
      ]
    },
    {
      "cell_type": "code",
      "source": [
        "nComp = 5\n",
        "mu = np.mean(X_train, axis=0)\n",
        "Xhat = np.dot(pca.transform(X_train)[:,:nComp], pca.components_[:nComp,:])\n",
        "Xhat += mu\n",
        "\n",
        "print(Xhat)"
      ],
      "metadata": {
        "colab": {
          "base_uri": "https://localhost:8080/"
        },
        "id": "6PtEUEmSmEyI",
        "outputId": "f20a7d9d-095b-4156-9e4e-baf8a2eb8e8e"
      },
      "execution_count": 31,
      "outputs": [
        {
          "output_type": "stream",
          "name": "stdout",
          "text": [
            "[[-0.81258881 -0.7966438  -0.72414332 ... -0.38468792 -0.54978437\n",
            "  -0.32332427]\n",
            " [-0.55394682 -0.52665476 -0.4748595  ... -0.35995467 -0.56010818\n",
            "  -0.21340703]\n",
            " [-0.77388468 -0.76007688 -0.69249193 ... -0.3604792  -0.51915081\n",
            "  -0.31644326]\n",
            " ...\n",
            " [ 0.14266799  0.2117671   0.26432508 ... -0.39252375 -0.6804865\n",
            "  -0.40467185]\n",
            " [ 0.30765258  0.23422679  0.29013081 ... -0.35694753  1.86809603\n",
            "  -0.16439507]\n",
            " [-0.06609272 -0.01091108  0.04435984 ... -0.37618695 -0.64310797\n",
            "  -0.40207963]]\n"
          ]
        }
      ]
    },
    {
      "cell_type": "code",
      "source": [
        "print(Xhat.sum(axis=0))"
      ],
      "metadata": {
        "colab": {
          "base_uri": "https://localhost:8080/"
        },
        "id": "Twg4GOhqlwlm",
        "outputId": "5685165d-4548-4663-aff4-072dbab9993e"
      },
      "execution_count": 32,
      "outputs": [
        {
          "output_type": "stream",
          "name": "stdout",
          "text": [
            "[-2.60977351e-12 -1.77755380e-12  1.97040301e-12  1.54298796e-12\n",
            "  5.18363130e-13  3.30485639e-13 -1.58184577e-12 -2.49578136e-13\n",
            " -2.08735806e-13  7.89923682e-14 -9.85878046e-14  2.10831352e-13]\n"
          ]
        }
      ]
    },
    {
      "cell_type": "markdown",
      "source": [
        "# Logistic Regression"
      ],
      "metadata": {
        "id": "WxmoOXA4IlQl"
      }
    },
    {
      "cell_type": "markdown",
      "metadata": {
        "id": "bb6jCOCQiAmP"
      },
      "source": [
        "## Training the Logistic Regression model on the Training set"
      ]
    },
    {
      "cell_type": "code",
      "source": [
        "X_train = pca_X_train\n",
        "X_test = pca_X_test"
      ],
      "metadata": {
        "id": "Qucp_b6nIoz-"
      },
      "execution_count": 33,
      "outputs": []
    },
    {
      "cell_type": "code",
      "source": [
        "X_train.shape"
      ],
      "metadata": {
        "colab": {
          "base_uri": "https://localhost:8080/"
        },
        "id": "nE-ZZm2HSJgb",
        "outputId": "0f02cfa5-9139-4bd5-b6c4-ba4d38c3a95d"
      },
      "execution_count": 34,
      "outputs": [
        {
          "output_type": "execute_result",
          "data": {
            "text/plain": [
              "(3909, 5)"
            ]
          },
          "metadata": {},
          "execution_count": 34
        }
      ]
    },
    {
      "cell_type": "code",
      "source": [
        "X_test.shape"
      ],
      "metadata": {
        "colab": {
          "base_uri": "https://localhost:8080/"
        },
        "id": "efw5foqxSSUO",
        "outputId": "4e3d36f1-f6c3-4cdc-9f61-a3a266811ee3"
      },
      "execution_count": 35,
      "outputs": [
        {
          "output_type": "execute_result",
          "data": {
            "text/plain": [
              "(979, 5)"
            ]
          },
          "metadata": {},
          "execution_count": 35
        }
      ]
    },
    {
      "cell_type": "code",
      "metadata": {
        "id": "e0pFVAmciHQs",
        "outputId": "fe9bfc3f-cf21-49eb-a251-d8e68570ba55",
        "colab": {
          "base_uri": "https://localhost:8080/"
        }
      },
      "source": [
        "from sklearn.linear_model import LogisticRegression\n",
        "lr = LogisticRegression(random_state = 0, multi_class='multinomial', solver='lbfgs')\n",
        "lr.fit(X_train, y_train)"
      ],
      "execution_count": 36,
      "outputs": [
        {
          "output_type": "execute_result",
          "data": {
            "text/plain": [
              "LogisticRegression(multi_class='multinomial', random_state=0)"
            ]
          },
          "metadata": {},
          "execution_count": 36
        }
      ]
    },
    {
      "cell_type": "markdown",
      "metadata": {
        "id": "U-eGh0nuyabx"
      },
      "source": [
        "## Applying k-Fold Cross Validation"
      ]
    },
    {
      "cell_type": "code",
      "metadata": {
        "id": "N5puHSW9ydyi",
        "outputId": "01fad3dc-8a6d-433a-d877-7ba52a6cfbc3",
        "colab": {
          "base_uri": "https://localhost:8080/"
        }
      },
      "source": [
        "from sklearn.model_selection import cross_val_score\n",
        "accuracies = cross_val_score(estimator = lr, X = X_train, y = y_train, cv = 10)\n",
        "print(\"Accuracy: {:.2f} %\".format(accuracies.mean()*100))\n",
        "print(\"Standard Deviation: {:.2f} %\".format(accuracies.std()*100))"
      ],
      "execution_count": 37,
      "outputs": [
        {
          "output_type": "stream",
          "name": "stdout",
          "text": [
            "Accuracy: 33.59 %\n",
            "Standard Deviation: 3.09 %\n"
          ]
        }
      ]
    },
    {
      "cell_type": "markdown",
      "metadata": {
        "id": "wZpJhZGWh7cF"
      },
      "source": [
        "## Applying Grid Search to find the best parameters"
      ]
    },
    {
      "cell_type": "code",
      "metadata": {
        "outputId": "6fb249aa-15f6-450b-db42-8fba551dee55",
        "colab": {
          "base_uri": "https://localhost:8080/"
        },
        "id": "rGLqbWKWh7cF"
      },
      "source": [
        "from sklearn.model_selection import GridSearchCV\n",
        "parameters = {\"C\":np.logspace(-3,3,7), \"penalty\":[\"l1\",\"l2\"]}\n",
        "grid_search = GridSearchCV(estimator = lr,\n",
        "                           param_grid = parameters,\n",
        "                           scoring = 'accuracy',\n",
        "                           cv = 10,\n",
        "                           n_jobs = -1)\n",
        "grid_search.fit(X_train, y_train)\n",
        "best_accuracy = grid_search.best_score_\n",
        "best_parameters = grid_search.best_params_\n",
        "print(\"Best Accuracy: {:.2f} %\".format(best_accuracy*100))\n",
        "print(\"Best Parameters:\", best_parameters)"
      ],
      "execution_count": 38,
      "outputs": [
        {
          "output_type": "stream",
          "name": "stdout",
          "text": [
            "Best Accuracy: 33.64 %\n",
            "Best Parameters: {'C': 0.01, 'penalty': 'l2'}\n"
          ]
        },
        {
          "output_type": "stream",
          "name": "stderr",
          "text": [
            "/usr/local/lib/python3.8/dist-packages/sklearn/model_selection/_validation.py:372: FitFailedWarning: \n",
            "70 fits failed out of a total of 140.\n",
            "The score on these train-test partitions for these parameters will be set to nan.\n",
            "If these failures are not expected, you can try to debug them by setting error_score='raise'.\n",
            "\n",
            "Below are more details about the failures:\n",
            "--------------------------------------------------------------------------------\n",
            "70 fits failed with the following error:\n",
            "Traceback (most recent call last):\n",
            "  File \"/usr/local/lib/python3.8/dist-packages/sklearn/model_selection/_validation.py\", line 680, in _fit_and_score\n",
            "    estimator.fit(X_train, y_train, **fit_params)\n",
            "  File \"/usr/local/lib/python3.8/dist-packages/sklearn/linear_model/_logistic.py\", line 1461, in fit\n",
            "    solver = _check_solver(self.solver, self.penalty, self.dual)\n",
            "  File \"/usr/local/lib/python3.8/dist-packages/sklearn/linear_model/_logistic.py\", line 447, in _check_solver\n",
            "    raise ValueError(\n",
            "ValueError: Solver lbfgs supports only 'l2' or 'none' penalties, got l1 penalty.\n",
            "\n",
            "  warnings.warn(some_fits_failed_message, FitFailedWarning)\n",
            "/usr/local/lib/python3.8/dist-packages/sklearn/model_selection/_search.py:969: UserWarning: One or more of the test scores are non-finite: [       nan 0.33231228        nan 0.33640894        nan 0.33436619\n",
            "        nan 0.33590006        nan 0.33615581        nan 0.33615581\n",
            "        nan 0.33615581]\n",
            "  warnings.warn(\n"
          ]
        }
      ]
    },
    {
      "cell_type": "code",
      "source": [
        "lr = LogisticRegression(C=best_parameters['C'], penalty=best_parameters['penalty'], multi_class='multinomial', solver='lbfgs')\n",
        "lr.fit(X_train, y_train)"
      ],
      "metadata": {
        "colab": {
          "base_uri": "https://localhost:8080/"
        },
        "id": "mGHmi05yi784",
        "outputId": "c5857bbd-7214-400c-fdeb-134a00959f39"
      },
      "execution_count": 39,
      "outputs": [
        {
          "output_type": "execute_result",
          "data": {
            "text/plain": [
              "LogisticRegression(C=0.01, multi_class='multinomial')"
            ]
          },
          "metadata": {},
          "execution_count": 39
        }
      ]
    },
    {
      "cell_type": "markdown",
      "metadata": {
        "id": "vKYVQH-l5NpE"
      },
      "source": [
        "## Predicting the Test set results"
      ]
    },
    {
      "cell_type": "code",
      "metadata": {
        "id": "p6VMTb2O4hwM",
        "outputId": "558f4635-2815-4b1f-cf02-59290640e8a7",
        "colab": {
          "base_uri": "https://localhost:8080/"
        }
      },
      "source": [
        "y_pred_LR = lr.predict(X_test)\n",
        "print(np.concatenate((y_pred_LR.reshape(len(y_pred_LR),1), y_test.reshape(len(y_test),1)),1))"
      ],
      "execution_count": 40,
      "outputs": [
        {
          "output_type": "stream",
          "name": "stdout",
          "text": [
            "[[0 0]\n",
            " [3 0]\n",
            " [0 0]\n",
            " ...\n",
            " [0 4]\n",
            " [0 4]\n",
            " [3 4]]\n"
          ]
        }
      ]
    },
    {
      "cell_type": "markdown",
      "metadata": {
        "id": "h4Hwj34ziWQW"
      },
      "source": [
        "## Making the Confusion Matrix"
      ]
    },
    {
      "cell_type": "code",
      "metadata": {
        "id": "D6bpZwUiiXic",
        "outputId": "60d8086e-01d7-4899-d1e4-9cd5826e9553",
        "colab": {
          "base_uri": "https://localhost:8080/"
        }
      },
      "source": [
        "from sklearn.metrics import confusion_matrix, classification_report, accuracy_score\n",
        "cm = confusion_matrix(y_test, y_pred_LR)\n",
        "print(cm)\n",
        "print(classification_report(y_test, y_pred_LR))"
      ],
      "execution_count": 41,
      "outputs": [
        {
          "output_type": "stream",
          "name": "stdout",
          "text": [
            "[[125   0   0  37  15]\n",
            " [ 87   0   0  51  19]\n",
            " [ 69   0   0  45  24]\n",
            " [ 96   1   0 107  52]\n",
            " [ 82   0   0  81  88]]\n",
            "              precision    recall  f1-score   support\n",
            "\n",
            "           0       0.27      0.71      0.39       177\n",
            "           1       0.00      0.00      0.00       157\n",
            "           2       0.00      0.00      0.00       138\n",
            "           3       0.33      0.42      0.37       256\n",
            "           4       0.44      0.35      0.39       251\n",
            "\n",
            "    accuracy                           0.33       979\n",
            "   macro avg       0.21      0.29      0.23       979\n",
            "weighted avg       0.25      0.33      0.27       979\n",
            "\n"
          ]
        },
        {
          "output_type": "stream",
          "name": "stderr",
          "text": [
            "/usr/local/lib/python3.8/dist-packages/sklearn/metrics/_classification.py:1318: UndefinedMetricWarning: Precision and F-score are ill-defined and being set to 0.0 in labels with no predicted samples. Use `zero_division` parameter to control this behavior.\n",
            "  _warn_prf(average, modifier, msg_start, len(result))\n",
            "/usr/local/lib/python3.8/dist-packages/sklearn/metrics/_classification.py:1318: UndefinedMetricWarning: Precision and F-score are ill-defined and being set to 0.0 in labels with no predicted samples. Use `zero_division` parameter to control this behavior.\n",
            "  _warn_prf(average, modifier, msg_start, len(result))\n",
            "/usr/local/lib/python3.8/dist-packages/sklearn/metrics/_classification.py:1318: UndefinedMetricWarning: Precision and F-score are ill-defined and being set to 0.0 in labels with no predicted samples. Use `zero_division` parameter to control this behavior.\n",
            "  _warn_prf(average, modifier, msg_start, len(result))\n"
          ]
        }
      ]
    },
    {
      "cell_type": "code",
      "source": [
        "accuracy_score(y_test, y_pred_LR)"
      ],
      "metadata": {
        "colab": {
          "base_uri": "https://localhost:8080/"
        },
        "outputId": "e59c02cc-6f92-4dff-b22f-9ddfcd7324b6",
        "id": "mGcwC3KfWnHe"
      },
      "execution_count": 42,
      "outputs": [
        {
          "output_type": "execute_result",
          "data": {
            "text/plain": [
              "0.3268641470888662"
            ]
          },
          "metadata": {},
          "execution_count": 42
        }
      ]
    },
    {
      "cell_type": "code",
      "source": [
        "pd.crosstab(y_test, y_pred_LR)"
      ],
      "metadata": {
        "colab": {
          "base_uri": "https://localhost:8080/",
          "height": 238
        },
        "outputId": "34bf3af2-fa25-465c-c960-64a97a4e301c",
        "id": "WPwkks4ETcXG"
      },
      "execution_count": 43,
      "outputs": [
        {
          "output_type": "execute_result",
          "data": {
            "text/plain": [
              "col_0    0  1    3   4\n",
              "row_0                 \n",
              "0      125  0   37  15\n",
              "1       87  0   51  19\n",
              "2       69  0   45  24\n",
              "3       96  1  107  52\n",
              "4       82  0   81  88"
            ],
            "text/html": [
              "\n",
              "  <div id=\"df-3374a469-19cd-44af-a8f3-cb9da522186a\">\n",
              "    <div class=\"colab-df-container\">\n",
              "      <div>\n",
              "<style scoped>\n",
              "    .dataframe tbody tr th:only-of-type {\n",
              "        vertical-align: middle;\n",
              "    }\n",
              "\n",
              "    .dataframe tbody tr th {\n",
              "        vertical-align: top;\n",
              "    }\n",
              "\n",
              "    .dataframe thead th {\n",
              "        text-align: right;\n",
              "    }\n",
              "</style>\n",
              "<table border=\"1\" class=\"dataframe\">\n",
              "  <thead>\n",
              "    <tr style=\"text-align: right;\">\n",
              "      <th>col_0</th>\n",
              "      <th>0</th>\n",
              "      <th>1</th>\n",
              "      <th>3</th>\n",
              "      <th>4</th>\n",
              "    </tr>\n",
              "    <tr>\n",
              "      <th>row_0</th>\n",
              "      <th></th>\n",
              "      <th></th>\n",
              "      <th></th>\n",
              "      <th></th>\n",
              "    </tr>\n",
              "  </thead>\n",
              "  <tbody>\n",
              "    <tr>\n",
              "      <th>0</th>\n",
              "      <td>125</td>\n",
              "      <td>0</td>\n",
              "      <td>37</td>\n",
              "      <td>15</td>\n",
              "    </tr>\n",
              "    <tr>\n",
              "      <th>1</th>\n",
              "      <td>87</td>\n",
              "      <td>0</td>\n",
              "      <td>51</td>\n",
              "      <td>19</td>\n",
              "    </tr>\n",
              "    <tr>\n",
              "      <th>2</th>\n",
              "      <td>69</td>\n",
              "      <td>0</td>\n",
              "      <td>45</td>\n",
              "      <td>24</td>\n",
              "    </tr>\n",
              "    <tr>\n",
              "      <th>3</th>\n",
              "      <td>96</td>\n",
              "      <td>1</td>\n",
              "      <td>107</td>\n",
              "      <td>52</td>\n",
              "    </tr>\n",
              "    <tr>\n",
              "      <th>4</th>\n",
              "      <td>82</td>\n",
              "      <td>0</td>\n",
              "      <td>81</td>\n",
              "      <td>88</td>\n",
              "    </tr>\n",
              "  </tbody>\n",
              "</table>\n",
              "</div>\n",
              "      <button class=\"colab-df-convert\" onclick=\"convertToInteractive('df-3374a469-19cd-44af-a8f3-cb9da522186a')\"\n",
              "              title=\"Convert this dataframe to an interactive table.\"\n",
              "              style=\"display:none;\">\n",
              "        \n",
              "  <svg xmlns=\"http://www.w3.org/2000/svg\" height=\"24px\"viewBox=\"0 0 24 24\"\n",
              "       width=\"24px\">\n",
              "    <path d=\"M0 0h24v24H0V0z\" fill=\"none\"/>\n",
              "    <path d=\"M18.56 5.44l.94 2.06.94-2.06 2.06-.94-2.06-.94-.94-2.06-.94 2.06-2.06.94zm-11 1L8.5 8.5l.94-2.06 2.06-.94-2.06-.94L8.5 2.5l-.94 2.06-2.06.94zm10 10l.94 2.06.94-2.06 2.06-.94-2.06-.94-.94-2.06-.94 2.06-2.06.94z\"/><path d=\"M17.41 7.96l-1.37-1.37c-.4-.4-.92-.59-1.43-.59-.52 0-1.04.2-1.43.59L10.3 9.45l-7.72 7.72c-.78.78-.78 2.05 0 2.83L4 21.41c.39.39.9.59 1.41.59.51 0 1.02-.2 1.41-.59l7.78-7.78 2.81-2.81c.8-.78.8-2.07 0-2.86zM5.41 20L4 18.59l7.72-7.72 1.47 1.35L5.41 20z\"/>\n",
              "  </svg>\n",
              "      </button>\n",
              "      \n",
              "  <style>\n",
              "    .colab-df-container {\n",
              "      display:flex;\n",
              "      flex-wrap:wrap;\n",
              "      gap: 12px;\n",
              "    }\n",
              "\n",
              "    .colab-df-convert {\n",
              "      background-color: #E8F0FE;\n",
              "      border: none;\n",
              "      border-radius: 50%;\n",
              "      cursor: pointer;\n",
              "      display: none;\n",
              "      fill: #1967D2;\n",
              "      height: 32px;\n",
              "      padding: 0 0 0 0;\n",
              "      width: 32px;\n",
              "    }\n",
              "\n",
              "    .colab-df-convert:hover {\n",
              "      background-color: #E2EBFA;\n",
              "      box-shadow: 0px 1px 2px rgba(60, 64, 67, 0.3), 0px 1px 3px 1px rgba(60, 64, 67, 0.15);\n",
              "      fill: #174EA6;\n",
              "    }\n",
              "\n",
              "    [theme=dark] .colab-df-convert {\n",
              "      background-color: #3B4455;\n",
              "      fill: #D2E3FC;\n",
              "    }\n",
              "\n",
              "    [theme=dark] .colab-df-convert:hover {\n",
              "      background-color: #434B5C;\n",
              "      box-shadow: 0px 1px 3px 1px rgba(0, 0, 0, 0.15);\n",
              "      filter: drop-shadow(0px 1px 2px rgba(0, 0, 0, 0.3));\n",
              "      fill: #FFFFFF;\n",
              "    }\n",
              "  </style>\n",
              "\n",
              "      <script>\n",
              "        const buttonEl =\n",
              "          document.querySelector('#df-3374a469-19cd-44af-a8f3-cb9da522186a button.colab-df-convert');\n",
              "        buttonEl.style.display =\n",
              "          google.colab.kernel.accessAllowed ? 'block' : 'none';\n",
              "\n",
              "        async function convertToInteractive(key) {\n",
              "          const element = document.querySelector('#df-3374a469-19cd-44af-a8f3-cb9da522186a');\n",
              "          const dataTable =\n",
              "            await google.colab.kernel.invokeFunction('convertToInteractive',\n",
              "                                                     [key], {});\n",
              "          if (!dataTable) return;\n",
              "\n",
              "          const docLinkHtml = 'Like what you see? Visit the ' +\n",
              "            '<a target=\"_blank\" href=https://colab.research.google.com/notebooks/data_table.ipynb>data table notebook</a>'\n",
              "            + ' to learn more about interactive tables.';\n",
              "          element.innerHTML = '';\n",
              "          dataTable['output_type'] = 'display_data';\n",
              "          await google.colab.output.renderOutput(dataTable, element);\n",
              "          const docLink = document.createElement('div');\n",
              "          docLink.innerHTML = docLinkHtml;\n",
              "          element.appendChild(docLink);\n",
              "        }\n",
              "      </script>\n",
              "    </div>\n",
              "  </div>\n",
              "  "
            ]
          },
          "metadata": {},
          "execution_count": 43
        }
      ]
    },
    {
      "cell_type": "markdown",
      "source": [
        "# K-Nearest Neighbors (K-NN)"
      ],
      "metadata": {
        "id": "lawrFW2eTjRc"
      }
    },
    {
      "cell_type": "markdown",
      "metadata": {
        "id": "cfJvwEuTAgI-"
      },
      "source": [
        "## Optimal value of K"
      ]
    },
    {
      "cell_type": "code",
      "execution_count": 44,
      "metadata": {
        "id": "IwGp-D26AgI_"
      },
      "outputs": [],
      "source": [
        "error_rate = []\n",
        "# Might take some time\n",
        "from sklearn.neighbors import KNeighborsClassifier\n",
        "for i in range(1,40):\n",
        "    \n",
        "    knn = KNeighborsClassifier(n_neighbors=i)\n",
        "    knn.fit(X_train,y_train)\n",
        "    pred_i = knn.predict(X_test)\n",
        "    error_rate.append(np.mean(pred_i != y_test))"
      ]
    },
    {
      "cell_type": "code",
      "execution_count": 45,
      "metadata": {
        "id": "gVGIswpbAgI_",
        "outputId": "f9a0653d-f705-41f6-b297-c6232952cb72",
        "colab": {
          "base_uri": "https://localhost:8080/",
          "height": 427
        }
      },
      "outputs": [
        {
          "output_type": "execute_result",
          "data": {
            "text/plain": [
              "Text(0, 0.5, 'Error Rate')"
            ]
          },
          "metadata": {},
          "execution_count": 45
        },
        {
          "output_type": "display_data",
          "data": {
            "text/plain": [
              "<Figure size 720x432 with 1 Axes>"
            ],
            "image/png": "[encoded data removed]"
          },
          "metadata": {}
        }
      ],
      "source": [
        "plt.figure(figsize=(10,6))\n",
        "plt.plot(range(1,40),error_rate,color='blue', linestyle='dashed', marker='o',\n",
        "         markerfacecolor='red', markersize=10)\n",
        "plt.title('Error Rate vs. K Value')\n",
        "plt.xlabel('K')\n",
        "plt.ylabel('Error Rate')"
      ]
    },
    {
      "cell_type": "markdown",
      "source": [
        "The optimal value of K is 5, as we will also see in the hyperparameter tuning using Grid Search part"
      ],
      "metadata": {
        "id": "gltinjeV1czR"
      }
    },
    {
      "cell_type": "markdown",
      "metadata": {
        "id": "oDzYMBphUBUY"
      },
      "source": [
        "## Training the K-NN model on the Training set"
      ]
    },
    {
      "cell_type": "code",
      "source": [
        "X_train = pca_X_train\n",
        "X_test = pca_X_test"
      ],
      "metadata": {
        "id": "Fq6EByWVI0hL"
      },
      "execution_count": 46,
      "outputs": []
    },
    {
      "cell_type": "code",
      "metadata": {
        "colab": {
          "base_uri": "https://localhost:8080/"
        },
        "id": "jcNpBs-dT16L",
        "outputId": "70dfc8a7-3b70-44ac-fc63-cc90b4ba5f8c"
      },
      "source": [
        "from sklearn.neighbors import KNeighborsClassifier\n",
        "knn = KNeighborsClassifier()\n",
        "knn.fit(X_train, y_train)"
      ],
      "execution_count": 47,
      "outputs": [
        {
          "output_type": "execute_result",
          "data": {
            "text/plain": [
              "KNeighborsClassifier()"
            ]
          },
          "metadata": {},
          "execution_count": 47
        }
      ]
    },
    {
      "cell_type": "markdown",
      "metadata": {
        "id": "I1vO91_Oa2IZ"
      },
      "source": [
        "## Applying k-Fold Cross Validation"
      ]
    },
    {
      "cell_type": "code",
      "metadata": {
        "outputId": "febdcadf-6853-4e9a-9f45-bf9cbb690704",
        "colab": {
          "base_uri": "https://localhost:8080/"
        },
        "id": "t5oeW2nca2Ia"
      },
      "source": [
        "from sklearn.model_selection import cross_val_score\n",
        "accuracies = cross_val_score(estimator = knn, X = X_train, y = y_train, cv = 10)\n",
        "print(\"Accuracy: {:.2f} %\".format(accuracies.mean()*100))\n",
        "print(\"Standard Deviation: {:.2f} %\".format(accuracies.std()*100))"
      ],
      "execution_count": 48,
      "outputs": [
        {
          "output_type": "stream",
          "name": "stdout",
          "text": [
            "Accuracy: 27.76 %\n",
            "Standard Deviation: 1.83 %\n"
          ]
        }
      ]
    },
    {
      "cell_type": "markdown",
      "metadata": {
        "id": "ghbELc0AzAP1"
      },
      "source": [
        "## Applying Grid Search to find the best parameters"
      ]
    },
    {
      "cell_type": "code",
      "metadata": {
        "outputId": "c9311d22-a903-408b-ccdf-ffc2e0c92b05",
        "colab": {
          "base_uri": "https://localhost:8080/"
        },
        "id": "zMk5AwlSzAP2"
      },
      "source": [
        "from sklearn.model_selection import GridSearchCV\n",
        "parameters = {\"n_neighbors\": [15, 20, 25, 30, 35, 40],\n",
        "              \"weights\": ['uniform', 'distance'],\n",
        "              \"metric\": ['euclidean', 'manhattan', 'minkowski'],\n",
        "              \"algorithm\":['auto', 'ball_tree', 'kd_tree', 'brute']};\n",
        "\n",
        "grid_search = GridSearchCV(estimator = knn,\n",
        "                           param_grid = parameters,\n",
        "                           verbose = 1,\n",
        "                           scoring = 'accuracy',\n",
        "                           cv = 3,\n",
        "                           n_jobs = -1)\n",
        "grid_search.fit(X_train, y_train)\n",
        "best_accuracy = grid_search.best_score_\n",
        "best_parameters = grid_search.best_params_\n",
        "print(\"Best Accuracy: {:.2f} %\".format(best_accuracy*100))\n",
        "print(\"Best Parameters:\", best_parameters)"
      ],
      "execution_count": 49,
      "outputs": [
        {
          "output_type": "stream",
          "name": "stdout",
          "text": [
            "Fitting 3 folds for each of 144 candidates, totalling 432 fits\n",
            "Best Accuracy: 32.34 %\n",
            "Best Parameters: {'algorithm': 'auto', 'metric': 'euclidean', 'n_neighbors': 30, 'weights': 'uniform'}\n"
          ]
        }
      ]
    },
    {
      "cell_type": "code",
      "source": [
        "knn = KNeighborsClassifier(algorithm=best_parameters['algorithm'], metric=best_parameters['metric'], n_neighbors=best_parameters['n_neighbors'], weights=best_parameters['weights'])\n",
        "knn.fit(X_train, y_train)"
      ],
      "metadata": {
        "colab": {
          "base_uri": "https://localhost:8080/"
        },
        "outputId": "509ad37b-35cf-4624-e354-2911aea49cc6",
        "id": "N8XU3PDKzAP2"
      },
      "execution_count": 50,
      "outputs": [
        {
          "output_type": "execute_result",
          "data": {
            "text/plain": [
              "KNeighborsClassifier(metric='euclidean', n_neighbors=30)"
            ]
          },
          "metadata": {},
          "execution_count": 50
        }
      ]
    },
    {
      "cell_type": "markdown",
      "metadata": {
        "id": "erqRRscpUDuQ"
      },
      "source": [
        "## Predicting the Test set results"
      ]
    },
    {
      "cell_type": "code",
      "source": [
        "y_pred_KNN = knn.predict(X_test)"
      ],
      "metadata": {
        "id": "yXaQu-ojT9W3"
      },
      "execution_count": 51,
      "outputs": []
    },
    {
      "cell_type": "markdown",
      "metadata": {
        "id": "JDvobqEGUIpg"
      },
      "source": [
        "## Making the Confusion Matrix"
      ]
    },
    {
      "cell_type": "code",
      "metadata": {
        "colab": {
          "base_uri": "https://localhost:8080/"
        },
        "outputId": "d9f44c25-89e3-447c-bb81-18e9bf18c04a",
        "id": "cFZRB-NaUIph"
      },
      "source": [
        "from sklearn.metrics import confusion_matrix, classification_report, accuracy_score\n",
        "print(confusion_matrix(y_test,y_pred_KNN))\n",
        "print(classification_report(y_test,y_pred_KNN))"
      ],
      "execution_count": 52,
      "outputs": [
        {
          "output_type": "stream",
          "name": "stdout",
          "text": [
            "[[ 89  19   6  37  26]\n",
            " [ 56  19   7  37  38]\n",
            " [ 45  24   6  37  26]\n",
            " [ 64  29  18  77  68]\n",
            " [ 42  15  14  62 118]]\n",
            "              precision    recall  f1-score   support\n",
            "\n",
            "           0       0.30      0.50      0.38       177\n",
            "           1       0.18      0.12      0.14       157\n",
            "           2       0.12      0.04      0.06       138\n",
            "           3       0.31      0.30      0.30       256\n",
            "           4       0.43      0.47      0.45       251\n",
            "\n",
            "    accuracy                           0.32       979\n",
            "   macro avg       0.27      0.29      0.27       979\n",
            "weighted avg       0.29      0.32      0.29       979\n",
            "\n"
          ]
        }
      ]
    },
    {
      "cell_type": "code",
      "source": [
        "accuracy_score(y_test, y_pred_KNN)"
      ],
      "metadata": {
        "colab": {
          "base_uri": "https://localhost:8080/"
        },
        "outputId": "0be81429-d0be-4540-b1f9-d94c5237c3cf",
        "id": "6IsEROEoWOrZ"
      },
      "execution_count": 53,
      "outputs": [
        {
          "output_type": "execute_result",
          "data": {
            "text/plain": [
              "0.31562819203268644"
            ]
          },
          "metadata": {},
          "execution_count": 53
        }
      ]
    },
    {
      "cell_type": "code",
      "source": [
        "pd.crosstab(y_test, y_pred_KNN)"
      ],
      "metadata": {
        "colab": {
          "base_uri": "https://localhost:8080/",
          "height": 238
        },
        "outputId": "109ed46c-184e-430f-ecc2-4d011e38d00e",
        "id": "3qtQ5GjgUIpi"
      },
      "execution_count": 54,
      "outputs": [
        {
          "output_type": "execute_result",
          "data": {
            "text/plain": [
              "col_0   0   1   2   3    4\n",
              "row_0                     \n",
              "0      89  19   6  37   26\n",
              "1      56  19   7  37   38\n",
              "2      45  24   6  37   26\n",
              "3      64  29  18  77   68\n",
              "4      42  15  14  62  118"
            ],
            "text/html": [
              "\n",
              "  <div id=\"df-64f5a86c-9b04-41bf-a879-054ed0f7cd57\">\n",
              "    <div class=\"colab-df-container\">\n",
              "      <div>\n",
              "<style scoped>\n",
              "    .dataframe tbody tr th:only-of-type {\n",
              "        vertical-align: middle;\n",
              "    }\n",
              "\n",
              "    .dataframe tbody tr th {\n",
              "        vertical-align: top;\n",
              "    }\n",
              "\n",
              "    .dataframe thead th {\n",
              "        text-align: right;\n",
              "    }\n",
              "</style>\n",
              "<table border=\"1\" class=\"dataframe\">\n",
              "  <thead>\n",
              "    <tr style=\"text-align: right;\">\n",
              "      <th>col_0</th>\n",
              "      <th>0</th>\n",
              "      <th>1</th>\n",
              "      <th>2</th>\n",
              "      <th>3</th>\n",
              "      <th>4</th>\n",
              "    </tr>\n",
              "    <tr>\n",
              "      <th>row_0</th>\n",
              "      <th></th>\n",
              "      <th></th>\n",
              "      <th></th>\n",
              "      <th></th>\n",
              "      <th></th>\n",
              "    </tr>\n",
              "  </thead>\n",
              "  <tbody>\n",
              "    <tr>\n",
              "      <th>0</th>\n",
              "      <td>89</td>\n",
              "      <td>19</td>\n",
              "      <td>6</td>\n",
              "      <td>37</td>\n",
              "      <td>26</td>\n",
              "    </tr>\n",
              "    <tr>\n",
              "      <th>1</th>\n",
              "      <td>56</td>\n",
              "      <td>19</td>\n",
              "      <td>7</td>\n",
              "      <td>37</td>\n",
              "      <td>38</td>\n",
              "    </tr>\n",
              "    <tr>\n",
              "      <th>2</th>\n",
              "      <td>45</td>\n",
              "      <td>24</td>\n",
              "      <td>6</td>\n",
              "      <td>37</td>\n",
              "      <td>26</td>\n",
              "    </tr>\n",
              "    <tr>\n",
              "      <th>3</th>\n",
              "      <td>64</td>\n",
              "      <td>29</td>\n",
              "      <td>18</td>\n",
              "      <td>77</td>\n",
              "      <td>68</td>\n",
              "    </tr>\n",
              "    <tr>\n",
              "      <th>4</th>\n",
              "      <td>42</td>\n",
              "      <td>15</td>\n",
              "      <td>14</td>\n",
              "      <td>62</td>\n",
              "      <td>118</td>\n",
              "    </tr>\n",
              "  </tbody>\n",
              "</table>\n",
              "</div>\n",
              "      <button class=\"colab-df-convert\" onclick=\"convertToInteractive('df-64f5a86c-9b04-41bf-a879-054ed0f7cd57')\"\n",
              "              title=\"Convert this dataframe to an interactive table.\"\n",
              "              style=\"display:none;\">\n",
              "        \n",
              "  <svg xmlns=\"http://www.w3.org/2000/svg\" height=\"24px\"viewBox=\"0 0 24 24\"\n",
              "       width=\"24px\">\n",
              "    <path d=\"M0 0h24v24H0V0z\" fill=\"none\"/>\n",
              "    <path d=\"M18.56 5.44l.94 2.06.94-2.06 2.06-.94-2.06-.94-.94-2.06-.94 2.06-2.06.94zm-11 1L8.5 8.5l.94-2.06 2.06-.94-2.06-.94L8.5 2.5l-.94 2.06-2.06.94zm10 10l.94 2.06.94-2.06 2.06-.94-2.06-.94-.94-2.06-.94 2.06-2.06.94z\"/><path d=\"M17.41 7.96l-1.37-1.37c-.4-.4-.92-.59-1.43-.59-.52 0-1.04.2-1.43.59L10.3 9.45l-7.72 7.72c-.78.78-.78 2.05 0 2.83L4 21.41c.39.39.9.59 1.41.59.51 0 1.02-.2 1.41-.59l7.78-7.78 2.81-2.81c.8-.78.8-2.07 0-2.86zM5.41 20L4 18.59l7.72-7.72 1.47 1.35L5.41 20z\"/>\n",
              "  </svg>\n",
              "      </button>\n",
              "      \n",
              "  <style>\n",
              "    .colab-df-container {\n",
              "      display:flex;\n",
              "      flex-wrap:wrap;\n",
              "      gap: 12px;\n",
              "    }\n",
              "\n",
              "    .colab-df-convert {\n",
              "      background-color: #E8F0FE;\n",
              "      border: none;\n",
              "      border-radius: 50%;\n",
              "      cursor: pointer;\n",
              "      display: none;\n",
              "      fill: #1967D2;\n",
              "      height: 32px;\n",
              "      padding: 0 0 0 0;\n",
              "      width: 32px;\n",
              "    }\n",
              "\n",
              "    .colab-df-convert:hover {\n",
              "      background-color: #E2EBFA;\n",
              "      box-shadow: 0px 1px 2px rgba(60, 64, 67, 0.3), 0px 1px 3px 1px rgba(60, 64, 67, 0.15);\n",
              "      fill: #174EA6;\n",
              "    }\n",
              "\n",
              "    [theme=dark] .colab-df-convert {\n",
              "      background-color: #3B4455;\n",
              "      fill: #D2E3FC;\n",
              "    }\n",
              "\n",
              "    [theme=dark] .colab-df-convert:hover {\n",
              "      background-color: #434B5C;\n",
              "      box-shadow: 0px 1px 3px 1px rgba(0, 0, 0, 0.15);\n",
              "      filter: drop-shadow(0px 1px 2px rgba(0, 0, 0, 0.3));\n",
              "      fill: #FFFFFF;\n",
              "    }\n",
              "  </style>\n",
              "\n",
              "      <script>\n",
              "        const buttonEl =\n",
              "          document.querySelector('#df-64f5a86c-9b04-41bf-a879-054ed0f7cd57 button.colab-df-convert');\n",
              "        buttonEl.style.display =\n",
              "          google.colab.kernel.accessAllowed ? 'block' : 'none';\n",
              "\n",
              "        async function convertToInteractive(key) {\n",
              "          const element = document.querySelector('#df-64f5a86c-9b04-41bf-a879-054ed0f7cd57');\n",
              "          const dataTable =\n",
              "            await google.colab.kernel.invokeFunction('convertToInteractive',\n",
              "                                                     [key], {});\n",
              "          if (!dataTable) return;\n",
              "\n",
              "          const docLinkHtml = 'Like what you see? Visit the ' +\n",
              "            '<a target=\"_blank\" href=https://colab.research.google.com/notebooks/data_table.ipynb>data table notebook</a>'\n",
              "            + ' to learn more about interactive tables.';\n",
              "          element.innerHTML = '';\n",
              "          dataTable['output_type'] = 'display_data';\n",
              "          await google.colab.output.renderOutput(dataTable, element);\n",
              "          const docLink = document.createElement('div');\n",
              "          docLink.innerHTML = docLinkHtml;\n",
              "          element.appendChild(docLink);\n",
              "        }\n",
              "      </script>\n",
              "    </div>\n",
              "  </div>\n",
              "  "
            ]
          },
          "metadata": {},
          "execution_count": 54
        }
      ]
    },
    {
      "cell_type": "markdown",
      "source": [
        "# Decision Tree Classification"
      ],
      "metadata": {
        "id": "bcAXIVZDVbPR"
      }
    },
    {
      "cell_type": "markdown",
      "metadata": {
        "id": "dZhbIqEaVpVz"
      },
      "source": [
        "## Training the Decision Tree Classification model on the Training set"
      ]
    },
    {
      "cell_type": "code",
      "source": [
        "X_train = pca_X_train\n",
        "X_test = pca_X_test"
      ],
      "metadata": {
        "id": "sDPEVrhxI1pT"
      },
      "execution_count": 55,
      "outputs": []
    },
    {
      "cell_type": "code",
      "metadata": {
        "colab": {
          "base_uri": "https://localhost:8080/"
        },
        "id": "gVMFVrCgVpV0",
        "outputId": "ed682969-9334-4b11-87a5-ec42f0b551ed"
      },
      "source": [
        "from sklearn.tree import DecisionTreeClassifier\n",
        "dt = DecisionTreeClassifier(criterion = 'entropy', random_state = 0)\n",
        "dt.fit(X_train, y_train)"
      ],
      "execution_count": 56,
      "outputs": [
        {
          "output_type": "execute_result",
          "data": {
            "text/plain": [
              "DecisionTreeClassifier(criterion='entropy', random_state=0)"
            ]
          },
          "metadata": {},
          "execution_count": 56
        }
      ]
    },
    {
      "cell_type": "markdown",
      "metadata": {
        "id": "-T1OsjLCbVGF"
      },
      "source": [
        "## Applying k-Fold Cross Validation"
      ]
    },
    {
      "cell_type": "code",
      "metadata": {
        "outputId": "d537791a-0d31-4278-8cc0-ddd2afd02104",
        "colab": {
          "base_uri": "https://localhost:8080/"
        },
        "id": "DipgcxDlbVGF"
      },
      "source": [
        "from sklearn.model_selection import cross_val_score\n",
        "accuracies = cross_val_score(estimator = dt, X = X_train, y = y_train, cv = 10)\n",
        "print(\"Accuracy: {:.2f} %\".format(accuracies.mean()*100))\n",
        "print(\"Standard Deviation: {:.2f} %\".format(accuracies.std()*100))"
      ],
      "execution_count": 57,
      "outputs": [
        {
          "output_type": "stream",
          "name": "stdout",
          "text": [
            "Accuracy: 26.02 %\n",
            "Standard Deviation: 1.83 %\n"
          ]
        }
      ]
    },
    {
      "cell_type": "markdown",
      "metadata": {
        "id": "pPKKprMInNgp"
      },
      "source": [
        "## Applying Grid Search to find the best parameters"
      ]
    },
    {
      "cell_type": "code",
      "metadata": {
        "outputId": "25edaf2f-af98-4685-b6b2-811bb119484e",
        "colab": {
          "base_uri": "https://localhost:8080/"
        },
        "id": "9nqcZ_ZdnNgp"
      },
      "source": [
        "from sklearn.model_selection import GridSearchCV\n",
        "parameters = {\"criterion\": ['gini', 'entropy'],\n",
        "              \"max_depth\": range(1,10),\n",
        "              \"min_samples_split\": range(1,10),\n",
        "              \"min_samples_leaf\": range(1,5)};\n",
        "\n",
        "grid_search = GridSearchCV(estimator = dt,\n",
        "                           param_grid = parameters,\n",
        "                           scoring = 'accuracy',\n",
        "                           cv = 10,\n",
        "                           n_jobs = -1)\n",
        "grid_search.fit(X_train, y_train)\n",
        "best_accuracy = grid_search.best_score_\n",
        "best_parameters = grid_search.best_params_\n",
        "print(\"Best Accuracy: {:.2f} %\".format(best_accuracy*100))\n",
        "print(\"Best Parameters:\", best_parameters)"
      ],
      "execution_count": 58,
      "outputs": [
        {
          "output_type": "stream",
          "name": "stdout",
          "text": [
            "Best Accuracy: 32.95 %\n",
            "Best Parameters: {'criterion': 'gini', 'max_depth': 5, 'min_samples_leaf': 1, 'min_samples_split': 2}\n"
          ]
        },
        {
          "output_type": "stream",
          "name": "stderr",
          "text": [
            "/usr/local/lib/python3.8/dist-packages/sklearn/model_selection/_validation.py:372: FitFailedWarning: \n",
            "720 fits failed out of a total of 6480.\n",
            "The score on these train-test partitions for these parameters will be set to nan.\n",
            "If these failures are not expected, you can try to debug them by setting error_score='raise'.\n",
            "\n",
            "Below are more details about the failures:\n",
            "--------------------------------------------------------------------------------\n",
            "720 fits failed with the following error:\n",
            "Traceback (most recent call last):\n",
            "  File \"/usr/local/lib/python3.8/dist-packages/sklearn/model_selection/_validation.py\", line 680, in _fit_and_score\n",
            "    estimator.fit(X_train, y_train, **fit_params)\n",
            "  File \"/usr/local/lib/python3.8/dist-packages/sklearn/tree/_classes.py\", line 937, in fit\n",
            "    super().fit(\n",
            "  File \"/usr/local/lib/python3.8/dist-packages/sklearn/tree/_classes.py\", line 250, in fit\n",
            "    raise ValueError(\n",
            "ValueError: min_samples_split must be an integer greater than 1 or a float in (0.0, 1.0]; got the integer 1\n",
            "\n",
            "  warnings.warn(some_fits_failed_message, FitFailedWarning)\n",
            "/usr/local/lib/python3.8/dist-packages/sklearn/model_selection/_search.py:969: UserWarning: One or more of the test scores are non-finite: [       nan 0.31005115 0.31005115 0.31005115 0.31005115 0.31005115\n",
            " 0.31005115 0.31005115 0.31005115        nan 0.31005115 0.31005115\n",
            " 0.31005115 0.31005115 0.31005115 0.31005115 0.31005115 0.31005115\n",
            "        nan 0.31005115 0.31005115 0.31005115 0.31005115 0.31005115\n",
            " 0.31005115 0.31005115 0.31005115        nan 0.31005115 0.31005115\n",
            " 0.31005115 0.31005115 0.31005115 0.31005115 0.31005115 0.31005115\n",
            "        nan 0.31491049 0.31491049 0.31491049 0.31491049 0.31491049\n",
            " 0.31491049 0.31491049 0.31491049        nan 0.31491049 0.31491049\n",
            " 0.31491049 0.31491049 0.31491049 0.31491049 0.31491049 0.31491049\n",
            "        nan 0.31491049 0.31491049 0.31491049 0.31491049 0.31491049\n",
            " 0.31491049 0.31491049 0.31491049        nan 0.31491049 0.31491049\n",
            " 0.31491049 0.31491049 0.31491049 0.31491049 0.31491049 0.31491049\n",
            "        nan 0.31670208 0.31670208 0.31670208 0.31670208 0.31670208\n",
            " 0.31670208 0.31670208 0.31670208        nan 0.31670208 0.31670208\n",
            " 0.31670208 0.31670208 0.31670208 0.31670208 0.31670208 0.31670208\n",
            "        nan 0.31670208 0.31670208 0.31670208 0.31670208 0.31670208\n",
            " 0.31670208 0.31670208 0.31670208        nan 0.31670208 0.31670208\n",
            " 0.31670208 0.31670208 0.31670208 0.31670208 0.31670208 0.31670208\n",
            "        nan 0.32770936 0.32770936 0.32770936 0.32770936 0.32770936\n",
            " 0.32770936 0.32770936 0.32770936        nan 0.32770936 0.32770936\n",
            " 0.32770936 0.32770936 0.32770936 0.32770936 0.32770936 0.32770936\n",
            "        nan 0.32770936 0.32770936 0.32770936 0.32770936 0.32770936\n",
            " 0.32770936 0.32770936 0.32770936        nan 0.32770936 0.32770936\n",
            " 0.32770936 0.32770936 0.32770936 0.32770936 0.32770936 0.32770936\n",
            "        nan 0.32950095 0.32950095 0.32950095 0.32950095 0.32950095\n",
            " 0.32950095 0.32950095 0.32950095        nan 0.32950095 0.32950095\n",
            " 0.32950095 0.32950095 0.32950095 0.32950095 0.32950095 0.32950095\n",
            "        nan 0.32898944 0.32898944 0.32898944 0.32898944 0.32898944\n",
            " 0.32898944 0.32898944 0.32898944        nan 0.32873369 0.32873369\n",
            " 0.32873369 0.32873369 0.32873369 0.32873369 0.32873369 0.32873369\n",
            "        nan 0.32489278 0.32489278 0.32489278 0.32463637 0.32463637\n",
            " 0.32463637 0.32463637 0.32463637        nan 0.32412486 0.32412486\n",
            " 0.32412486 0.32438127 0.32438127 0.32438127 0.32412486 0.32412486\n",
            "        nan 0.32335825 0.32335825 0.32335825 0.32335825 0.32335825\n",
            " 0.32335825 0.32361335 0.32361335        nan 0.32386911 0.32386911\n",
            " 0.32386911 0.32386911 0.32386911 0.32386911 0.32386911 0.32438062\n",
            "        nan 0.31849433 0.31875074 0.31849498 0.31772706 0.31772706\n",
            " 0.31772706 0.31772706 0.31849433        nan 0.31747131 0.31747131\n",
            " 0.31747131 0.31849433 0.31823857 0.31798282 0.31875008 0.31747131\n",
            "        nan 0.31875074 0.31875074 0.31875074 0.31875074 0.31875074\n",
            " 0.31900584 0.31926225 0.31823857        nan 0.31542199 0.31542199\n",
            " 0.31542199 0.31542199 0.31542199 0.31542199 0.31542199 0.31491049\n",
            "        nan 0.31900518 0.31874943 0.31798282 0.31798216 0.31849302\n",
            " 0.31874943 0.31823792 0.31900518        nan 0.31619123 0.31619123\n",
            " 0.31619123 0.31567972 0.31670273 0.31798216 0.31849367 0.31747065\n",
            "        nan 0.31823792 0.31823792 0.31823792 0.31823792 0.31823792\n",
            " 0.31849367 0.31900452 0.32028461        nan 0.31695849 0.31695849\n",
            " 0.31695849 0.31695849 0.31695849 0.31695849 0.31695849 0.31747\n",
            "        nan 0.30518591 0.30595318 0.3067211  0.30620959 0.30492885\n",
            " 0.30441931 0.30441865 0.30569808        nan 0.30620631 0.30620631\n",
            " 0.30620631 0.30364942 0.30620696 0.30339367 0.30467309 0.30620893\n",
            "        nan 0.30723129 0.30723129 0.30723129 0.30723129 0.30723129\n",
            " 0.3077428  0.30927799 0.31055676        nan 0.30595383 0.30595383\n",
            " 0.30595383 0.30595383 0.30595383 0.30595383 0.30595383 0.30569873\n",
            "        nan 0.30032986 0.30032986 0.30032986 0.30032986 0.30032986\n",
            " 0.30032986 0.30032986 0.30032986        nan 0.30032986 0.30032986\n",
            " 0.30032986 0.30032986 0.30032986 0.30032986 0.30032986 0.30032986\n",
            "        nan 0.30032986 0.30032986 0.30032986 0.30032986 0.30032986\n",
            " 0.30032986 0.30032986 0.30032986        nan 0.30032986 0.30032986\n",
            " 0.30032986 0.30032986 0.30032986 0.30032986 0.30032986 0.30032986\n",
            "        nan 0.32182504 0.32182504 0.32182504 0.32182504 0.32182504\n",
            " 0.32182504 0.32182504 0.32182504        nan 0.32182504 0.32182504\n",
            " 0.32182504 0.32182504 0.32182504 0.32182504 0.32182504 0.32182504\n",
            "        nan 0.32182504 0.32182504 0.32182504 0.32182504 0.32182504\n",
            " 0.32182504 0.32182504 0.32182504        nan 0.32182504 0.32182504\n",
            " 0.32182504 0.32182504 0.32182504 0.32182504 0.32182504 0.32182504\n",
            "        nan 0.31849236 0.31849236 0.31849236 0.31849236 0.31849236\n",
            " 0.31849236 0.31849236 0.31849236        nan 0.31849236 0.31849236\n",
            " 0.31849236 0.31849236 0.31849236 0.31849236 0.31849236 0.31849236\n",
            "        nan 0.31849236 0.31849236 0.31849236 0.31849236 0.31849236\n",
            " 0.31849236 0.31849236 0.31849236        nan 0.31849236 0.31849236\n",
            " 0.31849236 0.31849236 0.31849236 0.31849236 0.31849236 0.31849236\n",
            "        nan 0.31951866 0.31951866 0.31951866 0.31951866 0.31951866\n",
            " 0.31951866 0.31951866 0.31951866        nan 0.31951866 0.31951866\n",
            " 0.31951866 0.31951866 0.31951866 0.31951866 0.31951866 0.31951866\n",
            "        nan 0.31951866 0.31951866 0.31951866 0.31951866 0.31951866\n",
            " 0.31951866 0.31951866 0.31951866        nan 0.31951866 0.31951866\n",
            " 0.31951866 0.31951866 0.31951866 0.31951866 0.31951866 0.31951866\n",
            "        nan 0.32667519 0.32667519 0.32667519 0.32667519 0.32667519\n",
            " 0.32667519 0.32667519 0.32667519        nan 0.32667519 0.32667519\n",
            " 0.32667519 0.32667519 0.32667519 0.32667519 0.32667519 0.32667519\n",
            "        nan 0.32667519 0.32667519 0.32667519 0.32667519 0.32667519\n",
            " 0.32667519 0.32667519 0.32667519        nan 0.32667519 0.32667519\n",
            " 0.32667519 0.32667519 0.32667519 0.32667519 0.32667519 0.32667519\n",
            "        nan 0.32207686 0.32207686 0.32207686 0.32233327 0.32207751\n",
            " 0.32182176 0.32182176 0.32207751        nan 0.32182045 0.32182045\n",
            " 0.32182045 0.32182045 0.3220762  0.32182045 0.32182045 0.32182045\n",
            "        nan 0.32233196 0.32233196 0.32233196 0.32233196 0.32233196\n",
            " 0.32233196 0.32182045 0.32182045        nan 0.3220762  0.3220762\n",
            " 0.3220762  0.3220762  0.3220762  0.3220762  0.3220762  0.3220762\n",
            "        nan 0.31900846 0.31926421 0.31875402 0.31977703 0.31875271\n",
            " 0.3182412  0.31773034 0.31798544        nan 0.31798544 0.31798544\n",
            " 0.31798544 0.31849761 0.3182412  0.31824185 0.31747393 0.31696111\n",
            "        nan 0.31721687 0.31721687 0.31721687 0.31721687 0.31721687\n",
            " 0.31696111 0.31644895 0.31619319        nan 0.31619319 0.31619319\n",
            " 0.31619319 0.31619319 0.31619319 0.31619319 0.31619319 0.31644895\n",
            "        nan 0.31517411 0.31440685 0.31517411 0.3149177  0.31568562\n",
            " 0.31517411 0.31415044 0.31568431        nan 0.31542855 0.31542855\n",
            " 0.31542855 0.31594137 0.31543052 0.31542986 0.31517411 0.31594072\n",
            "        nan 0.31594072 0.31594072 0.31594072 0.31594072 0.31594072\n",
            " 0.31619647 0.3151728  0.31696308        nan 0.31287035 0.31287035\n",
            " 0.31287035 0.31287035 0.31287035 0.31287035 0.31287035 0.31338186\n",
            "        nan 0.30877828 0.30928913 0.30826546 0.30826546 0.30724179\n",
            " 0.30979999 0.31005705 0.31184668        nan 0.30903141 0.30903141\n",
            " 0.30903141 0.308775   0.30749754 0.31031215 0.31056856 0.31159027\n",
            "        nan 0.30928979 0.30928979 0.30928979 0.30928979 0.30928979\n",
            " 0.30979999 0.30980064 0.31159027        nan 0.30928848 0.30928848\n",
            " 0.30928848 0.30928848 0.30928848 0.30928848 0.30928848 0.310823  ]\n",
            "  warnings.warn(\n"
          ]
        }
      ]
    },
    {
      "cell_type": "code",
      "source": [
        "dt = DecisionTreeClassifier(criterion=best_parameters['criterion'], max_depth=best_parameters['max_depth'], min_samples_leaf=best_parameters['min_samples_leaf'], min_samples_split=best_parameters['min_samples_split'])\n",
        "dt.fit(X_train, y_train)"
      ],
      "metadata": {
        "colab": {
          "base_uri": "https://localhost:8080/"
        },
        "id": "Wm6ABUP1p3sC",
        "outputId": "b8bef076-35d9-46bb-8049-eb68ed3006fb"
      },
      "execution_count": 59,
      "outputs": [
        {
          "output_type": "execute_result",
          "data": {
            "text/plain": [
              "DecisionTreeClassifier(max_depth=5)"
            ]
          },
          "metadata": {},
          "execution_count": 59
        }
      ]
    },
    {
      "cell_type": "markdown",
      "metadata": {
        "id": "_1_i49MOVv7O"
      },
      "source": [
        "## Predicting the Test set results"
      ]
    },
    {
      "cell_type": "code",
      "source": [
        "y_pred_DT = dt.predict(X_test)"
      ],
      "metadata": {
        "id": "c6exQgRXVzj-"
      },
      "execution_count": 60,
      "outputs": []
    },
    {
      "cell_type": "markdown",
      "metadata": {
        "id": "ryQ2FAG8V5eW"
      },
      "source": [
        "## Making the Confusion Matrix"
      ]
    },
    {
      "cell_type": "code",
      "metadata": {
        "colab": {
          "base_uri": "https://localhost:8080/"
        },
        "outputId": "79fc0873-5a72-45d7-a86f-7c03033755e3",
        "id": "V76j5VvxV5eW"
      },
      "source": [
        "from sklearn.metrics import confusion_matrix, classification_report, accuracy_score\n",
        "print(confusion_matrix(y_test,y_pred_DT))\n",
        "print(classification_report(y_test,y_pred_DT))"
      ],
      "execution_count": 61,
      "outputs": [
        {
          "output_type": "stream",
          "name": "stdout",
          "text": [
            "[[100  10   2  55  10]\n",
            " [ 72   5   2  61  17]\n",
            " [ 58   7   0  52  21]\n",
            " [ 84  12   1 110  49]\n",
            " [ 54   6   0 118  73]]\n",
            "              precision    recall  f1-score   support\n",
            "\n",
            "           0       0.27      0.56      0.37       177\n",
            "           1       0.12      0.03      0.05       157\n",
            "           2       0.00      0.00      0.00       138\n",
            "           3       0.28      0.43      0.34       256\n",
            "           4       0.43      0.29      0.35       251\n",
            "\n",
            "    accuracy                           0.29       979\n",
            "   macro avg       0.22      0.26      0.22       979\n",
            "weighted avg       0.25      0.29      0.25       979\n",
            "\n"
          ]
        }
      ]
    },
    {
      "cell_type": "code",
      "source": [
        "accuracy_score(y_test, y_pred_DT)"
      ],
      "metadata": {
        "colab": {
          "base_uri": "https://localhost:8080/"
        },
        "id": "FsWgztwMWD5L",
        "outputId": "f2267047-90c3-412d-a842-68074afe1a59"
      },
      "execution_count": 62,
      "outputs": [
        {
          "output_type": "execute_result",
          "data": {
            "text/plain": [
              "0.2941777323799796"
            ]
          },
          "metadata": {},
          "execution_count": 62
        }
      ]
    },
    {
      "cell_type": "code",
      "source": [
        "pd.crosstab(y_test, y_pred_DT)"
      ],
      "metadata": {
        "colab": {
          "base_uri": "https://localhost:8080/",
          "height": 238
        },
        "outputId": "2c5322f8-c4ac-4fb7-9efd-6a29027c3fc4",
        "id": "Bt3CHw-zV5eW"
      },
      "execution_count": 63,
      "outputs": [
        {
          "output_type": "execute_result",
          "data": {
            "text/plain": [
              "col_0    0   1  2    3   4\n",
              "row_0                     \n",
              "0      100  10  2   55  10\n",
              "1       72   5  2   61  17\n",
              "2       58   7  0   52  21\n",
              "3       84  12  1  110  49\n",
              "4       54   6  0  118  73"
            ],
            "text/html": [
              "\n",
              "  <div id=\"df-99d57415-2826-4342-a070-1a2f149f97a0\">\n",
              "    <div class=\"colab-df-container\">\n",
              "      <div>\n",
              "<style scoped>\n",
              "    .dataframe tbody tr th:only-of-type {\n",
              "        vertical-align: middle;\n",
              "    }\n",
              "\n",
              "    .dataframe tbody tr th {\n",
              "        vertical-align: top;\n",
              "    }\n",
              "\n",
              "    .dataframe thead th {\n",
              "        text-align: right;\n",
              "    }\n",
              "</style>\n",
              "<table border=\"1\" class=\"dataframe\">\n",
              "  <thead>\n",
              "    <tr style=\"text-align: right;\">\n",
              "      <th>col_0</th>\n",
              "      <th>0</th>\n",
              "      <th>1</th>\n",
              "      <th>2</th>\n",
              "      <th>3</th>\n",
              "      <th>4</th>\n",
              "    </tr>\n",
              "    <tr>\n",
              "      <th>row_0</th>\n",
              "      <th></th>\n",
              "      <th></th>\n",
              "      <th></th>\n",
              "      <th></th>\n",
              "      <th></th>\n",
              "    </tr>\n",
              "  </thead>\n",
              "  <tbody>\n",
              "    <tr>\n",
              "      <th>0</th>\n",
              "      <td>100</td>\n",
              "      <td>10</td>\n",
              "      <td>2</td>\n",
              "      <td>55</td>\n",
              "      <td>10</td>\n",
              "    </tr>\n",
              "    <tr>\n",
              "      <th>1</th>\n",
              "      <td>72</td>\n",
              "      <td>5</td>\n",
              "      <td>2</td>\n",
              "      <td>61</td>\n",
              "      <td>17</td>\n",
              "    </tr>\n",
              "    <tr>\n",
              "      <th>2</th>\n",
              "      <td>58</td>\n",
              "      <td>7</td>\n",
              "      <td>0</td>\n",
              "      <td>52</td>\n",
              "      <td>21</td>\n",
              "    </tr>\n",
              "    <tr>\n",
              "      <th>3</th>\n",
              "      <td>84</td>\n",
              "      <td>12</td>\n",
              "      <td>1</td>\n",
              "      <td>110</td>\n",
              "      <td>49</td>\n",
              "    </tr>\n",
              "    <tr>\n",
              "      <th>4</th>\n",
              "      <td>54</td>\n",
              "      <td>6</td>\n",
              "      <td>0</td>\n",
              "      <td>118</td>\n",
              "      <td>73</td>\n",
              "    </tr>\n",
              "  </tbody>\n",
              "</table>\n",
              "</div>\n",
              "      <button class=\"colab-df-convert\" onclick=\"convertToInteractive('df-99d57415-2826-4342-a070-1a2f149f97a0')\"\n",
              "              title=\"Convert this dataframe to an interactive table.\"\n",
              "              style=\"display:none;\">\n",
              "        \n",
              "  <svg xmlns=\"http://www.w3.org/2000/svg\" height=\"24px\"viewBox=\"0 0 24 24\"\n",
              "       width=\"24px\">\n",
              "    <path d=\"M0 0h24v24H0V0z\" fill=\"none\"/>\n",
              "    <path d=\"M18.56 5.44l.94 2.06.94-2.06 2.06-.94-2.06-.94-.94-2.06-.94 2.06-2.06.94zm-11 1L8.5 8.5l.94-2.06 2.06-.94-2.06-.94L8.5 2.5l-.94 2.06-2.06.94zm10 10l.94 2.06.94-2.06 2.06-.94-2.06-.94-.94-2.06-.94 2.06-2.06.94z\"/><path d=\"M17.41 7.96l-1.37-1.37c-.4-.4-.92-.59-1.43-.59-.52 0-1.04.2-1.43.59L10.3 9.45l-7.72 7.72c-.78.78-.78 2.05 0 2.83L4 21.41c.39.39.9.59 1.41.59.51 0 1.02-.2 1.41-.59l7.78-7.78 2.81-2.81c.8-.78.8-2.07 0-2.86zM5.41 20L4 18.59l7.72-7.72 1.47 1.35L5.41 20z\"/>\n",
              "  </svg>\n",
              "      </button>\n",
              "      \n",
              "  <style>\n",
              "    .colab-df-container {\n",
              "      display:flex;\n",
              "      flex-wrap:wrap;\n",
              "      gap: 12px;\n",
              "    }\n",
              "\n",
              "    .colab-df-convert {\n",
              "      background-color: #E8F0FE;\n",
              "      border: none;\n",
              "      border-radius: 50%;\n",
              "      cursor: pointer;\n",
              "      display: none;\n",
              "      fill: #1967D2;\n",
              "      height: 32px;\n",
              "      padding: 0 0 0 0;\n",
              "      width: 32px;\n",
              "    }\n",
              "\n",
              "    .colab-df-convert:hover {\n",
              "      background-color: #E2EBFA;\n",
              "      box-shadow: 0px 1px 2px rgba(60, 64, 67, 0.3), 0px 1px 3px 1px rgba(60, 64, 67, 0.15);\n",
              "      fill: #174EA6;\n",
              "    }\n",
              "\n",
              "    [theme=dark] .colab-df-convert {\n",
              "      background-color: #3B4455;\n",
              "      fill: #D2E3FC;\n",
              "    }\n",
              "\n",
              "    [theme=dark] .colab-df-convert:hover {\n",
              "      background-color: #434B5C;\n",
              "      box-shadow: 0px 1px 3px 1px rgba(0, 0, 0, 0.15);\n",
              "      filter: drop-shadow(0px 1px 2px rgba(0, 0, 0, 0.3));\n",
              "      fill: #FFFFFF;\n",
              "    }\n",
              "  </style>\n",
              "\n",
              "      <script>\n",
              "        const buttonEl =\n",
              "          document.querySelector('#df-99d57415-2826-4342-a070-1a2f149f97a0 button.colab-df-convert');\n",
              "        buttonEl.style.display =\n",
              "          google.colab.kernel.accessAllowed ? 'block' : 'none';\n",
              "\n",
              "        async function convertToInteractive(key) {\n",
              "          const element = document.querySelector('#df-99d57415-2826-4342-a070-1a2f149f97a0');\n",
              "          const dataTable =\n",
              "            await google.colab.kernel.invokeFunction('convertToInteractive',\n",
              "                                                     [key], {});\n",
              "          if (!dataTable) return;\n",
              "\n",
              "          const docLinkHtml = 'Like what you see? Visit the ' +\n",
              "            '<a target=\"_blank\" href=https://colab.research.google.com/notebooks/data_table.ipynb>data table notebook</a>'\n",
              "            + ' to learn more about interactive tables.';\n",
              "          element.innerHTML = '';\n",
              "          dataTable['output_type'] = 'display_data';\n",
              "          await google.colab.output.renderOutput(dataTable, element);\n",
              "          const docLink = document.createElement('div');\n",
              "          docLink.innerHTML = docLinkHtml;\n",
              "          element.appendChild(docLink);\n",
              "        }\n",
              "      </script>\n",
              "    </div>\n",
              "  </div>\n",
              "  "
            ]
          },
          "metadata": {},
          "execution_count": 63
        }
      ]
    },
    {
      "cell_type": "markdown",
      "source": [
        "# Random Forest Classification"
      ],
      "metadata": {
        "id": "WmsuyrBzWzIR"
      }
    },
    {
      "cell_type": "markdown",
      "metadata": {
        "id": "bmkFE1UqW-Y_"
      },
      "source": [
        "## Training the Random Forest Classification model on the Training set"
      ]
    },
    {
      "cell_type": "code",
      "source": [
        "X_train = pca_X_train\n",
        "X_test = pca_X_test"
      ],
      "metadata": {
        "id": "CaDG_Za3I3xa"
      },
      "execution_count": 64,
      "outputs": []
    },
    {
      "cell_type": "code",
      "metadata": {
        "colab": {
          "base_uri": "https://localhost:8080/"
        },
        "id": "kjKj2_ZyW-Y_",
        "outputId": "a765b5ea-e6aa-4105-c492-0d8316276067"
      },
      "source": [
        "from sklearn.ensemble import RandomForestClassifier\n",
        "rf = RandomForestClassifier(n_estimators = 10, criterion = 'entropy', random_state = 0)\n",
        "rf.fit(X_train, y_train)"
      ],
      "execution_count": 65,
      "outputs": [
        {
          "output_type": "execute_result",
          "data": {
            "text/plain": [
              "RandomForestClassifier(criterion='entropy', n_estimators=10, random_state=0)"
            ]
          },
          "metadata": {},
          "execution_count": 65
        }
      ]
    },
    {
      "cell_type": "markdown",
      "metadata": {
        "id": "DVwm7zcjbaLB"
      },
      "source": [
        "## Applying k-Fold Cross Validation"
      ]
    },
    {
      "cell_type": "code",
      "metadata": {
        "outputId": "da6763f0-65a9-43dd-faeb-600dc233b38e",
        "colab": {
          "base_uri": "https://localhost:8080/"
        },
        "id": "r9HCwFuNbaLC"
      },
      "source": [
        "from sklearn.model_selection import cross_val_score\n",
        "accuracies = cross_val_score(estimator = rf, X = X_train, y = y_train, cv = 10)\n",
        "print(\"Accuracy: {:.2f} %\".format(accuracies.mean()*100))\n",
        "print(\"Standard Deviation: {:.2f} %\".format(accuracies.std()*100))"
      ],
      "execution_count": 66,
      "outputs": [
        {
          "output_type": "stream",
          "name": "stdout",
          "text": [
            "Accuracy: 27.55 %\n",
            "Standard Deviation: 2.26 %\n"
          ]
        }
      ]
    },
    {
      "cell_type": "markdown",
      "metadata": {
        "id": "ytI5dqYWqaZG"
      },
      "source": [
        "## Applying Grid Search to find the best parameters"
      ]
    },
    {
      "cell_type": "markdown",
      "source": [
        "Note: The code below may take a couple of minutes to run"
      ],
      "metadata": {
        "id": "vIPfWup9r0GM"
      }
    },
    {
      "cell_type": "code",
      "metadata": {
        "outputId": "64ee4c7d-df3f-4791-bdd7-b5f7a8a701eb",
        "colab": {
          "base_uri": "https://localhost:8080/"
        },
        "id": "Vv59rOfXqaZH"
      },
      "source": [
        "from sklearn.model_selection import GridSearchCV\n",
        "parameters = { \n",
        "    'n_estimators': [5, 10, 50, 100],\n",
        "    'max_features': ['auto', 'sqrt', 'log2'],\n",
        "    'max_depth' : [4,5,6,7,8],\n",
        "    'criterion' :['gini', 'entropy']\n",
        "}\n",
        "\n",
        "grid_search = GridSearchCV(estimator = rf,\n",
        "                           param_grid = parameters,\n",
        "                           scoring = 'accuracy',\n",
        "                           cv = 5)\n",
        "grid_search.fit(X_train, y_train)\n",
        "best_accuracy = grid_search.best_score_\n",
        "best_parameters = grid_search.best_params_\n",
        "print(\"Best Accuracy: {:.2f} %\".format(best_accuracy*100))\n",
        "print(\"Best Parameters:\", best_parameters)"
      ],
      "execution_count": 67,
      "outputs": [
        {
          "output_type": "stream",
          "name": "stdout",
          "text": [
            "Best Accuracy: 33.82 %\n",
            "Best Parameters: {'criterion': 'gini', 'max_depth': 6, 'max_features': 'auto', 'n_estimators': 100}\n"
          ]
        }
      ]
    },
    {
      "cell_type": "code",
      "source": [
        "rf = RandomForestClassifier(criterion =best_parameters['criterion'], max_depth =best_parameters['max_depth'], max_features =best_parameters['max_features'], n_estimators =best_parameters['n_estimators'])\n",
        "rf.fit(X_train, y_train)"
      ],
      "metadata": {
        "colab": {
          "base_uri": "https://localhost:8080/"
        },
        "outputId": "8b301f3a-a376-43ac-9990-a621e8e2cc3b",
        "id": "E_R37d4MqaZH"
      },
      "execution_count": 68,
      "outputs": [
        {
          "output_type": "execute_result",
          "data": {
            "text/plain": [
              "RandomForestClassifier(max_depth=6)"
            ]
          },
          "metadata": {},
          "execution_count": 68
        }
      ]
    },
    {
      "cell_type": "markdown",
      "metadata": {
        "id": "Fa4a2AOBXC-n"
      },
      "source": [
        "## Predicting the Test set results"
      ]
    },
    {
      "cell_type": "code",
      "source": [
        "y_pred_RF = rf.predict(X_test)"
      ],
      "metadata": {
        "id": "jzQD8lKrXKB_"
      },
      "execution_count": 69,
      "outputs": []
    },
    {
      "cell_type": "markdown",
      "metadata": {
        "id": "XbdOBVesXOOT"
      },
      "source": [
        "## Making the Confusion Matrix"
      ]
    },
    {
      "cell_type": "code",
      "metadata": {
        "colab": {
          "base_uri": "https://localhost:8080/"
        },
        "outputId": "15432e75-3b33-4100-a1ee-1ada37b62bb0",
        "id": "XI4EhGqiXOOU"
      },
      "source": [
        "from sklearn.metrics import confusion_matrix, classification_report, accuracy_score\n",
        "print(confusion_matrix(y_test,y_pred_RF))\n",
        "print(classification_report(y_test,y_pred_RF))"
      ],
      "execution_count": 70,
      "outputs": [
        {
          "output_type": "stream",
          "name": "stdout",
          "text": [
            "[[115   3   1  42  16]\n",
            " [ 83   2   0  52  20]\n",
            " [ 66   6   0  44  22]\n",
            " [ 99   4   1 100  52]\n",
            " [ 64   1   2  91  93]]\n",
            "              precision    recall  f1-score   support\n",
            "\n",
            "           0       0.27      0.65      0.38       177\n",
            "           1       0.12      0.01      0.02       157\n",
            "           2       0.00      0.00      0.00       138\n",
            "           3       0.30      0.39      0.34       256\n",
            "           4       0.46      0.37      0.41       251\n",
            "\n",
            "    accuracy                           0.32       979\n",
            "   macro avg       0.23      0.28      0.23       979\n",
            "weighted avg       0.27      0.32      0.27       979\n",
            "\n"
          ]
        }
      ]
    },
    {
      "cell_type": "code",
      "source": [
        "accuracy_score(y_test, y_pred_RF)"
      ],
      "metadata": {
        "colab": {
          "base_uri": "https://localhost:8080/"
        },
        "outputId": "e97b311f-c6b6-415a-dff1-cd318e5e6aaf",
        "id": "wZgwHz1aXOOV"
      },
      "execution_count": 71,
      "outputs": [
        {
          "output_type": "execute_result",
          "data": {
            "text/plain": [
              "0.3166496424923391"
            ]
          },
          "metadata": {},
          "execution_count": 71
        }
      ]
    },
    {
      "cell_type": "code",
      "source": [
        "pd.crosstab(y_test, y_pred_RF)"
      ],
      "metadata": {
        "colab": {
          "base_uri": "https://localhost:8080/",
          "height": 238
        },
        "outputId": "65e290f0-83f1-4f25-a6fe-68744c1af7fe",
        "id": "i_pP_tAbXOOV"
      },
      "execution_count": 72,
      "outputs": [
        {
          "output_type": "execute_result",
          "data": {
            "text/plain": [
              "col_0    0  1  2    3   4\n",
              "row_0                    \n",
              "0      115  3  1   42  16\n",
              "1       83  2  0   52  20\n",
              "2       66  6  0   44  22\n",
              "3       99  4  1  100  52\n",
              "4       64  1  2   91  93"
            ],
            "text/html": [
              "\n",
              "  <div id=\"df-048d8692-2d44-43b7-ad6c-462ab8fed45b\">\n",
              "    <div class=\"colab-df-container\">\n",
              "      <div>\n",
              "<style scoped>\n",
              "    .dataframe tbody tr th:only-of-type {\n",
              "        vertical-align: middle;\n",
              "    }\n",
              "\n",
              "    .dataframe tbody tr th {\n",
              "        vertical-align: top;\n",
              "    }\n",
              "\n",
              "    .dataframe thead th {\n",
              "        text-align: right;\n",
              "    }\n",
              "</style>\n",
              "<table border=\"1\" class=\"dataframe\">\n",
              "  <thead>\n",
              "    <tr style=\"text-align: right;\">\n",
              "      <th>col_0</th>\n",
              "      <th>0</th>\n",
              "      <th>1</th>\n",
              "      <th>2</th>\n",
              "      <th>3</th>\n",
              "      <th>4</th>\n",
              "    </tr>\n",
              "    <tr>\n",
              "      <th>row_0</th>\n",
              "      <th></th>\n",
              "      <th></th>\n",
              "      <th></th>\n",
              "      <th></th>\n",
              "      <th></th>\n",
              "    </tr>\n",
              "  </thead>\n",
              "  <tbody>\n",
              "    <tr>\n",
              "      <th>0</th>\n",
              "      <td>115</td>\n",
              "      <td>3</td>\n",
              "      <td>1</td>\n",
              "      <td>42</td>\n",
              "      <td>16</td>\n",
              "    </tr>\n",
              "    <tr>\n",
              "      <th>1</th>\n",
              "      <td>83</td>\n",
              "      <td>2</td>\n",
              "      <td>0</td>\n",
              "      <td>52</td>\n",
              "      <td>20</td>\n",
              "    </tr>\n",
              "    <tr>\n",
              "      <th>2</th>\n",
              "      <td>66</td>\n",
              "      <td>6</td>\n",
              "      <td>0</td>\n",
              "      <td>44</td>\n",
              "      <td>22</td>\n",
              "    </tr>\n",
              "    <tr>\n",
              "      <th>3</th>\n",
              "      <td>99</td>\n",
              "      <td>4</td>\n",
              "      <td>1</td>\n",
              "      <td>100</td>\n",
              "      <td>52</td>\n",
              "    </tr>\n",
              "    <tr>\n",
              "      <th>4</th>\n",
              "      <td>64</td>\n",
              "      <td>1</td>\n",
              "      <td>2</td>\n",
              "      <td>91</td>\n",
              "      <td>93</td>\n",
              "    </tr>\n",
              "  </tbody>\n",
              "</table>\n",
              "</div>\n",
              "      <button class=\"colab-df-convert\" onclick=\"convertToInteractive('df-048d8692-2d44-43b7-ad6c-462ab8fed45b')\"\n",
              "              title=\"Convert this dataframe to an interactive table.\"\n",
              "              style=\"display:none;\">\n",
              "        \n",
              "  <svg xmlns=\"http://www.w3.org/2000/svg\" height=\"24px\"viewBox=\"0 0 24 24\"\n",
              "       width=\"24px\">\n",
              "    <path d=\"M0 0h24v24H0V0z\" fill=\"none\"/>\n",
              "    <path d=\"M18.56 5.44l.94 2.06.94-2.06 2.06-.94-2.06-.94-.94-2.06-.94 2.06-2.06.94zm-11 1L8.5 8.5l.94-2.06 2.06-.94-2.06-.94L8.5 2.5l-.94 2.06-2.06.94zm10 10l.94 2.06.94-2.06 2.06-.94-2.06-.94-.94-2.06-.94 2.06-2.06.94z\"/><path d=\"M17.41 7.96l-1.37-1.37c-.4-.4-.92-.59-1.43-.59-.52 0-1.04.2-1.43.59L10.3 9.45l-7.72 7.72c-.78.78-.78 2.05 0 2.83L4 21.41c.39.39.9.59 1.41.59.51 0 1.02-.2 1.41-.59l7.78-7.78 2.81-2.81c.8-.78.8-2.07 0-2.86zM5.41 20L4 18.59l7.72-7.72 1.47 1.35L5.41 20z\"/>\n",
              "  </svg>\n",
              "      </button>\n",
              "      \n",
              "  <style>\n",
              "    .colab-df-container {\n",
              "      display:flex;\n",
              "      flex-wrap:wrap;\n",
              "      gap: 12px;\n",
              "    }\n",
              "\n",
              "    .colab-df-convert {\n",
              "      background-color: #E8F0FE;\n",
              "      border: none;\n",
              "      border-radius: 50%;\n",
              "      cursor: pointer;\n",
              "      display: none;\n",
              "      fill: #1967D2;\n",
              "      height: 32px;\n",
              "      padding: 0 0 0 0;\n",
              "      width: 32px;\n",
              "    }\n",
              "\n",
              "    .colab-df-convert:hover {\n",
              "      background-color: #E2EBFA;\n",
              "      box-shadow: 0px 1px 2px rgba(60, 64, 67, 0.3), 0px 1px 3px 1px rgba(60, 64, 67, 0.15);\n",
              "      fill: #174EA6;\n",
              "    }\n",
              "\n",
              "    [theme=dark] .colab-df-convert {\n",
              "      background-color: #3B4455;\n",
              "      fill: #D2E3FC;\n",
              "    }\n",
              "\n",
              "    [theme=dark] .colab-df-convert:hover {\n",
              "      background-color: #434B5C;\n",
              "      box-shadow: 0px 1px 3px 1px rgba(0, 0, 0, 0.15);\n",
              "      filter: drop-shadow(0px 1px 2px rgba(0, 0, 0, 0.3));\n",
              "      fill: #FFFFFF;\n",
              "    }\n",
              "  </style>\n",
              "\n",
              "      <script>\n",
              "        const buttonEl =\n",
              "          document.querySelector('#df-048d8692-2d44-43b7-ad6c-462ab8fed45b button.colab-df-convert');\n",
              "        buttonEl.style.display =\n",
              "          google.colab.kernel.accessAllowed ? 'block' : 'none';\n",
              "\n",
              "        async function convertToInteractive(key) {\n",
              "          const element = document.querySelector('#df-048d8692-2d44-43b7-ad6c-462ab8fed45b');\n",
              "          const dataTable =\n",
              "            await google.colab.kernel.invokeFunction('convertToInteractive',\n",
              "                                                     [key], {});\n",
              "          if (!dataTable) return;\n",
              "\n",
              "          const docLinkHtml = 'Like what you see? Visit the ' +\n",
              "            '<a target=\"_blank\" href=https://colab.research.google.com/notebooks/data_table.ipynb>data table notebook</a>'\n",
              "            + ' to learn more about interactive tables.';\n",
              "          element.innerHTML = '';\n",
              "          dataTable['output_type'] = 'display_data';\n",
              "          await google.colab.output.renderOutput(dataTable, element);\n",
              "          const docLink = document.createElement('div');\n",
              "          docLink.innerHTML = docLinkHtml;\n",
              "          element.appendChild(docLink);\n",
              "        }\n",
              "      </script>\n",
              "    </div>\n",
              "  </div>\n",
              "  "
            ]
          },
          "metadata": {},
          "execution_count": 72
        }
      ]
    },
    {
      "cell_type": "markdown",
      "source": [
        "# XGBoost"
      ],
      "metadata": {
        "id": "8trTa4o9Xpmp"
      }
    },
    {
      "cell_type": "markdown",
      "metadata": {
        "id": "1Y89ctGZ7Mcx"
      },
      "source": [
        "## Training XGBoost on the Training set"
      ]
    },
    {
      "cell_type": "code",
      "source": [
        "X_train = pca_X_train\n",
        "X_test = pca_X_test"
      ],
      "metadata": {
        "id": "Ibg-lCSMI40X"
      },
      "execution_count": 73,
      "outputs": []
    },
    {
      "cell_type": "code",
      "metadata": {
        "id": "ude1J0E47SKN",
        "colab": {
          "base_uri": "https://localhost:8080/"
        },
        "outputId": "de172992-d994-4648-ed5f-60a980def897"
      },
      "source": [
        "from xgboost import XGBClassifier\n",
        "xgb = XGBClassifier()\n",
        "xgb.fit(X_train, y_train)"
      ],
      "execution_count": 74,
      "outputs": [
        {
          "output_type": "execute_result",
          "data": {
            "text/plain": [
              "XGBClassifier(objective='multi:softprob')"
            ]
          },
          "metadata": {},
          "execution_count": 74
        }
      ]
    },
    {
      "cell_type": "markdown",
      "metadata": {
        "id": "0Rmel2mbbgoZ"
      },
      "source": [
        "## Applying k-Fold Cross Validation"
      ]
    },
    {
      "cell_type": "code",
      "metadata": {
        "outputId": "a4302a34-58d4-4188-fbec-32ffc81f7c75",
        "colab": {
          "base_uri": "https://localhost:8080/"
        },
        "id": "CwI6l2wDbgoa"
      },
      "source": [
        "from sklearn.model_selection import cross_val_score\n",
        "accuracies = cross_val_score(estimator = xgb, X = X_train, y = y_train, cv = 10)\n",
        "print(\"Accuracy: {:.2f} %\".format(accuracies.mean()*100))\n",
        "print(\"Standard Deviation: {:.2f} %\".format(accuracies.std()*100))"
      ],
      "execution_count": 75,
      "outputs": [
        {
          "output_type": "stream",
          "name": "stdout",
          "text": [
            "Accuracy: 32.80 %\n",
            "Standard Deviation: 2.40 %\n"
          ]
        }
      ]
    },
    {
      "cell_type": "markdown",
      "metadata": {
        "id": "fFTWBUjNtC-2"
      },
      "source": [
        "## Applying Grid Search and trying different Learning Rates"
      ]
    },
    {
      "cell_type": "code",
      "metadata": {
        "outputId": "ace37a8c-8f3a-4656-bfdb-bfab2558d3b4",
        "colab": {
          "base_uri": "https://localhost:8080/"
        },
        "id": "fPSzi0F1tC-3"
      },
      "source": [
        "from sklearn.model_selection import GridSearchCV, StratifiedKFold\n",
        "parameters = {'nthread':[4], #when use hyperthread, xgboost may become slower\n",
        "              'objective':['binary:logistic'],\n",
        "              'learning_rate': [0.0001, 0.001, 0.01, 0.1], \n",
        "              'max_depth': [6],\n",
        "              'min_child_weight': [11],\n",
        "              'silent': [1],\n",
        "              'subsample': [0.8],\n",
        "              'colsample_bytree': [0.7],\n",
        "              'n_estimators': [5], #number of trees, change it to 1000 for better results\n",
        "              'missing':[-999],\n",
        "              'seed': [1337]}\n",
        "\n",
        "grid_search = GridSearchCV(estimator = xgb,\n",
        "                           param_grid = parameters,\n",
        "                           n_jobs=5, \n",
        "                           cv=10, \n",
        "                           scoring='roc_auc',\n",
        "                           verbose=2, refit=True)\n",
        "grid_search.fit(X_train, y_train)\n",
        "best_accuracy = grid_search.best_score_\n",
        "best_parameters = grid_search.best_params_\n",
        "print(\"Best Accuracy: {:.2f} %\".format(best_accuracy*100))\n",
        "print(\"Best Parameters:\", best_parameters)"
      ],
      "execution_count": 76,
      "outputs": [
        {
          "output_type": "stream",
          "name": "stdout",
          "text": [
            "Fitting 10 folds for each of 4 candidates, totalling 40 fits\n",
            "Best Accuracy: nan %\n",
            "Best Parameters: {'colsample_bytree': 0.7, 'learning_rate': 0.0001, 'max_depth': 6, 'min_child_weight': 11, 'missing': -999, 'n_estimators': 5, 'nthread': 4, 'objective': 'binary:logistic', 'seed': 1337, 'silent': 1, 'subsample': 0.8}\n"
          ]
        },
        {
          "output_type": "stream",
          "name": "stderr",
          "text": [
            "/usr/local/lib/python3.8/dist-packages/sklearn/model_selection/_search.py:969: UserWarning: One or more of the test scores are non-finite: [nan nan nan nan]\n",
            "  warnings.warn(\n"
          ]
        }
      ]
    },
    {
      "cell_type": "code",
      "source": [
        "xgb = XGBClassifier(colsample_bytree=best_parameters['colsample_bytree'], learning_rate=best_parameters['learning_rate'], max_depth=best_parameters['max_depth'], min_child_weight=best_parameters['min_child_weight'], missing=best_parameters['missing'], n_estimators=best_parameters['n_estimators'], nthread=best_parameters['nthread'], objective=best_parameters['objective'], seed=best_parameters['seed'], silent=best_parameters['silent'], subsample=best_parameters['subsample'])\n",
        "xgb.fit(X_train, y_train)"
      ],
      "metadata": {
        "colab": {
          "base_uri": "https://localhost:8080/"
        },
        "outputId": "6110732e-9c86-47f2-b3f3-b5b01c12fd9d",
        "id": "FSiw5hjvtC-3"
      },
      "execution_count": 77,
      "outputs": [
        {
          "output_type": "execute_result",
          "data": {
            "text/plain": [
              "XGBClassifier(colsample_bytree=0.7, learning_rate=0.0001, max_depth=6,\n",
              "              min_child_weight=11, missing=-999, n_estimators=5, nthread=4,\n",
              "              objective='multi:softprob', seed=1337, silent=1, subsample=0.8)"
            ]
          },
          "metadata": {},
          "execution_count": 77
        }
      ]
    },
    {
      "cell_type": "markdown",
      "metadata": {
        "id": "HnkxXq7LX-Jg"
      },
      "source": [
        "## Predicting the Test set results"
      ]
    },
    {
      "cell_type": "code",
      "source": [
        "y_pred_XGB = xgb.predict(X_test)"
      ],
      "metadata": {
        "id": "2zAnl3rbX5Sv"
      },
      "execution_count": 78,
      "outputs": []
    },
    {
      "cell_type": "markdown",
      "metadata": {
        "id": "-89oDyoAYBH7"
      },
      "source": [
        "## Making the Confusion Matrix"
      ]
    },
    {
      "cell_type": "code",
      "metadata": {
        "colab": {
          "base_uri": "https://localhost:8080/"
        },
        "outputId": "c26232d3-89bd-4dc7-bb48-e3d90aa9dab1",
        "id": "btIyeav0YBH7"
      },
      "source": [
        "from sklearn.metrics import confusion_matrix, classification_report, accuracy_score\n",
        "print(confusion_matrix(y_test,y_pred_XGB))\n",
        "print(classification_report(y_test,y_pred_XGB))"
      ],
      "execution_count": 79,
      "outputs": [
        {
          "output_type": "stream",
          "name": "stdout",
          "text": [
            "[[ 98  15   1  39  24]\n",
            " [ 76   7   1  50  23]\n",
            " [ 51  12   4  49  22]\n",
            " [ 70  20   8 103  55]\n",
            " [ 55   4   4  90  98]]\n",
            "              precision    recall  f1-score   support\n",
            "\n",
            "           0       0.28      0.55      0.37       177\n",
            "           1       0.12      0.04      0.07       157\n",
            "           2       0.22      0.03      0.05       138\n",
            "           3       0.31      0.40      0.35       256\n",
            "           4       0.44      0.39      0.41       251\n",
            "\n",
            "    accuracy                           0.32       979\n",
            "   macro avg       0.28      0.28      0.25       979\n",
            "weighted avg       0.30      0.32      0.28       979\n",
            "\n"
          ]
        }
      ]
    },
    {
      "cell_type": "code",
      "source": [
        "accuracy_score(y_test, y_pred_XGB)"
      ],
      "metadata": {
        "colab": {
          "base_uri": "https://localhost:8080/"
        },
        "outputId": "7370cb98-6ee5-407e-fe96-3b9848545739",
        "id": "FE03CqTxYBH7"
      },
      "execution_count": 80,
      "outputs": [
        {
          "output_type": "execute_result",
          "data": {
            "text/plain": [
              "0.3166496424923391"
            ]
          },
          "metadata": {},
          "execution_count": 80
        }
      ]
    },
    {
      "cell_type": "code",
      "source": [
        "pd.crosstab(y_test, y_pred_XGB)"
      ],
      "metadata": {
        "colab": {
          "base_uri": "https://localhost:8080/",
          "height": 238
        },
        "outputId": "5c8788ec-790b-42ac-bd82-10e65e083767",
        "id": "GPH0Lg0TYBH8"
      },
      "execution_count": 81,
      "outputs": [
        {
          "output_type": "execute_result",
          "data": {
            "text/plain": [
              "col_0   0   1  2    3   4\n",
              "row_0                    \n",
              "0      98  15  1   39  24\n",
              "1      76   7  1   50  23\n",
              "2      51  12  4   49  22\n",
              "3      70  20  8  103  55\n",
              "4      55   4  4   90  98"
            ],
            "text/html": [
              "\n",
              "  <div id=\"df-d66a0868-1adb-4140-8bf7-984058e91513\">\n",
              "    <div class=\"colab-df-container\">\n",
              "      <div>\n",
              "<style scoped>\n",
              "    .dataframe tbody tr th:only-of-type {\n",
              "        vertical-align: middle;\n",
              "    }\n",
              "\n",
              "    .dataframe tbody tr th {\n",
              "        vertical-align: top;\n",
              "    }\n",
              "\n",
              "    .dataframe thead th {\n",
              "        text-align: right;\n",
              "    }\n",
              "</style>\n",
              "<table border=\"1\" class=\"dataframe\">\n",
              "  <thead>\n",
              "    <tr style=\"text-align: right;\">\n",
              "      <th>col_0</th>\n",
              "      <th>0</th>\n",
              "      <th>1</th>\n",
              "      <th>2</th>\n",
              "      <th>3</th>\n",
              "      <th>4</th>\n",
              "    </tr>\n",
              "    <tr>\n",
              "      <th>row_0</th>\n",
              "      <th></th>\n",
              "      <th></th>\n",
              "      <th></th>\n",
              "      <th></th>\n",
              "      <th></th>\n",
              "    </tr>\n",
              "  </thead>\n",
              "  <tbody>\n",
              "    <tr>\n",
              "      <th>0</th>\n",
              "      <td>98</td>\n",
              "      <td>15</td>\n",
              "      <td>1</td>\n",
              "      <td>39</td>\n",
              "      <td>24</td>\n",
              "    </tr>\n",
              "    <tr>\n",
              "      <th>1</th>\n",
              "      <td>76</td>\n",
              "      <td>7</td>\n",
              "      <td>1</td>\n",
              "      <td>50</td>\n",
              "      <td>23</td>\n",
              "    </tr>\n",
              "    <tr>\n",
              "      <th>2</th>\n",
              "      <td>51</td>\n",
              "      <td>12</td>\n",
              "      <td>4</td>\n",
              "      <td>49</td>\n",
              "      <td>22</td>\n",
              "    </tr>\n",
              "    <tr>\n",
              "      <th>3</th>\n",
              "      <td>70</td>\n",
              "      <td>20</td>\n",
              "      <td>8</td>\n",
              "      <td>103</td>\n",
              "      <td>55</td>\n",
              "    </tr>\n",
              "    <tr>\n",
              "      <th>4</th>\n",
              "      <td>55</td>\n",
              "      <td>4</td>\n",
              "      <td>4</td>\n",
              "      <td>90</td>\n",
              "      <td>98</td>\n",
              "    </tr>\n",
              "  </tbody>\n",
              "</table>\n",
              "</div>\n",
              "      <button class=\"colab-df-convert\" onclick=\"convertToInteractive('df-d66a0868-1adb-4140-8bf7-984058e91513')\"\n",
              "              title=\"Convert this dataframe to an interactive table.\"\n",
              "              style=\"display:none;\">\n",
              "        \n",
              "  <svg xmlns=\"http://www.w3.org/2000/svg\" height=\"24px\"viewBox=\"0 0 24 24\"\n",
              "       width=\"24px\">\n",
              "    <path d=\"M0 0h24v24H0V0z\" fill=\"none\"/>\n",
              "    <path d=\"M18.56 5.44l.94 2.06.94-2.06 2.06-.94-2.06-.94-.94-2.06-.94 2.06-2.06.94zm-11 1L8.5 8.5l.94-2.06 2.06-.94-2.06-.94L8.5 2.5l-.94 2.06-2.06.94zm10 10l.94 2.06.94-2.06 2.06-.94-2.06-.94-.94-2.06-.94 2.06-2.06.94z\"/><path d=\"M17.41 7.96l-1.37-1.37c-.4-.4-.92-.59-1.43-.59-.52 0-1.04.2-1.43.59L10.3 9.45l-7.72 7.72c-.78.78-.78 2.05 0 2.83L4 21.41c.39.39.9.59 1.41.59.51 0 1.02-.2 1.41-.59l7.78-7.78 2.81-2.81c.8-.78.8-2.07 0-2.86zM5.41 20L4 18.59l7.72-7.72 1.47 1.35L5.41 20z\"/>\n",
              "  </svg>\n",
              "      </button>\n",
              "      \n",
              "  <style>\n",
              "    .colab-df-container {\n",
              "      display:flex;\n",
              "      flex-wrap:wrap;\n",
              "      gap: 12px;\n",
              "    }\n",
              "\n",
              "    .colab-df-convert {\n",
              "      background-color: #E8F0FE;\n",
              "      border: none;\n",
              "      border-radius: 50%;\n",
              "      cursor: pointer;\n",
              "      display: none;\n",
              "      fill: #1967D2;\n",
              "      height: 32px;\n",
              "      padding: 0 0 0 0;\n",
              "      width: 32px;\n",
              "    }\n",
              "\n",
              "    .colab-df-convert:hover {\n",
              "      background-color: #E2EBFA;\n",
              "      box-shadow: 0px 1px 2px rgba(60, 64, 67, 0.3), 0px 1px 3px 1px rgba(60, 64, 67, 0.15);\n",
              "      fill: #174EA6;\n",
              "    }\n",
              "\n",
              "    [theme=dark] .colab-df-convert {\n",
              "      background-color: #3B4455;\n",
              "      fill: #D2E3FC;\n",
              "    }\n",
              "\n",
              "    [theme=dark] .colab-df-convert:hover {\n",
              "      background-color: #434B5C;\n",
              "      box-shadow: 0px 1px 3px 1px rgba(0, 0, 0, 0.15);\n",
              "      filter: drop-shadow(0px 1px 2px rgba(0, 0, 0, 0.3));\n",
              "      fill: #FFFFFF;\n",
              "    }\n",
              "  </style>\n",
              "\n",
              "      <script>\n",
              "        const buttonEl =\n",
              "          document.querySelector('#df-d66a0868-1adb-4140-8bf7-984058e91513 button.colab-df-convert');\n",
              "        buttonEl.style.display =\n",
              "          google.colab.kernel.accessAllowed ? 'block' : 'none';\n",
              "\n",
              "        async function convertToInteractive(key) {\n",
              "          const element = document.querySelector('#df-d66a0868-1adb-4140-8bf7-984058e91513');\n",
              "          const dataTable =\n",
              "            await google.colab.kernel.invokeFunction('convertToInteractive',\n",
              "                                                     [key], {});\n",
              "          if (!dataTable) return;\n",
              "\n",
              "          const docLinkHtml = 'Like what you see? Visit the ' +\n",
              "            '<a target=\"_blank\" href=https://colab.research.google.com/notebooks/data_table.ipynb>data table notebook</a>'\n",
              "            + ' to learn more about interactive tables.';\n",
              "          element.innerHTML = '';\n",
              "          dataTable['output_type'] = 'display_data';\n",
              "          await google.colab.output.renderOutput(dataTable, element);\n",
              "          const docLink = document.createElement('div');\n",
              "          docLink.innerHTML = docLinkHtml;\n",
              "          element.appendChild(docLink);\n",
              "        }\n",
              "      </script>\n",
              "    </div>\n",
              "  </div>\n",
              "  "
            ]
          },
          "metadata": {},
          "execution_count": 81
        }
      ]
    },
    {
      "cell_type": "markdown",
      "source": [
        "# Naive Bayes"
      ],
      "metadata": {
        "id": "8XtV3VsFsb5_"
      }
    },
    {
      "cell_type": "markdown",
      "metadata": {
        "id": "wdZFL_ZYsi8p"
      },
      "source": [
        "## Training the Naive Bayes model on the Training set"
      ]
    },
    {
      "cell_type": "code",
      "source": [
        "X_train = pca_X_train\n",
        "X_test = pca_X_test"
      ],
      "metadata": {
        "id": "U6qYd1esI5bp"
      },
      "execution_count": 82,
      "outputs": []
    },
    {
      "cell_type": "code",
      "metadata": {
        "colab": {
          "base_uri": "https://localhost:8080/"
        },
        "id": "apuwtXJHsi8q",
        "outputId": "bcecfaba-246a-46fa-8299-25478acbfa64"
      },
      "source": [
        "from sklearn.naive_bayes import GaussianNB\n",
        "classifier = GaussianNB()\n",
        "classifier.fit(X_train, y_train)"
      ],
      "execution_count": 83,
      "outputs": [
        {
          "output_type": "execute_result",
          "data": {
            "text/plain": [
              "GaussianNB()"
            ]
          },
          "metadata": {},
          "execution_count": 83
        }
      ]
    },
    {
      "cell_type": "code",
      "source": [
        "param_grid_nb = {\n",
        "    'var_smoothing': np.logspace(0,-9, num=100)\n",
        "}"
      ],
      "metadata": {
        "id": "3_upVtZYs1Ee"
      },
      "execution_count": 84,
      "outputs": []
    },
    {
      "cell_type": "code",
      "source": [
        "from sklearn.naive_bayes import GaussianNB\n",
        "from sklearn.model_selection import GridSearchCV\n",
        "nbModel_grid = GridSearchCV(estimator=GaussianNB(), param_grid=param_grid_nb, verbose=1, cv=10, n_jobs=-1)\n",
        "nbModel_grid.fit(X_train, y_train)\n",
        "print(nbModel_grid.best_estimator_)"
      ],
      "metadata": {
        "colab": {
          "base_uri": "https://localhost:8080/"
        },
        "id": "EpyWOFKQs7o3",
        "outputId": "aa7bea7a-a62b-40cd-d23a-f896acae9568"
      },
      "execution_count": 85,
      "outputs": [
        {
          "output_type": "stream",
          "name": "stdout",
          "text": [
            "Fitting 10 folds for each of 100 candidates, totalling 1000 fits\n",
            "GaussianNB(var_smoothing=0.23101297000831597)\n"
          ]
        }
      ]
    },
    {
      "cell_type": "markdown",
      "source": [
        "## Predicting the Test set results"
      ],
      "metadata": {
        "id": "J3_2Y_MatNAg"
      }
    },
    {
      "cell_type": "code",
      "source": [
        "y_pred = nbModel_grid.predict(X_test)\n",
        "print(y_pred)"
      ],
      "metadata": {
        "colab": {
          "base_uri": "https://localhost:8080/"
        },
        "id": "Up92oVOVtFRF",
        "outputId": "963ecfa3-1364-4b47-e7b1-7173da8fa016"
      },
      "execution_count": 86,
      "outputs": [
        {
          "output_type": "stream",
          "name": "stdout",
          "text": [
            "[0 0 0 0 0 0 0 0 0 0 4 4 0 0 0 0 0 0 4 1 0 4 0 0 0 0 3 4 0 1 0 0 0 0 0 0 0\n",
            " 0 0 4 0 3 3 3 0 0 0 4 0 0 0 0 0 0 0 0 0 0 0 0 0 0 0 0 1 0 0 0 0 0 0 3 0 0\n",
            " 0 0 0 3 0 0 0 0 3 0 0 0 0 0 0 0 0 0 0 0 0 0 3 0 0 0 0 0 0 0 0 0 4 4 0 0 4\n",
            " 0 0 0 4 4 4 0 0 0 0 4 0 1 0 0 0 0 0 0 0 0 0 0 0 0 3 0 3 0 0 0 0 0 0 0 0 0\n",
            " 0 0 0 0 0 0 0 0 3 0 4 0 0 3 0 0 0 1 0 0 0 0 0 0 3 0 0 0 3 0 0 0 0 0 0 0 0\n",
            " 0 0 0 0 0 0 0 0 0 4 0 0 0 0 0 0 1 4 0 0 0 4 0 3 0 0 1 4 0 0 0 0 0 0 0 0 0\n",
            " 0 0 0 0 0 0 0 0 4 0 4 0 0 4 0 4 0 4 0 0 4 0 0 4 4 0 0 0 0 0 0 0 0 3 3 4 0\n",
            " 3 0 0 0 0 0 0 0 0 0 0 0 0 0 0 0 0 0 0 0 0 4 4 0 4 4 0 0 0 4 4 4 4 4 4 0 4\n",
            " 4 0 0 0 0 4 0 0 0 0 0 0 0 0 0 0 0 0 0 0 0 0 0 0 0 1 0 0 0 0 0 0 0 0 0 0 0\n",
            " 0 0 4 0 0 0 0 0 1 0 0 0 1 0 0 4 4 1 0 0 4 0 0 3 0 0 0 4 0 1 0 0 0 0 0 0 0\n",
            " 4 0 0 4 0 0 4 0 0 0 4 0 0 4 4 4 0 4 1 0 4 0 0 0 0 0 0 0 4 0 0 0 0 0 4 3 0\n",
            " 0 4 0 0 0 0 0 0 0 4 0 0 4 0 4 0 0 0 0 4 0 0 4 4 4 4 4 4 1 0 4 4 4 4 4 0 4\n",
            " 0 4 0 4 0 0 1 4 4 0 0 0 0 0 0 0 3 3 0 0 3 0 0 3 0 0 0 0 0 0 0 0 1 0 4 0 4\n",
            " 0 4 0 0 0 1 0 4 0 0 0 0 0 0 0 0 0 0 0 0 4 4 0 0 4 4 4 4 0 0 0 0 0 0 0 0 0\n",
            " 0 0 0 3 3 3 4 0 0 4 4 0 4 4 4 4 4 0 0 4 0 0 0 3 3 0 4 0 0 0 0 0 0 0 4 0 0\n",
            " 0 0 1 0 4 0 0 4 0 0 4 0 0 0 0 0 4 4 4 0 4 4 0 0 0 4 0 4 4 4 0 4 0 0 0 4 4\n",
            " 0 0 0 0 0 0 3 0 0 4 4 4 1 4 0 4 4 4 0 4 4 0 3 0 4 4 0 0 4 0 0 0 0 0 0 0 0\n",
            " 0 0 4 0 0 0 0 0 0 4 4 0 4 0 0 1 0 0 4 0 4 1 0 0 0 0 4 4 4 4 4 4 4 4 4 4 0\n",
            " 0 1 4 4 4 0 0 0 0 0 0 0 0 4 0 0 0 0 0 4 3 4 4 0 4 0 4 0 0 0 4 0 0 0 0 4 0\n",
            " 1 1 0 3 0 3 3 0 3 0 4 3 3 0 0 0 0 3 0 3 0 0 0 0 0 0 0 4 4 4 4 4 4 4 4 4 3\n",
            " 0 0 0 0 0 0 0 4 4 4 0 4 0 0 0 0 0 4 0 0 0 0 0 4 0 4 4 4 0 4 0 0 0 4 4 0 4\n",
            " 4 0 0 0 3 0 0 0 0 0 4 4 0 0 0 4 0 0 3 0 0 4 3 0 0 4 0 0 0 4 0 0 4 4 4 4 4\n",
            " 4 4 4 0 4 4 4 0 0 0 3 0 0 0 4 4 4 4 4 4 4 4 0 0 4 4 0 4 4 4 4 4 0 0 4 0 4\n",
            " 4 0 4 3 0 0 0 0 4 0 4 4 3 0 4 4 3 4 3 3 4 0 0 0 0 0 0 0 1 0 4 4 0 0 0 0 3\n",
            " 0 4 4 4 4 0 4 4 4 0 0 4 4 4 0 0 0 0 0 0 0 3 3 0 4 4 4 4 4 4 4 4 4 4 4 0 1\n",
            " 0 0 4 0 4 0 0 0 1 0 4 0 0 0 0 0 4 0 0 4 4 4 0 1 0 4 4 0 3 3 0 0 0 0 0 3 3\n",
            " 0 0 1 0 0 0 4 0 0 3 3 0 3 1 0 0 0]\n"
          ]
        }
      ]
    },
    {
      "cell_type": "markdown",
      "metadata": {
        "id": "jI3E-yqOsmnt"
      },
      "source": [
        "## Making the Confusion Matrix"
      ]
    },
    {
      "cell_type": "code",
      "metadata": {
        "colab": {
          "base_uri": "https://localhost:8080/"
        },
        "id": "jH1X3e9ssmnt",
        "outputId": "f900cda4-8e1a-4a54-b50b-4ef88157bb82"
      },
      "source": [
        "from sklearn.metrics import confusion_matrix, accuracy_score, classification_report\n",
        "cm = confusion_matrix(y_test, y_pred)\n",
        "print(cm)\n",
        "accuracy_score(y_test, y_pred)\n",
        "print(classification_report(y_test,y_pred))"
      ],
      "execution_count": 87,
      "outputs": [
        {
          "output_type": "stream",
          "name": "stdout",
          "text": [
            "[[143   5   0  14  15]\n",
            " [124   3   0   4  26]\n",
            " [ 88   7   0   6  37]\n",
            " [155   9   0  16  76]\n",
            " [126   6   0  20  99]]\n",
            "              precision    recall  f1-score   support\n",
            "\n",
            "           0       0.22      0.81      0.35       177\n",
            "           1       0.10      0.02      0.03       157\n",
            "           2       0.00      0.00      0.00       138\n",
            "           3       0.27      0.06      0.10       256\n",
            "           4       0.39      0.39      0.39       251\n",
            "\n",
            "    accuracy                           0.27       979\n",
            "   macro avg       0.20      0.26      0.18       979\n",
            "weighted avg       0.23      0.27      0.20       979\n",
            "\n"
          ]
        },
        {
          "output_type": "stream",
          "name": "stderr",
          "text": [
            "/usr/local/lib/python3.8/dist-packages/sklearn/metrics/_classification.py:1318: UndefinedMetricWarning: Precision and F-score are ill-defined and being set to 0.0 in labels with no predicted samples. Use `zero_division` parameter to control this behavior.\n",
            "  _warn_prf(average, modifier, msg_start, len(result))\n",
            "/usr/local/lib/python3.8/dist-packages/sklearn/metrics/_classification.py:1318: UndefinedMetricWarning: Precision and F-score are ill-defined and being set to 0.0 in labels with no predicted samples. Use `zero_division` parameter to control this behavior.\n",
            "  _warn_prf(average, modifier, msg_start, len(result))\n",
            "/usr/local/lib/python3.8/dist-packages/sklearn/metrics/_classification.py:1318: UndefinedMetricWarning: Precision and F-score are ill-defined and being set to 0.0 in labels with no predicted samples. Use `zero_division` parameter to control this behavior.\n",
            "  _warn_prf(average, modifier, msg_start, len(result))\n"
          ]
        }
      ]
    },
    {
      "cell_type": "markdown",
      "source": [
        "# SVM (kernel: rbf)"
      ],
      "metadata": {
        "id": "4B9lNsMuO4vv"
      }
    },
    {
      "cell_type": "markdown",
      "metadata": {
        "id": "2mlrOyhnQgKc"
      },
      "source": [
        "## Training the kernel SVM model on the Training set"
      ]
    },
    {
      "cell_type": "code",
      "source": [
        "X_train = pca_X_train\n",
        "X_test = pca_X_test"
      ],
      "metadata": {
        "id": "RWtSS6TUIzeY"
      },
      "execution_count": 88,
      "outputs": []
    },
    {
      "cell_type": "code",
      "metadata": {
        "colab": {
          "base_uri": "https://localhost:8080/"
        },
        "outputId": "ece9b2e5-ab47-4c4c-ab90-5c194b899394",
        "id": "dzbJT4DxQgKh"
      },
      "source": [
        "from sklearn.svm import SVC\n",
        "kernel_svm = SVC(kernel = 'rbf', random_state = 0)\n",
        "kernel_svm.fit(X_train, y_train)"
      ],
      "execution_count": 89,
      "outputs": [
        {
          "output_type": "execute_result",
          "data": {
            "text/plain": [
              "SVC(random_state=0)"
            ]
          },
          "metadata": {},
          "execution_count": 89
        }
      ]
    },
    {
      "cell_type": "markdown",
      "metadata": {
        "id": "OmSZ8OcckVv8"
      },
      "source": [
        "## Applying Grid Search to find the best model and the best parameters"
      ]
    },
    {
      "cell_type": "code",
      "metadata": {
        "outputId": "e26acb32-2db9-486c-b30c-d871f6570228",
        "colab": {
          "base_uri": "https://localhost:8080/"
        },
        "id": "drlXHXY1kVwE"
      },
      "source": [
        "from sklearn.model_selection import GridSearchCV\n",
        "parameters = {'C': [0.25, 0.5, 0.75, 1], 'kernel': ['rbf'], 'gamma': [0.2, 0.3, 0.4, 0.5, 0.6]}\n",
        "grid_search = GridSearchCV(estimator = kernel_svm,\n",
        "                           param_grid = parameters,\n",
        "                           scoring = 'accuracy',\n",
        "                           cv = 10,\n",
        "                           n_jobs = -1)\n",
        "grid_search.fit(X_train, y_train)\n",
        "best_accuracy = grid_search.best_score_\n",
        "best_parameters = grid_search.best_params_\n",
        "print(\"Best Accuracy: {:.2f} %\".format(best_accuracy*100))\n",
        "print(\"Best Parameters:\", best_parameters)"
      ],
      "execution_count": 90,
      "outputs": [
        {
          "output_type": "stream",
          "name": "stdout",
          "text": [
            "Best Accuracy: 33.79 %\n",
            "Best Parameters: {'C': 0.25, 'gamma': 0.6, 'kernel': 'rbf'}\n"
          ]
        }
      ]
    },
    {
      "cell_type": "markdown",
      "metadata": {
        "id": "GwOdO3-3ev8D"
      },
      "source": [
        "## Training the kernel SVM model on the Training set"
      ]
    },
    {
      "cell_type": "code",
      "metadata": {
        "id": "BAA1z8D2ev8E",
        "colab": {
          "base_uri": "https://localhost:8080/"
        },
        "outputId": "bd487406-dea4-481f-fb4e-e42cbd404d42"
      },
      "source": [
        "from sklearn.svm import SVC\n",
        "kernel_svm = SVC(kernel = best_parameters['kernel'], gamma = best_parameters['gamma'], C=best_parameters['C'])\n",
        "kernel_svm.fit(X_train, y_train)"
      ],
      "execution_count": 91,
      "outputs": [
        {
          "output_type": "execute_result",
          "data": {
            "text/plain": [
              "SVC(C=0.25, gamma=0.6)"
            ]
          },
          "metadata": {},
          "execution_count": 91
        }
      ]
    },
    {
      "cell_type": "markdown",
      "metadata": {
        "id": "MgCk41DnRd0I"
      },
      "source": [
        "## Predicting the Test set results"
      ]
    },
    {
      "cell_type": "code",
      "source": [
        "y_pred_SVC = kernel_svm.predict(X_test)"
      ],
      "metadata": {
        "id": "wDjlMfPKRd0I"
      },
      "execution_count": 92,
      "outputs": []
    },
    {
      "cell_type": "markdown",
      "metadata": {
        "id": "MgE8rt2LRd0I"
      },
      "source": [
        "## Making the Confusion Matrix"
      ]
    },
    {
      "cell_type": "code",
      "metadata": {
        "id": "8h0QDdZeRd0J",
        "colab": {
          "base_uri": "https://localhost:8080/"
        },
        "outputId": "cc0b320f-a3ca-458f-ed0d-be7ebb51e59f"
      },
      "source": [
        "from sklearn.metrics import confusion_matrix, classification_report, accuracy_score\n",
        "print(confusion_matrix(y_test,y_pred_SVC))\n",
        "print(classification_report(y_test,y_pred_SVC))"
      ],
      "execution_count": 93,
      "outputs": [
        {
          "output_type": "stream",
          "name": "stdout",
          "text": [
            "[[117   0   0  40  20]\n",
            " [ 81   0   0  53  23]\n",
            " [ 63   0   0  50  25]\n",
            " [ 88   0   0  99  69]\n",
            " [ 71   0   0  77 103]]\n",
            "              precision    recall  f1-score   support\n",
            "\n",
            "           0       0.28      0.66      0.39       177\n",
            "           1       0.00      0.00      0.00       157\n",
            "           2       0.00      0.00      0.00       138\n",
            "           3       0.31      0.39      0.34       256\n",
            "           4       0.43      0.41      0.42       251\n",
            "\n",
            "    accuracy                           0.33       979\n",
            "   macro avg       0.20      0.29      0.23       979\n",
            "weighted avg       0.24      0.33      0.27       979\n",
            "\n"
          ]
        },
        {
          "output_type": "stream",
          "name": "stderr",
          "text": [
            "/usr/local/lib/python3.8/dist-packages/sklearn/metrics/_classification.py:1318: UndefinedMetricWarning: Precision and F-score are ill-defined and being set to 0.0 in labels with no predicted samples. Use `zero_division` parameter to control this behavior.\n",
            "  _warn_prf(average, modifier, msg_start, len(result))\n",
            "/usr/local/lib/python3.8/dist-packages/sklearn/metrics/_classification.py:1318: UndefinedMetricWarning: Precision and F-score are ill-defined and being set to 0.0 in labels with no predicted samples. Use `zero_division` parameter to control this behavior.\n",
            "  _warn_prf(average, modifier, msg_start, len(result))\n",
            "/usr/local/lib/python3.8/dist-packages/sklearn/metrics/_classification.py:1318: UndefinedMetricWarning: Precision and F-score are ill-defined and being set to 0.0 in labels with no predicted samples. Use `zero_division` parameter to control this behavior.\n",
            "  _warn_prf(average, modifier, msg_start, len(result))\n"
          ]
        }
      ]
    },
    {
      "cell_type": "code",
      "source": [
        "accuracy_score(y_test, y_pred_SVC)"
      ],
      "metadata": {
        "id": "xds7opIhWZEF",
        "colab": {
          "base_uri": "https://localhost:8080/"
        },
        "outputId": "26cbdca7-33f3-4369-fe30-937d17ce6f37"
      },
      "execution_count": 94,
      "outputs": [
        {
          "output_type": "execute_result",
          "data": {
            "text/plain": [
              "0.3258426966292135"
            ]
          },
          "metadata": {},
          "execution_count": 94
        }
      ]
    },
    {
      "cell_type": "code",
      "source": [
        "pd.crosstab(y_test, y_pred_SVC)"
      ],
      "metadata": {
        "id": "WALVJRmtSDAP",
        "colab": {
          "base_uri": "https://localhost:8080/",
          "height": 238
        },
        "outputId": "5ebc5e01-f2b3-4654-869c-cdc0a6386461"
      },
      "execution_count": 95,
      "outputs": [
        {
          "output_type": "execute_result",
          "data": {
            "text/plain": [
              "col_0    0   3    4\n",
              "row_0              \n",
              "0      117  40   20\n",
              "1       81  53   23\n",
              "2       63  50   25\n",
              "3       88  99   69\n",
              "4       71  77  103"
            ],
            "text/html": [
              "\n",
              "  <div id=\"df-2208ba11-d439-4006-83f9-6de27365cfaa\">\n",
              "    <div class=\"colab-df-container\">\n",
              "      <div>\n",
              "<style scoped>\n",
              "    .dataframe tbody tr th:only-of-type {\n",
              "        vertical-align: middle;\n",
              "    }\n",
              "\n",
              "    .dataframe tbody tr th {\n",
              "        vertical-align: top;\n",
              "    }\n",
              "\n",
              "    .dataframe thead th {\n",
              "        text-align: right;\n",
              "    }\n",
              "</style>\n",
              "<table border=\"1\" class=\"dataframe\">\n",
              "  <thead>\n",
              "    <tr style=\"text-align: right;\">\n",
              "      <th>col_0</th>\n",
              "      <th>0</th>\n",
              "      <th>3</th>\n",
              "      <th>4</th>\n",
              "    </tr>\n",
              "    <tr>\n",
              "      <th>row_0</th>\n",
              "      <th></th>\n",
              "      <th></th>\n",
              "      <th></th>\n",
              "    </tr>\n",
              "  </thead>\n",
              "  <tbody>\n",
              "    <tr>\n",
              "      <th>0</th>\n",
              "      <td>117</td>\n",
              "      <td>40</td>\n",
              "      <td>20</td>\n",
              "    </tr>\n",
              "    <tr>\n",
              "      <th>1</th>\n",
              "      <td>81</td>\n",
              "      <td>53</td>\n",
              "      <td>23</td>\n",
              "    </tr>\n",
              "    <tr>\n",
              "      <th>2</th>\n",
              "      <td>63</td>\n",
              "      <td>50</td>\n",
              "      <td>25</td>\n",
              "    </tr>\n",
              "    <tr>\n",
              "      <th>3</th>\n",
              "      <td>88</td>\n",
              "      <td>99</td>\n",
              "      <td>69</td>\n",
              "    </tr>\n",
              "    <tr>\n",
              "      <th>4</th>\n",
              "      <td>71</td>\n",
              "      <td>77</td>\n",
              "      <td>103</td>\n",
              "    </tr>\n",
              "  </tbody>\n",
              "</table>\n",
              "</div>\n",
              "      <button class=\"colab-df-convert\" onclick=\"convertToInteractive('df-2208ba11-d439-4006-83f9-6de27365cfaa')\"\n",
              "              title=\"Convert this dataframe to an interactive table.\"\n",
              "              style=\"display:none;\">\n",
              "        \n",
              "  <svg xmlns=\"http://www.w3.org/2000/svg\" height=\"24px\"viewBox=\"0 0 24 24\"\n",
              "       width=\"24px\">\n",
              "    <path d=\"M0 0h24v24H0V0z\" fill=\"none\"/>\n",
              "    <path d=\"M18.56 5.44l.94 2.06.94-2.06 2.06-.94-2.06-.94-.94-2.06-.94 2.06-2.06.94zm-11 1L8.5 8.5l.94-2.06 2.06-.94-2.06-.94L8.5 2.5l-.94 2.06-2.06.94zm10 10l.94 2.06.94-2.06 2.06-.94-2.06-.94-.94-2.06-.94 2.06-2.06.94z\"/><path d=\"M17.41 7.96l-1.37-1.37c-.4-.4-.92-.59-1.43-.59-.52 0-1.04.2-1.43.59L10.3 9.45l-7.72 7.72c-.78.78-.78 2.05 0 2.83L4 21.41c.39.39.9.59 1.41.59.51 0 1.02-.2 1.41-.59l7.78-7.78 2.81-2.81c.8-.78.8-2.07 0-2.86zM5.41 20L4 18.59l7.72-7.72 1.47 1.35L5.41 20z\"/>\n",
              "  </svg>\n",
              "      </button>\n",
              "      \n",
              "  <style>\n",
              "    .colab-df-container {\n",
              "      display:flex;\n",
              "      flex-wrap:wrap;\n",
              "      gap: 12px;\n",
              "    }\n",
              "\n",
              "    .colab-df-convert {\n",
              "      background-color: #E8F0FE;\n",
              "      border: none;\n",
              "      border-radius: 50%;\n",
              "      cursor: pointer;\n",
              "      display: none;\n",
              "      fill: #1967D2;\n",
              "      height: 32px;\n",
              "      padding: 0 0 0 0;\n",
              "      width: 32px;\n",
              "    }\n",
              "\n",
              "    .colab-df-convert:hover {\n",
              "      background-color: #E2EBFA;\n",
              "      box-shadow: 0px 1px 2px rgba(60, 64, 67, 0.3), 0px 1px 3px 1px rgba(60, 64, 67, 0.15);\n",
              "      fill: #174EA6;\n",
              "    }\n",
              "\n",
              "    [theme=dark] .colab-df-convert {\n",
              "      background-color: #3B4455;\n",
              "      fill: #D2E3FC;\n",
              "    }\n",
              "\n",
              "    [theme=dark] .colab-df-convert:hover {\n",
              "      background-color: #434B5C;\n",
              "      box-shadow: 0px 1px 3px 1px rgba(0, 0, 0, 0.15);\n",
              "      filter: drop-shadow(0px 1px 2px rgba(0, 0, 0, 0.3));\n",
              "      fill: #FFFFFF;\n",
              "    }\n",
              "  </style>\n",
              "\n",
              "      <script>\n",
              "        const buttonEl =\n",
              "          document.querySelector('#df-2208ba11-d439-4006-83f9-6de27365cfaa button.colab-df-convert');\n",
              "        buttonEl.style.display =\n",
              "          google.colab.kernel.accessAllowed ? 'block' : 'none';\n",
              "\n",
              "        async function convertToInteractive(key) {\n",
              "          const element = document.querySelector('#df-2208ba11-d439-4006-83f9-6de27365cfaa');\n",
              "          const dataTable =\n",
              "            await google.colab.kernel.invokeFunction('convertToInteractive',\n",
              "                                                     [key], {});\n",
              "          if (!dataTable) return;\n",
              "\n",
              "          const docLinkHtml = 'Like what you see? Visit the ' +\n",
              "            '<a target=\"_blank\" href=https://colab.research.google.com/notebooks/data_table.ipynb>data table notebook</a>'\n",
              "            + ' to learn more about interactive tables.';\n",
              "          element.innerHTML = '';\n",
              "          dataTable['output_type'] = 'display_data';\n",
              "          await google.colab.output.renderOutput(dataTable, element);\n",
              "          const docLink = document.createElement('div');\n",
              "          docLink.innerHTML = docLinkHtml;\n",
              "          element.appendChild(docLink);\n",
              "        }\n",
              "      </script>\n",
              "    </div>\n",
              "  </div>\n",
              "  "
            ]
          },
          "metadata": {},
          "execution_count": 95
        }
      ]
    },
    {
      "cell_type": "markdown",
      "metadata": {
        "id": "Y0oUvALlaj8o"
      },
      "source": [
        "## Applying k-Fold Cross Validation"
      ]
    },
    {
      "cell_type": "code",
      "metadata": {
        "id": "N9YkZzTmaj8p",
        "colab": {
          "base_uri": "https://localhost:8080/"
        },
        "outputId": "1d4c9b6d-c97b-4537-a266-85dd99cfd9d9"
      },
      "source": [
        "from sklearn.model_selection import cross_val_score\n",
        "accuracies = cross_val_score(estimator = kernel_svm, X = X_train, y = y_train, cv = 10)\n",
        "print(\"Accuracy: {:.2f} %\".format(accuracies.mean()*100))\n",
        "print(\"Standard Deviation: {:.2f} %\".format(accuracies.std()*100))"
      ],
      "execution_count": 96,
      "outputs": [
        {
          "output_type": "stream",
          "name": "stdout",
          "text": [
            "Accuracy: 33.79 %\n",
            "Standard Deviation: 2.90 %\n"
          ]
        }
      ]
    }
  ]
}