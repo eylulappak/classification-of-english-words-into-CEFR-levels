{
  "nbformat": 4,
  "nbformat_minor": 0,
  "metadata": {
    "colab": {
      "provenance": [],
      "toc_visible": true,
      "collapsed_sections": [
        "4B9lNsMuO4vv",
        "2mlrOyhnQgKc",
        "OmSZ8OcckVv8",
        "GwOdO3-3ev8D",
        "MgCk41DnRd0I",
        "MgE8rt2LRd0I"
      ]
    },
    "kernelspec": {
      "name": "python3",
      "display_name": "Python 3"
    },
    "language_info": {
      "name": "python"
    },
    "gpuClass": "standard"
  },
  "cells": [
    {
      "cell_type": "markdown",
      "metadata": {
        "id": "WOw8yMd1VlnD"
      },
      "source": [
        "# Data Preprocessing"
      ]
    },
    {
      "cell_type": "markdown",
      "metadata": {
        "id": "NvUGC8QQV6bV"
      },
      "source": [
        "## Importing the libraries"
      ]
    },
    {
      "cell_type": "code",
      "metadata": {
        "id": "wfFEXZC0WS-V"
      },
      "source": [
        "%matplotlib inline\n",
        "import numpy as np\n",
        "import pandas as pd\n",
        "import matplotlib.pyplot as plt\n",
        "import seaborn as sns\n",
        "import sklearn"
      ],
      "execution_count": 434,
      "outputs": []
    },
    {
      "cell_type": "markdown",
      "metadata": {
        "id": "fhYaZ-ENV_c5"
      },
      "source": [
        "## Importing the dataset"
      ]
    },
    {
      "cell_type": "code",
      "metadata": {
        "id": "aqHTg9bxWT_u"
      },
      "source": [
        "training_set = pd.read_csv('train.csv')\n",
        "test_set = pd.read_csv('test.csv')\n",
        "X_train = training_set.iloc[:, 1:-1].values #we omit the first column which includes words\n",
        "X_test = test_set.iloc[:, 1:-1].values\n",
        "y_train = training_set.iloc[:, -1].values\n",
        "y_test = test_set.iloc[:, -1].values"
      ],
      "execution_count": 435,
      "outputs": []
    },
    {
      "cell_type": "code",
      "execution_count": 436,
      "metadata": {
        "colab": {
          "base_uri": "https://localhost:8080/"
        },
        "outputId": "cfe28c3b-793c-4c6e-bcbe-5351e9073af1",
        "id": "W8Rq1Q_yjwUG"
      },
      "outputs": [
        {
          "output_type": "stream",
          "name": "stdout",
          "text": [
            "[[1.000e+00       nan       nan ... 0.000e+00 0.000e+00 3.000e+00]\n",
            " [5.000e+00 9.000e+00 2.000e+00 ... 0.000e+00 0.000e+00 1.000e+01]\n",
            " [5.000e+00 7.000e+00 2.000e+00 ... 0.000e+00 0.000e+00 3.000e+00]\n",
            " ...\n",
            " [7.000e+00 1.000e+01 3.000e+00 ... 0.000e+00 0.000e+00 6.000e+00]\n",
            " [9.000e+00 1.100e+01       nan ... 0.000e+00 2.898e+03 3.000e+00]\n",
            " [7.000e+00       nan       nan ... 0.000e+00 0.000e+00 3.000e+00]]\n"
          ]
        }
      ],
      "source": [
        "print(X_train)"
      ]
    },
    {
      "cell_type": "code",
      "execution_count": 437,
      "metadata": {
        "colab": {
          "base_uri": "https://localhost:8080/"
        },
        "outputId": "b508c6d8-79d2-4650-85a0-9b0b7cc8429c",
        "id": "ELm3zvlTjwUH"
      },
      "outputs": [
        {
          "output_type": "stream",
          "name": "stdout",
          "text": [
            "[[ 5.  8.  1. ...  0.  0.  9.]\n",
            " [ 7. 10.  2. ...  0.  0.  8.]\n",
            " [ 5.  7.  1. ...  0.  0.  7.]\n",
            " ...\n",
            " [ 4.  6.  1. ...  0.  0.  2.]\n",
            " [ 5.  8.  1. ...  0.  0.  3.]\n",
            " [ 9.  9.  2. ...  0. 14.  5.]]\n"
          ]
        }
      ],
      "source": [
        "print(X_test)"
      ]
    },
    {
      "cell_type": "code",
      "execution_count": 438,
      "metadata": {
        "colab": {
          "base_uri": "https://localhost:8080/"
        },
        "outputId": "78d113ee-dc73-4e2b-e9e0-b5898963a691",
        "id": "dqljV2XHjwUH"
      },
      "outputs": [
        {
          "output_type": "stream",
          "name": "stdout",
          "text": [
            "['a1' 'a1' 'a1' ... 'c1' 'c1' 'c1']\n"
          ]
        }
      ],
      "source": [
        "print(y_train)"
      ]
    },
    {
      "cell_type": "code",
      "execution_count": 439,
      "metadata": {
        "colab": {
          "base_uri": "https://localhost:8080/"
        },
        "outputId": "9ecabba6-160f-410c-d523-47b37a6c4c5c",
        "id": "7oyu7wESjwUH"
      },
      "outputs": [
        {
          "output_type": "stream",
          "name": "stdout",
          "text": [
            "['a1' 'a1' 'a1' 'a1' 'a1' 'a1' 'a1' 'a1' 'a1' 'a1' 'a1' 'a1' 'a1' 'a1'\n",
            " 'a1' 'a1' 'a1' 'a1' 'a1' 'a1' 'a1' 'a1' 'a1' 'a1' 'a1' 'a1' 'a1' 'a1'\n",
            " 'a1' 'a1' 'a1' 'a1' 'a1' 'a1' 'a1' 'a1' 'a1' 'a1' 'a1' 'a1' 'a1' 'a1'\n",
            " 'a1' 'a1' 'a1' 'a1' 'a1' 'a1' 'a1' 'a1' 'a1' 'a1' 'a1' 'a1' 'a1' 'a1'\n",
            " 'a1' 'a1' 'a1' 'a1' 'a1' 'a1' 'a1' 'a1' 'a1' 'a1' 'a1' 'a1' 'a1' 'a1'\n",
            " 'a1' 'a1' 'a1' 'a1' 'a1' 'a1' 'a1' 'a1' 'a1' 'a1' 'a1' 'a1' 'a1' 'a1'\n",
            " 'a1' 'a1' 'a1' 'a1' 'a1' 'a1' 'a1' 'a1' 'a1' 'a1' 'a1' 'a1' 'a1' 'a1'\n",
            " 'a1' 'a1' 'a1' 'a1' 'a1' 'a1' 'a1' 'a1' 'a1' 'a1' 'a1' 'a1' 'a1' 'a1'\n",
            " 'a1' 'a1' 'a1' 'a1' 'a1' 'a1' 'a1' 'a1' 'a1' 'a1' 'a1' 'a1' 'a1' 'a1'\n",
            " 'a1' 'a1' 'a1' 'a1' 'a1' 'a1' 'a1' 'a1' 'a1' 'a1' 'a1' 'a1' 'a1' 'a1'\n",
            " 'a1' 'a1' 'a1' 'a1' 'a1' 'a1' 'a1' 'a1' 'a1' 'a1' 'a1' 'a1' 'a1' 'a1'\n",
            " 'a1' 'a1' 'a1' 'a1' 'a1' 'a1' 'a1' 'a1' 'a1' 'a1' 'a1' 'a1' 'a1' 'a1'\n",
            " 'a1' 'a1' 'a1' 'a1' 'a1' 'a1' 'a1' 'a1' 'a1' 'a2' 'a2' 'a2' 'a2' 'a2'\n",
            " 'a2' 'a2' 'a2' 'a2' 'a2' 'a2' 'a2' 'a2' 'a2' 'a2' 'a2' 'a2' 'a2' 'a2'\n",
            " 'a2' 'a2' 'a2' 'a2' 'a2' 'a2' 'a2' 'a2' 'a2' 'a2' 'a2' 'a2' 'a2' 'a2'\n",
            " 'a2' 'a2' 'a2' 'a2' 'a2' 'a2' 'a2' 'a2' 'a2' 'a2' 'a2' 'a2' 'a2' 'a2'\n",
            " 'a2' 'a2' 'a2' 'a2' 'a2' 'a2' 'a2' 'a2' 'a2' 'a2' 'a2' 'a2' 'a2' 'a2'\n",
            " 'a2' 'a2' 'a2' 'a2' 'a2' 'a2' 'a2' 'a2' 'a2' 'a2' 'a2' 'a2' 'a2' 'a2'\n",
            " 'a2' 'a2' 'a2' 'a2' 'a2' 'a2' 'a2' 'a2' 'a2' 'a2' 'a2' 'a2' 'a2' 'a2'\n",
            " 'a2' 'a2' 'a2' 'a2' 'a2' 'a2' 'a2' 'a2' 'a2' 'a2' 'a2' 'a2' 'a2' 'a2'\n",
            " 'a2' 'a2' 'a2' 'a2' 'a2' 'a2' 'a2' 'a2' 'a2' 'a2' 'a2' 'a2' 'a2' 'a2'\n",
            " 'a2' 'a2' 'a2' 'a2' 'a2' 'a2' 'a2' 'a2' 'a2' 'a2' 'a2' 'a2' 'a2' 'a2'\n",
            " 'a2' 'a2' 'a2' 'a2' 'a2' 'a2' 'a2' 'a2' 'a2' 'a2' 'a2' 'a2' 'a2' 'a2'\n",
            " 'a2' 'a2' 'a2' 'a2' 'a2' 'a2' 'a2' 'a2' 'a2' 'a2' 'a2' 'a2' 'b1' 'b1'\n",
            " 'b1' 'b1' 'b1' 'b1' 'b1' 'b1' 'b1' 'b1' 'b1' 'b1' 'b1' 'b1' 'b1' 'b1'\n",
            " 'b1' 'b1' 'b1' 'b1' 'b1' 'b1' 'b1' 'b1' 'b1' 'b1' 'b1' 'b1' 'b1' 'b1'\n",
            " 'b1' 'b1' 'b1' 'b1' 'b1' 'b1' 'b1' 'b1' 'b1' 'b1' 'b1' 'b1' 'b1' 'b1'\n",
            " 'b1' 'b1' 'b1' 'b1' 'b1' 'b1' 'b1' 'b1' 'b1' 'b1' 'b1' 'b1' 'b1' 'b1'\n",
            " 'b1' 'b1' 'b1' 'b1' 'b1' 'b1' 'b1' 'b1' 'b1' 'b1' 'b1' 'b1' 'b1' 'b1'\n",
            " 'b1' 'b1' 'b1' 'b1' 'b1' 'b1' 'b1' 'b1' 'b1' 'b1' 'b1' 'b1' 'b1' 'b1'\n",
            " 'b1' 'b1' 'b1' 'b1' 'b1' 'b1' 'b1' 'b1' 'b1' 'b1' 'b1' 'b1' 'b1' 'b1'\n",
            " 'b1' 'b1' 'b1' 'b1' 'b1' 'b1' 'b1' 'b1' 'b1' 'b1' 'b1' 'b1' 'b1' 'b1'\n",
            " 'b1' 'b1' 'b1' 'b1' 'b1' 'b1' 'b1' 'b1' 'b1' 'b1' 'b1' 'b1' 'b1' 'b1'\n",
            " 'b1' 'b1' 'b1' 'b1' 'b1' 'b1' 'b1' 'b1' 'b1' 'b1' 'b2' 'b2' 'b2' 'b2'\n",
            " 'b2' 'b2' 'b2' 'b2' 'b2' 'b2' 'b2' 'b2' 'b2' 'b2' 'b2' 'b2' 'b2' 'b2'\n",
            " 'b2' 'b2' 'b2' 'b2' 'b2' 'b2' 'b2' 'b2' 'b2' 'b2' 'b2' 'b2' 'b2' 'b2'\n",
            " 'b2' 'b2' 'b2' 'b2' 'b2' 'b2' 'b2' 'b2' 'b2' 'b2' 'b2' 'b2' 'b2' 'b2'\n",
            " 'b2' 'b2' 'b2' 'b2' 'b2' 'b2' 'b2' 'b2' 'b2' 'b2' 'b2' 'b2' 'b2' 'b2'\n",
            " 'b2' 'b2' 'b2' 'b2' 'b2' 'b2' 'b2' 'b2' 'b2' 'b2' 'b2' 'b2' 'b2' 'b2'\n",
            " 'b2' 'b2' 'b2' 'b2' 'b2' 'b2' 'b2' 'b2' 'b2' 'b2' 'b2' 'b2' 'b2' 'b2'\n",
            " 'b2' 'b2' 'b2' 'b2' 'b2' 'b2' 'b2' 'b2' 'b2' 'b2' 'b2' 'b2' 'b2' 'b2'\n",
            " 'b2' 'b2' 'b2' 'b2' 'b2' 'b2' 'b2' 'b2' 'b2' 'b2' 'b2' 'b2' 'b2' 'b2'\n",
            " 'b2' 'b2' 'b2' 'b2' 'b2' 'b2' 'b2' 'b2' 'b2' 'b2' 'b2' 'b2' 'b2' 'b2'\n",
            " 'b2' 'b2' 'b2' 'b2' 'b2' 'b2' 'b2' 'b2' 'b2' 'b2' 'b2' 'b2' 'b2' 'b2'\n",
            " 'b2' 'b2' 'b2' 'b2' 'b2' 'b2' 'b2' 'b2' 'b2' 'b2' 'b2' 'b2' 'b2' 'b2'\n",
            " 'b2' 'b2' 'b2' 'b2' 'b2' 'b2' 'b2' 'b2' 'b2' 'b2' 'b2' 'b2' 'b2' 'b2'\n",
            " 'b2' 'b2' 'b2' 'b2' 'b2' 'b2' 'b2' 'b2' 'b2' 'b2' 'b2' 'b2' 'b2' 'b2'\n",
            " 'b2' 'b2' 'b2' 'b2' 'b2' 'b2' 'b2' 'b2' 'b2' 'b2' 'b2' 'b2' 'b2' 'b2'\n",
            " 'b2' 'b2' 'b2' 'b2' 'b2' 'b2' 'b2' 'b2' 'b2' 'b2' 'b2' 'b2' 'b2' 'b2'\n",
            " 'b2' 'b2' 'b2' 'b2' 'b2' 'b2' 'b2' 'b2' 'b2' 'b2' 'b2' 'b2' 'b2' 'b2'\n",
            " 'b2' 'b2' 'b2' 'b2' 'b2' 'b2' 'b2' 'b2' 'b2' 'b2' 'b2' 'b2' 'b2' 'b2'\n",
            " 'b2' 'b2' 'b2' 'b2' 'b2' 'b2' 'b2' 'b2' 'b2' 'b2' 'b2' 'b2' 'b2' 'b2'\n",
            " 'c1' 'c1' 'c1' 'c1' 'c1' 'c1' 'c1' 'c1' 'c1' 'c1' 'c1' 'c1' 'c1' 'c1'\n",
            " 'c1' 'c1' 'c1' 'c1' 'c1' 'c1' 'c1' 'c1' 'c1' 'c1' 'c1' 'c1' 'c1' 'c1'\n",
            " 'c1' 'c1' 'c1' 'c1' 'c1' 'c1' 'c1' 'c1' 'c1' 'c1' 'c1' 'c1' 'c1' 'c1'\n",
            " 'c1' 'c1' 'c1' 'c1' 'c1' 'c1' 'c1' 'c1' 'c1' 'c1' 'c1' 'c1' 'c1' 'c1'\n",
            " 'c1' 'c1' 'c1' 'c1' 'c1' 'c1' 'c1' 'c1' 'c1' 'c1' 'c1' 'c1' 'c1' 'c1'\n",
            " 'c1' 'c1' 'c1' 'c1' 'c1' 'c1' 'c1' 'c1' 'c1' 'c1' 'c1' 'c1' 'c1' 'c1'\n",
            " 'c1' 'c1' 'c1' 'c1' 'c1' 'c1' 'c1' 'c1' 'c1' 'c1' 'c1' 'c1' 'c1' 'c1'\n",
            " 'c1' 'c1' 'c1' 'c1' 'c1' 'c1' 'c1' 'c1' 'c1' 'c1' 'c1' 'c1' 'c1' 'c1'\n",
            " 'c1' 'c1' 'c1' 'c1' 'c1' 'c1' 'c1' 'c1' 'c1' 'c1' 'c1' 'c1' 'c1' 'c1'\n",
            " 'c1' 'c1' 'c1' 'c1' 'c1' 'c1' 'c1' 'c1' 'c1' 'c1' 'c1' 'c1' 'c1' 'c1'\n",
            " 'c1' 'c1' 'c1' 'c1' 'c1' 'c1' 'c1' 'c1' 'c1' 'c1' 'c1' 'c1' 'c1' 'c1'\n",
            " 'c1' 'c1' 'c1' 'c1' 'c1' 'c1' 'c1' 'c1' 'c1' 'c1' 'c1' 'c1' 'c1' 'c1'\n",
            " 'c1' 'c1' 'c1' 'c1' 'c1' 'c1' 'c1' 'c1' 'c1' 'c1' 'c1' 'c1' 'c1' 'c1'\n",
            " 'c1' 'c1' 'c1' 'c1' 'c1' 'c1' 'c1' 'c1' 'c1' 'c1' 'c1' 'c1' 'c1' 'c1'\n",
            " 'c1' 'c1' 'c1' 'c1' 'c1' 'c1' 'c1' 'c1' 'c1' 'c1' 'c1' 'c1' 'c1' 'c1'\n",
            " 'c1' 'c1' 'c1' 'c1' 'c1' 'c1' 'c1' 'c1' 'c1' 'c1' 'c1' 'c1' 'c1' 'c1'\n",
            " 'c1' 'c1' 'c1' 'c1' 'c1' 'c1' 'c1' 'c1' 'c1' 'c1' 'c1' 'c1' 'c1' 'c1'\n",
            " 'c1' 'c1' 'c1' 'c1' 'c1' 'c1' 'c1' 'c1' 'c1' 'c1' 'c1' 'c1' 'c1']\n"
          ]
        }
      ],
      "source": [
        "print(y_test)"
      ]
    },
    {
      "cell_type": "markdown",
      "metadata": {
        "id": "nhfKXNxlSabC"
      },
      "source": [
        "## Taking care of missing data"
      ]
    },
    {
      "cell_type": "code",
      "execution_count": 440,
      "metadata": {
        "id": "c93k7ipkSexq"
      },
      "outputs": [],
      "source": [
        "from sklearn.impute import SimpleImputer\n",
        "imputer = SimpleImputer(missing_values=np.nan, strategy='mean')\n",
        "imputer.fit(X_train[:, 1:3])\n",
        "X_train[:, 1:3] = imputer.transform(X_train[:, 1:3])\n",
        "imputer.fit(X_test[:, 1:3])\n",
        "X_test[:, 1:3] = imputer.transform(X_test[:, 1:3])"
      ]
    },
    {
      "cell_type": "code",
      "execution_count": 441,
      "metadata": {
        "colab": {
          "base_uri": "https://localhost:8080/"
        },
        "id": "3UgLdMS_bjq_",
        "outputId": "3ba320c0-32d7-4b47-d36a-3b1c90f96798"
      },
      "outputs": [
        {
          "output_type": "stream",
          "name": "stdout",
          "text": [
            "[[1.00000000e+00 1.03173913e+01 2.24306974e+00 ... 0.00000000e+00\n",
            "  0.00000000e+00 3.00000000e+00]\n",
            " [5.00000000e+00 9.00000000e+00 2.00000000e+00 ... 0.00000000e+00\n",
            "  0.00000000e+00 1.00000000e+01]\n",
            " [5.00000000e+00 7.00000000e+00 2.00000000e+00 ... 0.00000000e+00\n",
            "  0.00000000e+00 3.00000000e+00]\n",
            " ...\n",
            " [7.00000000e+00 1.00000000e+01 3.00000000e+00 ... 0.00000000e+00\n",
            "  0.00000000e+00 6.00000000e+00]\n",
            " [9.00000000e+00 1.10000000e+01 2.24306974e+00 ... 0.00000000e+00\n",
            "  2.89800000e+03 3.00000000e+00]\n",
            " [7.00000000e+00 1.03173913e+01 2.24306974e+00 ... 0.00000000e+00\n",
            "  0.00000000e+00 3.00000000e+00]]\n"
          ]
        }
      ],
      "source": [
        "print(X_train)"
      ]
    },
    {
      "cell_type": "code",
      "source": [
        "print(X_test)"
      ],
      "metadata": {
        "colab": {
          "base_uri": "https://localhost:8080/"
        },
        "id": "qeLMyYxYlC34",
        "outputId": "db6ab4a9-b026-4be8-f022-4ce5631a3d3d"
      },
      "execution_count": 442,
      "outputs": [
        {
          "output_type": "stream",
          "name": "stdout",
          "text": [
            "[[ 5.  8.  1. ...  0.  0.  9.]\n",
            " [ 7. 10.  2. ...  0.  0.  8.]\n",
            " [ 5.  7.  1. ...  0.  0.  7.]\n",
            " ...\n",
            " [ 4.  6.  1. ...  0.  0.  2.]\n",
            " [ 5.  8.  1. ...  0.  0.  3.]\n",
            " [ 9.  9.  2. ...  0. 14.  5.]]\n"
          ]
        }
      ]
    },
    {
      "cell_type": "markdown",
      "source": [
        "## Encoding the labels"
      ],
      "metadata": {
        "id": "vPoM1lrlq93v"
      }
    },
    {
      "cell_type": "code",
      "source": [
        "from sklearn.preprocessing import LabelEncoder\n",
        "le = LabelEncoder()\n",
        "y_train = le.fit_transform(y_train)\n",
        "y_test = le.fit_transform(y_test)"
      ],
      "metadata": {
        "id": "tCyD2x5DrBtI"
      },
      "execution_count": 443,
      "outputs": []
    },
    {
      "cell_type": "code",
      "source": [
        "print(y_train)"
      ],
      "metadata": {
        "colab": {
          "base_uri": "https://localhost:8080/"
        },
        "id": "kEXiJCN-rYdA",
        "outputId": "540e4299-9228-4cb6-f606-d2c1ee366efe"
      },
      "execution_count": 444,
      "outputs": [
        {
          "output_type": "stream",
          "name": "stdout",
          "text": [
            "[0 0 0 ... 4 4 4]\n"
          ]
        }
      ]
    },
    {
      "cell_type": "code",
      "source": [
        "print(y_test)"
      ],
      "metadata": {
        "colab": {
          "base_uri": "https://localhost:8080/"
        },
        "id": "cqDk2e7Mradi",
        "outputId": "789b7c47-f4f9-4324-c185-b02d8116550d"
      },
      "execution_count": 445,
      "outputs": [
        {
          "output_type": "stream",
          "name": "stdout",
          "text": [
            "[0 0 0 0 0 0 0 0 0 0 0 0 0 0 0 0 0 0 0 0 0 0 0 0 0 0 0 0 0 0 0 0 0 0 0 0 0\n",
            " 0 0 0 0 0 0 0 0 0 0 0 0 0 0 0 0 0 0 0 0 0 0 0 0 0 0 0 0 0 0 0 0 0 0 0 0 0\n",
            " 0 0 0 0 0 0 0 0 0 0 0 0 0 0 0 0 0 0 0 0 0 0 0 0 0 0 0 0 0 0 0 0 0 0 0 0 0\n",
            " 0 0 0 0 0 0 0 0 0 0 0 0 0 0 0 0 0 0 0 0 0 0 0 0 0 0 0 0 0 0 0 0 0 0 0 0 0\n",
            " 0 0 0 0 0 0 0 0 0 0 0 0 0 0 0 0 0 0 0 0 0 0 0 0 0 0 0 0 0 1 1 1 1 1 1 1 1\n",
            " 1 1 1 1 1 1 1 1 1 1 1 1 1 1 1 1 1 1 1 1 1 1 1 1 1 1 1 1 1 1 1 1 1 1 1 1 1\n",
            " 1 1 1 1 1 1 1 1 1 1 1 1 1 1 1 1 1 1 1 1 1 1 1 1 1 1 1 1 1 1 1 1 1 1 1 1 1\n",
            " 1 1 1 1 1 1 1 1 1 1 1 1 1 1 1 1 1 1 1 1 1 1 1 1 1 1 1 1 1 1 1 1 1 1 1 1 1\n",
            " 1 1 1 1 1 1 1 1 1 1 1 1 1 1 1 1 1 1 1 1 1 1 1 1 1 1 1 1 1 1 1 1 1 1 1 1 1\n",
            " 1 2 2 2 2 2 2 2 2 2 2 2 2 2 2 2 2 2 2 2 2 2 2 2 2 2 2 2 2 2 2 2 2 2 2 2 2\n",
            " 2 2 2 2 2 2 2 2 2 2 2 2 2 2 2 2 2 2 2 2 2 2 2 2 2 2 2 2 2 2 2 2 2 2 2 2 2\n",
            " 2 2 2 2 2 2 2 2 2 2 2 2 2 2 2 2 2 2 2 2 2 2 2 2 2 2 2 2 2 2 2 2 2 2 2 2 2\n",
            " 2 2 2 2 2 2 2 2 2 2 2 2 2 2 2 2 2 2 2 2 2 2 2 2 2 2 2 2 3 3 3 3 3 3 3 3 3\n",
            " 3 3 3 3 3 3 3 3 3 3 3 3 3 3 3 3 3 3 3 3 3 3 3 3 3 3 3 3 3 3 3 3 3 3 3 3 3\n",
            " 3 3 3 3 3 3 3 3 3 3 3 3 3 3 3 3 3 3 3 3 3 3 3 3 3 3 3 3 3 3 3 3 3 3 3 3 3\n",
            " 3 3 3 3 3 3 3 3 3 3 3 3 3 3 3 3 3 3 3 3 3 3 3 3 3 3 3 3 3 3 3 3 3 3 3 3 3\n",
            " 3 3 3 3 3 3 3 3 3 3 3 3 3 3 3 3 3 3 3 3 3 3 3 3 3 3 3 3 3 3 3 3 3 3 3 3 3\n",
            " 3 3 3 3 3 3 3 3 3 3 3 3 3 3 3 3 3 3 3 3 3 3 3 3 3 3 3 3 3 3 3 3 3 3 3 3 3\n",
            " 3 3 3 3 3 3 3 3 3 3 3 3 3 3 3 3 3 3 3 3 3 3 3 3 3 3 3 3 3 3 3 3 3 3 3 3 3\n",
            " 3 3 3 3 3 3 3 3 3 3 3 3 3 3 3 3 3 3 3 3 3 3 3 3 3 4 4 4 4 4 4 4 4 4 4 4 4\n",
            " 4 4 4 4 4 4 4 4 4 4 4 4 4 4 4 4 4 4 4 4 4 4 4 4 4 4 4 4 4 4 4 4 4 4 4 4 4\n",
            " 4 4 4 4 4 4 4 4 4 4 4 4 4 4 4 4 4 4 4 4 4 4 4 4 4 4 4 4 4 4 4 4 4 4 4 4 4\n",
            " 4 4 4 4 4 4 4 4 4 4 4 4 4 4 4 4 4 4 4 4 4 4 4 4 4 4 4 4 4 4 4 4 4 4 4 4 4\n",
            " 4 4 4 4 4 4 4 4 4 4 4 4 4 4 4 4 4 4 4 4 4 4 4 4 4 4 4 4 4 4 4 4 4 4 4 4 4\n",
            " 4 4 4 4 4 4 4 4 4 4 4 4 4 4 4 4 4 4 4 4 4 4 4 4 4 4 4 4 4 4 4 4 4 4 4 4 4\n",
            " 4 4 4 4 4 4 4 4 4 4 4 4 4 4 4 4 4 4 4 4 4 4 4 4 4 4 4 4 4 4 4 4 4 4 4 4 4\n",
            " 4 4 4 4 4 4 4 4 4 4 4 4 4 4 4 4 4]\n"
          ]
        }
      ]
    },
    {
      "cell_type": "markdown",
      "metadata": {
        "id": "TpGqbS4TqkIR"
      },
      "source": [
        "## Feature Scaling"
      ]
    },
    {
      "cell_type": "code",
      "execution_count": 446,
      "metadata": {
        "id": "AxjSUXFQqo-3"
      },
      "outputs": [],
      "source": [
        "from sklearn.preprocessing import StandardScaler\n",
        "sc = StandardScaler()\n",
        "X_train = sc.fit_transform(X_train)\n",
        "X_test = sc.transform(X_test)"
      ]
    },
    {
      "cell_type": "code",
      "execution_count": 447,
      "metadata": {
        "colab": {
          "base_uri": "https://localhost:8080/"
        },
        "id": "DWPET8ZdlMnu",
        "outputId": "b40aab2a-a083-4e1b-d298-1d5bfd6bda8d"
      },
      "outputs": [
        {
          "output_type": "stream",
          "name": "stdout",
          "text": [
            "[[-2.44268150e+00 -6.36318672e-16  0.00000000e+00 ... -3.28388700e-01\n",
            "  -5.05443687e-01 -3.96500855e-01]\n",
            " [-8.00645045e-01 -4.71910072e-01 -2.55984438e-01 ... -3.28388700e-01\n",
            "  -5.05443687e-01 -1.27256938e-01]\n",
            " [-8.00645045e-01 -1.18834121e+00 -2.55984438e-01 ... -3.28388700e-01\n",
            "  -5.05443687e-01 -3.96500855e-01]\n",
            " ...\n",
            " [ 2.03731819e-02 -1.13694506e-01  7.97147216e-01 ... -3.28388700e-01\n",
            "  -5.05443687e-01 -2.81110604e-01]\n",
            " [ 8.41391409e-01  2.44521061e-01  0.00000000e+00 ... -3.28388700e-01\n",
            "   2.79810244e+00 -3.96500855e-01]\n",
            " [ 2.03731819e-02 -6.36318672e-16  0.00000000e+00 ... -3.28388700e-01\n",
            "  -5.05443687e-01 -3.96500855e-01]]\n"
          ]
        }
      ],
      "source": [
        "print(X_train)"
      ]
    },
    {
      "cell_type": "code",
      "execution_count": 448,
      "metadata": {
        "colab": {
          "base_uri": "https://localhost:8080/"
        },
        "id": "sTXykB_QlRjE",
        "outputId": "5d58c205-e1af-4287-9e2f-bb7947d3eba7"
      },
      "outputs": [
        {
          "output_type": "stream",
          "name": "stdout",
          "text": [
            "[[-0.80064505 -0.83012564 -1.30911609 ... -0.3283887  -0.50544369\n",
            "  -0.16572035]\n",
            " [ 0.02037318 -0.11369451 -0.25598444 ... -0.3283887  -0.50544369\n",
            "  -0.20418377]\n",
            " [-0.80064505 -1.18834121 -1.30911609 ... -0.3283887  -0.50544369\n",
            "  -0.24264719]\n",
            " ...\n",
            " [-1.21115416 -1.54655677 -1.30911609 ... -0.3283887  -0.50544369\n",
            "  -0.43496427]\n",
            " [-0.80064505 -0.83012564 -1.30911609 ... -0.3283887  -0.50544369\n",
            "  -0.39650085]\n",
            " [ 0.84139141 -0.47191007 -0.25598444 ... -0.3283887  -0.48948453\n",
            "  -0.31957402]]\n"
          ]
        }
      ],
      "source": [
        "print(X_test)"
      ]
    },
    {
      "cell_type": "markdown",
      "source": [
        "# Principal Component Analysis\n"
      ],
      "metadata": {
        "id": "9IEST-Rs70dn"
      }
    },
    {
      "cell_type": "markdown",
      "source": [
        "## with n_components = 10"
      ],
      "metadata": {
        "id": "edmUP9NjHC3i"
      }
    },
    {
      "cell_type": "code",
      "source": [
        "features = training_set.drop(['lowest_level', 'words'], axis = 1)\n",
        "features.columns"
      ],
      "metadata": {
        "colab": {
          "base_uri": "https://localhost:8080/"
        },
        "id": "sSCLxkdF-6MA",
        "outputId": "8bf1df77-3c0f-43d4-a205-4d4bd806f3ee"
      },
      "execution_count": 449,
      "outputs": [
        {
          "output_type": "execute_result",
          "data": {
            "text/plain": [
              "Index(['length_of_word', 'length_of_phonetics', 'num_of_syllables',\n",
              "       'num_of_morph', 'num_of_prefix', 'num_of_roots', 'num_of_suff',\n",
              "       'total_pref_length', 'total_suff_length', 'pref_famsize',\n",
              "       'suff_famsize', 'root_famsize'],\n",
              "      dtype='object')"
            ]
          },
          "metadata": {},
          "execution_count": 449
        }
      ]
    },
    {
      "cell_type": "code",
      "source": [
        "feature_names = list(features.columns)"
      ],
      "metadata": {
        "id": "0_y3D1iKBQiS"
      },
      "execution_count": 450,
      "outputs": []
    },
    {
      "cell_type": "code",
      "source": [
        "from sklearn.decomposition import PCA\n",
        "\n",
        "pca = PCA(n_components=10)\n",
        "pca_X_train = pca.fit_transform(X_train)\n",
        "pca_X_test = pca.transform(X_test)\n",
        "\n",
        "print('Shape of training set for features before PCA: ', X_train.shape)\n",
        "print('Shape of test set for features before PCA: ', X_test.shape)\n",
        "print('Shape training set for features after PCA: ', pca_X_train.shape)\n",
        "print('Shape test set for features after PCA: ', pca_X_test.shape)\n",
        "\n",
        "pca_train_df = pd.DataFrame(\n",
        "    data=pca_X_train, \n",
        "    columns=['PC1', 'PC2', 'PC3', 'PC4', 'PC5', 'PC6', 'PC7','PC8', 'PC9', 'PC10'])\n",
        "\n",
        "pca_test_df = pd.DataFrame(\n",
        "    data=pca_X_test, \n",
        "    columns=['PC1', 'PC2', 'PC3', 'PC4', 'PC5', 'PC6', 'PC7','PC8', 'PC9', 'PC10'])"
      ],
      "metadata": {
        "colab": {
          "base_uri": "https://localhost:8080/"
        },
        "id": "asIBoyk97_Uu",
        "outputId": "c3920bbf-7522-4948-e804-475a6323e956"
      },
      "execution_count": 451,
      "outputs": [
        {
          "output_type": "stream",
          "name": "stdout",
          "text": [
            "Shape of training set for features before PCA:  (3909, 12)\n",
            "Shape of test set for features before PCA:  (979, 12)\n",
            "Shape training set for features after PCA:  (3909, 10)\n",
            "Shape test set for features after PCA:  (979, 10)\n"
          ]
        }
      ]
    },
    {
      "cell_type": "code",
      "source": [
        "featureDf = pd.concat([pca_train_df, pca_test_df], axis = 0)\n",
        "df_y_train = pd.DataFrame(y_train, columns = ['target'])\n",
        "df_y_test = pd.DataFrame(y_test, columns = ['target'])\n",
        "targetDf =pd.concat([df_y_train, df_y_test], axis=0)\n",
        "finalDf = pd.concat([featureDf, targetDf], axis=1)"
      ],
      "metadata": {
        "id": "SpgDbKpP9Tdc"
      },
      "execution_count": 452,
      "outputs": []
    },
    {
      "cell_type": "code",
      "source": [
        "finalDf"
      ],
      "metadata": {
        "colab": {
          "base_uri": "https://localhost:8080/",
          "height": 424
        },
        "id": "lu4JsGlv5PGh",
        "outputId": "97a1e60f-2be9-4d4d-aaff-b120b0817097"
      },
      "execution_count": 453,
      "outputs": [
        {
          "output_type": "execute_result",
          "data": {
            "text/plain": [
              "          PC1       PC2       PC3       PC4       PC5       PC6       PC7  \\\n",
              "0   -1.966274  0.211678 -0.114226  0.195609  0.047267 -0.510199 -0.781784   \n",
              "1   -1.567739  0.098962  0.030078 -0.024743  0.196118 -0.130862 -0.271666   \n",
              "2   -1.867148  0.206760 -0.123876  0.166106  0.012865 -0.302472 -0.350041   \n",
              "3   -1.593309  0.070580 -0.203229 -0.066276  0.215714 -0.172314 -0.099706   \n",
              "4    0.431341 -0.823165  1.015497  1.724126 -1.154753  0.190783 -0.786797   \n",
              "..        ...       ...       ...       ...       ...       ...       ...   \n",
              "974  0.614707 -0.848372  2.951137 -3.342915 -1.989510 -0.100996  1.186673   \n",
              "975  0.557596 -1.189997  0.139263  1.994278 -1.465419 -0.066091 -0.572127   \n",
              "976 -2.508029  0.547525 -0.026322  0.667511 -0.520647 -0.051067  0.161352   \n",
              "977 -2.087229  0.356053 -0.041315  0.337718 -0.224789  0.161661  0.457688   \n",
              "978  0.211213 -0.729193 -0.207526  0.326600  0.029012  0.281591  0.744586   \n",
              "\n",
              "          PC8       PC9      PC10  target  \n",
              "0    0.111388  0.117801 -1.718136       0  \n",
              "1   -0.044456 -0.035615 -0.188070       0  \n",
              "2    0.243776  0.237066  0.256641       0  \n",
              "3    0.208632  0.082766  0.311069       0  \n",
              "4   -0.787147 -0.102991  0.407437       0  \n",
              "..        ...       ...       ...     ...  \n",
              "974  0.997562  0.104473  0.285909       4  \n",
              "975  0.132013 -0.573253  0.340649       4  \n",
              "976  0.211955  0.212289  0.164650       4  \n",
              "977  0.043838 -0.075182 -0.005303       4  \n",
              "978 -0.221540  1.128675  0.764139       4  \n",
              "\n",
              "[4888 rows x 11 columns]"
            ],
            "text/html": [
              "\n",
              "  <div id=\"df-735f26eb-34c8-4a80-a7b3-f170ed3c9d50\">\n",
              "    <div class=\"colab-df-container\">\n",
              "      <div>\n",
              "<style scoped>\n",
              "    .dataframe tbody tr th:only-of-type {\n",
              "        vertical-align: middle;\n",
              "    }\n",
              "\n",
              "    .dataframe tbody tr th {\n",
              "        vertical-align: top;\n",
              "    }\n",
              "\n",
              "    .dataframe thead th {\n",
              "        text-align: right;\n",
              "    }\n",
              "</style>\n",
              "<table border=\"1\" class=\"dataframe\">\n",
              "  <thead>\n",
              "    <tr style=\"text-align: right;\">\n",
              "      <th></th>\n",
              "      <th>PC1</th>\n",
              "      <th>PC2</th>\n",
              "      <th>PC3</th>\n",
              "      <th>PC4</th>\n",
              "      <th>PC5</th>\n",
              "      <th>PC6</th>\n",
              "      <th>PC7</th>\n",
              "      <th>PC8</th>\n",
              "      <th>PC9</th>\n",
              "      <th>PC10</th>\n",
              "      <th>target</th>\n",
              "    </tr>\n",
              "  </thead>\n",
              "  <tbody>\n",
              "    <tr>\n",
              "      <th>0</th>\n",
              "      <td>-1.966274</td>\n",
              "      <td>0.211678</td>\n",
              "      <td>-0.114226</td>\n",
              "      <td>0.195609</td>\n",
              "      <td>0.047267</td>\n",
              "      <td>-0.510199</td>\n",
              "      <td>-0.781784</td>\n",
              "      <td>0.111388</td>\n",
              "      <td>0.117801</td>\n",
              "      <td>-1.718136</td>\n",
              "      <td>0</td>\n",
              "    </tr>\n",
              "    <tr>\n",
              "      <th>1</th>\n",
              "      <td>-1.567739</td>\n",
              "      <td>0.098962</td>\n",
              "      <td>0.030078</td>\n",
              "      <td>-0.024743</td>\n",
              "      <td>0.196118</td>\n",
              "      <td>-0.130862</td>\n",
              "      <td>-0.271666</td>\n",
              "      <td>-0.044456</td>\n",
              "      <td>-0.035615</td>\n",
              "      <td>-0.188070</td>\n",
              "      <td>0</td>\n",
              "    </tr>\n",
              "    <tr>\n",
              "      <th>2</th>\n",
              "      <td>-1.867148</td>\n",
              "      <td>0.206760</td>\n",
              "      <td>-0.123876</td>\n",
              "      <td>0.166106</td>\n",
              "      <td>0.012865</td>\n",
              "      <td>-0.302472</td>\n",
              "      <td>-0.350041</td>\n",
              "      <td>0.243776</td>\n",
              "      <td>0.237066</td>\n",
              "      <td>0.256641</td>\n",
              "      <td>0</td>\n",
              "    </tr>\n",
              "    <tr>\n",
              "      <th>3</th>\n",
              "      <td>-1.593309</td>\n",
              "      <td>0.070580</td>\n",
              "      <td>-0.203229</td>\n",
              "      <td>-0.066276</td>\n",
              "      <td>0.215714</td>\n",
              "      <td>-0.172314</td>\n",
              "      <td>-0.099706</td>\n",
              "      <td>0.208632</td>\n",
              "      <td>0.082766</td>\n",
              "      <td>0.311069</td>\n",
              "      <td>0</td>\n",
              "    </tr>\n",
              "    <tr>\n",
              "      <th>4</th>\n",
              "      <td>0.431341</td>\n",
              "      <td>-0.823165</td>\n",
              "      <td>1.015497</td>\n",
              "      <td>1.724126</td>\n",
              "      <td>-1.154753</td>\n",
              "      <td>0.190783</td>\n",
              "      <td>-0.786797</td>\n",
              "      <td>-0.787147</td>\n",
              "      <td>-0.102991</td>\n",
              "      <td>0.407437</td>\n",
              "      <td>0</td>\n",
              "    </tr>\n",
              "    <tr>\n",
              "      <th>...</th>\n",
              "      <td>...</td>\n",
              "      <td>...</td>\n",
              "      <td>...</td>\n",
              "      <td>...</td>\n",
              "      <td>...</td>\n",
              "      <td>...</td>\n",
              "      <td>...</td>\n",
              "      <td>...</td>\n",
              "      <td>...</td>\n",
              "      <td>...</td>\n",
              "      <td>...</td>\n",
              "    </tr>\n",
              "    <tr>\n",
              "      <th>974</th>\n",
              "      <td>0.614707</td>\n",
              "      <td>-0.848372</td>\n",
              "      <td>2.951137</td>\n",
              "      <td>-3.342915</td>\n",
              "      <td>-1.989510</td>\n",
              "      <td>-0.100996</td>\n",
              "      <td>1.186673</td>\n",
              "      <td>0.997562</td>\n",
              "      <td>0.104473</td>\n",
              "      <td>0.285909</td>\n",
              "      <td>4</td>\n",
              "    </tr>\n",
              "    <tr>\n",
              "      <th>975</th>\n",
              "      <td>0.557596</td>\n",
              "      <td>-1.189997</td>\n",
              "      <td>0.139263</td>\n",
              "      <td>1.994278</td>\n",
              "      <td>-1.465419</td>\n",
              "      <td>-0.066091</td>\n",
              "      <td>-0.572127</td>\n",
              "      <td>0.132013</td>\n",
              "      <td>-0.573253</td>\n",
              "      <td>0.340649</td>\n",
              "      <td>4</td>\n",
              "    </tr>\n",
              "    <tr>\n",
              "      <th>976</th>\n",
              "      <td>-2.508029</td>\n",
              "      <td>0.547525</td>\n",
              "      <td>-0.026322</td>\n",
              "      <td>0.667511</td>\n",
              "      <td>-0.520647</td>\n",
              "      <td>-0.051067</td>\n",
              "      <td>0.161352</td>\n",
              "      <td>0.211955</td>\n",
              "      <td>0.212289</td>\n",
              "      <td>0.164650</td>\n",
              "      <td>4</td>\n",
              "    </tr>\n",
              "    <tr>\n",
              "      <th>977</th>\n",
              "      <td>-2.087229</td>\n",
              "      <td>0.356053</td>\n",
              "      <td>-0.041315</td>\n",
              "      <td>0.337718</td>\n",
              "      <td>-0.224789</td>\n",
              "      <td>0.161661</td>\n",
              "      <td>0.457688</td>\n",
              "      <td>0.043838</td>\n",
              "      <td>-0.075182</td>\n",
              "      <td>-0.005303</td>\n",
              "      <td>4</td>\n",
              "    </tr>\n",
              "    <tr>\n",
              "      <th>978</th>\n",
              "      <td>0.211213</td>\n",
              "      <td>-0.729193</td>\n",
              "      <td>-0.207526</td>\n",
              "      <td>0.326600</td>\n",
              "      <td>0.029012</td>\n",
              "      <td>0.281591</td>\n",
              "      <td>0.744586</td>\n",
              "      <td>-0.221540</td>\n",
              "      <td>1.128675</td>\n",
              "      <td>0.764139</td>\n",
              "      <td>4</td>\n",
              "    </tr>\n",
              "  </tbody>\n",
              "</table>\n",
              "<p>4888 rows × 11 columns</p>\n",
              "</div>\n",
              "      <button class=\"colab-df-convert\" onclick=\"convertToInteractive('df-735f26eb-34c8-4a80-a7b3-f170ed3c9d50')\"\n",
              "              title=\"Convert this dataframe to an interactive table.\"\n",
              "              style=\"display:none;\">\n",
              "        \n",
              "  <svg xmlns=\"http://www.w3.org/2000/svg\" height=\"24px\"viewBox=\"0 0 24 24\"\n",
              "       width=\"24px\">\n",
              "    <path d=\"M0 0h24v24H0V0z\" fill=\"none\"/>\n",
              "    <path d=\"M18.56 5.44l.94 2.06.94-2.06 2.06-.94-2.06-.94-.94-2.06-.94 2.06-2.06.94zm-11 1L8.5 8.5l.94-2.06 2.06-.94-2.06-.94L8.5 2.5l-.94 2.06-2.06.94zm10 10l.94 2.06.94-2.06 2.06-.94-2.06-.94-.94-2.06-.94 2.06-2.06.94z\"/><path d=\"M17.41 7.96l-1.37-1.37c-.4-.4-.92-.59-1.43-.59-.52 0-1.04.2-1.43.59L10.3 9.45l-7.72 7.72c-.78.78-.78 2.05 0 2.83L4 21.41c.39.39.9.59 1.41.59.51 0 1.02-.2 1.41-.59l7.78-7.78 2.81-2.81c.8-.78.8-2.07 0-2.86zM5.41 20L4 18.59l7.72-7.72 1.47 1.35L5.41 20z\"/>\n",
              "  </svg>\n",
              "      </button>\n",
              "      \n",
              "  <style>\n",
              "    .colab-df-container {\n",
              "      display:flex;\n",
              "      flex-wrap:wrap;\n",
              "      gap: 12px;\n",
              "    }\n",
              "\n",
              "    .colab-df-convert {\n",
              "      background-color: #E8F0FE;\n",
              "      border: none;\n",
              "      border-radius: 50%;\n",
              "      cursor: pointer;\n",
              "      display: none;\n",
              "      fill: #1967D2;\n",
              "      height: 32px;\n",
              "      padding: 0 0 0 0;\n",
              "      width: 32px;\n",
              "    }\n",
              "\n",
              "    .colab-df-convert:hover {\n",
              "      background-color: #E2EBFA;\n",
              "      box-shadow: 0px 1px 2px rgba(60, 64, 67, 0.3), 0px 1px 3px 1px rgba(60, 64, 67, 0.15);\n",
              "      fill: #174EA6;\n",
              "    }\n",
              "\n",
              "    [theme=dark] .colab-df-convert {\n",
              "      background-color: #3B4455;\n",
              "      fill: #D2E3FC;\n",
              "    }\n",
              "\n",
              "    [theme=dark] .colab-df-convert:hover {\n",
              "      background-color: #434B5C;\n",
              "      box-shadow: 0px 1px 3px 1px rgba(0, 0, 0, 0.15);\n",
              "      filter: drop-shadow(0px 1px 2px rgba(0, 0, 0, 0.3));\n",
              "      fill: #FFFFFF;\n",
              "    }\n",
              "  </style>\n",
              "\n",
              "      <script>\n",
              "        const buttonEl =\n",
              "          document.querySelector('#df-735f26eb-34c8-4a80-a7b3-f170ed3c9d50 button.colab-df-convert');\n",
              "        buttonEl.style.display =\n",
              "          google.colab.kernel.accessAllowed ? 'block' : 'none';\n",
              "\n",
              "        async function convertToInteractive(key) {\n",
              "          const element = document.querySelector('#df-735f26eb-34c8-4a80-a7b3-f170ed3c9d50');\n",
              "          const dataTable =\n",
              "            await google.colab.kernel.invokeFunction('convertToInteractive',\n",
              "                                                     [key], {});\n",
              "          if (!dataTable) return;\n",
              "\n",
              "          const docLinkHtml = 'Like what you see? Visit the ' +\n",
              "            '<a target=\"_blank\" href=https://colab.research.google.com/notebooks/data_table.ipynb>data table notebook</a>'\n",
              "            + ' to learn more about interactive tables.';\n",
              "          element.innerHTML = '';\n",
              "          dataTable['output_type'] = 'display_data';\n",
              "          await google.colab.output.renderOutput(dataTable, element);\n",
              "          const docLink = document.createElement('div');\n",
              "          docLink.innerHTML = docLinkHtml;\n",
              "          element.appendChild(docLink);\n",
              "        }\n",
              "      </script>\n",
              "    </div>\n",
              "  </div>\n",
              "  "
            ]
          },
          "metadata": {},
          "execution_count": 453
        }
      ]
    },
    {
      "cell_type": "code",
      "source": [
        "pca.explained_variance_"
      ],
      "metadata": {
        "colab": {
          "base_uri": "https://localhost:8080/"
        },
        "id": "ISlmPpsB9yw4",
        "outputId": "06c1c121-bdf4-45c3-d5e0-0b0712089c81"
      },
      "execution_count": 454,
      "outputs": [
        {
          "output_type": "execute_result",
          "data": {
            "text/plain": [
              "array([4.82115006, 2.30559806, 1.72202731, 1.09414844, 0.82358297,\n",
              "       0.31227639, 0.29526764, 0.23743775, 0.20709419, 0.14198578])"
            ]
          },
          "metadata": {},
          "execution_count": 454
        }
      ]
    },
    {
      "cell_type": "code",
      "source": [
        "# Bar plot of explained_variance\n",
        "plt.bar(\n",
        "    range(1,len(pca.explained_variance_)+1),\n",
        "    pca.explained_variance_\n",
        "    )\n",
        "\n",
        "\n",
        "plt.xlabel('PCA Feature')\n",
        "plt.ylabel('Explained variance')\n",
        "plt.title('Feature Explained Variance')\n",
        "plt.show()"
      ],
      "metadata": {
        "colab": {
          "base_uri": "https://localhost:8080/",
          "height": 301
        },
        "id": "fVfu5LlX94-A",
        "outputId": "e0db0788-d401-4ed0-c85d-5ac5de0e01e2"
      },
      "execution_count": 455,
      "outputs": [
        {
          "output_type": "display_data",
          "data": {
            "text/plain": [
              "<Figure size 432x288 with 1 Axes>"
            ],
            "image/png": "[encoded data removed]"
          },
          "metadata": {
            "needs_background": "light"
          }
        }
      ]
    },
    {
      "cell_type": "code",
      "source": [
        "sns.set()\n",
        "\n",
        "plt.bar(\n",
        "    range(1,len(pca.explained_variance_)+1),\n",
        "    pca.explained_variance_\n",
        "    )\n",
        " \n",
        "plt.plot(\n",
        "    range(1,len(pca.explained_variance_ )+1),\n",
        "    np.cumsum(pca.explained_variance_),\n",
        "    c='red',\n",
        "    label='Cumulative Explained Variance')\n",
        " \n",
        "plt.legend(loc='upper left')\n",
        "plt.xlabel('Number of components')\n",
        "plt.ylabel('Explained variance (eignenvalues)')\n",
        "plt.title('Scree plot')\n",
        " \n",
        "plt.show()"
      ],
      "metadata": {
        "colab": {
          "base_uri": "https://localhost:8080/",
          "height": 301
        },
        "id": "PM4LUuh8Chrh",
        "outputId": "bf084488-882c-4733-b21f-91782254cb16"
      },
      "execution_count": 456,
      "outputs": [
        {
          "output_type": "display_data",
          "data": {
            "text/plain": [
              "<Figure size 432x288 with 1 Axes>"
            ],
            "image/png": "[encoded data removed]"
          },
          "metadata": {}
        }
      ]
    },
    {
      "cell_type": "code",
      "source": [
        "# Principal components correlation coefficients\n",
        "loadings = pca.components_\n",
        "\n",
        "# Number of features before PCA\n",
        "n_features = pca.n_features_\n",
        "\n",
        "# PC names\n",
        "pc_list = [f'PC{i}' for i in list(range(1, n_features + 1))]\n",
        "\n",
        "# Match PC names to loadings\n",
        "pc_loadings = dict(zip(pc_list, loadings))\n",
        "\n",
        "# Matrix of corr coefs between feature names and PCs\n",
        "loadings_df = pd.DataFrame.from_dict(pc_loadings)\n",
        "loadings_df['feature_names'] = feature_names\n",
        "loadings_df = loadings_df.set_index('feature_names')\n",
        "loadings_df"
      ],
      "metadata": {
        "colab": {
          "base_uri": "https://localhost:8080/",
          "height": 457
        },
        "id": "kR9Mol4X-Zb3",
        "outputId": "b575d816-3a6d-4526-fc89-a36d5b328623"
      },
      "execution_count": 457,
      "outputs": [
        {
          "output_type": "execute_result",
          "data": {
            "text/plain": [
              "                          PC1       PC2       PC3       PC4       PC5  \\\n",
              "feature_names                                                           \n",
              "length_of_word       0.375910 -0.163109 -0.042707 -0.280421  0.233890   \n",
              "length_of_phonetics  0.364303 -0.177687 -0.031682 -0.305191  0.282803   \n",
              "num_of_syllables     0.332893 -0.202200 -0.089172 -0.266763  0.321858   \n",
              "num_of_morph         0.425699 -0.023532  0.017279  0.128604 -0.285654   \n",
              "num_of_prefix        0.275234  0.509761 -0.068236  0.010220 -0.040985   \n",
              "num_of_roots         0.060972 -0.089951  0.483911 -0.532413 -0.498654   \n",
              "num_of_suff          0.344436 -0.300817 -0.086763  0.343764 -0.146147   \n",
              "total_pref_length    0.253526  0.491551 -0.065971 -0.025558 -0.004813   \n",
              "total_suff_length    0.072624  0.021674  0.540751  0.396636  0.530584   \n",
              "pref_famsize         0.251133  0.464247 -0.071591  0.025193 -0.047979   \n",
              "suff_famsize         0.287854 -0.281214 -0.101033  0.411717 -0.345572   \n",
              "root_famsize         0.142661  0.072435  0.656104  0.103250 -0.071891   \n",
              "\n",
              "                          PC6       PC7       PC8       PC9      PC10  \n",
              "feature_names                                                          \n",
              "length_of_word       0.194743  0.331761 -0.033136 -0.128672  0.728528  \n",
              "length_of_phonetics  0.176308  0.242554 -0.184566 -0.318679 -0.660318  \n",
              "num_of_syllables    -0.380747 -0.684475  0.127072  0.188098  0.024125  \n",
              "num_of_morph         0.039846  0.111212 -0.009740  0.400330 -0.078996  \n",
              "num_of_prefix        0.071334 -0.049880  0.082208  0.014779 -0.027628  \n",
              "num_of_roots        -0.151411  0.134367  0.364014  0.067757 -0.058780  \n",
              "num_of_suff          0.054280  0.127658 -0.171789  0.464854 -0.062969  \n",
              "total_pref_length    0.485339 -0.214749  0.323891  0.013585 -0.030472  \n",
              "total_suff_length   -0.135094  0.225279  0.431300  0.067412 -0.054059  \n",
              "pref_famsize        -0.682014  0.254958 -0.247511 -0.147359  0.034081  \n",
              "suff_famsize        -0.078887 -0.161165  0.303171 -0.641672  0.045974  \n",
              "root_famsize         0.168240 -0.354321 -0.579414 -0.164791  0.105337  "
            ],
            "text/html": [
              "\n",
              "  <div id=\"df-f1e354b0-f792-4948-b0b9-98ff84018df5\">\n",
              "    <div class=\"colab-df-container\">\n",
              "      <div>\n",
              "<style scoped>\n",
              "    .dataframe tbody tr th:only-of-type {\n",
              "        vertical-align: middle;\n",
              "    }\n",
              "\n",
              "    .dataframe tbody tr th {\n",
              "        vertical-align: top;\n",
              "    }\n",
              "\n",
              "    .dataframe thead th {\n",
              "        text-align: right;\n",
              "    }\n",
              "</style>\n",
              "<table border=\"1\" class=\"dataframe\">\n",
              "  <thead>\n",
              "    <tr style=\"text-align: right;\">\n",
              "      <th></th>\n",
              "      <th>PC1</th>\n",
              "      <th>PC2</th>\n",
              "      <th>PC3</th>\n",
              "      <th>PC4</th>\n",
              "      <th>PC5</th>\n",
              "      <th>PC6</th>\n",
              "      <th>PC7</th>\n",
              "      <th>PC8</th>\n",
              "      <th>PC9</th>\n",
              "      <th>PC10</th>\n",
              "    </tr>\n",
              "    <tr>\n",
              "      <th>feature_names</th>\n",
              "      <th></th>\n",
              "      <th></th>\n",
              "      <th></th>\n",
              "      <th></th>\n",
              "      <th></th>\n",
              "      <th></th>\n",
              "      <th></th>\n",
              "      <th></th>\n",
              "      <th></th>\n",
              "      <th></th>\n",
              "    </tr>\n",
              "  </thead>\n",
              "  <tbody>\n",
              "    <tr>\n",
              "      <th>length_of_word</th>\n",
              "      <td>0.375910</td>\n",
              "      <td>-0.163109</td>\n",
              "      <td>-0.042707</td>\n",
              "      <td>-0.280421</td>\n",
              "      <td>0.233890</td>\n",
              "      <td>0.194743</td>\n",
              "      <td>0.331761</td>\n",
              "      <td>-0.033136</td>\n",
              "      <td>-0.128672</td>\n",
              "      <td>0.728528</td>\n",
              "    </tr>\n",
              "    <tr>\n",
              "      <th>length_of_phonetics</th>\n",
              "      <td>0.364303</td>\n",
              "      <td>-0.177687</td>\n",
              "      <td>-0.031682</td>\n",
              "      <td>-0.305191</td>\n",
              "      <td>0.282803</td>\n",
              "      <td>0.176308</td>\n",
              "      <td>0.242554</td>\n",
              "      <td>-0.184566</td>\n",
              "      <td>-0.318679</td>\n",
              "      <td>-0.660318</td>\n",
              "    </tr>\n",
              "    <tr>\n",
              "      <th>num_of_syllables</th>\n",
              "      <td>0.332893</td>\n",
              "      <td>-0.202200</td>\n",
              "      <td>-0.089172</td>\n",
              "      <td>-0.266763</td>\n",
              "      <td>0.321858</td>\n",
              "      <td>-0.380747</td>\n",
              "      <td>-0.684475</td>\n",
              "      <td>0.127072</td>\n",
              "      <td>0.188098</td>\n",
              "      <td>0.024125</td>\n",
              "    </tr>\n",
              "    <tr>\n",
              "      <th>num_of_morph</th>\n",
              "      <td>0.425699</td>\n",
              "      <td>-0.023532</td>\n",
              "      <td>0.017279</td>\n",
              "      <td>0.128604</td>\n",
              "      <td>-0.285654</td>\n",
              "      <td>0.039846</td>\n",
              "      <td>0.111212</td>\n",
              "      <td>-0.009740</td>\n",
              "      <td>0.400330</td>\n",
              "      <td>-0.078996</td>\n",
              "    </tr>\n",
              "    <tr>\n",
              "      <th>num_of_prefix</th>\n",
              "      <td>0.275234</td>\n",
              "      <td>0.509761</td>\n",
              "      <td>-0.068236</td>\n",
              "      <td>0.010220</td>\n",
              "      <td>-0.040985</td>\n",
              "      <td>0.071334</td>\n",
              "      <td>-0.049880</td>\n",
              "      <td>0.082208</td>\n",
              "      <td>0.014779</td>\n",
              "      <td>-0.027628</td>\n",
              "    </tr>\n",
              "    <tr>\n",
              "      <th>num_of_roots</th>\n",
              "      <td>0.060972</td>\n",
              "      <td>-0.089951</td>\n",
              "      <td>0.483911</td>\n",
              "      <td>-0.532413</td>\n",
              "      <td>-0.498654</td>\n",
              "      <td>-0.151411</td>\n",
              "      <td>0.134367</td>\n",
              "      <td>0.364014</td>\n",
              "      <td>0.067757</td>\n",
              "      <td>-0.058780</td>\n",
              "    </tr>\n",
              "    <tr>\n",
              "      <th>num_of_suff</th>\n",
              "      <td>0.344436</td>\n",
              "      <td>-0.300817</td>\n",
              "      <td>-0.086763</td>\n",
              "      <td>0.343764</td>\n",
              "      <td>-0.146147</td>\n",
              "      <td>0.054280</td>\n",
              "      <td>0.127658</td>\n",
              "      <td>-0.171789</td>\n",
              "      <td>0.464854</td>\n",
              "      <td>-0.062969</td>\n",
              "    </tr>\n",
              "    <tr>\n",
              "      <th>total_pref_length</th>\n",
              "      <td>0.253526</td>\n",
              "      <td>0.491551</td>\n",
              "      <td>-0.065971</td>\n",
              "      <td>-0.025558</td>\n",
              "      <td>-0.004813</td>\n",
              "      <td>0.485339</td>\n",
              "      <td>-0.214749</td>\n",
              "      <td>0.323891</td>\n",
              "      <td>0.013585</td>\n",
              "      <td>-0.030472</td>\n",
              "    </tr>\n",
              "    <tr>\n",
              "      <th>total_suff_length</th>\n",
              "      <td>0.072624</td>\n",
              "      <td>0.021674</td>\n",
              "      <td>0.540751</td>\n",
              "      <td>0.396636</td>\n",
              "      <td>0.530584</td>\n",
              "      <td>-0.135094</td>\n",
              "      <td>0.225279</td>\n",
              "      <td>0.431300</td>\n",
              "      <td>0.067412</td>\n",
              "      <td>-0.054059</td>\n",
              "    </tr>\n",
              "    <tr>\n",
              "      <th>pref_famsize</th>\n",
              "      <td>0.251133</td>\n",
              "      <td>0.464247</td>\n",
              "      <td>-0.071591</td>\n",
              "      <td>0.025193</td>\n",
              "      <td>-0.047979</td>\n",
              "      <td>-0.682014</td>\n",
              "      <td>0.254958</td>\n",
              "      <td>-0.247511</td>\n",
              "      <td>-0.147359</td>\n",
              "      <td>0.034081</td>\n",
              "    </tr>\n",
              "    <tr>\n",
              "      <th>suff_famsize</th>\n",
              "      <td>0.287854</td>\n",
              "      <td>-0.281214</td>\n",
              "      <td>-0.101033</td>\n",
              "      <td>0.411717</td>\n",
              "      <td>-0.345572</td>\n",
              "      <td>-0.078887</td>\n",
              "      <td>-0.161165</td>\n",
              "      <td>0.303171</td>\n",
              "      <td>-0.641672</td>\n",
              "      <td>0.045974</td>\n",
              "    </tr>\n",
              "    <tr>\n",
              "      <th>root_famsize</th>\n",
              "      <td>0.142661</td>\n",
              "      <td>0.072435</td>\n",
              "      <td>0.656104</td>\n",
              "      <td>0.103250</td>\n",
              "      <td>-0.071891</td>\n",
              "      <td>0.168240</td>\n",
              "      <td>-0.354321</td>\n",
              "      <td>-0.579414</td>\n",
              "      <td>-0.164791</td>\n",
              "      <td>0.105337</td>\n",
              "    </tr>\n",
              "  </tbody>\n",
              "</table>\n",
              "</div>\n",
              "      <button class=\"colab-df-convert\" onclick=\"convertToInteractive('df-f1e354b0-f792-4948-b0b9-98ff84018df5')\"\n",
              "              title=\"Convert this dataframe to an interactive table.\"\n",
              "              style=\"display:none;\">\n",
              "        \n",
              "  <svg xmlns=\"http://www.w3.org/2000/svg\" height=\"24px\"viewBox=\"0 0 24 24\"\n",
              "       width=\"24px\">\n",
              "    <path d=\"M0 0h24v24H0V0z\" fill=\"none\"/>\n",
              "    <path d=\"M18.56 5.44l.94 2.06.94-2.06 2.06-.94-2.06-.94-.94-2.06-.94 2.06-2.06.94zm-11 1L8.5 8.5l.94-2.06 2.06-.94-2.06-.94L8.5 2.5l-.94 2.06-2.06.94zm10 10l.94 2.06.94-2.06 2.06-.94-2.06-.94-.94-2.06-.94 2.06-2.06.94z\"/><path d=\"M17.41 7.96l-1.37-1.37c-.4-.4-.92-.59-1.43-.59-.52 0-1.04.2-1.43.59L10.3 9.45l-7.72 7.72c-.78.78-.78 2.05 0 2.83L4 21.41c.39.39.9.59 1.41.59.51 0 1.02-.2 1.41-.59l7.78-7.78 2.81-2.81c.8-.78.8-2.07 0-2.86zM5.41 20L4 18.59l7.72-7.72 1.47 1.35L5.41 20z\"/>\n",
              "  </svg>\n",
              "      </button>\n",
              "      \n",
              "  <style>\n",
              "    .colab-df-container {\n",
              "      display:flex;\n",
              "      flex-wrap:wrap;\n",
              "      gap: 12px;\n",
              "    }\n",
              "\n",
              "    .colab-df-convert {\n",
              "      background-color: #E8F0FE;\n",
              "      border: none;\n",
              "      border-radius: 50%;\n",
              "      cursor: pointer;\n",
              "      display: none;\n",
              "      fill: #1967D2;\n",
              "      height: 32px;\n",
              "      padding: 0 0 0 0;\n",
              "      width: 32px;\n",
              "    }\n",
              "\n",
              "    .colab-df-convert:hover {\n",
              "      background-color: #E2EBFA;\n",
              "      box-shadow: 0px 1px 2px rgba(60, 64, 67, 0.3), 0px 1px 3px 1px rgba(60, 64, 67, 0.15);\n",
              "      fill: #174EA6;\n",
              "    }\n",
              "\n",
              "    [theme=dark] .colab-df-convert {\n",
              "      background-color: #3B4455;\n",
              "      fill: #D2E3FC;\n",
              "    }\n",
              "\n",
              "    [theme=dark] .colab-df-convert:hover {\n",
              "      background-color: #434B5C;\n",
              "      box-shadow: 0px 1px 3px 1px rgba(0, 0, 0, 0.15);\n",
              "      filter: drop-shadow(0px 1px 2px rgba(0, 0, 0, 0.3));\n",
              "      fill: #FFFFFF;\n",
              "    }\n",
              "  </style>\n",
              "\n",
              "      <script>\n",
              "        const buttonEl =\n",
              "          document.querySelector('#df-f1e354b0-f792-4948-b0b9-98ff84018df5 button.colab-df-convert');\n",
              "        buttonEl.style.display =\n",
              "          google.colab.kernel.accessAllowed ? 'block' : 'none';\n",
              "\n",
              "        async function convertToInteractive(key) {\n",
              "          const element = document.querySelector('#df-f1e354b0-f792-4948-b0b9-98ff84018df5');\n",
              "          const dataTable =\n",
              "            await google.colab.kernel.invokeFunction('convertToInteractive',\n",
              "                                                     [key], {});\n",
              "          if (!dataTable) return;\n",
              "\n",
              "          const docLinkHtml = 'Like what you see? Visit the ' +\n",
              "            '<a target=\"_blank\" href=https://colab.research.google.com/notebooks/data_table.ipynb>data table notebook</a>'\n",
              "            + ' to learn more about interactive tables.';\n",
              "          element.innerHTML = '';\n",
              "          dataTable['output_type'] = 'display_data';\n",
              "          await google.colab.output.renderOutput(dataTable, element);\n",
              "          const docLink = document.createElement('div');\n",
              "          docLink.innerHTML = docLinkHtml;\n",
              "          element.appendChild(docLink);\n",
              "        }\n",
              "      </script>\n",
              "    </div>\n",
              "  </div>\n",
              "  "
            ]
          },
          "metadata": {},
          "execution_count": 457
        }
      ]
    },
    {
      "cell_type": "markdown",
      "source": [
        "## with n_components = 5"
      ],
      "metadata": {
        "id": "ScQk584SHLtM"
      }
    },
    {
      "cell_type": "markdown",
      "source": [
        "Reducing the number of component from 10 to 5"
      ],
      "metadata": {
        "id": "ZDgoyZyk9ZbZ"
      }
    },
    {
      "cell_type": "code",
      "source": [
        "import pandas as pd\n",
        "from sklearn.decomposition import PCA\n",
        "\n",
        "# Reduce from 10 to 5 features with PCA\n",
        "pca = PCA(n_components=5)\n",
        "\n",
        "# Fit and transform data\n",
        "pca_X_train = pca.fit_transform(X_train)\n",
        "pca_X_test = pca.transform(X_test)\n",
        "\n",
        "print('Shape of training set for features before PCA: ', X_train.shape)\n",
        "print('Shape of test set for features before PCA: ', X_test.shape)\n",
        "print('Shape training set for features after PCA: ', pca_X_train.shape)\n",
        "print('Shape test set for features after PCA: ', pca_X_test.shape)\n",
        "\n",
        "# Create dataframe\n",
        "pca_train_df = pd.DataFrame(\n",
        "    data=pca_X_train, \n",
        "    columns=['PC1', 'PC2', 'PC3', 'PC4', 'PC5'])\n",
        "\n",
        "pca_test_df = pd.DataFrame(\n",
        "    data=pca_X_test, \n",
        "    columns=['PC1', 'PC2', 'PC3', 'PC4', 'PC5'])\n",
        "\n",
        "featureDf = pd.concat([pca_train_df, pca_test_df], axis = 0)\n",
        "df_y_train = pd.DataFrame(y_train, columns = ['target'])\n",
        "df_y_test = pd.DataFrame(y_test, columns = ['target'])\n",
        "targetDf =pd.concat([df_y_train, df_y_test], axis=0)\n",
        "finalDf = pd.concat([featureDf, targetDf], axis=1)"
      ],
      "metadata": {
        "colab": {
          "base_uri": "https://localhost:8080/"
        },
        "id": "s0qPmhO1E4H-",
        "outputId": "0cdec79c-05ae-4a11-de73-29869e9203f9"
      },
      "execution_count": 458,
      "outputs": [
        {
          "output_type": "stream",
          "name": "stdout",
          "text": [
            "Shape of training set for features before PCA:  (3909, 12)\n",
            "Shape of test set for features before PCA:  (979, 12)\n",
            "Shape training set for features after PCA:  (3909, 5)\n",
            "Shape test set for features after PCA:  (979, 5)\n"
          ]
        }
      ]
    },
    {
      "cell_type": "markdown",
      "source": [
        "Dataframe after PCA:"
      ],
      "metadata": {
        "id": "zeknE5NjHk2P"
      }
    },
    {
      "cell_type": "code",
      "source": [
        "finalDf"
      ],
      "metadata": {
        "colab": {
          "base_uri": "https://localhost:8080/",
          "height": 424
        },
        "id": "5JPE_jtXJUvi",
        "outputId": "e2709d40-0ae6-42e7-9e3a-67126d85e97f"
      },
      "execution_count": 459,
      "outputs": [
        {
          "output_type": "execute_result",
          "data": {
            "text/plain": [
              "          PC1       PC2       PC3       PC4       PC5  target\n",
              "0   -1.966274  0.211678 -0.114226  0.195609  0.047267       0\n",
              "1   -1.567739  0.098962  0.030078 -0.024743  0.196118       0\n",
              "2   -1.867148  0.206760 -0.123876  0.166106  0.012865       0\n",
              "3   -1.593309  0.070580 -0.203229 -0.066276  0.215714       0\n",
              "4    0.431341 -0.823165  1.015497  1.724126 -1.154753       0\n",
              "..        ...       ...       ...       ...       ...     ...\n",
              "974  0.614707 -0.848372  2.951137 -3.342915 -1.989510       4\n",
              "975  0.557596 -1.189997  0.139263  1.994278 -1.465419       4\n",
              "976 -2.508029  0.547525 -0.026322  0.667511 -0.520647       4\n",
              "977 -2.087229  0.356053 -0.041315  0.337718 -0.224789       4\n",
              "978  0.211213 -0.729193 -0.207526  0.326600  0.029012       4\n",
              "\n",
              "[4888 rows x 6 columns]"
            ],
            "text/html": [
              "\n",
              "  <div id=\"df-5c257a4c-753f-4390-9076-87888964eff8\">\n",
              "    <div class=\"colab-df-container\">\n",
              "      <div>\n",
              "<style scoped>\n",
              "    .dataframe tbody tr th:only-of-type {\n",
              "        vertical-align: middle;\n",
              "    }\n",
              "\n",
              "    .dataframe tbody tr th {\n",
              "        vertical-align: top;\n",
              "    }\n",
              "\n",
              "    .dataframe thead th {\n",
              "        text-align: right;\n",
              "    }\n",
              "</style>\n",
              "<table border=\"1\" class=\"dataframe\">\n",
              "  <thead>\n",
              "    <tr style=\"text-align: right;\">\n",
              "      <th></th>\n",
              "      <th>PC1</th>\n",
              "      <th>PC2</th>\n",
              "      <th>PC3</th>\n",
              "      <th>PC4</th>\n",
              "      <th>PC5</th>\n",
              "      <th>target</th>\n",
              "    </tr>\n",
              "  </thead>\n",
              "  <tbody>\n",
              "    <tr>\n",
              "      <th>0</th>\n",
              "      <td>-1.966274</td>\n",
              "      <td>0.211678</td>\n",
              "      <td>-0.114226</td>\n",
              "      <td>0.195609</td>\n",
              "      <td>0.047267</td>\n",
              "      <td>0</td>\n",
              "    </tr>\n",
              "    <tr>\n",
              "      <th>1</th>\n",
              "      <td>-1.567739</td>\n",
              "      <td>0.098962</td>\n",
              "      <td>0.030078</td>\n",
              "      <td>-0.024743</td>\n",
              "      <td>0.196118</td>\n",
              "      <td>0</td>\n",
              "    </tr>\n",
              "    <tr>\n",
              "      <th>2</th>\n",
              "      <td>-1.867148</td>\n",
              "      <td>0.206760</td>\n",
              "      <td>-0.123876</td>\n",
              "      <td>0.166106</td>\n",
              "      <td>0.012865</td>\n",
              "      <td>0</td>\n",
              "    </tr>\n",
              "    <tr>\n",
              "      <th>3</th>\n",
              "      <td>-1.593309</td>\n",
              "      <td>0.070580</td>\n",
              "      <td>-0.203229</td>\n",
              "      <td>-0.066276</td>\n",
              "      <td>0.215714</td>\n",
              "      <td>0</td>\n",
              "    </tr>\n",
              "    <tr>\n",
              "      <th>4</th>\n",
              "      <td>0.431341</td>\n",
              "      <td>-0.823165</td>\n",
              "      <td>1.015497</td>\n",
              "      <td>1.724126</td>\n",
              "      <td>-1.154753</td>\n",
              "      <td>0</td>\n",
              "    </tr>\n",
              "    <tr>\n",
              "      <th>...</th>\n",
              "      <td>...</td>\n",
              "      <td>...</td>\n",
              "      <td>...</td>\n",
              "      <td>...</td>\n",
              "      <td>...</td>\n",
              "      <td>...</td>\n",
              "    </tr>\n",
              "    <tr>\n",
              "      <th>974</th>\n",
              "      <td>0.614707</td>\n",
              "      <td>-0.848372</td>\n",
              "      <td>2.951137</td>\n",
              "      <td>-3.342915</td>\n",
              "      <td>-1.989510</td>\n",
              "      <td>4</td>\n",
              "    </tr>\n",
              "    <tr>\n",
              "      <th>975</th>\n",
              "      <td>0.557596</td>\n",
              "      <td>-1.189997</td>\n",
              "      <td>0.139263</td>\n",
              "      <td>1.994278</td>\n",
              "      <td>-1.465419</td>\n",
              "      <td>4</td>\n",
              "    </tr>\n",
              "    <tr>\n",
              "      <th>976</th>\n",
              "      <td>-2.508029</td>\n",
              "      <td>0.547525</td>\n",
              "      <td>-0.026322</td>\n",
              "      <td>0.667511</td>\n",
              "      <td>-0.520647</td>\n",
              "      <td>4</td>\n",
              "    </tr>\n",
              "    <tr>\n",
              "      <th>977</th>\n",
              "      <td>-2.087229</td>\n",
              "      <td>0.356053</td>\n",
              "      <td>-0.041315</td>\n",
              "      <td>0.337718</td>\n",
              "      <td>-0.224789</td>\n",
              "      <td>4</td>\n",
              "    </tr>\n",
              "    <tr>\n",
              "      <th>978</th>\n",
              "      <td>0.211213</td>\n",
              "      <td>-0.729193</td>\n",
              "      <td>-0.207526</td>\n",
              "      <td>0.326600</td>\n",
              "      <td>0.029012</td>\n",
              "      <td>4</td>\n",
              "    </tr>\n",
              "  </tbody>\n",
              "</table>\n",
              "<p>4888 rows × 6 columns</p>\n",
              "</div>\n",
              "      <button class=\"colab-df-convert\" onclick=\"convertToInteractive('df-5c257a4c-753f-4390-9076-87888964eff8')\"\n",
              "              title=\"Convert this dataframe to an interactive table.\"\n",
              "              style=\"display:none;\">\n",
              "        \n",
              "  <svg xmlns=\"http://www.w3.org/2000/svg\" height=\"24px\"viewBox=\"0 0 24 24\"\n",
              "       width=\"24px\">\n",
              "    <path d=\"M0 0h24v24H0V0z\" fill=\"none\"/>\n",
              "    <path d=\"M18.56 5.44l.94 2.06.94-2.06 2.06-.94-2.06-.94-.94-2.06-.94 2.06-2.06.94zm-11 1L8.5 8.5l.94-2.06 2.06-.94-2.06-.94L8.5 2.5l-.94 2.06-2.06.94zm10 10l.94 2.06.94-2.06 2.06-.94-2.06-.94-.94-2.06-.94 2.06-2.06.94z\"/><path d=\"M17.41 7.96l-1.37-1.37c-.4-.4-.92-.59-1.43-.59-.52 0-1.04.2-1.43.59L10.3 9.45l-7.72 7.72c-.78.78-.78 2.05 0 2.83L4 21.41c.39.39.9.59 1.41.59.51 0 1.02-.2 1.41-.59l7.78-7.78 2.81-2.81c.8-.78.8-2.07 0-2.86zM5.41 20L4 18.59l7.72-7.72 1.47 1.35L5.41 20z\"/>\n",
              "  </svg>\n",
              "      </button>\n",
              "      \n",
              "  <style>\n",
              "    .colab-df-container {\n",
              "      display:flex;\n",
              "      flex-wrap:wrap;\n",
              "      gap: 12px;\n",
              "    }\n",
              "\n",
              "    .colab-df-convert {\n",
              "      background-color: #E8F0FE;\n",
              "      border: none;\n",
              "      border-radius: 50%;\n",
              "      cursor: pointer;\n",
              "      display: none;\n",
              "      fill: #1967D2;\n",
              "      height: 32px;\n",
              "      padding: 0 0 0 0;\n",
              "      width: 32px;\n",
              "    }\n",
              "\n",
              "    .colab-df-convert:hover {\n",
              "      background-color: #E2EBFA;\n",
              "      box-shadow: 0px 1px 2px rgba(60, 64, 67, 0.3), 0px 1px 3px 1px rgba(60, 64, 67, 0.15);\n",
              "      fill: #174EA6;\n",
              "    }\n",
              "\n",
              "    [theme=dark] .colab-df-convert {\n",
              "      background-color: #3B4455;\n",
              "      fill: #D2E3FC;\n",
              "    }\n",
              "\n",
              "    [theme=dark] .colab-df-convert:hover {\n",
              "      background-color: #434B5C;\n",
              "      box-shadow: 0px 1px 3px 1px rgba(0, 0, 0, 0.15);\n",
              "      filter: drop-shadow(0px 1px 2px rgba(0, 0, 0, 0.3));\n",
              "      fill: #FFFFFF;\n",
              "    }\n",
              "  </style>\n",
              "\n",
              "      <script>\n",
              "        const buttonEl =\n",
              "          document.querySelector('#df-5c257a4c-753f-4390-9076-87888964eff8 button.colab-df-convert');\n",
              "        buttonEl.style.display =\n",
              "          google.colab.kernel.accessAllowed ? 'block' : 'none';\n",
              "\n",
              "        async function convertToInteractive(key) {\n",
              "          const element = document.querySelector('#df-5c257a4c-753f-4390-9076-87888964eff8');\n",
              "          const dataTable =\n",
              "            await google.colab.kernel.invokeFunction('convertToInteractive',\n",
              "                                                     [key], {});\n",
              "          if (!dataTable) return;\n",
              "\n",
              "          const docLinkHtml = 'Like what you see? Visit the ' +\n",
              "            '<a target=\"_blank\" href=https://colab.research.google.com/notebooks/data_table.ipynb>data table notebook</a>'\n",
              "            + ' to learn more about interactive tables.';\n",
              "          element.innerHTML = '';\n",
              "          dataTable['output_type'] = 'display_data';\n",
              "          await google.colab.output.renderOutput(dataTable, element);\n",
              "          const docLink = document.createElement('div');\n",
              "          docLink.innerHTML = docLinkHtml;\n",
              "          element.appendChild(docLink);\n",
              "        }\n",
              "      </script>\n",
              "    </div>\n",
              "  </div>\n",
              "  "
            ]
          },
          "metadata": {},
          "execution_count": 459
        }
      ]
    },
    {
      "cell_type": "markdown",
      "source": [
        "The explained variance, or eigenvalue, in PCA shows the variance that can be attributed to each of the principal components."
      ],
      "metadata": {
        "id": "lHRZEFXNH1_D"
      }
    },
    {
      "cell_type": "code",
      "source": [
        "pca.explained_variance_"
      ],
      "metadata": {
        "colab": {
          "base_uri": "https://localhost:8080/"
        },
        "id": "GE5v3vQl9Tu2",
        "outputId": "ec8db8bf-362b-4e64-f44c-4a2199588805"
      },
      "execution_count": 460,
      "outputs": [
        {
          "output_type": "execute_result",
          "data": {
            "text/plain": [
              "array([4.82115006, 2.30559806, 1.72202731, 1.09414844, 0.82358297])"
            ]
          },
          "metadata": {},
          "execution_count": 460
        }
      ]
    },
    {
      "cell_type": "code",
      "source": [
        "# Bar plot of explained_variance\n",
        "plt.bar(\n",
        "    range(1,len(pca.explained_variance_)+1),\n",
        "    pca.explained_variance_\n",
        "    )\n",
        "\n",
        "\n",
        "plt.xlabel('PCA Feature')\n",
        "plt.ylabel('Explained variance')\n",
        "plt.title('Feature Explained Variance')\n",
        "plt.show()"
      ],
      "metadata": {
        "colab": {
          "base_uri": "https://localhost:8080/",
          "height": 301
        },
        "id": "068_Aa6GB5Rb",
        "outputId": "60d4bec7-9050-45e5-9fb5-f92571124784"
      },
      "execution_count": 461,
      "outputs": [
        {
          "output_type": "display_data",
          "data": {
            "text/plain": [
              "<Figure size 432x288 with 1 Axes>"
            ],
            "image/png": "[encoded data removed]"
          },
          "metadata": {}
        }
      ]
    },
    {
      "cell_type": "markdown",
      "source": [
        "Correlation between the features and the principal components"
      ],
      "metadata": {
        "id": "eYScjy7KIXHK"
      }
    },
    {
      "cell_type": "code",
      "source": [
        "# Principal components correlation coefficients\n",
        "loadings = pca.components_\n",
        "\n",
        "# Number of features before PCA\n",
        "n_features = pca.n_features_\n",
        "\n",
        "# PC names\n",
        "pc_list = [f'PC{i}' for i in list(range(1, n_features + 1))]\n",
        "\n",
        "# Match PC names to loadings\n",
        "pc_loadings = dict(zip(pc_list, loadings))\n",
        "\n",
        "# Matrix of corr coefs between feature names and PCs\n",
        "loadings_df = pd.DataFrame.from_dict(pc_loadings)\n",
        "loadings_df['feature_names'] = feature_names\n",
        "loadings_df = loadings_df.set_index('feature_names')\n",
        "loadings_df"
      ],
      "metadata": {
        "colab": {
          "base_uri": "https://localhost:8080/",
          "height": 457
        },
        "id": "SSN6gOsAFQYJ",
        "outputId": "e21706f8-c500-4843-d323-ee1b93efa56f"
      },
      "execution_count": 462,
      "outputs": [
        {
          "output_type": "execute_result",
          "data": {
            "text/plain": [
              "                          PC1       PC2       PC3       PC4       PC5\n",
              "feature_names                                                        \n",
              "length_of_word       0.375910 -0.163109 -0.042707 -0.280421  0.233890\n",
              "length_of_phonetics  0.364303 -0.177687 -0.031682 -0.305191  0.282803\n",
              "num_of_syllables     0.332893 -0.202200 -0.089172 -0.266763  0.321858\n",
              "num_of_morph         0.425699 -0.023532  0.017279  0.128604 -0.285654\n",
              "num_of_prefix        0.275234  0.509761 -0.068236  0.010220 -0.040985\n",
              "num_of_roots         0.060972 -0.089951  0.483911 -0.532413 -0.498654\n",
              "num_of_suff          0.344436 -0.300817 -0.086763  0.343764 -0.146147\n",
              "total_pref_length    0.253526  0.491551 -0.065971 -0.025558 -0.004813\n",
              "total_suff_length    0.072624  0.021674  0.540751  0.396636  0.530584\n",
              "pref_famsize         0.251133  0.464247 -0.071591  0.025193 -0.047979\n",
              "suff_famsize         0.287854 -0.281214 -0.101033  0.411717 -0.345572\n",
              "root_famsize         0.142661  0.072435  0.656104  0.103250 -0.071891"
            ],
            "text/html": [
              "\n",
              "  <div id=\"df-d43b60c0-b265-4312-accf-618405bf8705\">\n",
              "    <div class=\"colab-df-container\">\n",
              "      <div>\n",
              "<style scoped>\n",
              "    .dataframe tbody tr th:only-of-type {\n",
              "        vertical-align: middle;\n",
              "    }\n",
              "\n",
              "    .dataframe tbody tr th {\n",
              "        vertical-align: top;\n",
              "    }\n",
              "\n",
              "    .dataframe thead th {\n",
              "        text-align: right;\n",
              "    }\n",
              "</style>\n",
              "<table border=\"1\" class=\"dataframe\">\n",
              "  <thead>\n",
              "    <tr style=\"text-align: right;\">\n",
              "      <th></th>\n",
              "      <th>PC1</th>\n",
              "      <th>PC2</th>\n",
              "      <th>PC3</th>\n",
              "      <th>PC4</th>\n",
              "      <th>PC5</th>\n",
              "    </tr>\n",
              "    <tr>\n",
              "      <th>feature_names</th>\n",
              "      <th></th>\n",
              "      <th></th>\n",
              "      <th></th>\n",
              "      <th></th>\n",
              "      <th></th>\n",
              "    </tr>\n",
              "  </thead>\n",
              "  <tbody>\n",
              "    <tr>\n",
              "      <th>length_of_word</th>\n",
              "      <td>0.375910</td>\n",
              "      <td>-0.163109</td>\n",
              "      <td>-0.042707</td>\n",
              "      <td>-0.280421</td>\n",
              "      <td>0.233890</td>\n",
              "    </tr>\n",
              "    <tr>\n",
              "      <th>length_of_phonetics</th>\n",
              "      <td>0.364303</td>\n",
              "      <td>-0.177687</td>\n",
              "      <td>-0.031682</td>\n",
              "      <td>-0.305191</td>\n",
              "      <td>0.282803</td>\n",
              "    </tr>\n",
              "    <tr>\n",
              "      <th>num_of_syllables</th>\n",
              "      <td>0.332893</td>\n",
              "      <td>-0.202200</td>\n",
              "      <td>-0.089172</td>\n",
              "      <td>-0.266763</td>\n",
              "      <td>0.321858</td>\n",
              "    </tr>\n",
              "    <tr>\n",
              "      <th>num_of_morph</th>\n",
              "      <td>0.425699</td>\n",
              "      <td>-0.023532</td>\n",
              "      <td>0.017279</td>\n",
              "      <td>0.128604</td>\n",
              "      <td>-0.285654</td>\n",
              "    </tr>\n",
              "    <tr>\n",
              "      <th>num_of_prefix</th>\n",
              "      <td>0.275234</td>\n",
              "      <td>0.509761</td>\n",
              "      <td>-0.068236</td>\n",
              "      <td>0.010220</td>\n",
              "      <td>-0.040985</td>\n",
              "    </tr>\n",
              "    <tr>\n",
              "      <th>num_of_roots</th>\n",
              "      <td>0.060972</td>\n",
              "      <td>-0.089951</td>\n",
              "      <td>0.483911</td>\n",
              "      <td>-0.532413</td>\n",
              "      <td>-0.498654</td>\n",
              "    </tr>\n",
              "    <tr>\n",
              "      <th>num_of_suff</th>\n",
              "      <td>0.344436</td>\n",
              "      <td>-0.300817</td>\n",
              "      <td>-0.086763</td>\n",
              "      <td>0.343764</td>\n",
              "      <td>-0.146147</td>\n",
              "    </tr>\n",
              "    <tr>\n",
              "      <th>total_pref_length</th>\n",
              "      <td>0.253526</td>\n",
              "      <td>0.491551</td>\n",
              "      <td>-0.065971</td>\n",
              "      <td>-0.025558</td>\n",
              "      <td>-0.004813</td>\n",
              "    </tr>\n",
              "    <tr>\n",
              "      <th>total_suff_length</th>\n",
              "      <td>0.072624</td>\n",
              "      <td>0.021674</td>\n",
              "      <td>0.540751</td>\n",
              "      <td>0.396636</td>\n",
              "      <td>0.530584</td>\n",
              "    </tr>\n",
              "    <tr>\n",
              "      <th>pref_famsize</th>\n",
              "      <td>0.251133</td>\n",
              "      <td>0.464247</td>\n",
              "      <td>-0.071591</td>\n",
              "      <td>0.025193</td>\n",
              "      <td>-0.047979</td>\n",
              "    </tr>\n",
              "    <tr>\n",
              "      <th>suff_famsize</th>\n",
              "      <td>0.287854</td>\n",
              "      <td>-0.281214</td>\n",
              "      <td>-0.101033</td>\n",
              "      <td>0.411717</td>\n",
              "      <td>-0.345572</td>\n",
              "    </tr>\n",
              "    <tr>\n",
              "      <th>root_famsize</th>\n",
              "      <td>0.142661</td>\n",
              "      <td>0.072435</td>\n",
              "      <td>0.656104</td>\n",
              "      <td>0.103250</td>\n",
              "      <td>-0.071891</td>\n",
              "    </tr>\n",
              "  </tbody>\n",
              "</table>\n",
              "</div>\n",
              "      <button class=\"colab-df-convert\" onclick=\"convertToInteractive('df-d43b60c0-b265-4312-accf-618405bf8705')\"\n",
              "              title=\"Convert this dataframe to an interactive table.\"\n",
              "              style=\"display:none;\">\n",
              "        \n",
              "  <svg xmlns=\"http://www.w3.org/2000/svg\" height=\"24px\"viewBox=\"0 0 24 24\"\n",
              "       width=\"24px\">\n",
              "    <path d=\"M0 0h24v24H0V0z\" fill=\"none\"/>\n",
              "    <path d=\"M18.56 5.44l.94 2.06.94-2.06 2.06-.94-2.06-.94-.94-2.06-.94 2.06-2.06.94zm-11 1L8.5 8.5l.94-2.06 2.06-.94-2.06-.94L8.5 2.5l-.94 2.06-2.06.94zm10 10l.94 2.06.94-2.06 2.06-.94-2.06-.94-.94-2.06-.94 2.06-2.06.94z\"/><path d=\"M17.41 7.96l-1.37-1.37c-.4-.4-.92-.59-1.43-.59-.52 0-1.04.2-1.43.59L10.3 9.45l-7.72 7.72c-.78.78-.78 2.05 0 2.83L4 21.41c.39.39.9.59 1.41.59.51 0 1.02-.2 1.41-.59l7.78-7.78 2.81-2.81c.8-.78.8-2.07 0-2.86zM5.41 20L4 18.59l7.72-7.72 1.47 1.35L5.41 20z\"/>\n",
              "  </svg>\n",
              "      </button>\n",
              "      \n",
              "  <style>\n",
              "    .colab-df-container {\n",
              "      display:flex;\n",
              "      flex-wrap:wrap;\n",
              "      gap: 12px;\n",
              "    }\n",
              "\n",
              "    .colab-df-convert {\n",
              "      background-color: #E8F0FE;\n",
              "      border: none;\n",
              "      border-radius: 50%;\n",
              "      cursor: pointer;\n",
              "      display: none;\n",
              "      fill: #1967D2;\n",
              "      height: 32px;\n",
              "      padding: 0 0 0 0;\n",
              "      width: 32px;\n",
              "    }\n",
              "\n",
              "    .colab-df-convert:hover {\n",
              "      background-color: #E2EBFA;\n",
              "      box-shadow: 0px 1px 2px rgba(60, 64, 67, 0.3), 0px 1px 3px 1px rgba(60, 64, 67, 0.15);\n",
              "      fill: #174EA6;\n",
              "    }\n",
              "\n",
              "    [theme=dark] .colab-df-convert {\n",
              "      background-color: #3B4455;\n",
              "      fill: #D2E3FC;\n",
              "    }\n",
              "\n",
              "    [theme=dark] .colab-df-convert:hover {\n",
              "      background-color: #434B5C;\n",
              "      box-shadow: 0px 1px 3px 1px rgba(0, 0, 0, 0.15);\n",
              "      filter: drop-shadow(0px 1px 2px rgba(0, 0, 0, 0.3));\n",
              "      fill: #FFFFFF;\n",
              "    }\n",
              "  </style>\n",
              "\n",
              "      <script>\n",
              "        const buttonEl =\n",
              "          document.querySelector('#df-d43b60c0-b265-4312-accf-618405bf8705 button.colab-df-convert');\n",
              "        buttonEl.style.display =\n",
              "          google.colab.kernel.accessAllowed ? 'block' : 'none';\n",
              "\n",
              "        async function convertToInteractive(key) {\n",
              "          const element = document.querySelector('#df-d43b60c0-b265-4312-accf-618405bf8705');\n",
              "          const dataTable =\n",
              "            await google.colab.kernel.invokeFunction('convertToInteractive',\n",
              "                                                     [key], {});\n",
              "          if (!dataTable) return;\n",
              "\n",
              "          const docLinkHtml = 'Like what you see? Visit the ' +\n",
              "            '<a target=\"_blank\" href=https://colab.research.google.com/notebooks/data_table.ipynb>data table notebook</a>'\n",
              "            + ' to learn more about interactive tables.';\n",
              "          element.innerHTML = '';\n",
              "          dataTable['output_type'] = 'display_data';\n",
              "          await google.colab.output.renderOutput(dataTable, element);\n",
              "          const docLink = document.createElement('div');\n",
              "          docLink.innerHTML = docLinkHtml;\n",
              "          element.appendChild(docLink);\n",
              "        }\n",
              "      </script>\n",
              "    </div>\n",
              "  </div>\n",
              "  "
            ]
          },
          "metadata": {},
          "execution_count": 462
        }
      ]
    },
    {
      "cell_type": "code",
      "source": [
        "df = pd.DataFrame(pca.components_, columns=feature_names)\n",
        "plt.figure(figsize=(12,6))\n",
        "sns.heatmap(df, cmap='plasma')"
      ],
      "metadata": {
        "colab": {
          "base_uri": "https://localhost:8080/",
          "height": 495
        },
        "id": "ffY8F1IXV4Kv",
        "outputId": "5fb90880-823b-482d-c6f5-218747e9003b"
      },
      "execution_count": 463,
      "outputs": [
        {
          "output_type": "execute_result",
          "data": {
            "text/plain": [
              "<matplotlib.axes._subplots.AxesSubplot at 0x7f0663f78160>"
            ]
          },
          "metadata": {},
          "execution_count": 463
        },
        {
          "output_type": "display_data",
          "data": {
            "text/plain": [
              "<Figure size 864x432 with 2 Axes>"
            ],
            "image/png": "[encoded data removed]"
          },
          "metadata": {}
        }
      ]
    },
    {
      "cell_type": "markdown",
      "source": [
        "# K-Nearest Neighbors (K-NN)"
      ],
      "metadata": {
        "id": "lawrFW2eTjRc"
      }
    },
    {
      "cell_type": "markdown",
      "metadata": {
        "id": "oDzYMBphUBUY"
      },
      "source": [
        "## Training the K-NN model on the Training set"
      ]
    },
    {
      "cell_type": "code",
      "source": [
        "X_train = pca_X_train\n",
        "X_test = pca_X_test"
      ],
      "metadata": {
        "id": "Fq6EByWVI0hL"
      },
      "execution_count": 464,
      "outputs": []
    },
    {
      "cell_type": "code",
      "source": [
        "X_train.shape"
      ],
      "metadata": {
        "colab": {
          "base_uri": "https://localhost:8080/"
        },
        "id": "Zkjfh63zWmrO",
        "outputId": "291f3288-5d6e-427c-bf99-a613cda5e652"
      },
      "execution_count": 465,
      "outputs": [
        {
          "output_type": "execute_result",
          "data": {
            "text/plain": [
              "(3909, 5)"
            ]
          },
          "metadata": {},
          "execution_count": 465
        }
      ]
    },
    {
      "cell_type": "code",
      "source": [
        "X_test.shape"
      ],
      "metadata": {
        "colab": {
          "base_uri": "https://localhost:8080/"
        },
        "id": "fj7omRp4W8PI",
        "outputId": "60fee1e9-f70a-4717-fdb6-c44f40f691c6"
      },
      "execution_count": 466,
      "outputs": [
        {
          "output_type": "execute_result",
          "data": {
            "text/plain": [
              "(979, 5)"
            ]
          },
          "metadata": {},
          "execution_count": 466
        }
      ]
    },
    {
      "cell_type": "code",
      "metadata": {
        "colab": {
          "base_uri": "https://localhost:8080/"
        },
        "id": "jcNpBs-dT16L",
        "outputId": "46f76baf-73c9-4fe8-ef18-080c724aa51f"
      },
      "source": [
        "from sklearn.neighbors import KNeighborsClassifier\n",
        "knn = KNeighborsClassifier()\n",
        "knn.fit(X_train, y_train)"
      ],
      "execution_count": 467,
      "outputs": [
        {
          "output_type": "execute_result",
          "data": {
            "text/plain": [
              "KNeighborsClassifier()"
            ]
          },
          "metadata": {},
          "execution_count": 467
        }
      ]
    },
    {
      "cell_type": "markdown",
      "metadata": {
        "id": "ghbELc0AzAP1"
      },
      "source": [
        "## Applying Grid Search to find the best parameters"
      ]
    },
    {
      "cell_type": "code",
      "metadata": {
        "outputId": "17b9de37-c87a-4875-e157-ef920a290541",
        "colab": {
          "base_uri": "https://localhost:8080/"
        },
        "id": "zMk5AwlSzAP2"
      },
      "source": [
        "from sklearn.model_selection import GridSearchCV\n",
        "parameters = {\"n_neighbors\": [15, 20, 25, 30, 35, 40],\n",
        "              \"weights\": ['uniform', 'distance'],\n",
        "              \"metric\": ['euclidean', 'manhattan', 'minkowski'],\n",
        "              \"algorithm\":['auto', 'ball_tree', 'kd_tree', 'brute']};\n",
        "\n",
        "grid_search = GridSearchCV(estimator = knn,\n",
        "                           param_grid = parameters,\n",
        "                           verbose = 1,\n",
        "                           scoring = 'accuracy',\n",
        "                           cv = 3,\n",
        "                           n_jobs = -1)\n",
        "grid_search.fit(X_train, y_train)\n",
        "best_accuracy = grid_search.best_score_\n",
        "best_parameters = grid_search.best_params_\n",
        "print(\"Best Accuracy: {:.2f} %\".format(best_accuracy*100))\n",
        "print(\"Best Parameters:\", best_parameters)"
      ],
      "execution_count": 469,
      "outputs": [
        {
          "output_type": "stream",
          "name": "stdout",
          "text": [
            "Fitting 3 folds for each of 144 candidates, totalling 432 fits\n",
            "Best Accuracy: 32.31 %\n",
            "Best Parameters: {'algorithm': 'brute', 'metric': 'euclidean', 'n_neighbors': 40, 'weights': 'uniform'}\n"
          ]
        }
      ]
    },
    {
      "cell_type": "code",
      "source": [
        "knn = KNeighborsClassifier(algorithm=best_parameters['algorithm'], metric=best_parameters['metric'], n_neighbors=best_parameters['n_neighbors'], weights=best_parameters['weights'])\n",
        "knn.fit(X_train, y_train)"
      ],
      "metadata": {
        "colab": {
          "base_uri": "https://localhost:8080/"
        },
        "outputId": "f2c42246-8f23-4a2e-dac7-5c482bad178d",
        "id": "N8XU3PDKzAP2"
      },
      "execution_count": 470,
      "outputs": [
        {
          "output_type": "execute_result",
          "data": {
            "text/plain": [
              "KNeighborsClassifier(algorithm='brute', metric='euclidean', n_neighbors=40)"
            ]
          },
          "metadata": {},
          "execution_count": 470
        }
      ]
    },
    {
      "cell_type": "markdown",
      "metadata": {
        "id": "erqRRscpUDuQ"
      },
      "source": [
        "## Predicting the Test set results"
      ]
    },
    {
      "cell_type": "code",
      "source": [
        "y_pred_KNN = knn.predict(X_test)"
      ],
      "metadata": {
        "id": "yXaQu-ojT9W3"
      },
      "execution_count": 471,
      "outputs": []
    },
    {
      "cell_type": "markdown",
      "metadata": {
        "id": "JDvobqEGUIpg"
      },
      "source": [
        "## Making the Confusion Matrix"
      ]
    },
    {
      "cell_type": "code",
      "source": [
        "pd.crosstab(y_test, y_pred_KNN)"
      ],
      "metadata": {
        "colab": {
          "base_uri": "https://localhost:8080/",
          "height": 238
        },
        "id": "uyivrqMnCTE4",
        "outputId": "f3bba0ee-feae-4d95-bdb7-6ba2048bcab3"
      },
      "execution_count": 472,
      "outputs": [
        {
          "output_type": "execute_result",
          "data": {
            "text/plain": [
              "col_0   0   1   2   3    4\n",
              "row_0                     \n",
              "0      89  17   6  37   28\n",
              "1      59  19   5  34   40\n",
              "2      46  20   4  42   26\n",
              "3      61  28  18  80   69\n",
              "4      41   7  12  70  121"
            ],
            "text/html": [
              "\n",
              "  <div id=\"df-a329d834-dfca-41d8-b450-6003fe88c7ee\">\n",
              "    <div class=\"colab-df-container\">\n",
              "      <div>\n",
              "<style scoped>\n",
              "    .dataframe tbody tr th:only-of-type {\n",
              "        vertical-align: middle;\n",
              "    }\n",
              "\n",
              "    .dataframe tbody tr th {\n",
              "        vertical-align: top;\n",
              "    }\n",
              "\n",
              "    .dataframe thead th {\n",
              "        text-align: right;\n",
              "    }\n",
              "</style>\n",
              "<table border=\"1\" class=\"dataframe\">\n",
              "  <thead>\n",
              "    <tr style=\"text-align: right;\">\n",
              "      <th>col_0</th>\n",
              "      <th>0</th>\n",
              "      <th>1</th>\n",
              "      <th>2</th>\n",
              "      <th>3</th>\n",
              "      <th>4</th>\n",
              "    </tr>\n",
              "    <tr>\n",
              "      <th>row_0</th>\n",
              "      <th></th>\n",
              "      <th></th>\n",
              "      <th></th>\n",
              "      <th></th>\n",
              "      <th></th>\n",
              "    </tr>\n",
              "  </thead>\n",
              "  <tbody>\n",
              "    <tr>\n",
              "      <th>0</th>\n",
              "      <td>89</td>\n",
              "      <td>17</td>\n",
              "      <td>6</td>\n",
              "      <td>37</td>\n",
              "      <td>28</td>\n",
              "    </tr>\n",
              "    <tr>\n",
              "      <th>1</th>\n",
              "      <td>59</td>\n",
              "      <td>19</td>\n",
              "      <td>5</td>\n",
              "      <td>34</td>\n",
              "      <td>40</td>\n",
              "    </tr>\n",
              "    <tr>\n",
              "      <th>2</th>\n",
              "      <td>46</td>\n",
              "      <td>20</td>\n",
              "      <td>4</td>\n",
              "      <td>42</td>\n",
              "      <td>26</td>\n",
              "    </tr>\n",
              "    <tr>\n",
              "      <th>3</th>\n",
              "      <td>61</td>\n",
              "      <td>28</td>\n",
              "      <td>18</td>\n",
              "      <td>80</td>\n",
              "      <td>69</td>\n",
              "    </tr>\n",
              "    <tr>\n",
              "      <th>4</th>\n",
              "      <td>41</td>\n",
              "      <td>7</td>\n",
              "      <td>12</td>\n",
              "      <td>70</td>\n",
              "      <td>121</td>\n",
              "    </tr>\n",
              "  </tbody>\n",
              "</table>\n",
              "</div>\n",
              "      <button class=\"colab-df-convert\" onclick=\"convertToInteractive('df-a329d834-dfca-41d8-b450-6003fe88c7ee')\"\n",
              "              title=\"Convert this dataframe to an interactive table.\"\n",
              "              style=\"display:none;\">\n",
              "        \n",
              "  <svg xmlns=\"http://www.w3.org/2000/svg\" height=\"24px\"viewBox=\"0 0 24 24\"\n",
              "       width=\"24px\">\n",
              "    <path d=\"M0 0h24v24H0V0z\" fill=\"none\"/>\n",
              "    <path d=\"M18.56 5.44l.94 2.06.94-2.06 2.06-.94-2.06-.94-.94-2.06-.94 2.06-2.06.94zm-11 1L8.5 8.5l.94-2.06 2.06-.94-2.06-.94L8.5 2.5l-.94 2.06-2.06.94zm10 10l.94 2.06.94-2.06 2.06-.94-2.06-.94-.94-2.06-.94 2.06-2.06.94z\"/><path d=\"M17.41 7.96l-1.37-1.37c-.4-.4-.92-.59-1.43-.59-.52 0-1.04.2-1.43.59L10.3 9.45l-7.72 7.72c-.78.78-.78 2.05 0 2.83L4 21.41c.39.39.9.59 1.41.59.51 0 1.02-.2 1.41-.59l7.78-7.78 2.81-2.81c.8-.78.8-2.07 0-2.86zM5.41 20L4 18.59l7.72-7.72 1.47 1.35L5.41 20z\"/>\n",
              "  </svg>\n",
              "      </button>\n",
              "      \n",
              "  <style>\n",
              "    .colab-df-container {\n",
              "      display:flex;\n",
              "      flex-wrap:wrap;\n",
              "      gap: 12px;\n",
              "    }\n",
              "\n",
              "    .colab-df-convert {\n",
              "      background-color: #E8F0FE;\n",
              "      border: none;\n",
              "      border-radius: 50%;\n",
              "      cursor: pointer;\n",
              "      display: none;\n",
              "      fill: #1967D2;\n",
              "      height: 32px;\n",
              "      padding: 0 0 0 0;\n",
              "      width: 32px;\n",
              "    }\n",
              "\n",
              "    .colab-df-convert:hover {\n",
              "      background-color: #E2EBFA;\n",
              "      box-shadow: 0px 1px 2px rgba(60, 64, 67, 0.3), 0px 1px 3px 1px rgba(60, 64, 67, 0.15);\n",
              "      fill: #174EA6;\n",
              "    }\n",
              "\n",
              "    [theme=dark] .colab-df-convert {\n",
              "      background-color: #3B4455;\n",
              "      fill: #D2E3FC;\n",
              "    }\n",
              "\n",
              "    [theme=dark] .colab-df-convert:hover {\n",
              "      background-color: #434B5C;\n",
              "      box-shadow: 0px 1px 3px 1px rgba(0, 0, 0, 0.15);\n",
              "      filter: drop-shadow(0px 1px 2px rgba(0, 0, 0, 0.3));\n",
              "      fill: #FFFFFF;\n",
              "    }\n",
              "  </style>\n",
              "\n",
              "      <script>\n",
              "        const buttonEl =\n",
              "          document.querySelector('#df-a329d834-dfca-41d8-b450-6003fe88c7ee button.colab-df-convert');\n",
              "        buttonEl.style.display =\n",
              "          google.colab.kernel.accessAllowed ? 'block' : 'none';\n",
              "\n",
              "        async function convertToInteractive(key) {\n",
              "          const element = document.querySelector('#df-a329d834-dfca-41d8-b450-6003fe88c7ee');\n",
              "          const dataTable =\n",
              "            await google.colab.kernel.invokeFunction('convertToInteractive',\n",
              "                                                     [key], {});\n",
              "          if (!dataTable) return;\n",
              "\n",
              "          const docLinkHtml = 'Like what you see? Visit the ' +\n",
              "            '<a target=\"_blank\" href=https://colab.research.google.com/notebooks/data_table.ipynb>data table notebook</a>'\n",
              "            + ' to learn more about interactive tables.';\n",
              "          element.innerHTML = '';\n",
              "          dataTable['output_type'] = 'display_data';\n",
              "          await google.colab.output.renderOutput(dataTable, element);\n",
              "          const docLink = document.createElement('div');\n",
              "          docLink.innerHTML = docLinkHtml;\n",
              "          element.appendChild(docLink);\n",
              "        }\n",
              "      </script>\n",
              "    </div>\n",
              "  </div>\n",
              "  "
            ]
          },
          "metadata": {},
          "execution_count": 472
        }
      ]
    },
    {
      "cell_type": "code",
      "source": [
        "from sklearn.metrics import classification_report\n",
        "print(classification_report(y_test,y_pred_KNN))"
      ],
      "metadata": {
        "colab": {
          "base_uri": "https://localhost:8080/"
        },
        "id": "OPqSFUg1B3FH",
        "outputId": "32dafe6e-33aa-491a-caee-a1a3dec552de"
      },
      "execution_count": 473,
      "outputs": [
        {
          "output_type": "stream",
          "name": "stdout",
          "text": [
            "              precision    recall  f1-score   support\n",
            "\n",
            "           0       0.30      0.50      0.38       177\n",
            "           1       0.21      0.12      0.15       157\n",
            "           2       0.09      0.03      0.04       138\n",
            "           3       0.30      0.31      0.31       256\n",
            "           4       0.43      0.48      0.45       251\n",
            "\n",
            "    accuracy                           0.32       979\n",
            "   macro avg       0.27      0.29      0.27       979\n",
            "weighted avg       0.29      0.32      0.30       979\n",
            "\n"
          ]
        }
      ]
    },
    {
      "cell_type": "code",
      "source": [
        "from sklearn.metrics import accuracy_score\n",
        "accuracy_score(y_test, y_pred_KNN)"
      ],
      "metadata": {
        "colab": {
          "base_uri": "https://localhost:8080/"
        },
        "outputId": "ebfcaefd-1f6a-4d14-eef6-c3081b976536",
        "id": "6IsEROEoWOrZ"
      },
      "execution_count": 474,
      "outputs": [
        {
          "output_type": "execute_result",
          "data": {
            "text/plain": [
              "0.31971399387129723"
            ]
          },
          "metadata": {},
          "execution_count": 474
        }
      ]
    }
  ]
}